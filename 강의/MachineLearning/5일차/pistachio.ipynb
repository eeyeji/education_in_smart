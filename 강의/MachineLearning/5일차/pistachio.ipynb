{
 "cells": [
  {
   "cell_type": "code",
   "execution_count": 158,
   "metadata": {},
   "outputs": [],
   "source": [
    "from sklearn.linear_model import LogisticRegression\n",
    "from sklearn.neighbors import KNeighborsClassifier\n",
    "from sklearn.tree import DecisionTreeClassifier\n",
    "from sklearn.ensemble import RandomForestClassifier\n",
    "from sklearn.ensemble import GradientBoostingClassifier\n",
    "import xgboost as xgb\n",
    "from lightgbm import LGBMClassifier\n",
    "\n",
    "import pandas as pd\n",
    "import numpy as np\n",
    "import seaborn as sns\n",
    "from sklearn.linear_model import LinearRegression\n",
    "from sklearn.neighbors import KNeighborsRegressor\n",
    "from sklearn.tree import DecisionTreeRegressor\n",
    "from sklearn.tree import DecisionTreeClassifier\n",
    "from sklearn.model_selection import train_test_split\n",
    "\n",
    "\n",
    "#랜덤포레스트\n",
    "from sklearn.ensemble import RandomForestRegressor\n",
    "\n",
    "#그래디언트 부스팅\n",
    "from sklearn.ensemble import GradientBoostingRegressor\n",
    "\n",
    "#xgboost\n",
    "import xgboost as xgb\n",
    "\n",
    "#lightgbm\n",
    "from lightgbm import LGBMRegressor\n",
    "\n",
    "from sklearn.metrics import r2_score\n",
    "import numpy as np\n",
    "\n",
    "import matplotlib.pyplot as plt"
   ]
  },
  {
   "cell_type": "code",
   "execution_count": 159,
   "metadata": {},
   "outputs": [
    {
     "data": {
      "text/html": [
       "<div>\n",
       "<style scoped>\n",
       "    .dataframe tbody tr th:only-of-type {\n",
       "        vertical-align: middle;\n",
       "    }\n",
       "\n",
       "    .dataframe tbody tr th {\n",
       "        vertical-align: top;\n",
       "    }\n",
       "\n",
       "    .dataframe thead th {\n",
       "        text-align: right;\n",
       "    }\n",
       "</style>\n",
       "<table border=\"1\" class=\"dataframe\">\n",
       "  <thead>\n",
       "    <tr style=\"text-align: right;\">\n",
       "      <th></th>\n",
       "      <th>Area</th>\n",
       "      <th>Perimeter</th>\n",
       "      <th>Major_Axis</th>\n",
       "      <th>Minor_Axis</th>\n",
       "      <th>Eccentricity</th>\n",
       "      <th>Eqdiasq</th>\n",
       "      <th>Solidity</th>\n",
       "      <th>Convex_Area</th>\n",
       "      <th>Extent</th>\n",
       "      <th>Aspect_Ratio</th>\n",
       "      <th>...</th>\n",
       "      <th>StdDev_RR</th>\n",
       "      <th>StdDev_RG</th>\n",
       "      <th>StdDev_RB</th>\n",
       "      <th>Skew_RR</th>\n",
       "      <th>Skew_RG</th>\n",
       "      <th>Skew_RB</th>\n",
       "      <th>Kurtosis_RR</th>\n",
       "      <th>Kurtosis_RG</th>\n",
       "      <th>Kurtosis_RB</th>\n",
       "      <th>Class</th>\n",
       "    </tr>\n",
       "  </thead>\n",
       "  <tbody>\n",
       "    <tr>\n",
       "      <th>0</th>\n",
       "      <td>63391</td>\n",
       "      <td>1568.405</td>\n",
       "      <td>390.3396</td>\n",
       "      <td>236.7461</td>\n",
       "      <td>0.7951</td>\n",
       "      <td>284.0984</td>\n",
       "      <td>0.8665</td>\n",
       "      <td>73160</td>\n",
       "      <td>0.6394</td>\n",
       "      <td>1.6488</td>\n",
       "      <td>...</td>\n",
       "      <td>17.7206</td>\n",
       "      <td>19.6024</td>\n",
       "      <td>21.1342</td>\n",
       "      <td>0.4581</td>\n",
       "      <td>0.6635</td>\n",
       "      <td>0.7591</td>\n",
       "      <td>2.9692</td>\n",
       "      <td>3.0576</td>\n",
       "      <td>2.9542</td>\n",
       "      <td>Kirmizi_Pistachio</td>\n",
       "    </tr>\n",
       "    <tr>\n",
       "      <th>1</th>\n",
       "      <td>68358</td>\n",
       "      <td>1942.187</td>\n",
       "      <td>410.8594</td>\n",
       "      <td>234.7525</td>\n",
       "      <td>0.8207</td>\n",
       "      <td>295.0188</td>\n",
       "      <td>0.8765</td>\n",
       "      <td>77991</td>\n",
       "      <td>0.6772</td>\n",
       "      <td>1.7502</td>\n",
       "      <td>...</td>\n",
       "      <td>26.7061</td>\n",
       "      <td>27.2112</td>\n",
       "      <td>25.1035</td>\n",
       "      <td>-0.3847</td>\n",
       "      <td>-0.2713</td>\n",
       "      <td>-0.2927</td>\n",
       "      <td>1.9807</td>\n",
       "      <td>2.1006</td>\n",
       "      <td>2.2152</td>\n",
       "      <td>Kirmizi_Pistachio</td>\n",
       "    </tr>\n",
       "    <tr>\n",
       "      <th>2</th>\n",
       "      <td>73589</td>\n",
       "      <td>1246.538</td>\n",
       "      <td>452.3630</td>\n",
       "      <td>220.5547</td>\n",
       "      <td>0.8731</td>\n",
       "      <td>306.0987</td>\n",
       "      <td>0.9172</td>\n",
       "      <td>80234</td>\n",
       "      <td>0.7127</td>\n",
       "      <td>2.0510</td>\n",
       "      <td>...</td>\n",
       "      <td>19.0129</td>\n",
       "      <td>20.0703</td>\n",
       "      <td>20.7006</td>\n",
       "      <td>-0.6014</td>\n",
       "      <td>-0.4500</td>\n",
       "      <td>0.2998</td>\n",
       "      <td>3.5420</td>\n",
       "      <td>3.6856</td>\n",
       "      <td>4.1012</td>\n",
       "      <td>Kirmizi_Pistachio</td>\n",
       "    </tr>\n",
       "    <tr>\n",
       "      <th>3</th>\n",
       "      <td>71106</td>\n",
       "      <td>1445.261</td>\n",
       "      <td>429.5291</td>\n",
       "      <td>216.0765</td>\n",
       "      <td>0.8643</td>\n",
       "      <td>300.8903</td>\n",
       "      <td>0.9589</td>\n",
       "      <td>74153</td>\n",
       "      <td>0.7028</td>\n",
       "      <td>1.9879</td>\n",
       "      <td>...</td>\n",
       "      <td>18.1773</td>\n",
       "      <td>18.7152</td>\n",
       "      <td>29.7883</td>\n",
       "      <td>-0.6943</td>\n",
       "      <td>-0.6278</td>\n",
       "      <td>-0.7798</td>\n",
       "      <td>2.8776</td>\n",
       "      <td>2.8748</td>\n",
       "      <td>2.8953</td>\n",
       "      <td>Kirmizi_Pistachio</td>\n",
       "    </tr>\n",
       "    <tr>\n",
       "      <th>4</th>\n",
       "      <td>80087</td>\n",
       "      <td>1251.524</td>\n",
       "      <td>469.3783</td>\n",
       "      <td>220.9344</td>\n",
       "      <td>0.8823</td>\n",
       "      <td>319.3273</td>\n",
       "      <td>0.9657</td>\n",
       "      <td>82929</td>\n",
       "      <td>0.7459</td>\n",
       "      <td>2.1245</td>\n",
       "      <td>...</td>\n",
       "      <td>23.4298</td>\n",
       "      <td>24.0878</td>\n",
       "      <td>23.1157</td>\n",
       "      <td>-0.9287</td>\n",
       "      <td>-0.8134</td>\n",
       "      <td>-0.4970</td>\n",
       "      <td>2.9915</td>\n",
       "      <td>2.8813</td>\n",
       "      <td>2.7362</td>\n",
       "      <td>Kirmizi_Pistachio</td>\n",
       "    </tr>\n",
       "  </tbody>\n",
       "</table>\n",
       "<p>5 rows × 29 columns</p>\n",
       "</div>"
      ],
      "text/plain": [
       "    Area  Perimeter  Major_Axis  Minor_Axis  Eccentricity   Eqdiasq  Solidity  \\\n",
       "0  63391   1568.405    390.3396    236.7461        0.7951  284.0984    0.8665   \n",
       "1  68358   1942.187    410.8594    234.7525        0.8207  295.0188    0.8765   \n",
       "2  73589   1246.538    452.3630    220.5547        0.8731  306.0987    0.9172   \n",
       "3  71106   1445.261    429.5291    216.0765        0.8643  300.8903    0.9589   \n",
       "4  80087   1251.524    469.3783    220.9344        0.8823  319.3273    0.9657   \n",
       "\n",
       "   Convex_Area  Extent  Aspect_Ratio  ...  StdDev_RR  StdDev_RG  StdDev_RB  \\\n",
       "0        73160  0.6394        1.6488  ...    17.7206    19.6024    21.1342   \n",
       "1        77991  0.6772        1.7502  ...    26.7061    27.2112    25.1035   \n",
       "2        80234  0.7127        2.0510  ...    19.0129    20.0703    20.7006   \n",
       "3        74153  0.7028        1.9879  ...    18.1773    18.7152    29.7883   \n",
       "4        82929  0.7459        2.1245  ...    23.4298    24.0878    23.1157   \n",
       "\n",
       "   Skew_RR  Skew_RG  Skew_RB  Kurtosis_RR  Kurtosis_RG  Kurtosis_RB  \\\n",
       "0   0.4581   0.6635   0.7591       2.9692       3.0576       2.9542   \n",
       "1  -0.3847  -0.2713  -0.2927       1.9807       2.1006       2.2152   \n",
       "2  -0.6014  -0.4500   0.2998       3.5420       3.6856       4.1012   \n",
       "3  -0.6943  -0.6278  -0.7798       2.8776       2.8748       2.8953   \n",
       "4  -0.9287  -0.8134  -0.4970       2.9915       2.8813       2.7362   \n",
       "\n",
       "               Class  \n",
       "0  Kirmizi_Pistachio  \n",
       "1  Kirmizi_Pistachio  \n",
       "2  Kirmizi_Pistachio  \n",
       "3  Kirmizi_Pistachio  \n",
       "4  Kirmizi_Pistachio  \n",
       "\n",
       "[5 rows x 29 columns]"
      ]
     },
     "execution_count": 159,
     "metadata": {},
     "output_type": "execute_result"
    }
   ],
   "source": [
    "df=pd.read_excel(\"Pistachio_28_Features_Dataset.xlsx\")\n",
    "df.head()"
   ]
  },
  {
   "cell_type": "code",
   "execution_count": 160,
   "metadata": {},
   "outputs": [],
   "source": [
    "df=df[['Area', 'Perimeter', 'Major_Axis', 'Minor_Axis', 'Eccentricity',\n",
    "       'Eqdiasq', 'Solidity', 'Convex_Area', 'Extent', 'Aspect_Ratio',\n",
    "       'Roundness', 'Compactness', 'Class']] "
   ]
  },
  {
   "cell_type": "code",
   "execution_count": 161,
   "metadata": {},
   "outputs": [
    {
     "data": {
      "text/html": [
       "<div>\n",
       "<style scoped>\n",
       "    .dataframe tbody tr th:only-of-type {\n",
       "        vertical-align: middle;\n",
       "    }\n",
       "\n",
       "    .dataframe tbody tr th {\n",
       "        vertical-align: top;\n",
       "    }\n",
       "\n",
       "    .dataframe thead th {\n",
       "        text-align: right;\n",
       "    }\n",
       "</style>\n",
       "<table border=\"1\" class=\"dataframe\">\n",
       "  <thead>\n",
       "    <tr style=\"text-align: right;\">\n",
       "      <th></th>\n",
       "      <th>Area</th>\n",
       "      <th>Perimeter</th>\n",
       "      <th>Major_Axis</th>\n",
       "      <th>Minor_Axis</th>\n",
       "      <th>Eccentricity</th>\n",
       "      <th>Eqdiasq</th>\n",
       "      <th>Solidity</th>\n",
       "      <th>Convex_Area</th>\n",
       "      <th>Extent</th>\n",
       "      <th>Aspect_Ratio</th>\n",
       "      <th>Roundness</th>\n",
       "      <th>Compactness</th>\n",
       "      <th>Class</th>\n",
       "    </tr>\n",
       "  </thead>\n",
       "  <tbody>\n",
       "    <tr>\n",
       "      <th>0</th>\n",
       "      <td>63391</td>\n",
       "      <td>1568.405</td>\n",
       "      <td>390.3396</td>\n",
       "      <td>236.7461</td>\n",
       "      <td>0.7951</td>\n",
       "      <td>284.0984</td>\n",
       "      <td>0.8665</td>\n",
       "      <td>73160</td>\n",
       "      <td>0.6394</td>\n",
       "      <td>1.6488</td>\n",
       "      <td>0.3238</td>\n",
       "      <td>0.7278</td>\n",
       "      <td>Kirmizi_Pistachio</td>\n",
       "    </tr>\n",
       "    <tr>\n",
       "      <th>1</th>\n",
       "      <td>68358</td>\n",
       "      <td>1942.187</td>\n",
       "      <td>410.8594</td>\n",
       "      <td>234.7525</td>\n",
       "      <td>0.8207</td>\n",
       "      <td>295.0188</td>\n",
       "      <td>0.8765</td>\n",
       "      <td>77991</td>\n",
       "      <td>0.6772</td>\n",
       "      <td>1.7502</td>\n",
       "      <td>0.2277</td>\n",
       "      <td>0.7181</td>\n",
       "      <td>Kirmizi_Pistachio</td>\n",
       "    </tr>\n",
       "    <tr>\n",
       "      <th>2</th>\n",
       "      <td>73589</td>\n",
       "      <td>1246.538</td>\n",
       "      <td>452.3630</td>\n",
       "      <td>220.5547</td>\n",
       "      <td>0.8731</td>\n",
       "      <td>306.0987</td>\n",
       "      <td>0.9172</td>\n",
       "      <td>80234</td>\n",
       "      <td>0.7127</td>\n",
       "      <td>2.0510</td>\n",
       "      <td>0.5951</td>\n",
       "      <td>0.6767</td>\n",
       "      <td>Kirmizi_Pistachio</td>\n",
       "    </tr>\n",
       "    <tr>\n",
       "      <th>3</th>\n",
       "      <td>71106</td>\n",
       "      <td>1445.261</td>\n",
       "      <td>429.5291</td>\n",
       "      <td>216.0765</td>\n",
       "      <td>0.8643</td>\n",
       "      <td>300.8903</td>\n",
       "      <td>0.9589</td>\n",
       "      <td>74153</td>\n",
       "      <td>0.7028</td>\n",
       "      <td>1.9879</td>\n",
       "      <td>0.4278</td>\n",
       "      <td>0.7005</td>\n",
       "      <td>Kirmizi_Pistachio</td>\n",
       "    </tr>\n",
       "    <tr>\n",
       "      <th>4</th>\n",
       "      <td>80087</td>\n",
       "      <td>1251.524</td>\n",
       "      <td>469.3783</td>\n",
       "      <td>220.9344</td>\n",
       "      <td>0.8823</td>\n",
       "      <td>319.3273</td>\n",
       "      <td>0.9657</td>\n",
       "      <td>82929</td>\n",
       "      <td>0.7459</td>\n",
       "      <td>2.1245</td>\n",
       "      <td>0.6425</td>\n",
       "      <td>0.6803</td>\n",
       "      <td>Kirmizi_Pistachio</td>\n",
       "    </tr>\n",
       "  </tbody>\n",
       "</table>\n",
       "</div>"
      ],
      "text/plain": [
       "    Area  Perimeter  Major_Axis  Minor_Axis  Eccentricity   Eqdiasq  Solidity  \\\n",
       "0  63391   1568.405    390.3396    236.7461        0.7951  284.0984    0.8665   \n",
       "1  68358   1942.187    410.8594    234.7525        0.8207  295.0188    0.8765   \n",
       "2  73589   1246.538    452.3630    220.5547        0.8731  306.0987    0.9172   \n",
       "3  71106   1445.261    429.5291    216.0765        0.8643  300.8903    0.9589   \n",
       "4  80087   1251.524    469.3783    220.9344        0.8823  319.3273    0.9657   \n",
       "\n",
       "   Convex_Area  Extent  Aspect_Ratio  Roundness  Compactness  \\\n",
       "0        73160  0.6394        1.6488     0.3238       0.7278   \n",
       "1        77991  0.6772        1.7502     0.2277       0.7181   \n",
       "2        80234  0.7127        2.0510     0.5951       0.6767   \n",
       "3        74153  0.7028        1.9879     0.4278       0.7005   \n",
       "4        82929  0.7459        2.1245     0.6425       0.6803   \n",
       "\n",
       "               Class  \n",
       "0  Kirmizi_Pistachio  \n",
       "1  Kirmizi_Pistachio  \n",
       "2  Kirmizi_Pistachio  \n",
       "3  Kirmizi_Pistachio  \n",
       "4  Kirmizi_Pistachio  "
      ]
     },
     "execution_count": 161,
     "metadata": {},
     "output_type": "execute_result"
    }
   ],
   "source": [
    "df.head()"
   ]
  },
  {
   "cell_type": "code",
   "execution_count": 162,
   "metadata": {},
   "outputs": [
    {
     "data": {
      "text/plain": [
       "array(['Kirmizi_Pistachio', 'Siirt_Pistachio'], dtype=object)"
      ]
     },
     "execution_count": 162,
     "metadata": {},
     "output_type": "execute_result"
    }
   ],
   "source": [
    "#이진분류임\n",
    "df[\"Class\"].unique()"
   ]
  },
  {
   "cell_type": "code",
   "execution_count": 163,
   "metadata": {},
   "outputs": [],
   "source": [
    "#인코딩해주기 위해 series를 input으로 넣으면 명목변수를 숫자로 치환 가능한 함수를 만들어준다\n",
    "df[\"Class\"]\n",
    "def encoder(series):\n",
    "    dic = dict(zip(series.unique(), range(len(series.unique()))))\n",
    "    result = series.apply(lambda x : dic[x])\n",
    "    return result"
   ]
  },
  {
   "cell_type": "code",
   "execution_count": 164,
   "metadata": {},
   "outputs": [
    {
     "data": {
      "text/html": [
       "<div>\n",
       "<style scoped>\n",
       "    .dataframe tbody tr th:only-of-type {\n",
       "        vertical-align: middle;\n",
       "    }\n",
       "\n",
       "    .dataframe tbody tr th {\n",
       "        vertical-align: top;\n",
       "    }\n",
       "\n",
       "    .dataframe thead th {\n",
       "        text-align: right;\n",
       "    }\n",
       "</style>\n",
       "<table border=\"1\" class=\"dataframe\">\n",
       "  <thead>\n",
       "    <tr style=\"text-align: right;\">\n",
       "      <th></th>\n",
       "      <th>Area</th>\n",
       "      <th>Perimeter</th>\n",
       "      <th>Major_Axis</th>\n",
       "      <th>Minor_Axis</th>\n",
       "      <th>Eccentricity</th>\n",
       "      <th>Eqdiasq</th>\n",
       "      <th>Solidity</th>\n",
       "      <th>Convex_Area</th>\n",
       "      <th>Extent</th>\n",
       "      <th>Aspect_Ratio</th>\n",
       "      <th>Roundness</th>\n",
       "      <th>Compactness</th>\n",
       "      <th>Class</th>\n",
       "    </tr>\n",
       "  </thead>\n",
       "  <tbody>\n",
       "    <tr>\n",
       "      <th>0</th>\n",
       "      <td>63391</td>\n",
       "      <td>1568.4050</td>\n",
       "      <td>390.3396</td>\n",
       "      <td>236.7461</td>\n",
       "      <td>0.7951</td>\n",
       "      <td>284.0984</td>\n",
       "      <td>0.8665</td>\n",
       "      <td>73160</td>\n",
       "      <td>0.6394</td>\n",
       "      <td>1.6488</td>\n",
       "      <td>0.3238</td>\n",
       "      <td>0.7278</td>\n",
       "      <td>0</td>\n",
       "    </tr>\n",
       "    <tr>\n",
       "      <th>1</th>\n",
       "      <td>68358</td>\n",
       "      <td>1942.1870</td>\n",
       "      <td>410.8594</td>\n",
       "      <td>234.7525</td>\n",
       "      <td>0.8207</td>\n",
       "      <td>295.0188</td>\n",
       "      <td>0.8765</td>\n",
       "      <td>77991</td>\n",
       "      <td>0.6772</td>\n",
       "      <td>1.7502</td>\n",
       "      <td>0.2277</td>\n",
       "      <td>0.7181</td>\n",
       "      <td>0</td>\n",
       "    </tr>\n",
       "    <tr>\n",
       "      <th>2</th>\n",
       "      <td>73589</td>\n",
       "      <td>1246.5380</td>\n",
       "      <td>452.3630</td>\n",
       "      <td>220.5547</td>\n",
       "      <td>0.8731</td>\n",
       "      <td>306.0987</td>\n",
       "      <td>0.9172</td>\n",
       "      <td>80234</td>\n",
       "      <td>0.7127</td>\n",
       "      <td>2.0510</td>\n",
       "      <td>0.5951</td>\n",
       "      <td>0.6767</td>\n",
       "      <td>0</td>\n",
       "    </tr>\n",
       "    <tr>\n",
       "      <th>3</th>\n",
       "      <td>71106</td>\n",
       "      <td>1445.2610</td>\n",
       "      <td>429.5291</td>\n",
       "      <td>216.0765</td>\n",
       "      <td>0.8643</td>\n",
       "      <td>300.8903</td>\n",
       "      <td>0.9589</td>\n",
       "      <td>74153</td>\n",
       "      <td>0.7028</td>\n",
       "      <td>1.9879</td>\n",
       "      <td>0.4278</td>\n",
       "      <td>0.7005</td>\n",
       "      <td>0</td>\n",
       "    </tr>\n",
       "    <tr>\n",
       "      <th>4</th>\n",
       "      <td>80087</td>\n",
       "      <td>1251.5240</td>\n",
       "      <td>469.3783</td>\n",
       "      <td>220.9344</td>\n",
       "      <td>0.8823</td>\n",
       "      <td>319.3273</td>\n",
       "      <td>0.9657</td>\n",
       "      <td>82929</td>\n",
       "      <td>0.7459</td>\n",
       "      <td>2.1245</td>\n",
       "      <td>0.6425</td>\n",
       "      <td>0.6803</td>\n",
       "      <td>0</td>\n",
       "    </tr>\n",
       "    <tr>\n",
       "      <th>...</th>\n",
       "      <td>...</td>\n",
       "      <td>...</td>\n",
       "      <td>...</td>\n",
       "      <td>...</td>\n",
       "      <td>...</td>\n",
       "      <td>...</td>\n",
       "      <td>...</td>\n",
       "      <td>...</td>\n",
       "      <td>...</td>\n",
       "      <td>...</td>\n",
       "      <td>...</td>\n",
       "      <td>...</td>\n",
       "      <td>...</td>\n",
       "    </tr>\n",
       "    <tr>\n",
       "      <th>2143</th>\n",
       "      <td>85983</td>\n",
       "      <td>1157.1160</td>\n",
       "      <td>444.3447</td>\n",
       "      <td>248.8627</td>\n",
       "      <td>0.8284</td>\n",
       "      <td>330.8730</td>\n",
       "      <td>0.9823</td>\n",
       "      <td>87536</td>\n",
       "      <td>0.6799</td>\n",
       "      <td>1.7855</td>\n",
       "      <td>0.8070</td>\n",
       "      <td>0.7446</td>\n",
       "      <td>1</td>\n",
       "    </tr>\n",
       "    <tr>\n",
       "      <th>2144</th>\n",
       "      <td>85691</td>\n",
       "      <td>2327.3459</td>\n",
       "      <td>439.8794</td>\n",
       "      <td>278.9297</td>\n",
       "      <td>0.7732</td>\n",
       "      <td>330.3107</td>\n",
       "      <td>0.8886</td>\n",
       "      <td>96439</td>\n",
       "      <td>0.6590</td>\n",
       "      <td>1.5770</td>\n",
       "      <td>0.1988</td>\n",
       "      <td>0.7509</td>\n",
       "      <td>1</td>\n",
       "    </tr>\n",
       "    <tr>\n",
       "      <th>2145</th>\n",
       "      <td>101136</td>\n",
       "      <td>1255.6190</td>\n",
       "      <td>475.2161</td>\n",
       "      <td>271.3299</td>\n",
       "      <td>0.8210</td>\n",
       "      <td>358.8459</td>\n",
       "      <td>0.9888</td>\n",
       "      <td>102286</td>\n",
       "      <td>0.7584</td>\n",
       "      <td>1.7514</td>\n",
       "      <td>0.8061</td>\n",
       "      <td>0.7551</td>\n",
       "      <td>1</td>\n",
       "    </tr>\n",
       "    <tr>\n",
       "      <th>2146</th>\n",
       "      <td>97409</td>\n",
       "      <td>1195.2150</td>\n",
       "      <td>452.1823</td>\n",
       "      <td>274.5764</td>\n",
       "      <td>0.7945</td>\n",
       "      <td>352.1718</td>\n",
       "      <td>0.9902</td>\n",
       "      <td>98376</td>\n",
       "      <td>0.7635</td>\n",
       "      <td>1.6468</td>\n",
       "      <td>0.8569</td>\n",
       "      <td>0.7788</td>\n",
       "      <td>1</td>\n",
       "    </tr>\n",
       "    <tr>\n",
       "      <th>2147</th>\n",
       "      <td>78466</td>\n",
       "      <td>2356.9080</td>\n",
       "      <td>445.9131</td>\n",
       "      <td>258.5125</td>\n",
       "      <td>0.8148</td>\n",
       "      <td>316.0791</td>\n",
       "      <td>0.8662</td>\n",
       "      <td>90591</td>\n",
       "      <td>0.6123</td>\n",
       "      <td>1.7249</td>\n",
       "      <td>0.1775</td>\n",
       "      <td>0.7088</td>\n",
       "      <td>1</td>\n",
       "    </tr>\n",
       "  </tbody>\n",
       "</table>\n",
       "<p>2148 rows × 13 columns</p>\n",
       "</div>"
      ],
      "text/plain": [
       "        Area  Perimeter  Major_Axis  Minor_Axis  Eccentricity   Eqdiasq  \\\n",
       "0      63391  1568.4050    390.3396    236.7461        0.7951  284.0984   \n",
       "1      68358  1942.1870    410.8594    234.7525        0.8207  295.0188   \n",
       "2      73589  1246.5380    452.3630    220.5547        0.8731  306.0987   \n",
       "3      71106  1445.2610    429.5291    216.0765        0.8643  300.8903   \n",
       "4      80087  1251.5240    469.3783    220.9344        0.8823  319.3273   \n",
       "...      ...        ...         ...         ...           ...       ...   \n",
       "2143   85983  1157.1160    444.3447    248.8627        0.8284  330.8730   \n",
       "2144   85691  2327.3459    439.8794    278.9297        0.7732  330.3107   \n",
       "2145  101136  1255.6190    475.2161    271.3299        0.8210  358.8459   \n",
       "2146   97409  1195.2150    452.1823    274.5764        0.7945  352.1718   \n",
       "2147   78466  2356.9080    445.9131    258.5125        0.8148  316.0791   \n",
       "\n",
       "      Solidity  Convex_Area  Extent  Aspect_Ratio  Roundness  Compactness  \\\n",
       "0       0.8665        73160  0.6394        1.6488     0.3238       0.7278   \n",
       "1       0.8765        77991  0.6772        1.7502     0.2277       0.7181   \n",
       "2       0.9172        80234  0.7127        2.0510     0.5951       0.6767   \n",
       "3       0.9589        74153  0.7028        1.9879     0.4278       0.7005   \n",
       "4       0.9657        82929  0.7459        2.1245     0.6425       0.6803   \n",
       "...        ...          ...     ...           ...        ...          ...   \n",
       "2143    0.9823        87536  0.6799        1.7855     0.8070       0.7446   \n",
       "2144    0.8886        96439  0.6590        1.5770     0.1988       0.7509   \n",
       "2145    0.9888       102286  0.7584        1.7514     0.8061       0.7551   \n",
       "2146    0.9902        98376  0.7635        1.6468     0.8569       0.7788   \n",
       "2147    0.8662        90591  0.6123        1.7249     0.1775       0.7088   \n",
       "\n",
       "      Class  \n",
       "0         0  \n",
       "1         0  \n",
       "2         0  \n",
       "3         0  \n",
       "4         0  \n",
       "...     ...  \n",
       "2143      1  \n",
       "2144      1  \n",
       "2145      1  \n",
       "2146      1  \n",
       "2147      1  \n",
       "\n",
       "[2148 rows x 13 columns]"
      ]
     },
     "execution_count": 164,
     "metadata": {},
     "output_type": "execute_result"
    }
   ],
   "source": [
    "df[\"Class\"] = encoder(df[\"Class\"])\n",
    "df"
   ]
  },
  {
   "cell_type": "code",
   "execution_count": 165,
   "metadata": {},
   "outputs": [
    {
     "data": {
      "text/html": [
       "<div>\n",
       "<style scoped>\n",
       "    .dataframe tbody tr th:only-of-type {\n",
       "        vertical-align: middle;\n",
       "    }\n",
       "\n",
       "    .dataframe tbody tr th {\n",
       "        vertical-align: top;\n",
       "    }\n",
       "\n",
       "    .dataframe thead th {\n",
       "        text-align: right;\n",
       "    }\n",
       "</style>\n",
       "<table border=\"1\" class=\"dataframe\">\n",
       "  <thead>\n",
       "    <tr style=\"text-align: right;\">\n",
       "      <th></th>\n",
       "      <th>Area</th>\n",
       "      <th>Perimeter</th>\n",
       "      <th>Major_Axis</th>\n",
       "      <th>Minor_Axis</th>\n",
       "      <th>Eccentricity</th>\n",
       "      <th>Eqdiasq</th>\n",
       "      <th>Solidity</th>\n",
       "      <th>Convex_Area</th>\n",
       "      <th>Extent</th>\n",
       "      <th>Aspect_Ratio</th>\n",
       "      <th>Roundness</th>\n",
       "      <th>Compactness</th>\n",
       "      <th>Class</th>\n",
       "    </tr>\n",
       "  </thead>\n",
       "  <tbody>\n",
       "    <tr>\n",
       "      <th>Area</th>\n",
       "      <td>1.000000</td>\n",
       "      <td>0.115941</td>\n",
       "      <td>0.697782</td>\n",
       "      <td>0.795881</td>\n",
       "      <td>-0.358892</td>\n",
       "      <td>0.997399</td>\n",
       "      <td>0.363959</td>\n",
       "      <td>0.943877</td>\n",
       "      <td>0.331784</td>\n",
       "      <td>-0.424025</td>\n",
       "      <td>0.250423</td>\n",
       "      <td>0.551711</td>\n",
       "      <td>0.589226</td>\n",
       "    </tr>\n",
       "    <tr>\n",
       "      <th>Perimeter</th>\n",
       "      <td>0.115941</td>\n",
       "      <td>1.000000</td>\n",
       "      <td>0.094296</td>\n",
       "      <td>0.390740</td>\n",
       "      <td>-0.334483</td>\n",
       "      <td>0.113631</td>\n",
       "      <td>-0.671046</td>\n",
       "      <td>0.364474</td>\n",
       "      <td>-0.403916</td>\n",
       "      <td>-0.312373</td>\n",
       "      <td>-0.891777</td>\n",
       "      <td>0.044624</td>\n",
       "      <td>0.145290</td>\n",
       "    </tr>\n",
       "    <tr>\n",
       "      <th>Major_Axis</th>\n",
       "      <td>0.697782</td>\n",
       "      <td>0.094296</td>\n",
       "      <td>1.000000</td>\n",
       "      <td>0.272578</td>\n",
       "      <td>0.298836</td>\n",
       "      <td>0.705333</td>\n",
       "      <td>0.247822</td>\n",
       "      <td>0.661892</td>\n",
       "      <td>0.186830</td>\n",
       "      <td>0.265049</td>\n",
       "      <td>0.153592</td>\n",
       "      <td>-0.201121</td>\n",
       "      <td>0.136845</td>\n",
       "    </tr>\n",
       "    <tr>\n",
       "      <th>Minor_Axis</th>\n",
       "      <td>0.795881</td>\n",
       "      <td>0.390740</td>\n",
       "      <td>0.272578</td>\n",
       "      <td>1.000000</td>\n",
       "      <td>-0.816731</td>\n",
       "      <td>0.793155</td>\n",
       "      <td>-0.085556</td>\n",
       "      <td>0.890003</td>\n",
       "      <td>0.047442</td>\n",
       "      <td>-0.839078</td>\n",
       "      <td>-0.066594</td>\n",
       "      <td>0.773512</td>\n",
       "      <td>0.668126</td>\n",
       "    </tr>\n",
       "    <tr>\n",
       "      <th>Eccentricity</th>\n",
       "      <td>-0.358892</td>\n",
       "      <td>-0.334483</td>\n",
       "      <td>0.298836</td>\n",
       "      <td>-0.816731</td>\n",
       "      <td>1.000000</td>\n",
       "      <td>-0.352723</td>\n",
       "      <td>0.257060</td>\n",
       "      <td>-0.482713</td>\n",
       "      <td>0.080967</td>\n",
       "      <td>0.943751</td>\n",
       "      <td>0.171669</td>\n",
       "      <td>-0.846851</td>\n",
       "      <td>-0.546759</td>\n",
       "    </tr>\n",
       "    <tr>\n",
       "      <th>Eqdiasq</th>\n",
       "      <td>0.997399</td>\n",
       "      <td>0.113631</td>\n",
       "      <td>0.705333</td>\n",
       "      <td>0.793155</td>\n",
       "      <td>-0.352723</td>\n",
       "      <td>1.000000</td>\n",
       "      <td>0.372779</td>\n",
       "      <td>0.940651</td>\n",
       "      <td>0.340073</td>\n",
       "      <td>-0.423318</td>\n",
       "      <td>0.254242</td>\n",
       "      <td>0.549971</td>\n",
       "      <td>0.577300</td>\n",
       "    </tr>\n",
       "    <tr>\n",
       "      <th>Solidity</th>\n",
       "      <td>0.363959</td>\n",
       "      <td>-0.671046</td>\n",
       "      <td>0.247822</td>\n",
       "      <td>-0.085556</td>\n",
       "      <td>0.257060</td>\n",
       "      <td>0.372779</td>\n",
       "      <td>1.000000</td>\n",
       "      <td>0.042000</td>\n",
       "      <td>0.678599</td>\n",
       "      <td>0.177830</td>\n",
       "      <td>0.779134</td>\n",
       "      <td>0.226165</td>\n",
       "      <td>0.125347</td>\n",
       "    </tr>\n",
       "    <tr>\n",
       "      <th>Convex_Area</th>\n",
       "      <td>0.943877</td>\n",
       "      <td>0.364474</td>\n",
       "      <td>0.661892</td>\n",
       "      <td>0.890003</td>\n",
       "      <td>-0.482713</td>\n",
       "      <td>0.940651</td>\n",
       "      <td>0.042000</td>\n",
       "      <td>1.000000</td>\n",
       "      <td>0.122881</td>\n",
       "      <td>-0.522637</td>\n",
       "      <td>-0.007125</td>\n",
       "      <td>0.515907</td>\n",
       "      <td>0.584618</td>\n",
       "    </tr>\n",
       "    <tr>\n",
       "      <th>Extent</th>\n",
       "      <td>0.331784</td>\n",
       "      <td>-0.403916</td>\n",
       "      <td>0.186830</td>\n",
       "      <td>0.047442</td>\n",
       "      <td>0.080967</td>\n",
       "      <td>0.340073</td>\n",
       "      <td>0.678599</td>\n",
       "      <td>0.122881</td>\n",
       "      <td>1.000000</td>\n",
       "      <td>0.023303</td>\n",
       "      <td>0.512278</td>\n",
       "      <td>0.254064</td>\n",
       "      <td>0.100200</td>\n",
       "    </tr>\n",
       "    <tr>\n",
       "      <th>Aspect_Ratio</th>\n",
       "      <td>-0.424025</td>\n",
       "      <td>-0.312373</td>\n",
       "      <td>0.265049</td>\n",
       "      <td>-0.839078</td>\n",
       "      <td>0.943751</td>\n",
       "      <td>-0.423318</td>\n",
       "      <td>0.177830</td>\n",
       "      <td>-0.522637</td>\n",
       "      <td>0.023303</td>\n",
       "      <td>1.000000</td>\n",
       "      <td>0.115896</td>\n",
       "      <td>-0.896857</td>\n",
       "      <td>-0.581469</td>\n",
       "    </tr>\n",
       "    <tr>\n",
       "      <th>Roundness</th>\n",
       "      <td>0.250423</td>\n",
       "      <td>-0.891777</td>\n",
       "      <td>0.153592</td>\n",
       "      <td>-0.066594</td>\n",
       "      <td>0.171669</td>\n",
       "      <td>0.254242</td>\n",
       "      <td>0.779134</td>\n",
       "      <td>-0.007125</td>\n",
       "      <td>0.512278</td>\n",
       "      <td>0.115896</td>\n",
       "      <td>1.000000</td>\n",
       "      <td>0.171226</td>\n",
       "      <td>0.105768</td>\n",
       "    </tr>\n",
       "    <tr>\n",
       "      <th>Compactness</th>\n",
       "      <td>0.551711</td>\n",
       "      <td>0.044624</td>\n",
       "      <td>-0.201121</td>\n",
       "      <td>0.773512</td>\n",
       "      <td>-0.846851</td>\n",
       "      <td>0.549971</td>\n",
       "      <td>0.226165</td>\n",
       "      <td>0.515907</td>\n",
       "      <td>0.254064</td>\n",
       "      <td>-0.896857</td>\n",
       "      <td>0.171226</td>\n",
       "      <td>1.000000</td>\n",
       "      <td>0.624939</td>\n",
       "    </tr>\n",
       "    <tr>\n",
       "      <th>Class</th>\n",
       "      <td>0.589226</td>\n",
       "      <td>0.145290</td>\n",
       "      <td>0.136845</td>\n",
       "      <td>0.668126</td>\n",
       "      <td>-0.546759</td>\n",
       "      <td>0.577300</td>\n",
       "      <td>0.125347</td>\n",
       "      <td>0.584618</td>\n",
       "      <td>0.100200</td>\n",
       "      <td>-0.581469</td>\n",
       "      <td>0.105768</td>\n",
       "      <td>0.624939</td>\n",
       "      <td>1.000000</td>\n",
       "    </tr>\n",
       "  </tbody>\n",
       "</table>\n",
       "</div>"
      ],
      "text/plain": [
       "                  Area  Perimeter  Major_Axis  Minor_Axis  Eccentricity  \\\n",
       "Area          1.000000   0.115941    0.697782    0.795881     -0.358892   \n",
       "Perimeter     0.115941   1.000000    0.094296    0.390740     -0.334483   \n",
       "Major_Axis    0.697782   0.094296    1.000000    0.272578      0.298836   \n",
       "Minor_Axis    0.795881   0.390740    0.272578    1.000000     -0.816731   \n",
       "Eccentricity -0.358892  -0.334483    0.298836   -0.816731      1.000000   \n",
       "Eqdiasq       0.997399   0.113631    0.705333    0.793155     -0.352723   \n",
       "Solidity      0.363959  -0.671046    0.247822   -0.085556      0.257060   \n",
       "Convex_Area   0.943877   0.364474    0.661892    0.890003     -0.482713   \n",
       "Extent        0.331784  -0.403916    0.186830    0.047442      0.080967   \n",
       "Aspect_Ratio -0.424025  -0.312373    0.265049   -0.839078      0.943751   \n",
       "Roundness     0.250423  -0.891777    0.153592   -0.066594      0.171669   \n",
       "Compactness   0.551711   0.044624   -0.201121    0.773512     -0.846851   \n",
       "Class         0.589226   0.145290    0.136845    0.668126     -0.546759   \n",
       "\n",
       "               Eqdiasq  Solidity  Convex_Area    Extent  Aspect_Ratio  \\\n",
       "Area          0.997399  0.363959     0.943877  0.331784     -0.424025   \n",
       "Perimeter     0.113631 -0.671046     0.364474 -0.403916     -0.312373   \n",
       "Major_Axis    0.705333  0.247822     0.661892  0.186830      0.265049   \n",
       "Minor_Axis    0.793155 -0.085556     0.890003  0.047442     -0.839078   \n",
       "Eccentricity -0.352723  0.257060    -0.482713  0.080967      0.943751   \n",
       "Eqdiasq       1.000000  0.372779     0.940651  0.340073     -0.423318   \n",
       "Solidity      0.372779  1.000000     0.042000  0.678599      0.177830   \n",
       "Convex_Area   0.940651  0.042000     1.000000  0.122881     -0.522637   \n",
       "Extent        0.340073  0.678599     0.122881  1.000000      0.023303   \n",
       "Aspect_Ratio -0.423318  0.177830    -0.522637  0.023303      1.000000   \n",
       "Roundness     0.254242  0.779134    -0.007125  0.512278      0.115896   \n",
       "Compactness   0.549971  0.226165     0.515907  0.254064     -0.896857   \n",
       "Class         0.577300  0.125347     0.584618  0.100200     -0.581469   \n",
       "\n",
       "              Roundness  Compactness     Class  \n",
       "Area           0.250423     0.551711  0.589226  \n",
       "Perimeter     -0.891777     0.044624  0.145290  \n",
       "Major_Axis     0.153592    -0.201121  0.136845  \n",
       "Minor_Axis    -0.066594     0.773512  0.668126  \n",
       "Eccentricity   0.171669    -0.846851 -0.546759  \n",
       "Eqdiasq        0.254242     0.549971  0.577300  \n",
       "Solidity       0.779134     0.226165  0.125347  \n",
       "Convex_Area   -0.007125     0.515907  0.584618  \n",
       "Extent         0.512278     0.254064  0.100200  \n",
       "Aspect_Ratio   0.115896    -0.896857 -0.581469  \n",
       "Roundness      1.000000     0.171226  0.105768  \n",
       "Compactness    0.171226     1.000000  0.624939  \n",
       "Class          0.105768     0.624939  1.000000  "
      ]
     },
     "execution_count": 165,
     "metadata": {},
     "output_type": "execute_result"
    }
   ],
   "source": [
    "df.corr()"
   ]
  },
  {
   "cell_type": "code",
   "execution_count": 166,
   "metadata": {},
   "outputs": [
    {
     "data": {
      "text/plain": [
       "<AxesSubplot:>"
      ]
     },
     "execution_count": 166,
     "metadata": {},
     "output_type": "execute_result"
    },
    {
     "data": {
      "image/png": "[encoded data removed]",
      "text/plain": [
       "<Figure size 432x288 with 2 Axes>"
      ]
     },
     "metadata": {
      "needs_background": "light"
     },
     "output_type": "display_data"
    }
   ],
   "source": [
    "sns.heatmap(df.corr(), annot=True)"
   ]
  },
  {
   "cell_type": "code",
   "execution_count": 167,
   "metadata": {},
   "outputs": [
    {
     "data": {
      "image/png": "[encoded data removed]",
      "text/plain": [
       "<Figure size 864x864 with 2 Axes>"
      ]
     },
     "metadata": {
      "needs_background": "light"
     },
     "output_type": "display_data"
    }
   ],
   "source": [
    "#sns.heatmap(df.corr())\n",
    "plt.figure(figsize=(12, 12))\n",
    "plt.pcolor(df.corr())\n",
    "plt.xticks(np.arange(0.5, len(df.corr().columns), 1), df.corr().columns)\n",
    "plt.xticks(np.arange(0.5, len(df.corr().index), 1), df.corr().index)\n",
    "plt.colorbar()\n",
    "plt.show()"
   ]
  },
  {
   "cell_type": "code",
   "execution_count": 168,
   "metadata": {},
   "outputs": [],
   "source": [
    "df=df[['Minor_Axis',\n",
    "       'Solidity', 'Extent',\n",
    "       'Roundness', 'Compactness', 'Class']] "
   ]
  },
  {
   "cell_type": "code",
   "execution_count": 169,
   "metadata": {},
   "outputs": [
    {
     "data": {
      "text/plain": [
       "<AxesSubplot:>"
      ]
     },
     "execution_count": 169,
     "metadata": {},
     "output_type": "execute_result"
    },
    {
     "data": {
      "image/png": "[encoded data removed]",
      "text/plain": [
       "<Figure size 432x288 with 2 Axes>"
      ]
     },
     "metadata": {
      "needs_background": "light"
     },
     "output_type": "display_data"
    }
   ],
   "source": [
    "sns.heatmap(df.corr())"
   ]
  },
  {
   "cell_type": "code",
   "execution_count": 170,
   "metadata": {},
   "outputs": [],
   "source": [
    "df=df[['Minor_Axis',\n",
    "       'Solidity', 'Extent',\n",
    "       'Roundness', 'Compactness', 'Class']] "
   ]
  },
  {
   "cell_type": "code",
   "execution_count": 171,
   "metadata": {},
   "outputs": [
    {
     "data": {
      "text/plain": [
       "LGBMClassifier()"
      ]
     },
     "execution_count": 171,
     "metadata": {},
     "output_type": "execute_result"
    }
   ],
   "source": [
    "X_train, X_test, y_train, y_test = train_test_split(df[['Minor_Axis', 'Solidity', 'Extent', 'Roundness', 'Compactness']], df[\"Class\"])\n",
    "\n",
    "model1 = LogisticRegression()\n",
    "model2 = KNeighborsClassifier()\n",
    "model3 = DecisionTreeClassifier()\n",
    "model4 = RandomForestClassifier()\n",
    "model5 = GradientBoostingClassifier()\n",
    "model6 = xgb.XGBClassifier()\n",
    "model7 = LGBMClassifier()\n",
    "\n",
    "model1.fit(X_train,  y_train)\n",
    "model2.fit(X_train,  y_train)\n",
    "model3.fit(X_train,  y_train)\n",
    "model4.fit(X_train,  y_train)\n",
    "model5.fit(X_train,  y_train)\n",
    "model6.fit(X_train,  y_train)\n",
    "model7.fit(X_train,  y_train)"
   ]
  },
  {
   "cell_type": "code",
   "execution_count": 172,
   "metadata": {},
   "outputs": [],
   "source": [
    "predict1=model1.predict(X_train)\n",
    "predict2=model2.predict(X_train)\n",
    "predict3=model3.predict(X_train)\n",
    "predict4=model4.predict(X_train)\n",
    "predict5=model5.predict(X_train)\n",
    "predict6=model6.predict(X_train)\n",
    "predict7=model7.predict(X_train)"
   ]
  },
  {
   "cell_type": "code",
   "execution_count": 173,
   "metadata": {},
   "outputs": [],
   "source": [
    "predict_avg=np.round((predict1+predict2+predict3+predict4+predict5+predict6+predict7))"
   ]
  },
  {
   "cell_type": "code",
   "execution_count": 174,
   "metadata": {},
   "outputs": [
    {
     "data": {
      "text/plain": [
       "0.489137181874612"
      ]
     },
     "execution_count": 174,
     "metadata": {},
     "output_type": "execute_result"
    }
   ],
   "source": [
    "score = 0\n",
    "for a, i in enumerate(predict_avg):\n",
    "    if y_train.reset_index(drop = True)[a] == i:\n",
    "        score += 1\n",
    "    else:\n",
    "        pass\n",
    "score/len(y_train)"
   ]
  },
  {
   "cell_type": "code",
   "execution_count": 175,
   "metadata": {},
   "outputs": [
    {
     "data": {
      "text/plain": [
       "<BarContainer object of 7 artists>"
      ]
     },
     "execution_count": 175,
     "metadata": {},
     "output_type": "execute_result"
    },
    {
     "data": {
      "image/png": "[encoded data removed]",
      "text/plain": [
       "<Figure size 432x288 with 1 Axes>"
      ]
     },
     "metadata": {
      "needs_background": "light"
     },
     "output_type": "display_data"
    }
   ],
   "source": [
    "model_name=[\"LR\", \"KNN\", \"DT\", \"RF\", \"GB\",\"XGB\",\"LGB\"]\n",
    "scores = [model1.score(X_train, y_train), model2.score(X_train, y_train)\n",
    "        , model3.score(X_train, y_train), model4.score(X_train, y_train)\n",
    "        ,model5.score(X_train, y_train), model6.score(X_train, y_train)\n",
    "        ,model7.score(X_train, y_train)]\n",
    "plt.bar(model_name, scores)"
   ]
  },
  {
   "cell_type": "code",
   "execution_count": 176,
   "metadata": {},
   "outputs": [],
   "source": [
    "predict_avg=np.round((predict1+predict2+predict3+predict4+predict5+predict6+predict7))"
   ]
  },
  {
   "cell_type": "code",
   "execution_count": 177,
   "metadata": {},
   "outputs": [
    {
     "data": {
      "text/plain": [
       "0.489137181874612"
      ]
     },
     "execution_count": 177,
     "metadata": {},
     "output_type": "execute_result"
    }
   ],
   "source": [
    "score = 0\n",
    "for a, i in enumerate(predict_avg):\n",
    "    if y_train.reset_index(drop = True)[a] == i:\n",
    "        score += 1\n",
    "    else:\n",
    "        pass\n",
    "score/len(y_train)"
   ]
  },
  {
   "cell_type": "code",
   "execution_count": null,
   "metadata": {},
   "outputs": [],
   "source": []
  },
  {
   "cell_type": "code",
   "execution_count": null,
   "metadata": {},
   "outputs": [],
   "source": []
  },
  {
   "cell_type": "code",
   "execution_count": 184,
   "metadata": {},
   "outputs": [
    {
     "data": {
      "text/plain": [
       "LGBMClassifier()"
      ]
     },
     "execution_count": 184,
     "metadata": {},
     "output_type": "execute_result"
    }
   ],
   "source": [
    "X_train, X_test, y_train, y_test = train_test_split(df[['Minor_Axis', 'Solidity', 'Extent', 'Roundness', 'Compactness']], df[\"Class\"])\n",
    "\n",
    "model1 = LogisticRegression()\n",
    "model2 = KNeighborsClassifier()\n",
    "model3 = DecisionTreeClassifier()\n",
    "model4 = RandomForestClassifier()\n",
    "model5 = GradientBoostingClassifier()\n",
    "model6 = xgb.XGBClassifier()\n",
    "model7 = LGBMClassifier()\n",
    "\n",
    "model1.fit(X_train,  y_train)\n",
    "model2.fit(X_train,  y_train)\n",
    "model3.fit(X_train,  y_train)\n",
    "model4.fit(X_train,  y_train)\n",
    "model5.fit(X_train,  y_train)\n",
    "model6.fit(X_train,  y_train)\n",
    "model7.fit(X_train,  y_train)"
   ]
  },
  {
   "cell_type": "code",
   "execution_count": 185,
   "metadata": {},
   "outputs": [],
   "source": [
    "predict1 = model1.predict(X_test)\n",
    "predict2 = model2.predict(X_test)\n",
    "predict3 = model3.predict(X_test)\n",
    "predict4 = model4.predict(X_test)\n",
    "predict5 = model5.predict(X_test)\n",
    "predict6 = model6.predict(X_test)\n",
    "predict7 = model7.predict(X_test)"
   ]
  },
  {
   "cell_type": "code",
   "execution_count": 186,
   "metadata": {},
   "outputs": [],
   "source": [
    "predict_avg=np.round((predict1+predict2+predict3+predict4+predict5+predict6+predict7))"
   ]
  },
  {
   "cell_type": "code",
   "execution_count": 187,
   "metadata": {},
   "outputs": [
    {
     "data": {
      "text/plain": [
       "0.25884543761638734"
      ]
     },
     "execution_count": 187,
     "metadata": {},
     "output_type": "execute_result"
    }
   ],
   "source": [
    "score = 0\n",
    "for a, i in enumerate(predict_avg):\n",
    "    if y_train.reset_index(drop = True)[a] == i:\n",
    "        score += 1\n",
    "    else:\n",
    "        pass\n",
    "score/len(y_test)"
   ]
  },
  {
   "cell_type": "code",
   "execution_count": null,
   "metadata": {},
   "outputs": [],
   "source": []
  },
  {
   "cell_type": "code",
   "execution_count": 188,
   "metadata": {},
   "outputs": [
    {
     "data": {
      "text/plain": [
       "<BarContainer object of 7 artists>"
      ]
     },
     "execution_count": 188,
     "metadata": {},
     "output_type": "execute_result"
    },
    {
     "data": {
      "image/png": "[encoded data removed]",
      "text/plain": [
       "<Figure size 432x288 with 1 Axes>"
      ]
     },
     "metadata": {
      "needs_background": "light"
     },
     "output_type": "display_data"
    }
   ],
   "source": [
    "model_name=[\"LR\", \"KNN\", \"DT\", \"RF\", \"GB\",\"XGB\",\"LGB\"]\n",
    "scores2 = [model1.score(X_test, y_test), model2.score(X_test, y_test)\n",
    "        , model3.score(X_test, y_test), model4.score(X_test, y_test)\n",
    "        ,model5.score(X_test, y_test), model6.score(X_test, y_test)\n",
    "        ,model7.score(X_test, y_test)]\n",
    "plt.bar(model_name, scores2)"
   ]
  },
  {
   "cell_type": "code",
   "execution_count": 189,
   "metadata": {},
   "outputs": [
    {
     "data": {
      "text/plain": [
       "<BarContainer object of 7 artists>"
      ]
     },
     "execution_count": 189,
     "metadata": {},
     "output_type": "execute_result"
    },
    {
     "data": {
      "image/png": "[encoded data removed]",
      "text/plain": [
       "<Figure size 432x288 with 1 Axes>"
      ]
     },
     "metadata": {
      "needs_background": "light"
     },
     "output_type": "display_data"
    }
   ],
   "source": [
    "gap=[]\n",
    "for a, i in enumerate(scores):\n",
    "    gap.append((i - scores2[a])**2)\n",
    "plt.bar(model_name, gap)"
   ]
  },
  {
   "cell_type": "code",
   "execution_count": null,
   "metadata": {},
   "outputs": [],
   "source": []
  },
  {
   "cell_type": "code",
   "execution_count": 181,
   "metadata": {},
   "outputs": [
    {
     "data": {
      "text/plain": [
       "<BarContainer object of 7 artists>"
      ]
     },
     "execution_count": 181,
     "metadata": {},
     "output_type": "execute_result"
    },
    {
     "data": {
      "image/png": "[encoded data removed]",
      "text/plain": [
       "<Figure size 432x288 with 1 Axes>"
      ]
     },
     "metadata": {
      "needs_background": "light"
     },
     "output_type": "display_data"
    }
   ],
   "source": [
    "model_name=[\"LR\", \"KNN\", \"DT\", \"RF\", \"GB\",\"XGB\",\"LGB\"]\n",
    "scores = [r2_score(y_test, predict1), r2_score(y_test, predict2)\n",
    "        , r2_score(y_test, predict3), r2_score(y_test, predict4)\n",
    "        ,r2_score(y_test, predict5), r2_score(y_test, predict6)\n",
    "        ,r2_score(y_test, predict7)]\n",
    "plt.bar(model_name, scores)"
   ]
  },
  {
   "cell_type": "code",
   "execution_count": null,
   "metadata": {},
   "outputs": [],
   "source": []
  },
  {
   "cell_type": "code",
   "execution_count": null,
   "metadata": {},
   "outputs": [],
   "source": []
  },
  {
   "cell_type": "code",
   "execution_count": null,
   "metadata": {},
   "outputs": [],
   "source": []
  },
  {
   "cell_type": "code",
   "execution_count": 182,
   "metadata": {},
   "outputs": [
    {
     "data": {
      "text/plain": [
       "'\\n#함수없이 하는 법\\nfor a, b in enumerate(df[\"Class\"].unique()):\\n        df.loc[df[\"Class\"] == b, \"Class\"] = int(a)\\n'"
      ]
     },
     "execution_count": 182,
     "metadata": {},
     "output_type": "execute_result"
    }
   ],
   "source": [
    "\"\"\"\n",
    "#함수없이 하는 법\n",
    "for a, b in enumerate(df[\"Class\"].unique()):\n",
    "        df.loc[df[\"Class\"] == b, \"Class\"] = int(a)\n",
    "\"\"\""
   ]
  },
  {
   "cell_type": "code",
   "execution_count": 183,
   "metadata": {},
   "outputs": [
    {
     "data": {
      "text/plain": [
       "Class          1.000000\n",
       "Minor_Axis     0.668126\n",
       "Compactness    0.624939\n",
       "Solidity       0.125347\n",
       "Roundness      0.105768\n",
       "Extent         0.100200\n",
       "dtype: float64"
      ]
     },
     "execution_count": 183,
     "metadata": {},
     "output_type": "execute_result"
    }
   ],
   "source": [
    "df.corrwith(df[\"Class\"]).sort_values(ascending=False)"
   ]
  },
  {
   "cell_type": "code",
   "execution_count": null,
   "metadata": {},
   "outputs": [],
   "source": []
  },
  {
   "cell_type": "code",
   "execution_count": null,
   "metadata": {},
   "outputs": [],
   "source": []
  },
  {
   "cell_type": "code",
   "execution_count": null,
   "metadata": {},
   "outputs": [],
   "source": []
  },
  {
   "cell_type": "code",
   "execution_count": null,
   "metadata": {},
   "outputs": [],
   "source": []
  },
  {
   "cell_type": "code",
   "execution_count": null,
   "metadata": {},
   "outputs": [],
   "source": []
  },
  {
   "cell_type": "code",
   "execution_count": null,
   "metadata": {},
   "outputs": [],
   "source": []
  },
  {
   "cell_type": "code",
   "execution_count": null,
   "metadata": {},
   "outputs": [],
   "source": []
  },
  {
   "cell_type": "code",
   "execution_count": null,
   "metadata": {},
   "outputs": [],
   "source": []
  },
  {
   "cell_type": "code",
   "execution_count": null,
   "metadata": {},
   "outputs": [],
   "source": []
  }
 ],
 "metadata": {
  "kernelspec": {
   "display_name": "Python 3.9.12 ('base')",
   "language": "python",
   "name": "python3"
  },
  "language_info": {
   "codemirror_mode": {
    "name": "ipython",
    "version": 3
   },
   "file_extension": ".py",
   "mimetype": "text/x-python",
   "name": "python",
   "nbconvert_exporter": "python",
   "pygments_lexer": "ipython3",
   "version": "3.9.12"
  },
  "orig_nbformat": 4,
  "vscode": {
   "interpreter": {
    "hash": "a077222d77dfe082b8f1dd562ad70e458ac2ab76993a0b248ab0476e32e9e8dd"
   }
  }
 },
 "nbformat": 4,
 "nbformat_minor": 2
}
