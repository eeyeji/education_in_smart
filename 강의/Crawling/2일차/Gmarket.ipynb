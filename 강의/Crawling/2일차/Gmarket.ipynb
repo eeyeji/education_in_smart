{
 "cells": [
  {
   "cell_type": "code",
   "execution_count": 45,
   "metadata": {},
   "outputs": [
    {
     "name": "stdout",
     "output_type": "stream",
     "text": [
      "Requirement already satisfied: webdriver_manager in c:\\users\\user\\anaconda3\\lib\\site-packages (3.8.3)\n",
      "Requirement already satisfied: python-dotenv in c:\\users\\user\\anaconda3\\lib\\site-packages (from webdriver_manager) (0.21.0)\n",
      "Requirement already satisfied: requests in c:\\users\\user\\anaconda3\\lib\\site-packages (from webdriver_manager) (2.27.1)\n",
      "Requirement already satisfied: tqdm in c:\\users\\user\\anaconda3\\lib\\site-packages (from webdriver_manager) (4.64.0)\n",
      "Requirement already satisfied: idna<4,>=2.5 in c:\\users\\user\\anaconda3\\lib\\site-packages (from requests->webdriver_manager) (3.3)\n",
      "Requirement already satisfied: certifi>=2017.4.17 in c:\\users\\user\\anaconda3\\lib\\site-packages (from requests->webdriver_manager) (2021.10.8)\n",
      "Requirement already satisfied: charset-normalizer~=2.0.0 in c:\\users\\user\\anaconda3\\lib\\site-packages (from requests->webdriver_manager) (2.0.4)\n",
      "Requirement already satisfied: urllib3<1.27,>=1.21.1 in c:\\users\\user\\anaconda3\\lib\\site-packages (from requests->webdriver_manager) (1.26.9)\n",
      "Requirement already satisfied: colorama in c:\\users\\user\\anaconda3\\lib\\site-packages (from tqdm->webdriver_manager) (0.4.4)\n"
     ]
    },
    {
     "name": "stderr",
     "output_type": "stream",
     "text": [
      "C:\\Users\\user\\AppData\\Local\\Temp\\ipykernel_1084\\4079025192.py:25: TqdmDeprecationWarning: This function will be removed in tqdm==5.0.0\n",
      "Please use `tqdm.notebook.tqdm` instead of `tqdm.tqdm_notebook`\n",
      "  for i in tqdm(range(5)):\n"
     ]
    },
    {
     "data": {
      "application/vnd.jupyter.widget-view+json": {
       "model_id": "955078b6719840328d9c46b2864aeb0c",
       "version_major": 2,
       "version_minor": 0
      },
      "text/plain": [
       "  0%|          | 0/5 [00:00<?, ?it/s]"
      ]
     },
     "metadata": {},
     "output_type": "display_data"
    },
    {
     "data": {
      "text/html": [
       "<div>\n",
       "<style scoped>\n",
       "    .dataframe tbody tr th:only-of-type {\n",
       "        vertical-align: middle;\n",
       "    }\n",
       "\n",
       "    .dataframe tbody tr th {\n",
       "        vertical-align: top;\n",
       "    }\n",
       "\n",
       "    .dataframe thead th {\n",
       "        text-align: right;\n",
       "    }\n",
       "</style>\n",
       "<table border=\"1\" class=\"dataframe\">\n",
       "  <thead>\n",
       "    <tr style=\"text-align: right;\">\n",
       "      <th></th>\n",
       "      <th>카테고리</th>\n",
       "      <th>상품명</th>\n",
       "      <th>가격</th>\n",
       "    </tr>\n",
       "  </thead>\n",
       "  <tbody>\n",
       "    <tr>\n",
       "      <th>0</th>\n",
       "      <td>메가박스</td>\n",
       "      <td>(스마일클럽)일반예매권2D-주중/주말</td>\n",
       "      <td>8,500원</td>\n",
       "    </tr>\n",
       "    <tr>\n",
       "      <th>1</th>\n",
       "      <td>생수</td>\n",
       "      <td>스파클생수 2L 30병</td>\n",
       "      <td>15,900원</td>\n",
       "    </tr>\n",
       "    <tr>\n",
       "      <th>2</th>\n",
       "      <td>새우</td>\n",
       "      <td>생물 새우 1kg 35-45미/14900원(중복할인20%+스마일12% 쿠폰가)/국내산</td>\n",
       "      <td>21,900원</td>\n",
       "    </tr>\n",
       "    <tr>\n",
       "      <th>3</th>\n",
       "      <td>브이넥니트</td>\n",
       "      <td>너의지금 20%쿠폰 신상니트 가디건/롱/세트/가을신상/크롭/박스/루즈핏/긴팔</td>\n",
       "      <td>8,900원</td>\n",
       "    </tr>\n",
       "    <tr>\n",
       "      <th>4</th>\n",
       "      <td>전집/세트</td>\n",
       "      <td>(타임주니어) Around the World / Magic of mirror 선택구매</td>\n",
       "      <td>42,300원</td>\n",
       "    </tr>\n",
       "  </tbody>\n",
       "</table>\n",
       "</div>"
      ],
      "text/plain": [
       "    카테고리                                              상품명       가격\n",
       "0   메가박스                             (스마일클럽)일반예매권2D-주중/주말   8,500원\n",
       "1     생수                                     스파클생수 2L 30병  15,900원\n",
       "2     새우  생물 새우 1kg 35-45미/14900원(중복할인20%+스마일12% 쿠폰가)/국내산  21,900원\n",
       "3  브이넥니트       너의지금 20%쿠폰 신상니트 가디건/롱/세트/가을신상/크롭/박스/루즈핏/긴팔   8,900원\n",
       "4  전집/세트  (타임주니어) Around the World / Magic of mirror 선택구매  42,300원"
      ]
     },
     "execution_count": 45,
     "metadata": {},
     "output_type": "execute_result"
    }
   ],
   "source": [
    "!pip install webdriver_manager\n",
    "\n",
    "from tqdm import tqdm_notebook as tqdm\n",
    "\n",
    "from selenium import webdriver\n",
    "from webdriver_manager.chrome import ChromeDriverManager\n",
    "import pandas as pd\n",
    "import time\n",
    "\n",
    "driver = webdriver.Chrome(ChromeDriverManager().install())\n",
    "#지마켓\n",
    "driver.get(\"https://www.gmarket.co.kr/\")\n",
    "driver.maximize_window()\n",
    "\n",
    "#BEST xpath주소\n",
    "best = driver.find_element_by_xpath('//*[@id=\"desktop_layout-header\"]/div/div/div[2]/div[2]/ul/li[1]/a')\n",
    "best.click()\n",
    "\n",
    "item_list = []\n",
    "price_list = []\n",
    "category_list = []\n",
    "\n",
    "#이미지 선택 반복?\n",
    "#len(img) = 201\n",
    "for i in tqdm(range(5)):\n",
    "    img = driver.find_elements_by_css_selector('img.lazy')\n",
    "    img[i].click()\n",
    "\n",
    "    #상세페이지\n",
    "\n",
    "    #5초가 지났는데도 로딩이 안되면 그냥 넘어감\n",
    "    driver.implicitly_wait(5)\n",
    "\n",
    "    category = driver.find_element_by_css_selector('li.on>a')\n",
    "    category_list.append(category.text)\n",
    "    item = driver.find_element_by_css_selector('h1.itemtit')\n",
    "    item_list.append(item.text)\n",
    "    price = driver.find_element_by_css_selector('strong.price_real')\n",
    "    price_list.append(price.text) \n",
    "\n",
    "\n",
    "    time.sleep(1)\n",
    "    #뒤로가기\n",
    "    driver.back()\n",
    "    time.sleep(1)\n",
    "\n",
    "data = {'카테고리' : category_list, '상품명' : item_list, '가격' : price_list}\n",
    "gmarket = pd.DataFrame(data)\n",
    "gmarket"
   ]
  },
  {
   "cell_type": "code",
   "execution_count": null,
   "metadata": {},
   "outputs": [],
   "source": []
  },
  {
   "cell_type": "code",
   "execution_count": null,
   "metadata": {},
   "outputs": [],
   "source": []
  },
  {
   "cell_type": "code",
   "execution_count": null,
   "metadata": {},
   "outputs": [],
   "source": []
  },
  {
   "cell_type": "code",
   "execution_count": null,
   "metadata": {},
   "outputs": [],
   "source": []
  }
 ],
 "metadata": {
  "kernelspec": {
   "display_name": "Python 3.9.12 ('base')",
   "language": "python",
   "name": "python3"
  },
  "language_info": {
   "codemirror_mode": {
    "name": "ipython",
    "version": 3
   },
   "file_extension": ".py",
   "mimetype": "text/x-python",
   "name": "python",
   "nbconvert_exporter": "python",
   "pygments_lexer": "ipython3",
   "version": "3.9.12"
  },
  "orig_nbformat": 4,
  "vscode": {
   "interpreter": {
    "hash": "a077222d77dfe082b8f1dd562ad70e458ac2ab76993a0b248ab0476e32e9e8dd"
   }
  }
 },
 "nbformat": 4,
 "nbformat_minor": 2
}
