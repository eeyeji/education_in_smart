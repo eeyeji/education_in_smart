{
 "cells": [
  {
   "cell_type": "markdown",
   "metadata": {},
   "source": [
    "#### 한국어"
   ]
  },
  {
   "cell_type": "code",
   "execution_count": 1,
   "metadata": {},
   "outputs": [
    {
     "name": "stdout",
     "output_type": "stream",
     "text": [
      "[('아버지', 'Noun'), ('가', 'Josa'), ('방', 'Noun'), ('에', 'Josa'), ('들어가신다', 'Verb')]\n"
     ]
    }
   ],
   "source": [
    "from konlpy.tag import Okt\n",
    "okt = Okt()\n",
    "\n",
    "print(okt.pos('아버지가 방에 들어가신다'))"
   ]
  },
  {
   "cell_type": "code",
   "execution_count": 1,
   "metadata": {},
   "outputs": [
    {
     "data": {
      "text/plain": [
       "['설치', '가', '잘', '되었는지', '확인', '해봅시다']"
      ]
     },
     "execution_count": 1,
     "metadata": {},
     "output_type": "execute_result"
    }
   ],
   "source": [
    "from konlpy.tag import Okt\n",
    "okt = Okt()\n",
    "\n",
    "#okt.morphs(text): 형태소 분리\n",
    "okt.morphs('설치가 잘 되었는지 확인해봅시다')\n"
   ]
  },
  {
   "cell_type": "code",
   "execution_count": 3,
   "metadata": {},
   "outputs": [
    {
     "data": {
      "text/plain": [
       "['설치', '가', '잘', '되', '었는지', '확인', '하', '어', '보', 'ㅂ시다']"
      ]
     },
     "execution_count": 3,
     "metadata": {},
     "output_type": "execute_result"
    }
   ],
   "source": [
    "from konlpy.tag import Hannanum\n",
    "hannanum = Hannanum()\n",
    "hannanum.morphs('설치가 잘 되었는지 확인해봅시다')"
   ]
  },
  {
   "cell_type": "code",
   "execution_count": 4,
   "metadata": {},
   "outputs": [
    {
     "data": {
      "text/plain": [
       "['설치', '가', '잘', '되', '었', '는지', '확인해봅십다']"
      ]
     },
     "execution_count": 4,
     "metadata": {},
     "output_type": "execute_result"
    }
   ],
   "source": [
    "from konlpy.tag import Komoran\n",
    "komoran = Komoran()\n",
    "komoran.morphs('설치가 잘 되었는지 확인해봅십다')"
   ]
  },
  {
   "cell_type": "code",
   "execution_count": 5,
   "metadata": {},
   "outputs": [
    {
     "data": {
      "text/plain": [
       "['설치', '가', '잘', '되', '었', '는지', '확인', '해보', 'ㅂ시다']"
      ]
     },
     "execution_count": 5,
     "metadata": {},
     "output_type": "execute_result"
    }
   ],
   "source": [
    "from konlpy.tag import Kkma\n",
    "kkma = Kkma()\n",
    "kkma.morphs('설치가 잘 되었는지 확인해봅시다')"
   ]
  },
  {
   "cell_type": "code",
   "execution_count": null,
   "metadata": {},
   "outputs": [],
   "source": [
    "from konlpy.tag import Okt\n",
    "okt = Okt()"
   ]
  },
  {
   "cell_type": "code",
   "execution_count": 6,
   "metadata": {},
   "outputs": [],
   "source": [
    "text = '나는 오늘 친구와 함께 영화를 볼 계획이다.'"
   ]
  },
  {
   "cell_type": "code",
   "execution_count": 7,
   "metadata": {},
   "outputs": [
    {
     "data": {
      "text/plain": [
       "['나', '는', '오늘', '친구', '와', '함께', '영화', '를', '볼', '계획', '이다', '.']"
      ]
     },
     "execution_count": 7,
     "metadata": {},
     "output_type": "execute_result"
    }
   ],
   "source": [
    "#형태소 분리\n",
    "okt.morphs(text)"
   ]
  },
  {
   "cell_type": "code",
   "execution_count": 8,
   "metadata": {},
   "outputs": [
    {
     "data": {
      "text/plain": [
       "['나', '오늘', '친구', '영화', '볼', '계획']"
      ]
     },
     "execution_count": 8,
     "metadata": {},
     "output_type": "execute_result"
    }
   ],
   "source": [
    "#명사만 추출\n",
    "okt.nouns(text)"
   ]
  },
  {
   "cell_type": "code",
   "execution_count": 9,
   "metadata": {},
   "outputs": [
    {
     "data": {
      "text/plain": [
       "[('나', 'Noun'),\n",
       " ('는', 'Josa'),\n",
       " ('오늘', 'Noun'),\n",
       " ('친구', 'Noun'),\n",
       " ('와', 'Josa'),\n",
       " ('함께', 'Adverb'),\n",
       " ('영화', 'Noun'),\n",
       " ('를', 'Josa'),\n",
       " ('볼', 'Noun'),\n",
       " ('계획', 'Noun'),\n",
       " ('이다', 'Josa'),\n",
       " ('.', 'Punctuation')]"
      ]
     },
     "execution_count": 9,
     "metadata": {},
     "output_type": "execute_result"
    }
   ],
   "source": [
    "#포스태깅\n",
    "okt.pos(text)"
   ]
  },
  {
   "cell_type": "code",
   "execution_count": 14,
   "metadata": {},
   "outputs": [],
   "source": [
    "text = '나는 오늘 끝나고 저녁 맛있는거 먹을꺼얔ㅋㅋㅋㅋ'"
   ]
  },
  {
   "cell_type": "code",
   "execution_count": 15,
   "metadata": {},
   "outputs": [
    {
     "data": {
      "text/plain": [
       "['나', '는', '오늘', '끝나다', '저녁', '맛있다', '먹다', '얔', 'ㅋㅋㅋㅋ']"
      ]
     },
     "execution_count": 15,
     "metadata": {},
     "output_type": "execute_result"
    }
   ],
   "source": [
    "#어근화-동사의 원형으로 만들어줌\n",
    "okt.morphs(text, stem=True)"
   ]
  },
  {
   "cell_type": "code",
   "execution_count": 16,
   "metadata": {},
   "outputs": [
    {
     "data": {
      "text/plain": [
       "['나', '는', '오늘', '끝나고', '저녁', '맛있는거', '먹을꺼야', 'ㅋㅋㅋ']"
      ]
     },
     "execution_count": 16,
     "metadata": {},
     "output_type": "execute_result"
    }
   ],
   "source": [
    "#문장 정규화?\n",
    "okt.morphs(text, norm=True)"
   ]
  },
  {
   "cell_type": "code",
   "execution_count": 28,
   "metadata": {},
   "outputs": [
    {
     "data": {
      "text/plain": [
       "['나', '는', '오늘', '끝나다', '저녁', '맛있다', '먹다', 'ㅋㅋㅋ']"
      ]
     },
     "execution_count": 28,
     "metadata": {},
     "output_type": "execute_result"
    }
   ],
   "source": [
    "okt.morphs(text, stem=True, norm=True)"
   ]
  },
  {
   "cell_type": "code",
   "execution_count": 22,
   "metadata": {},
   "outputs": [],
   "source": [
    "#define 함수 만들기!\n",
    "#def 만들고 싶은 함수 이름 설정(데이터타입?)\n",
    "def extract_nouns(string):\n",
    "    nouns = okt.nouns(string)\n",
    "    return nouns"
   ]
  },
  {
   "cell_type": "code",
   "execution_count": 23,
   "metadata": {},
   "outputs": [
    {
     "data": {
      "text/plain": [
       "'나는 오늘 끝나고 저녁 맛있는거 먹을꺼얔ㅋㅋㅋㅋ'"
      ]
     },
     "execution_count": 23,
     "metadata": {},
     "output_type": "execute_result"
    }
   ],
   "source": [
    "text"
   ]
  },
  {
   "cell_type": "code",
   "execution_count": 24,
   "metadata": {},
   "outputs": [
    {
     "data": {
      "text/plain": [
       "['나', '오늘', '저녁', '얔']"
      ]
     },
     "execution_count": 24,
     "metadata": {},
     "output_type": "execute_result"
    }
   ],
   "source": [
    "extract_nouns(text)"
   ]
  },
  {
   "cell_type": "code",
   "execution_count": 50,
   "metadata": {},
   "outputs": [],
   "source": [
    "def extract_tag(string):\n",
    "    #변수  = 가지고 오고 싶은 함수\n",
    "    result = okt.pos(string)\n",
    "    \n"
   ]
  },
  {
   "cell_type": "code",
   "execution_count": 51,
   "metadata": {},
   "outputs": [
    {
     "data": {
      "text/plain": [
       "[('나', 'Noun'),\n",
       " ('는', 'Josa'),\n",
       " ('오늘', 'Noun'),\n",
       " ('끝나고', 'Verb'),\n",
       " ('저녁', 'Noun'),\n",
       " ('맛있는거', 'Adjective'),\n",
       " ('먹을꺼', 'Verb'),\n",
       " ('얔', 'Noun'),\n",
       " ('ㅋㅋㅋㅋ', 'KoreanParticle')]"
      ]
     },
     "execution_count": 51,
     "metadata": {},
     "output_type": "execute_result"
    }
   ],
   "source": [
    "result = okt.pos(text)\n",
    "result"
   ]
  },
  {
   "cell_type": "code",
   "execution_count": 52,
   "metadata": {},
   "outputs": [
    {
     "data": {
      "text/plain": [
       "('나', 'Noun')"
      ]
     },
     "execution_count": 52,
     "metadata": {},
     "output_type": "execute_result"
    }
   ],
   "source": [
    "result[0]"
   ]
  },
  {
   "cell_type": "code",
   "execution_count": 53,
   "metadata": {},
   "outputs": [
    {
     "data": {
      "text/plain": [
       "'Noun'"
      ]
     },
     "execution_count": 53,
     "metadata": {},
     "output_type": "execute_result"
    }
   ],
   "source": [
    "result[0][1]"
   ]
  },
  {
   "cell_type": "code",
   "execution_count": 47,
   "metadata": {},
   "outputs": [
    {
     "data": {
      "text/plain": [
       "['나', '오늘', '끝나고', '저녁', '맛있는거', '먹을꺼', '얔']"
      ]
     },
     "execution_count": 47,
     "metadata": {},
     "output_type": "execute_result"
    }
   ],
   "source": [
    "def extract_tag1(string):\n",
    "    #변수  = 가지고 오고 싶은 함수\n",
    "    result_words = []\n",
    "\n",
    "    result = okt.pos(string)\n",
    "    for word, tag in result:\n",
    "        if tag in ['Verb', 'Noun', 'Adjective']:\n",
    "            result_words.append(word)\n",
    "    return result_words\n",
    "\n",
    "\n",
    "extract_tag1(text)"
   ]
  },
  {
   "cell_type": "code",
   "execution_count": 49,
   "metadata": {},
   "outputs": [
    {
     "data": {
      "text/plain": [
       "['나', '오늘', '끝나다', '저녁', '맛있다', '먹다']"
      ]
     },
     "execution_count": 49,
     "metadata": {},
     "output_type": "execute_result"
    }
   ],
   "source": [
    "def extract_tag2(string):\n",
    "    #변수  = 가지고 오고 싶은 함수\n",
    "    result_words = []\n",
    "\n",
    "    result = okt.pos(string, stem=True, norm=True)\n",
    "    for word, tag in result:\n",
    "        if tag in ['Verb', 'Noun', 'Adjective']:\n",
    "            result_words.append(word)\n",
    "    return result_words\n",
    "\n",
    "\n",
    "extract_tag2(text)"
   ]
  },
  {
   "cell_type": "code",
   "execution_count": 54,
   "metadata": {},
   "outputs": [],
   "source": [
    "stopwords = ['있다', '하다', '먹다']"
   ]
  },
  {
   "cell_type": "code",
   "execution_count": 55,
   "metadata": {},
   "outputs": [
    {
     "data": {
      "text/plain": [
       "['나', '오늘', '끝나다', '저녁', '맛있다']"
      ]
     },
     "execution_count": 55,
     "metadata": {},
     "output_type": "execute_result"
    }
   ],
   "source": [
    "def extract_tag3(string):\n",
    "    #변수  = 가지고 오고 싶은 함수\n",
    "    result_words = []\n",
    "\n",
    "    result = okt.pos(string, stem=True, norm=True)\n",
    "    for word, tag in result:       \n",
    "        if tag in ['Verb', 'Noun', 'Adjective']:\n",
    "            if word not in stopwords:\n",
    "                result_words.append(word)\n",
    "    return result_words\n",
    "\n",
    "\n",
    "extract_tag3(text)"
   ]
  },
  {
   "cell_type": "code",
   "execution_count": null,
   "metadata": {},
   "outputs": [],
   "source": []
  },
  {
   "cell_type": "code",
   "execution_count": null,
   "metadata": {},
   "outputs": [],
   "source": []
  },
  {
   "cell_type": "code",
   "execution_count": null,
   "metadata": {},
   "outputs": [],
   "source": []
  }
 ],
 "metadata": {
  "kernelspec": {
   "display_name": "Python 3.9.12 ('base')",
   "language": "python",
   "name": "python3"
  },
  "language_info": {
   "codemirror_mode": {
    "name": "ipython",
    "version": 3
   },
   "file_extension": ".py",
   "mimetype": "text/x-python",
   "name": "python",
   "nbconvert_exporter": "python",
   "pygments_lexer": "ipython3",
   "version": "3.9.12"
  },
  "orig_nbformat": 4,
  "vscode": {
   "interpreter": {
    "hash": "a077222d77dfe082b8f1dd562ad70e458ac2ab76993a0b248ab0476e32e9e8dd"
   }
  }
 },
 "nbformat": 4,
 "nbformat_minor": 2
}
