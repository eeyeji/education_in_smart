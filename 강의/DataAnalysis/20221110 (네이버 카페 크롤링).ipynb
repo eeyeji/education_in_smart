{
 "cells": [
  {
   "cell_type": "code",
   "execution_count": 17,
   "id": "b9b31c75",
   "metadata": {},
   "outputs": [],
   "source": [
    "# !pip install bs4\n",
    "# !pip install webdriver_manager\n",
    "# !pip install selenium==3.141.0\n"
   ]
  },
  {
   "cell_type": "code",
   "execution_count": 18,
   "id": "cf119d42",
   "metadata": {},
   "outputs": [],
   "source": [
    "# selenium 세팅 (1)\n",
    "from selenium import webdriver\n",
    "from webdriver_manager.chrome import ChromeDriverManager\n",
    "\n",
    "# driver = webdriver.Chrome(ChromeDriverManager().install())\n",
    "\n",
    "# driver.get('https://www.naver.com')"
   ]
  },
  {
   "cell_type": "code",
   "execution_count": 19,
   "id": "dfc95327",
   "metadata": {},
   "outputs": [],
   "source": [
    "# selenium 세팅 (2)\n",
    "\n",
    "from selenium.webdriver.support.ui import WebDriverWait as wait #페이지가 로딩 다 되면 동작을 시작하게끔 해줌\n",
    "from selenium.webdriver.support import expected_conditions as EC  #예외적인 상황에서 에러가 떴을 때 넘겨주는 코드\n",
    "from selenium.webdriver.chrome.options import Options \n",
    "from selenium.webdriver.common.by import By\n",
    "# 추가적으로 크롬드라이버 돌릴 때 몇가지 세팅값들을 넣으려고??? 뭔 말이지 "
   ]
  },
  {
   "cell_type": "code",
   "execution_count": 20,
   "id": "c5cbca69",
   "metadata": {},
   "outputs": [],
   "source": [
    "import time\n",
    "import csv\n",
    "import pandas as pd\n",
    "import random\n",
    "from bs4 import BeautifulSoup as bs"
   ]
  },
  {
   "cell_type": "markdown",
   "id": "8097806d",
   "metadata": {},
   "source": [
    "# 네이버 로그인"
   ]
  },
  {
   "cell_type": "markdown",
   "id": "7b3636a5",
   "metadata": {},
   "source": [
    "자동화된 크롬창을 실행시켜서 네이버 로그인 페이지 접속\n",
    "\n",
    "1. 크롬드라이버 제어 (크롬창 켜기)\n",
    "2. 네이버 로그인 (아이디 입력 -> 비밀번호 입력 -> 로그인 버튼 클릭 순서로 작업 진행)"
   ]
  },
  {
   "cell_type": "code",
   "execution_count": 21,
   "id": "7c258ca9",
   "metadata": {
    "scrolled": true
   },
   "outputs": [
    {
     "name": "stderr",
     "output_type": "stream",
     "text": [
      "C:\\Users\\user\\AppData\\Local\\Temp\\ipykernel_6772\\2459345217.py:13: DeprecationWarning: use options instead of chrome_options\n",
      "  driver = webdriver.Chrome(ChromeDriverManager().install(), chrome_options=chrome_options)\n"
     ]
    }
   ],
   "source": [
    "# 크롬드라이버 제어\n",
    "\n",
    "chrome_options = Options()\n",
    "chrome_options.add_argument('--no-sandbox')\n",
    "chrome_options.add_argument('--disable-dex-shm-usage')\n",
    "\n",
    "# 현재 컴퓨터 크롬 드라이버 위치 파악\n",
    "# chrome_path = r'chromedriver.exe' ## 본인의 크롬 드라이버 위치 입력  <- 요거는\n",
    "# ChromeDriverManager().install()   # <- 요거는 새 install\n",
    "\n",
    "\n",
    "# 자동화된 크롬 창 실행\n",
    "driver = webdriver.Chrome(ChromeDriverManager().install(), chrome_options=chrome_options)\n",
    "# driver.get('https://www.naver.com')"
   ]
  },
  {
   "cell_type": "code",
   "execution_count": 22,
   "id": "065e8fc8",
   "metadata": {},
   "outputs": [],
   "source": [
    "# 네이버 로그인 페이지 접속\n",
    "login_url = 'https://nid.naver.com/nidlogin.login?mode=form&url=https%3A%2F%2Fwww.naver.com'\n",
    "driver.get(login_url)\n",
    "driver.implicitly_wait(10)\n",
    "\n",
    "#본인의 아이디, 비밀번호를 각 변수에 저장\n",
    "my_id='scv0206'\n",
    "my_pw='DlDpWl026!@'\n",
    "\n",
    "# 아이디, 비밀번호 입력 (네이버에 로그인 할 경우 'send_keys()' 함수가 아니라 'execute_script()' 사용)\n",
    "#네이버에서 send_key()를 쓰면 로그인에서 자동입력방지기능이 나타남.\n",
    "driver.execute_script(\"document.getElementsByName('id')[0].value = \\'\" + my_id + \"\\'\")\n",
    "driver.execute_script(\"document.getElementsByName('pw')[0].value = \\'\" + my_pw + \"\\'\")\n",
    "time.sleep(1)\n",
    "\n",
    "# 로그인 버튼 클릭\n",
    "driver.find_element('id', 'log.login').click()\n",
    "time.sleep(1)"
   ]
  },
  {
   "cell_type": "markdown",
   "id": "f0eec8a4",
   "metadata": {},
   "source": [
    "그중 가장 많이 제시했던 방법은 execute_script('js작성가능') 메서드를 사용하는 것이 었는데, js코드를 인자로 넣을 수 있어 브라우저 화면을 제어 할수 있게 된다. 스크롤을 하기 위해 뿐만아니라 다른 동적이벤트를 작성할 수 있다.\n",
    "\n",
    "해당 페이지에 스크립트를 만들 때 사용합니다. 요소는 필수 파라미터는 아니고 요소가 있으면 요소에 스크립트가 실행되고 없으면 전체 페이지에 스크립트가 움직입니다.\n",
    "\n",
    "화면상 스크롤 위치 이동 : scrollTo(x,Y) ,scrollTo(x,Y+number)\n",
    "화면 최하단으로 스크롤 이동 : scrollTo(0, document.body.scrollHeight)\n",
    "화면을 움직이고 페이지 로드 기다리기 : time.sleep(second)"
   ]
  },
  {
   "cell_type": "markdown",
   "id": "8bc5faf5",
   "metadata": {},
   "source": [
    "## 크롤링 할 카페 접속 및 원하는 게시판 클릭"
   ]
  },
  {
   "cell_type": "code",
   "execution_count": 23,
   "id": "7383d61b",
   "metadata": {},
   "outputs": [],
   "source": [
    "# 카페 접속\n",
    "time.sleep(2)\n",
    "moms_url = 'https://cafe.naver.com/sqlpd' # 타겟 카페가 바뀔 경우 url을 바꿔주세요\n",
    "driver.get(moms_url)\n",
    "time.sleep(1)\n",
    "\n",
    "# 원하는 게시판 클릭\n",
    "driver.find_element('xpath','//*[@id=\"menuLink120\"]').click() #게시판의 선택자 넣기\n",
    "time.sleep(1)\n",
    "\n",
    "# 프레임 전환\n",
    "driver.switch_to.frame('cafe_main')\n",
    "time.sleep(1)\n"
   ]
  },
  {
   "cell_type": "markdown",
   "id": "4de69f37",
   "metadata": {},
   "source": [
    "## 게시물 크롤링\n",
    "\n",
    "1. 첫번째 게시물 클릭 - XPath 활용\n",
    "2. 크롤링할 개수 지정\n",
    "3. 크롤링\n"
   ]
  },
  {
   "cell_type": "code",
   "execution_count": 24,
   "id": "a0b3c7ce",
   "metadata": {},
   "outputs": [
    {
     "ename": "NameError",
     "evalue": "name 'chrome_path' is not defined",
     "output_type": "error",
     "traceback": [
      "\u001b[1;31m---------------------------------------------------------------------------\u001b[0m",
      "\u001b[1;31mNameError\u001b[0m                                 Traceback (most recent call last)",
      "\u001b[1;32mc:\\Users\\user\\Desktop\\FamilyShip\\20221110 (네이버 카페 크롤링).ipynb 셀 13\u001b[0m in \u001b[0;36m<cell line: 14>\u001b[1;34m()\u001b[0m\n\u001b[0;32m    <a href='vscode-notebook-cell:/c%3A/Users/user/Desktop/FamilyShip/20221110%20%28%EB%84%A4%EC%9D%B4%EB%B2%84%20%EC%B9%B4%ED%8E%98%20%ED%81%AC%EB%A1%A4%EB%A7%81%29.ipynb#X15sZmlsZQ%3D%3D?line=100'>101</a>\u001b[0m driver\u001b[39m.\u001b[39mclose()\n\u001b[0;32m    <a href='vscode-notebook-cell:/c%3A/Users/user/Desktop/FamilyShip/20221110%20%28%EB%84%A4%EC%9D%B4%EB%B2%84%20%EC%B9%B4%ED%8E%98%20%ED%81%AC%EB%A1%A4%EB%A7%81%29.ipynb#X15sZmlsZQ%3D%3D?line=102'>103</a>\u001b[0m \u001b[39m# 크롬창 다시 열기\u001b[39;00m\n\u001b[1;32m--> <a href='vscode-notebook-cell:/c%3A/Users/user/Desktop/FamilyShip/20221110%20%28%EB%84%A4%EC%9D%B4%EB%B2%84%20%EC%B9%B4%ED%8E%98%20%ED%81%AC%EB%A1%A4%EB%A7%81%29.ipynb#X15sZmlsZQ%3D%3D?line=103'>104</a>\u001b[0m driver \u001b[39m=\u001b[39m webdriver\u001b[39m.\u001b[39mChrome(executable_path\u001b[39m=\u001b[39mchrome_path, chrome_options\u001b[39m=\u001b[39mchrome_options)\n\u001b[0;32m    <a href='vscode-notebook-cell:/c%3A/Users/user/Desktop/FamilyShip/20221110%20%28%EB%84%A4%EC%9D%B4%EB%B2%84%20%EC%B9%B4%ED%8E%98%20%ED%81%AC%EB%A1%A4%EB%A7%81%29.ipynb#X15sZmlsZQ%3D%3D?line=105'>106</a>\u001b[0m \u001b[39m# 재 로그인\u001b[39;00m\n\u001b[0;32m    <a href='vscode-notebook-cell:/c%3A/Users/user/Desktop/FamilyShip/20221110%20%28%EB%84%A4%EC%9D%B4%EB%B2%84%20%EC%B9%B4%ED%8E%98%20%ED%81%AC%EB%A1%A4%EB%A7%81%29.ipynb#X15sZmlsZQ%3D%3D?line=106'>107</a>\u001b[0m \u001b[39m## 네이버 화면 이동\u001b[39;00m\n\u001b[0;32m    <a href='vscode-notebook-cell:/c%3A/Users/user/Desktop/FamilyShip/20221110%20%28%EB%84%A4%EC%9D%B4%EB%B2%84%20%EC%B9%B4%ED%8E%98%20%ED%81%AC%EB%A1%A4%EB%A7%81%29.ipynb#X15sZmlsZQ%3D%3D?line=107'>108</a>\u001b[0m login_url \u001b[39m=\u001b[39m \u001b[39m'\u001b[39m\u001b[39mhttps://nid.naver.com/nidlogin.login?mode=form&url=https\u001b[39m\u001b[39m%\u001b[39m\u001b[39m3A\u001b[39m\u001b[39m%2F\u001b[39;00m\u001b[39m%2F\u001b[39;00m\u001b[39mwww.naver.com\u001b[39m\u001b[39m'\u001b[39m\n",
      "\u001b[1;31mNameError\u001b[0m: name 'chrome_path' is not defined"
     ]
    }
   ],
   "source": [
    "# 제목, 본문, 댓글, 시간 빈 list 생성\n",
    "\n",
    "titles = [] # 제목\n",
    "reviews = [] # 리뷰\n",
    "comments = [] # 댓글\n",
    "date = [] # 시간\n",
    "\n",
    "count_view = 0\n",
    "\n",
    "# 1. 첫번째 게시물 클릭 (선택자 입력: XPath)\n",
    "driver.find_element('xpath','//*[@id=\"main-area\"]/div[4]/table/tbody/tr[1]/td[1]/div[2]/div/a').click()\n",
    "\n",
    "# 2. 크롤링 (for문으로 지정한 게시물 개수까지 돌림)\n",
    "for i in range(1): # 새로 창 열기\n",
    "    for i in range(30): #한 번에 몇 개의 게시물을 크롤링할 것?\n",
    "        driver.implicitly_wait(30)\n",
    "        \n",
    "        # 제목 수집\n",
    "        time.sleep(random.uniform(0.5, 1))  \n",
    "        title = driver.find_element('xpath', '//*[@id=\"app\"]/div/div/div[2]/div[1]/div[1]/div/h3').text\n",
    "        titles.append(title)\n",
    "        \n",
    "        # 본문 수집 (3가지 경우 존재)\n",
    "        try:\n",
    "            content = driver.find_element(By.CSS_SELECTOR, 'div.se-module.se-module-text').text\n",
    "            reviews.append(content)\n",
    "            \n",
    "        except:\n",
    "            try:\n",
    "                content = driver.find_element(By.CSS_SELECTOR, 'div.ContentRenderer').text\n",
    "                reviews.append(content)\n",
    "            except:\n",
    "                content = [] # 본문이 사진으로만 구성 (담을게 없어서 빈 리스트 생성해서 append 시켜줌)\n",
    "                reviews.append(content)\n",
    "        \n",
    "        # 댓글 수집 (댓글이 없는  경우, 있는 경우 2가지 존재)\n",
    "        soup = bs(driver.page_source, 'lxml') # 현재 페이지 HTML 정보 가지고 오기\n",
    "        iscomment = soup.find_all('span', class_='text_comment')\n",
    "        if len(iscomment) == 0: # 댓글 없는 경우\n",
    "            box = []\n",
    "        else: # 댓글 있는 경우\n",
    "            wait(driver,15).until(EC.presence_of_all_elements_located((By.CLASS_NAME, 'text_comment')))\n",
    "            # 웹 드라이버를 통해 브라우저에서 최대 15초 기다려주고, text_comment(댓글 선택)\n",
    "            \n",
    "            soup = bs(driver.page_source, 'lxml')\n",
    "            lscomment = soup.find_all('span', class_='text_comment')\n",
    "            box = []\n",
    "            for i in iscomment:\n",
    "                box.append([i.get_text()])\n",
    "                \n",
    "        comments.append(box)\n",
    "        \n",
    "        \n",
    "        # 날짜(시간) 수집\n",
    "        times = driver.find_element('xpath', '//*[@id=\"app\"]/div/div/div[2]/div[1]/div[2]/div/div[2]/span[1]').text\n",
    "        date.append(times)\n",
    "        \n",
    "        \n",
    "        # count_view 크롤링 진행 상황 (50개마다 출력)\n",
    "        count_view = count_view + 1\n",
    "        if count_view % 50 == 0: # 50으로 나누었을 때 0이 되면 게시물 크롤링 완료라고 뜨도록 설정\n",
    "            print('{}개 게시물 크롤링 완료'.format(count_view))\n",
    "        else:\n",
    "            pass\n",
    "        \n",
    "        # 다음 글 클릭(다음글 버튼 클릭해서 연속적으로 크롤링)\n",
    "        try:\n",
    "            driver.find_element(By.CSS_SELECTOR, \"#app > div > div > div.ArticleTopBtns > div.right_area > a.BaseButton.btn_next.BaseButton--skinGray.size_default > span\").click()\n",
    "            driver.implicitly_wait(25)\n",
    "        except: # 다음글 버튼 사라지는 문제점 발생, 크롬 close 후 다시 open\n",
    "            current_url = driver.current_url # 다음글 버튼이 사라져서 크롤링이 멈춘 url 가지고 오기\n",
    "            driver.close()\n",
    "            \n",
    "            # 크롬창 다시 열기\n",
    "            driver = webdriver.Chrome(executable_path=chrome_path, chrome_options=chrome_options)\n",
    "                    \n",
    "\n",
    "            # 재 로그인\n",
    "            ## 네이버 화면 이동\n",
    "            login_url = 'https://nid.naver.com/nidlogin.login?mode=form&url=https%3A%2F%2Fwww.naver.com'\n",
    "            driver.get(login_url)\n",
    "            driver.implicitly_wait(9)\n",
    "\n",
    "            driver.execute_script(\"document.getElementsByName('id')[0].value = \\'\" + my_id + \"\\'\")\n",
    "            driver.execute_script(\"document.getElementsByName('pw')[0].value = \\'\" + my_pw + \"\\'\")\n",
    "            time.sleep(1)\n",
    "\n",
    "            # 로그인 버튼 클릭\n",
    "            driver.find_element('id', 'log.login').click()\n",
    "            time.sleep(1)\n",
    "\n",
    "            # 멈춘 부분의 링크 가지고 오기\n",
    "            driver.get(current_url)\n",
    "            driver.switch_to.frame('cafe_main')\n",
    "            time.sleep(4)\n",
    "    \n",
    "    # 크롬이 다시 열릴 때 가지고 올 다음 링크 가져오기 #다음글 클릭에 해당되는 href 추출 (url로 이동해야 하기 때문에)\n",
    "    link = driver.find_element('xpath','//*[@id=\"app\"]/div/div/div[1]/div[2]/a[2]').get_attribute(\"href\")\n",
    "\n",
    "    # 현재 크롬창 닫기\n",
    "    driver.close()\n",
    "\n",
    "    # 크롬창 다시 열기\n",
    "    driver = webdriver.Chrome(executable_path=chrome_path, chrome_options=chrome_options)\n",
    "    \n",
    "    # 재 로그인\n",
    "    ## 네이버 화면 이동\n",
    "    login_url = 'https://nid.naver.com/nidlogin.login?mode=form&url=https%3A%2F%2Fwww.naver.com'\n",
    "    driver.get(login_url)\n",
    "    driver.implicitly_wait(9)\n",
    "\n",
    "    driver.execute_script(\"document.getElementsByName('id')[0].value = \\'\" + my_id + \"\\'\")\n",
    "    driver.execute_script(\"document.getElementsByName('pw')[0].value = \\'\" + my_pw + \"\\'\")\n",
    "    time.sleep(1)\n",
    "\n",
    "    # 로그인 버튼 클릭\n",
    "    driver.find_element('id', 'log.login').click()\n",
    "    time.sleep(1)\n",
    "\n",
    "    # 다음 링크로부터 가져오기\n",
    "    driver.get(link)\n",
    "    driver.switch_to.frame('cafe_main')\n",
    "\n",
    "# 크롬 창 닫기\n",
    "driver.quit()\n",
    "\n",
    "        \n",
    "    "
   ]
  },
  {
   "cell_type": "code",
   "execution_count": null,
   "id": "36aa67e2",
   "metadata": {},
   "outputs": [
    {
     "ename": "",
     "evalue": "",
     "output_type": "error",
     "traceback": [
      "\u001b[1;31m'Python 3.8.9 64-bit'(으)로 셀을 실행하려면 ipykernel 패키지가 필요합니다.\n",
      "\u001b[1;31m다음 명령어를 실행하여 Python 환경에 'ipykernel'을(를) 설치합니다. \n",
      "\u001b[1;31m 명령: 'c:/Users/user/AppData/Local/Programs/Python/Python38/python.exe -m pip install ipykernel -U --user --force-reinstall'"
     ]
    }
   ],
   "source": [
    "titles"
   ]
  },
  {
   "cell_type": "code",
   "execution_count": null,
   "id": "b8dd9040",
   "metadata": {},
   "outputs": [
    {
     "ename": "",
     "evalue": "",
     "output_type": "error",
     "traceback": [
      "\u001b[1;31m'Python 3.8.9 64-bit'(으)로 셀을 실행하려면 ipykernel 패키지가 필요합니다.\n",
      "\u001b[1;31m다음 명령어를 실행하여 Python 환경에 'ipykernel'을(를) 설치합니다. \n",
      "\u001b[1;31m 명령: 'c:/Users/user/AppData/Local/Programs/Python/Python38/python.exe -m pip install ipykernel -U --user --force-reinstall'"
     ]
    }
   ],
   "source": [
    "#데이터 합치기(크롤링한 데이터를 하나의 dataframe형태로 바꿔줌)\n",
    "data={'time':date,\n",
    "      'tit':titles,\n",
    "      'review':reviews,\n",
    "      'comment': comments}\n",
    "dataDF=pd.DataFrame(data)"
   ]
  },
  {
   "cell_type": "code",
   "execution_count": null,
   "id": "942a8282",
   "metadata": {},
   "outputs": [],
   "source": [
    "dataDF"
   ]
  },
  {
   "cell_type": "code",
   "execution_count": null,
   "id": "94654c30",
   "metadata": {},
   "outputs": [],
   "source": [
    "#CSV로 저장\n",
    "dataDF.to_csv(\"데이터분석카페.csv\", encodings='utf-8-sis')#저장할 파일명.csv입력후 실행"
   ]
  },
  {
   "cell_type": "code",
   "execution_count": null,
   "id": "8a664868",
   "metadata": {},
   "outputs": [],
   "source": []
  }
 ],
 "metadata": {
  "kernelspec": {
   "display_name": "Python 3.9.12 ('base')",
   "language": "python",
   "name": "python3"
  },
  "language_info": {
   "codemirror_mode": {
    "name": "ipython",
    "version": 3
   },
   "file_extension": ".py",
   "mimetype": "text/x-python",
   "name": "python",
   "nbconvert_exporter": "python",
   "pygments_lexer": "ipython3",
   "version": "3.9.12"
  },
  "toc": {
   "base_numbering": 1,
   "nav_menu": {},
   "number_sections": true,
   "sideBar": true,
   "skip_h1_title": false,
   "title_cell": "Table of Contents",
   "title_sidebar": "Contents",
   "toc_cell": false,
   "toc_position": {},
   "toc_section_display": true,
   "toc_window_display": false
  },
  "vscode": {
   "interpreter": {
    "hash": "a077222d77dfe082b8f1dd562ad70e458ac2ab76993a0b248ab0476e32e9e8dd"
   }
  }
 },
 "nbformat": 4,
 "nbformat_minor": 5
}
