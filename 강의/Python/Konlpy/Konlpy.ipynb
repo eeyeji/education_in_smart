{
 "cells": [
  {
   "cell_type": "markdown",
   "metadata": {},
   "source": [
    "##### Konlpy \n",
    "- 한국어 형태소 분석기 \n",
    "    - from konlpy.tag import Okt\n",
    "    - from konlpy.tag import Hannanum\n",
    "    - from konlpy.tag import Komoran\n",
    "    - from konlpy.tag import Kkma\n",
    "    \n",
    "        - .morphs(): 형태소 분리\n",
    "        - .nouns(): 명사만 추출\n",
    "        - .pos(): 포스태깅\n"
   ]
  },
  {
   "cell_type": "markdown",
   "metadata": {},
   "source": [
    "##### Okt"
   ]
  },
  {
   "cell_type": "code",
   "execution_count": 18,
   "metadata": {},
   "outputs": [
    {
     "name": "stdout",
     "output_type": "stream",
     "text": [
      "형태소 분리:  ['지금', '나', '는', '방', '에서', '리모컨', '을', '들고', '채널', '을', '바꾸고', '있다', '.']\n",
      "명사만 추출:  ['지금', '나', '방', '리모컨', '채널']\n",
      "포스태깅:  [('지금', 'Noun'), ('나', 'Noun'), ('는', 'Josa'), ('방', 'Noun'), ('에서', 'Josa'), ('리모컨', 'Noun'), ('을', 'Josa'), ('들고', 'Verb'), ('채널', 'Noun'), ('을', 'Josa'), ('바꾸고', 'Verb'), ('있다', 'Adjective'), ('.', 'Punctuation')]\n"
     ]
    }
   ],
   "source": [
    "from konlpy.tag import Okt\n",
    "okt = Okt()\n",
    "\n",
    "print('형태소 분리: ', okt.morphs('지금 나는 방에서 리모컨을 들고 채널을 바꾸고 있다.'))\n",
    "print('명사만 추출: ', okt.nouns('지금 나는 방에서 리모컨을 들고 채널을 바꾸고 있다.'))\n",
    "print('포스태깅: ', okt.pos('지금 나는 방에서 리모컨을 들고 채널을 바꾸고 있다.'))"
   ]
  },
  {
   "cell_type": "markdown",
   "metadata": {},
   "source": [
    "##### Hannanum"
   ]
  },
  {
   "cell_type": "code",
   "execution_count": 19,
   "metadata": {},
   "outputs": [
    {
     "name": "stdout",
     "output_type": "stream",
     "text": [
      "형태소 분리:  ['지금', '나', '는', '방', '에서', '리모컨', '을', '들', '고', '채널', '을', '바꾸', '고', '있', '다', '.']\n",
      "명사만 추출:  ['나', '방', '리모컨', '채널']\n",
      "포스태깅:  [('지금', 'M'), ('나', 'N'), ('는', 'J'), ('방', 'N'), ('에서', 'J'), ('리모컨', 'N'), ('을', 'J'), ('들', 'P'), ('고', 'E'), ('채널', 'N'), ('을', 'J'), ('바꾸', 'P'), ('고', 'E'), ('있', 'P'), ('다', 'E'), ('.', 'S')]\n"
     ]
    }
   ],
   "source": [
    "from konlpy.tag import Hannanum\n",
    "hannanum = Hannanum()\n",
    "\n",
    "\n",
    "print('형태소 분리: ', hannanum.morphs('지금 나는 방에서 리모컨을 들고 채널을 바꾸고 있다.'))\n",
    "print('명사만 추출: ', hannanum.nouns('지금 나는 방에서 리모컨을 들고 채널을 바꾸고 있다.'))\n",
    "print('포스태깅: ', hannanum.pos('지금 나는 방에서 리모컨을 들고 채널을 바꾸고 있다.'))"
   ]
  },
  {
   "cell_type": "code",
   "execution_count": 20,
   "metadata": {},
   "outputs": [
    {
     "name": "stdout",
     "output_type": "stream",
     "text": [
      "형태소 분리:  ['지금', '나', '는', '방', '에서', '리모컨', '을', '들', '고', '채널', '을', '바꾸', '고', '있', '다', '.']\n",
      "명사만 추출:  ['방', '리모컨', '채널']\n",
      "포스태깅:  [('지금', 'MAG'), ('나', 'NP'), ('는', 'JX'), ('방', 'NNG'), ('에서', 'JKB'), ('리모컨', 'NNP'), ('을', 'JKO'), ('들', 'VV'), ('고', 'EC'), ('채널', 'NNG'), ('을', 'JKO'), ('바꾸', 'VV'), ('고', 'EC'), ('있', 'VX'), ('다', 'EF'), ('.', 'SF')]\n"
     ]
    }
   ],
   "source": [
    "from konlpy.tag import Komoran\n",
    "komoran = Komoran()\n",
    "\n",
    "\n",
    "print('형태소 분리: ', komoran.morphs('지금 나는 방에서 리모컨을 들고 채널을 바꾸고 있다.'))\n",
    "print('명사만 추출: ', komoran.nouns('지금 나는 방에서 리모컨을 들고 채널을 바꾸고 있다.'))\n",
    "print('포스태깅: ', komoran.pos('지금 나는 방에서 리모컨을 들고 채널을 바꾸고 있다.'))"
   ]
  },
  {
   "cell_type": "code",
   "execution_count": 21,
   "metadata": {},
   "outputs": [
    {
     "name": "stdout",
     "output_type": "stream",
     "text": [
      "형태소 분리:  ['지금', '날', '는', '방', '에서', '리모컨', '을', '들', '고', '채널', '을', '바꾸', '고', '있', '다', '.']\n",
      "명사만 추출:  ['방', '리모컨', '채널']\n",
      "포스태깅:  [('지금', 'MAG'), ('날', 'VV'), ('는', 'ETD'), ('방', 'NNG'), ('에서', 'JKM'), ('리모컨', 'NNG'), ('을', 'JKO'), ('들', 'VV'), ('고', 'ECE'), ('채널', 'NNG'), ('을', 'JKO'), ('바꾸', 'VV'), ('고', 'ECE'), ('있', 'VXV'), ('다', 'EFN'), ('.', 'SF')]\n"
     ]
    }
   ],
   "source": [
    "from konlpy.tag import Kkma\n",
    "kkma = Kkma()\n",
    "\n",
    "print('형태소 분리: ', kkma.morphs('지금 나는 방에서 리모컨을 들고 채널을 바꾸고 있다.'))\n",
    "print('명사만 추출: ', kkma.nouns('지금 나는 방에서 리모컨을 들고 채널을 바꾸고 있다.'))\n",
    "print('포스태깅: ', kkma.pos('지금 나는 방에서 리모컨을 들고 채널을 바꾸고 있다.'))"
   ]
  },
  {
   "cell_type": "markdown",
   "metadata": {},
   "source": [
    "##### Text 변수에 str 할당해주기"
   ]
  },
  {
   "cell_type": "code",
   "execution_count": 22,
   "metadata": {},
   "outputs": [],
   "source": [
    "text = '내일도 나는 맛있는 점심을 먹을꺼얔ㅋㅋㅋㅋ'"
   ]
  },
  {
   "cell_type": "markdown",
   "metadata": {},
   "source": [
    "##### stem\n",
    "- 어간 추출: stem=True\n",
    "    - okt.morphs(text, stem=True)\n",
    "    - 동사의 원형으로 만들어줌"
   ]
  },
  {
   "cell_type": "code",
   "execution_count": 23,
   "metadata": {},
   "outputs": [
    {
     "data": {
      "text/plain": [
       "['내일', '도', '나', '는', '맛있다', '점심', '을', '먹다', '얔', 'ㅋㅋㅋㅋ']"
      ]
     },
     "execution_count": 23,
     "metadata": {},
     "output_type": "execute_result"
    }
   ],
   "source": [
    "okt.morphs(text, stem=True)"
   ]
  },
  {
   "cell_type": "markdown",
   "metadata": {},
   "source": [
    "##### norm\n",
    "- 문장 정규화: norm = True\n",
    "    - okt.morphs(text, norm=True)"
   ]
  },
  {
   "cell_type": "code",
   "execution_count": 24,
   "metadata": {},
   "outputs": [
    {
     "data": {
      "text/plain": [
       "['내일', '도', '나', '는', '맛있는', '점심', '을', '먹을꺼야', 'ㅋㅋㅋ']"
      ]
     },
     "execution_count": 24,
     "metadata": {},
     "output_type": "execute_result"
    }
   ],
   "source": [
    "okt.morphs(text, norm=True)"
   ]
  },
  {
   "cell_type": "markdown",
   "metadata": {},
   "source": [
    "##### stem + norm"
   ]
  },
  {
   "cell_type": "code",
   "execution_count": 25,
   "metadata": {},
   "outputs": [
    {
     "data": {
      "text/plain": [
       "['내일', '도', '나', '는', '맛있다', '점심', '을', '먹다', 'ㅋㅋㅋ']"
      ]
     },
     "execution_count": 25,
     "metadata": {},
     "output_type": "execute_result"
    }
   ],
   "source": [
    "okt.morphs(text, stem=True, norm=True)"
   ]
  },
  {
   "cell_type": "code",
   "execution_count": null,
   "metadata": {},
   "outputs": [],
   "source": []
  }
 ],
 "metadata": {
  "kernelspec": {
   "display_name": "Python 3.9.12 ('base')",
   "language": "python",
   "name": "python3"
  },
  "language_info": {
   "codemirror_mode": {
    "name": "ipython",
    "version": 3
   },
   "file_extension": ".py",
   "mimetype": "text/x-python",
   "name": "python",
   "nbconvert_exporter": "python",
   "pygments_lexer": "ipython3",
   "version": "3.9.12"
  },
  "orig_nbformat": 4,
  "vscode": {
   "interpreter": {
    "hash": "a077222d77dfe082b8f1dd562ad70e458ac2ab76993a0b248ab0476e32e9e8dd"
   }
  }
 },
 "nbformat": 4,
 "nbformat_minor": 2
}
