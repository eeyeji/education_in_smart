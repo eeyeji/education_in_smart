{
 "cells": [
  {
   "cell_type": "code",
   "execution_count": 18,
   "metadata": {},
   "outputs": [],
   "source": [
    "from konlpy.tag import Okt\n",
    "okt = Okt()"
   ]
  },
  {
   "cell_type": "markdown",
   "metadata": {},
   "source": [
    "##### Define(def)\n",
    "- 함수 정의\n",
    "    - def 함수명지정(사용할 데이터 타입):\n",
    "    \n",
    "            변수 = 가지고 오고 싶은 함수(사용할 데이터 타입)\n",
    "\n",
    "            return 변수명"
   ]
  },
  {
   "cell_type": "code",
   "execution_count": 19,
   "metadata": {},
   "outputs": [],
   "source": [
    "text = '내일도 나는 맛있는 점심을 먹을꺼얔ㅋㅋㅋㅋ'"
   ]
  },
  {
   "cell_type": "code",
   "execution_count": 20,
   "metadata": {},
   "outputs": [
    {
     "data": {
      "text/plain": [
       "['내일', '나', '점심', '얔']"
      ]
     },
     "execution_count": 20,
     "metadata": {},
     "output_type": "execute_result"
    }
   ],
   "source": [
    "def ex1(string):\n",
    "    nouns = okt.nouns(string)\n",
    "    return nouns\n",
    "\n",
    "#새롭게 정의한 함수 선언\n",
    "ex1(text)"
   ]
  },
  {
   "cell_type": "code",
   "execution_count": 21,
   "metadata": {},
   "outputs": [
    {
     "name": "stdout",
     "output_type": "stream",
     "text": [
      "========================\n",
      "[('내일', 'Noun'), ('도', 'Josa'), ('나', 'Noun'), ('는', 'Josa'), ('맛있는', 'Adjective'), ('점심', 'Noun'), ('을', 'Josa'), ('먹을꺼', 'Verb'), ('얔', 'Noun'), ('ㅋㅋㅋㅋ', 'KoreanParticle')]\n",
      "========================\n",
      "('내일', 'Noun')\n",
      "========================\n",
      "Noun\n",
      "========================\n",
      "맛있는\n",
      "========================\n"
     ]
    }
   ],
   "source": [
    "#새로운 함수 정의\n",
    "def ex2(string):\n",
    "    pos = okt.pos(string)\n",
    "    return pos\n",
    "print('========================')\n",
    "\n",
    "#새로운 변수에 새로운 함수를 이용한 결과값 할당\n",
    "result = ex2(text)\n",
    "print(result)\n",
    "print('========================')\n",
    "\n",
    "#인덱싱\n",
    "print(result[0])\n",
    "print('========================')\n",
    "print(result[0][1])\n",
    "print('========================')\n",
    "print(result[4][0])\n",
    "print('========================')"
   ]
  },
  {
   "cell_type": "markdown",
   "metadata": {},
   "source": [
    "##### 불용어 제거하기: stopwords\n",
    "- 자주 사용되지만 특별한 의미 부여가 어려운 단어들을 제거\n",
    "- 일반적으로 불용어 사전은 리스트 형태를 만들어 사용"
   ]
  },
  {
   "cell_type": "markdown",
   "metadata": {},
   "source": [
    "- 새로운 함수 정의"
   ]
  },
  {
   "cell_type": "code",
   "execution_count": 22,
   "metadata": {},
   "outputs": [
    {
     "data": {
      "text/plain": [
       "['내일', '나', '맛있다', '점심', '먹다']"
      ]
     },
     "execution_count": 22,
     "metadata": {},
     "output_type": "execute_result"
    }
   ],
   "source": [
    "def ex3(string):\n",
    "    result_words = []\n",
    "    result = okt.pos(string, stem=True, norm=True)\n",
    "    for word, tag in result:\n",
    "        if tag in ['Verb', 'Noun', 'Adjective']:\n",
    "            result_words.append(word)\n",
    "    return result_words\n",
    "\n",
    "\n",
    "ex3(text)"
   ]
  },
  {
   "cell_type": "markdown",
   "metadata": {},
   "source": [
    "- 불용어 사전 만들기: stopwords"
   ]
  },
  {
   "cell_type": "code",
   "execution_count": 23,
   "metadata": {},
   "outputs": [],
   "source": [
    "stopwords = ['있다', '하다', '먹다']"
   ]
  },
  {
   "cell_type": "markdown",
   "metadata": {},
   "source": [
    "- 불용어가 제거되고, 형용사와 동사만 추출할 수 있는 def 함수 정의"
   ]
  },
  {
   "cell_type": "code",
   "execution_count": 24,
   "metadata": {},
   "outputs": [
    {
     "data": {
      "text/plain": [
       "['내일', '나', '맛있다', '점심']"
      ]
     },
     "execution_count": 24,
     "metadata": {},
     "output_type": "execute_result"
    }
   ],
   "source": [
    "def extract_tag3(string):\n",
    "    result_words = []\n",
    "\n",
    "    result = okt.pos(string, stem=True, norm=True)\n",
    "    for word, tag in result:       \n",
    "        if tag in ['Verb', 'Noun', 'Adjective']:\n",
    "            if word not in stopwords:\n",
    "                result_words.append(word)\n",
    "    return result_words\n",
    "\n",
    "\n",
    "extract_tag3(text)"
   ]
  }
 ],
 "metadata": {
  "kernelspec": {
   "display_name": "Python 3.9.12 ('base')",
   "language": "python",
   "name": "python3"
  },
  "language_info": {
   "codemirror_mode": {
    "name": "ipython",
    "version": 3
   },
   "file_extension": ".py",
   "mimetype": "text/x-python",
   "name": "python",
   "nbconvert_exporter": "python",
   "pygments_lexer": "ipython3",
   "version": "3.9.12"
  },
  "orig_nbformat": 4,
  "vscode": {
   "interpreter": {
    "hash": "a077222d77dfe082b8f1dd562ad70e458ac2ab76993a0b248ab0476e32e9e8dd"
   }
  }
 },
 "nbformat": 4,
 "nbformat_minor": 2
}
