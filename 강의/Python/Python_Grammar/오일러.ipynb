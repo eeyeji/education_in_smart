{
 "cells": [
  {
   "cell_type": "markdown",
   "id": "c15c89cf",
   "metadata": {},
   "source": [
    "- 1부터 100까지 자연수에 대해 \"합의 제곱\"과 \"제곱의 합\"의 차이는 얼마입니까?"
   ]
  },
  {
   "cell_type": "code",
   "execution_count": 31,
   "id": "fc8957cf",
   "metadata": {},
   "outputs": [
    {
     "name": "stdout",
     "output_type": "stream",
     "text": [
      "25164150\n"
     ]
    }
   ],
   "source": [
    "n=0\n",
    "m=0\n",
    "for i in range(1,101):\n",
    "    n = n+i**2\n",
    "hob=n\n",
    "\n",
    "for j in range(1,101):\n",
    "    m=m+j\n",
    "jegob=m**2\n",
    "print(jegob-hob)"
   ]
  },
  {
   "cell_type": "code",
   "execution_count": 37,
   "id": "764bcdfe",
   "metadata": {},
   "outputs": [
    {
     "name": "stdout",
     "output_type": "stream",
     "text": [
      "25164150\n"
     ]
    }
   ],
   "source": [
    "hob=0\n",
    "m=0\n",
    "for i in range(1,101):\n",
    "    hob = hob+i**2\n",
    "    m=m+i\n",
    "jegob = m**2\n",
    "print(jegob-hob)"
   ]
  },
  {
   "cell_type": "code",
   "execution_count": 41,
   "id": "f8a33fa4",
   "metadata": {},
   "outputs": [
    {
     "name": "stdout",
     "output_type": "stream",
     "text": [
      "3025\n"
     ]
    }
   ],
   "source": [
    "#1부터 10까지의 합의 제곱\n",
    "m=0\n",
    "for j in range(1,11):\n",
    "    m=m+j\n",
    "jegob=m**2\n",
    "print(jegob)"
   ]
  },
  {
   "cell_type": "code",
   "execution_count": 40,
   "id": "bbbee89d",
   "metadata": {},
   "outputs": [
    {
     "name": "stdout",
     "output_type": "stream",
     "text": [
      "385\n"
     ]
    }
   ],
   "source": [
    "#1부터 10까지의 제곱의 합\n",
    "hob=0\n",
    "for i in range(1,11):\n",
    "    hob = hob+i**2\n",
    "print(hob)"
   ]
  },
  {
   "cell_type": "code",
   "execution_count": 43,
   "id": "108ea003",
   "metadata": {},
   "outputs": [
    {
     "name": "stdout",
     "output_type": "stream",
     "text": [
      "25164150\n"
     ]
    }
   ],
   "source": [
    "a = 0\n",
    "b = 0\n",
    "for i in range(1, 101):\n",
    "    a = a + i\n",
    "    b = b + i**2\n",
    "print(a**2-b)"
   ]
  },
  {
   "cell_type": "code",
   "execution_count": null,
   "id": "020b74ce",
   "metadata": {},
   "outputs": [],
   "source": []
  }
 ],
 "metadata": {
  "kernelspec": {
   "display_name": "Python 3.9.12 64-bit",
   "language": "python",
   "name": "python3"
  },
  "language_info": {
   "codemirror_mode": {
    "name": "ipython",
    "version": 3
   },
   "file_extension": ".py",
   "mimetype": "text/x-python",
   "name": "python",
   "nbconvert_exporter": "python",
   "pygments_lexer": "ipython3",
   "version": "3.9.12"
  },
  "vscode": {
   "interpreter": {
    "hash": "82ed002fa2d4956f5c6aec99bcefe0f73a9f79882f3c9e2319b14958a5896ac5"
   }
  }
 },
 "nbformat": 4,
 "nbformat_minor": 5
}
