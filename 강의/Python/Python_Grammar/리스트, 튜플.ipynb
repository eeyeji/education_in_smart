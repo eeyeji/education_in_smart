{
 "cells": [
  {
   "cell_type": "code",
   "execution_count": 5,
   "id": "a0fbbd43",
   "metadata": {},
   "outputs": [
    {
     "name": "stdout",
     "output_type": "stream",
     "text": [
      "[1, 2, 3, 4]\n"
     ]
    },
    {
     "data": {
      "text/plain": [
       "list"
      ]
     },
     "execution_count": 5,
     "metadata": {},
     "output_type": "execute_result"
    }
   ],
   "source": [
    "#리스트: [] 원소를 넣거나 뻬거나 바꾸기 가능\n",
    "a = [1,2,3,4]\n",
    "print(a)\n",
    "type(a)"
   ]
  },
  {
   "cell_type": "code",
   "execution_count": 3,
   "id": "b07cdfdc",
   "metadata": {},
   "outputs": [
    {
     "data": {
      "text/plain": [
       "['My', 'name', 'is', 'ChangHyun']"
      ]
     },
     "execution_count": 3,
     "metadata": {},
     "output_type": "execute_result"
    }
   ],
   "source": [
    "b = [\"My\", \"name\", \"is\", \"ChangHyun\"]\n",
    "b"
   ]
  },
  {
   "cell_type": "code",
   "execution_count": 9,
   "id": "0ebff6a4",
   "metadata": {},
   "outputs": [
    {
     "data": {
      "text/plain": [
       "[1, 2, 'My', 'ChangHyun']"
      ]
     },
     "execution_count": 9,
     "metadata": {},
     "output_type": "execute_result"
    }
   ],
   "source": [
    "c = [1, 2, \"My\", \"ChangHyun\"]\n",
    "c"
   ]
  },
  {
   "cell_type": "code",
   "execution_count": 14,
   "id": "4dfdf82e",
   "metadata": {},
   "outputs": [
    {
     "data": {
      "text/plain": [
       "'b'"
      ]
     },
     "execution_count": 14,
     "metadata": {},
     "output_type": "execute_result"
    }
   ],
   "source": [
    "d = [1, 2, [\"a\", \"b\"]]\n",
    "d[2][1]"
   ]
  },
  {
   "cell_type": "code",
   "execution_count": 7,
   "id": "118c3b52",
   "metadata": {},
   "outputs": [
    {
     "data": {
      "text/plain": [
       "[]"
      ]
     },
     "execution_count": 7,
     "metadata": {},
     "output_type": "execute_result"
    }
   ],
   "source": [
    "e = []\n",
    "e"
   ]
  },
  {
   "cell_type": "code",
   "execution_count": 10,
   "id": "a9727001",
   "metadata": {
    "scrolled": true
   },
   "outputs": [
    {
     "data": {
      "text/plain": [
       "7"
      ]
     },
     "execution_count": 10,
     "metadata": {},
     "output_type": "execute_result"
    }
   ],
   "source": [
    "l = [7, 8, 9, 10]\n",
    "l[0]"
   ]
  },
  {
   "cell_type": "code",
   "execution_count": 12,
   "id": "dad51a63",
   "metadata": {
    "scrolled": true
   },
   "outputs": [
    {
     "data": {
      "text/plain": [
       "10"
      ]
     },
     "execution_count": 12,
     "metadata": {},
     "output_type": "execute_result"
    }
   ],
   "source": [
    "l = [7, 8, 9, 10]\n",
    "l[-1]"
   ]
  },
  {
   "cell_type": "code",
   "execution_count": 15,
   "id": "c79a9f5d",
   "metadata": {},
   "outputs": [
    {
     "data": {
      "text/plain": [
       "[7, 8, 9]"
      ]
     },
     "execution_count": 15,
     "metadata": {},
     "output_type": "execute_result"
    }
   ],
   "source": [
    "#리스트 슬라이싱\n",
    "l = [7, 8, 9, 10]\n",
    "l[0:3]"
   ]
  },
  {
   "cell_type": "code",
   "execution_count": 11,
   "id": "440f37ff",
   "metadata": {},
   "outputs": [
    {
     "data": {
      "text/plain": [
       "7"
      ]
     },
     "execution_count": 11,
     "metadata": {},
     "output_type": "execute_result"
    }
   ],
   "source": [
    "#[리스트][인덱싱]\n",
    "[7, 8, 9, 10][0]"
   ]
  },
  {
   "cell_type": "code",
   "execution_count": 5,
   "id": "90f5a107",
   "metadata": {},
   "outputs": [
    {
     "data": {
      "text/plain": [
       "[1, 2, 3, 4, 5, 6, 7, 8]"
      ]
     },
     "execution_count": 5,
     "metadata": {},
     "output_type": "execute_result"
    }
   ],
   "source": [
    "a = [1, 2, 3, 4]\n",
    "b = [5, 6, 7, 8]\n",
    "a + b"
   ]
  },
  {
   "cell_type": "code",
   "execution_count": 6,
   "id": "6187c053",
   "metadata": {},
   "outputs": [
    {
     "data": {
      "text/plain": [
       "[1, 2, 3, 4, 5]"
      ]
     },
     "execution_count": 6,
     "metadata": {},
     "output_type": "execute_result"
    }
   ],
   "source": [
    "#append: 무엇을 넣을지만 씀\n",
    "#a리스트 마지막에 5추가\n",
    "a.append(5)\n",
    "a"
   ]
  },
  {
   "cell_type": "code",
   "execution_count": 7,
   "id": "9db7afd0",
   "metadata": {},
   "outputs": [
    {
     "data": {
      "text/plain": [
       "[8, 1, 2, 3, 4, 5]"
      ]
     },
     "execution_count": 7,
     "metadata": {},
     "output_type": "execute_result"
    }
   ],
   "source": [
    "#insert(인덱스, 넣고 싶은 수)\n",
    "a.insert(0,8)\n",
    "a"
   ]
  },
  {
   "cell_type": "code",
   "execution_count": 9,
   "id": "00636d94",
   "metadata": {},
   "outputs": [
    {
     "data": {
      "text/plain": [
       "[8, 1, 2, 3, 4, 12, 5]"
      ]
     },
     "execution_count": 9,
     "metadata": {},
     "output_type": "execute_result"
    }
   ],
   "source": [
    "#insert(인덱스, 넣고 싶은 수), 왜 인덱싱 -1자리에 안가는지 의문, 강사님이 알아보신다고 함\n",
    "a.insert(-1,12)\n",
    "a"
   ]
  },
  {
   "cell_type": "code",
   "execution_count": 10,
   "id": "cfea0a16",
   "metadata": {},
   "outputs": [
    {
     "data": {
      "text/plain": [
       "[1, 2, 3, 4, 12, 5]"
      ]
     },
     "execution_count": 10,
     "metadata": {},
     "output_type": "execute_result"
    }
   ],
   "source": [
    "#인덱싱 지우는 법: del\n",
    "del a[0]\n",
    "a"
   ]
  },
  {
   "cell_type": "code",
   "execution_count": 11,
   "id": "04454ec9",
   "metadata": {},
   "outputs": [
    {
     "data": {
      "text/plain": [
       "[1, 2, 3, 4, 5]"
      ]
     },
     "execution_count": 11,
     "metadata": {},
     "output_type": "execute_result"
    }
   ],
   "source": [
    "#숫자 지정해서 지우기: remove\n",
    "a.remove(12)\n",
    "a"
   ]
  },
  {
   "cell_type": "code",
   "execution_count": 12,
   "id": "8e283b45",
   "metadata": {
    "scrolled": true
   },
   "outputs": [
    {
     "data": {
      "text/plain": [
       "[1, 2, 12, 3, 12, 4, 12]"
      ]
     },
     "execution_count": 12,
     "metadata": {},
     "output_type": "execute_result"
    }
   ],
   "source": [
    "a=[1,2,12,3,12,4,12]\n",
    "a"
   ]
  },
  {
   "cell_type": "code",
   "execution_count": 57,
   "id": "b4b97d3e",
   "metadata": {},
   "outputs": [
    {
     "data": {
      "text/plain": [
       "[12, 4, 12, 3, 12, 2, 1]"
      ]
     },
     "execution_count": 57,
     "metadata": {},
     "output_type": "execute_result"
    }
   ],
   "source": [
    "#거꾸로 출력\n",
    "a.reverse()\n",
    "a"
   ]
  },
  {
   "cell_type": "code",
   "execution_count": 15,
   "id": "8fcd9711",
   "metadata": {},
   "outputs": [
    {
     "data": {
      "text/plain": [
       "[1, 2, 3, 12, 4, 12]"
      ]
     },
     "execution_count": 15,
     "metadata": {},
     "output_type": "execute_result"
    }
   ],
   "source": [
    "a.remove(12)\n",
    "a"
   ]
  },
  {
   "cell_type": "code",
   "execution_count": 17,
   "id": "652ec389",
   "metadata": {},
   "outputs": [
    {
     "data": {
      "text/plain": [
       "[1, 2, 12, 3, 12, 4, 12]"
      ]
     },
     "execution_count": 17,
     "metadata": {},
     "output_type": "execute_result"
    }
   ],
   "source": [
    "a=[1,2,12,3,12,4,12]\n",
    "a"
   ]
  },
  {
   "cell_type": "code",
   "execution_count": 18,
   "id": "61ac24df",
   "metadata": {},
   "outputs": [
    {
     "data": {
      "text/plain": [
       "[1, 2, 5, 3, 12, 4, 12]"
      ]
     },
     "execution_count": 18,
     "metadata": {},
     "output_type": "execute_result"
    }
   ],
   "source": [
    "a[2]=5\n",
    "a"
   ]
  },
  {
   "cell_type": "code",
   "execution_count": 53,
   "id": "3a072195",
   "metadata": {},
   "outputs": [
    {
     "data": {
      "text/plain": [
       "[12, 12, 5, 4, 2, 1]"
      ]
     },
     "execution_count": 53,
     "metadata": {},
     "output_type": "execute_result"
    }
   ],
   "source": [
    "#내림차순\n",
    "a.sort(reverse=True)\n",
    "a\n",
    "#도움말: shift + tab"
   ]
  },
  {
   "cell_type": "code",
   "execution_count": 59,
   "id": "f830862a",
   "metadata": {},
   "outputs": [
    {
     "data": {
      "text/plain": [
       "[1, 2, 12, 3, 12, 4, 12]"
      ]
     },
     "execution_count": 59,
     "metadata": {},
     "output_type": "execute_result"
    }
   ],
   "source": [
    "a=[1,2,12,3,12,4,12]\n",
    "a"
   ]
  },
  {
   "cell_type": "code",
   "execution_count": 62,
   "id": "dae3cb29",
   "metadata": {},
   "outputs": [
    {
     "data": {
      "text/plain": [
       "[1, 2, 3, 4, 12, 12, 12]"
      ]
     },
     "execution_count": 62,
     "metadata": {},
     "output_type": "execute_result"
    }
   ],
   "source": [
    "a.sort()\n",
    "a"
   ]
  },
  {
   "cell_type": "code",
   "execution_count": 61,
   "id": "fe90fc97",
   "metadata": {},
   "outputs": [
    {
     "data": {
      "text/plain": [
       "7"
      ]
     },
     "execution_count": 61,
     "metadata": {},
     "output_type": "execute_result"
    }
   ],
   "source": [
    "len(a)"
   ]
  },
  {
   "cell_type": "code",
   "execution_count": 16,
   "id": "24eee404",
   "metadata": {},
   "outputs": [],
   "source": [
    "#튜플: ()  원소를 넣거나 뻬거나 바꾸기 불가능\n",
    "a = ()\n",
    "b = (1, 2, 3, 4)\n",
    "c = (\"a\", \"b\", \"c\")\n",
    "d = (1, 2, \"a\", \"b\")\n",
    "e=(1, 2, [\"a\", \"b\"])\n",
    "f = (1, 2, (\"a\", \"b\"))"
   ]
  },
  {
   "cell_type": "code",
   "execution_count": 17,
   "id": "e4a3fc47",
   "metadata": {},
   "outputs": [
    {
     "data": {
      "text/plain": [
       "('a', 'b', 'c')"
      ]
     },
     "execution_count": 17,
     "metadata": {},
     "output_type": "execute_result"
    }
   ],
   "source": [
    "c[0:3]"
   ]
  },
  {
   "cell_type": "code",
   "execution_count": 64,
   "id": "8383f2b2",
   "metadata": {},
   "outputs": [],
   "source": [
    "#함수와 메소드(.메소드() )"
   ]
  },
  {
   "cell_type": "code",
   "execution_count": 63,
   "id": "088b2571",
   "metadata": {},
   "outputs": [
    {
     "data": {
      "text/plain": [
       "['TELL', 'ME']"
      ]
     },
     "execution_count": 63,
     "metadata": {},
     "output_type": "execute_result"
    }
   ],
   "source": [
    "sentence = \"tell me\"\n",
    "sentence.upper().split()"
   ]
  },
  {
   "cell_type": "code",
   "execution_count": 65,
   "id": "2906d3da",
   "metadata": {},
   "outputs": [
    {
     "data": {
      "text/plain": [
       "True"
      ]
     },
     "execution_count": 65,
     "metadata": {},
     "output_type": "execute_result"
    }
   ],
   "source": [
    "cs = [\"사이다\", \"콜라\", \"주스\"]\n",
    "\"콜라\" in cs"
   ]
  },
  {
   "cell_type": "code",
   "execution_count": 66,
   "id": "f5b04d4d",
   "metadata": {},
   "outputs": [
    {
     "data": {
      "text/plain": [
       "False"
      ]
     },
     "execution_count": 66,
     "metadata": {},
     "output_type": "execute_result"
    }
   ],
   "source": [
    "cs = [\"사이다\", \"콜라\", \"주스\"]\n",
    "\"카프리썬\" in cs"
   ]
  },
  {
   "cell_type": "code",
   "execution_count": 67,
   "id": "4f173ecb",
   "metadata": {},
   "outputs": [
    {
     "data": {
      "text/plain": [
       "True"
      ]
     },
     "execution_count": 67,
     "metadata": {},
     "output_type": "execute_result"
    }
   ],
   "source": [
    "cs = [\"사이다\", \"콜라\", \"주스\"]\n",
    "\"카프리썬\" not in cs"
   ]
  },
  {
   "cell_type": "code",
   "execution_count": 68,
   "id": "2b850ac1",
   "metadata": {},
   "outputs": [
    {
     "data": {
      "text/plain": [
       "True"
      ]
     },
     "execution_count": 68,
     "metadata": {},
     "output_type": "execute_result"
    }
   ],
   "source": [
    "like = \"나는 콜라가 좋아\"\n",
    "\"콜라\" in like"
   ]
  },
  {
   "cell_type": "code",
   "execution_count": 1,
   "id": "aa4a35ac",
   "metadata": {},
   "outputs": [],
   "source": [
    "import random"
   ]
  },
  {
   "cell_type": "code",
   "execution_count": 2,
   "id": "37a6b830",
   "metadata": {},
   "outputs": [
    {
     "data": {
      "text/plain": [
       "0.9581485747637617"
      ]
     },
     "execution_count": 2,
     "metadata": {},
     "output_type": "execute_result"
    }
   ],
   "source": [
    "random.random()\n",
    "#0~9까지 무작위 출력"
   ]
  },
  {
   "cell_type": "code",
   "execution_count": 4,
   "id": "6b5fae40",
   "metadata": {},
   "outputs": [
    {
     "data": {
      "text/plain": [
       "3"
      ]
     },
     "execution_count": 4,
     "metadata": {},
     "output_type": "execute_result"
    }
   ],
   "source": [
    "l = [1, 2, 3, 4, 5]\n",
    "random.choice(l)"
   ]
  },
  {
   "cell_type": "markdown",
   "id": "51de5947",
   "metadata": {},
   "source": [
    "### 가위바위보 게임 만들기\n",
    "\n",
    "- 플레이어에게 가위, 바위, 보 중 하나를 입력하게 합니다.\n",
    "- 플레이어가 말을 안듣고, 가위, 바위, 보 중 어느 것도 내지 않았을 때에는 \" 잘못된 입력입니다\"를 출력하세요.\n",
    "- 컴퓨터는 동일한 확률로 가위, 바위, 보 중 하나를 냅니다.\n",
    "- 플레이어의 입력과, 컴퓨터의 입력을 비교하여 승부를 결정합니다.\n",
    "- 출력문은 \"당신은 00을 냈고, 컴퓨터는 00를 냈습니다. 당신이 이겼습니다.\"와 같은 형식으로 합니다."
   ]
  },
  {
   "cell_type": "code",
   "execution_count": 90,
   "id": "29ca9546",
   "metadata": {},
   "outputs": [
    {
     "name": "stdout",
     "output_type": "stream",
     "text": [
      "가위, 바위, 보 중 하나를 선택해주세요. 바위\n",
      "당신은 바위를 냈고, 컴퓨터는 가위를 냈습니다. 당신이 이겼습니다.\n"
     ]
    }
   ],
   "source": [
    "possible_choice=[\"가위\",\"바위\",\"보\"]\n",
    "player_choice=input(\"가위, 바위, 보 중 하나를 선택해주세요. \")\n",
    "if player_choice not in possible_choice:\n",
    "    print(\"잘못된 입력입니다.\")\n",
    "else:\n",
    "    computer_choice = random.choice(possible_choice)\n",
    "    if (player_choice == \"가위\" and computer_choice ==\"보\") or (player_choice == \"바위\" and computer_choice ==\"가위\") or (player_choice == \"보\" and computer_choice ==\"바위\"):\n",
    "        print(f\"당신은 {player_choice}를 냈고, 컴퓨터는 {computer_choice}를 냈습니다. 당신이 이겼습니다.\")\n",
    "    elif player_choice == computer_choice:\n",
    "        print(f\"당신은 {player_choice}를 냈고, 컴퓨터는 {computer_choice}를 냈습니다. 당신은 비겼습니다.\")\n",
    "    else:\n",
    "        print(f\"당신은 {player_choice}를 냈고, 컴퓨터는 {computer_choice}를 냈습니다. 당신은 졌습니다.\")\n",
    "    \n",
    "          \n",
    "\n",
    "\n",
    "          \n",
    "\n"
   ]
  },
  {
   "cell_type": "code",
   "execution_count": null,
   "id": "ed65638f",
   "metadata": {},
   "outputs": [],
   "source": []
  }
 ],
 "metadata": {
  "kernelspec": {
   "display_name": "Python 3 (ipykernel)",
   "language": "python",
   "name": "python3"
  },
  "language_info": {
   "codemirror_mode": {
    "name": "ipython",
    "version": 3
   },
   "file_extension": ".py",
   "mimetype": "text/x-python",
   "name": "python",
   "nbconvert_exporter": "python",
   "pygments_lexer": "ipython3",
   "version": "3.9.12"
  }
 },
 "nbformat": 4,
 "nbformat_minor": 5
}
