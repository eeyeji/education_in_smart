{
 "cells": [
  {
   "cell_type": "markdown",
   "id": "836a9cab",
   "metadata": {},
   "source": [
    "### 9.7\n",
    "- 파이썬 복습"
   ]
  },
  {
   "cell_type": "code",
   "execution_count": 1,
   "id": "f4ab3e3e",
   "metadata": {},
   "outputs": [
    {
     "name": "stdout",
     "output_type": "stream",
     "text": [
      "10\n"
     ]
    }
   ],
   "source": [
    "num = 10\n",
    "print(num)"
   ]
  },
  {
   "cell_type": "code",
   "execution_count": 2,
   "id": "dbefa76d",
   "metadata": {
    "scrolled": true
   },
   "outputs": [
    {
     "name": "stdout",
     "output_type": "stream",
     "text": [
      "20\n"
     ]
    }
   ],
   "source": [
    "num = 20\n",
    "print(num)"
   ]
  },
  {
   "cell_type": "code",
   "execution_count": 5,
   "id": "4a3b0672",
   "metadata": {},
   "outputs": [
    {
     "data": {
      "text/plain": [
       "int"
      ]
     },
     "execution_count": 5,
     "metadata": {},
     "output_type": "execute_result"
    }
   ],
   "source": [
    "type(num)"
   ]
  },
  {
   "cell_type": "code",
   "execution_count": 8,
   "id": "d5a59e5b",
   "metadata": {},
   "outputs": [
    {
     "name": "stdout",
     "output_type": "stream",
     "text": [
      "20\n",
      "25\n"
     ]
    }
   ],
   "source": [
    "num =10+10\n",
    "print(num)\n",
    "num+=5\n",
    "print(num)"
   ]
  },
  {
   "cell_type": "code",
   "execution_count": 13,
   "id": "f56cc902",
   "metadata": {},
   "outputs": [],
   "source": [
    "n = n+1\n",
    "if n%100==0:\n",
    "    print(\"지금 n번째 돌아가는 중\")"
   ]
  },
  {
   "cell_type": "code",
   "execution_count": 5,
   "id": "f04bb48e",
   "metadata": {
    "scrolled": true
   },
   "outputs": [
    {
     "data": {
      "text/plain": [
       "'점심'"
      ]
     },
     "execution_count": 5,
     "metadata": {},
     "output_type": "execute_result"
    }
   ],
   "source": [
    "#인덱싱\n",
    "\"오늘 점심 뭐먹지?\"[3:5]"
   ]
  },
  {
   "cell_type": "code",
   "execution_count": 4,
   "id": "c2eb46f8",
   "metadata": {},
   "outputs": [
    {
     "data": {
      "text/plain": [
       "'점심'"
      ]
     },
     "execution_count": 4,
     "metadata": {},
     "output_type": "execute_result"
    }
   ],
   "source": [
    "\"오늘 점심 뭐먹지?\"[-7:-5]"
   ]
  },
  {
   "cell_type": "code",
   "execution_count": 16,
   "id": "c047fb34",
   "metadata": {},
   "outputs": [
    {
     "data": {
      "text/plain": [
       "'늘 점심 뭐먹지?'"
      ]
     },
     "execution_count": 16,
     "metadata": {},
     "output_type": "execute_result"
    }
   ],
   "source": [
    "\"오늘 점심 뭐먹지?\"[0:-1]\n",
    "#오늘 점심 뭐먹지\n",
    "\"오늘 점심 뭐먹지?\"[-5:-1]\n",
    "#뭐먹지\n",
    "\"오늘 점심 뭐먹지?\"[:1]\n",
    "#오\n",
    "\"오늘 점심 뭐먹지?\"[:]\n",
    "#오늘 점심 뭐먹지?\n",
    "\"오늘 점심 뭐먹지?\"[1:]"
   ]
  },
  {
   "cell_type": "code",
   "execution_count": 24,
   "id": "6fc3189f",
   "metadata": {},
   "outputs": [
    {
     "name": "stdout",
     "output_type": "stream",
     "text": [
      "오늘의 메뉴는 곱창볶음입니다.\n",
      "오늘의 숫자는 2입니다.\n",
      "즉 오늘의 메뉴는 꽈배기와 짬뽕입니다.\n",
      "오늘의 메뉴는 곱창볶음입니다.\n",
      "오늘의 메뉴는 곱창볶음와 짬뽕입니다.\n",
      "오늘의 메뉴는 곱창볶음와 짬뽕입니다.\n",
      "오늘의 메뉴는 짬뽕와 곱창볶음입니다.\n",
      "오늘의 메뉴는곱창볶음와 꽈배기입니다.\n"
     ]
    }
   ],
   "source": [
    "#포멧팅 1. %사용(문자열 할당시 s 사용, 숫자 할당시 d 사용) 2.\n",
    "lunch_menu1=\"곱창볶음\" \n",
    "lunch_menu2=\"꽈배기\" \n",
    "lunch_menu3=\"짬뽕\"\n",
    "num=2\n",
    "\n",
    "print(\"오늘의 메뉴는 %s입니다.\"%lunch_menu1)\n",
    "print(\"오늘의 숫자는 %d입니다.\"%num)\n",
    "print(\"즉 오늘의 메뉴는 %s와 %s입니다.\" %(lunch_menu2, lunch_menu3))\n",
    "\n",
    "print(\"오늘의 메뉴는 {}입니다.\".format(lunch_menu1))\n",
    "print(\"오늘의 메뉴는 {}와 {}입니다.\".format(lunch_menu1, lunch_menu3))\n",
    "#위치 바꾸고 싶을 때 해당 인덱스 번호 사용해서 바꿔주기\n",
    "print(\"오늘의 메뉴는 {0}와 {1}입니다.\".format(lunch_menu1, lunch_menu3))\n",
    "print(\"오늘의 메뉴는 {1}와 {0}입니다.\".format(lunch_menu1, lunch_menu3))\n",
    "\n",
    "print(f\"오늘의 메뉴는{lunch_menu1}와 {lunch_menu2}입니다.\")"
   ]
  },
  {
   "cell_type": "code",
   "execution_count": 25,
   "id": "3b38bb6f",
   "metadata": {},
   "outputs": [
    {
     "data": {
      "text/plain": [
       "4"
      ]
     },
     "execution_count": 25,
     "metadata": {},
     "output_type": "execute_result"
    }
   ],
   "source": [
    "lyrics= \"sorry sorry sorry sorry 내가 내가 내가 먼저 네게 네게 네게 빠져\"\n",
    "lyrics.count(\"sorry\")"
   ]
  },
  {
   "cell_type": "code",
   "execution_count": 29,
   "id": "da0643a4",
   "metadata": {},
   "outputs": [
    {
     "data": {
      "text/plain": [
       "'SORRY SORRY SORRY SORRY 내가 내가 내가 먼저 네게 네게 네게 빠져'"
      ]
     },
     "execution_count": 29,
     "metadata": {},
     "output_type": "execute_result"
    }
   ],
   "source": [
    "lyrics.upper()"
   ]
  },
  {
   "cell_type": "code",
   "execution_count": 28,
   "id": "b517bdd2",
   "metadata": {},
   "outputs": [
    {
     "data": {
      "text/plain": [
       "'sorry sorry sorry sorry 내가 내가 내가 먼저 네게 네게 네게 빠져'"
      ]
     },
     "execution_count": 28,
     "metadata": {},
     "output_type": "execute_result"
    }
   ],
   "source": [
    "lyrics.lower()"
   ]
  },
  {
   "cell_type": "code",
   "execution_count": 26,
   "id": "28394f55",
   "metadata": {},
   "outputs": [
    {
     "data": {
      "text/plain": [
       "-1"
      ]
     },
     "execution_count": 26,
     "metadata": {},
     "output_type": "execute_result"
    }
   ],
   "source": [
    "lyrics.find(\"not sorry\")\n",
    "#-1: 없다는 의미"
   ]
  },
  {
   "cell_type": "code",
   "execution_count": 30,
   "id": "3c67d1c8",
   "metadata": {},
   "outputs": [
    {
     "data": {
      "text/plain": [
       "'sorry sorry sorry sorry 너가 너가 너가 먼저 내게 내게 내게 빠져'"
      ]
     },
     "execution_count": 30,
     "metadata": {},
     "output_type": "execute_result"
    }
   ],
   "source": [
    "lyrics=lyrics.replace(\"내가\", \"너가\")\n",
    "lyrics=lyrics.replace(\"네게\", \"내게\")\n",
    "lyrics"
   ]
  },
  {
   "cell_type": "code",
   "execution_count": 31,
   "id": "e818288c",
   "metadata": {},
   "outputs": [
    {
     "data": {
      "text/plain": [
       "['sorry',\n",
       " 'sorry',\n",
       " 'sorry',\n",
       " 'sorry',\n",
       " '너가',\n",
       " '너가',\n",
       " '너가',\n",
       " '먼저',\n",
       " '내게',\n",
       " '내게',\n",
       " '내게',\n",
       " '빠져']"
      ]
     },
     "execution_count": 31,
     "metadata": {},
     "output_type": "execute_result"
    }
   ],
   "source": [
    "lyrics.split()"
   ]
  },
  {
   "cell_type": "code",
   "execution_count": 34,
   "id": "02137848",
   "metadata": {},
   "outputs": [
    {
     "data": {
      "text/plain": [
       "['sorry sorry sorry sorry 너', ' 너', ' 너', ' 먼저 내게 내게 내게 빠져']"
      ]
     },
     "execution_count": 34,
     "metadata": {},
     "output_type": "execute_result"
    }
   ],
   "source": [
    "lyrics.split(\"가\")"
   ]
  },
  {
   "cell_type": "code",
   "execution_count": 45,
   "id": "af3be6b6",
   "metadata": {},
   "outputs": [
    {
     "data": {
      "text/plain": [
       "False"
      ]
     },
     "execution_count": 45,
     "metadata": {},
     "output_type": "execute_result"
    }
   ],
   "source": [
    "#type(1+1==2) ->bool\n",
    "1 + 3  <= 2"
   ]
  },
  {
   "cell_type": "code",
   "execution_count": 46,
   "id": "ca1cbc26",
   "metadata": {},
   "outputs": [
    {
     "data": {
      "text/plain": [
       "bool"
      ]
     },
     "execution_count": 46,
     "metadata": {},
     "output_type": "execute_result"
    }
   ],
   "source": [
    "a = 1+1 ==2\n",
    "type(a)"
   ]
  },
  {
   "cell_type": "code",
   "execution_count": 47,
   "id": "f0cc8e2f",
   "metadata": {},
   "outputs": [
    {
     "data": {
      "text/plain": [
       "1"
      ]
     },
     "execution_count": 47,
     "metadata": {},
     "output_type": "execute_result"
    }
   ],
   "source": [
    "# a라는 명제가 참이기 때문에 값이 1이 된다.\n",
    "int(a) "
   ]
  },
  {
   "cell_type": "code",
   "execution_count": 48,
   "id": "41f9a0b4",
   "metadata": {},
   "outputs": [
    {
     "data": {
      "text/plain": [
       "2"
      ]
     },
     "execution_count": 48,
     "metadata": {},
     "output_type": "execute_result"
    }
   ],
   "source": [
    "#명제끼리의 계산이 된다\n",
    "a+a"
   ]
  },
  {
   "cell_type": "code",
   "execution_count": 51,
   "id": "a684ec06",
   "metadata": {},
   "outputs": [
    {
     "data": {
      "text/plain": [
       "0"
      ]
     },
     "execution_count": 51,
     "metadata": {},
     "output_type": "execute_result"
    }
   ],
   "source": [
    "b = 1+1>3\n",
    "int(b)"
   ]
  },
  {
   "cell_type": "code",
   "execution_count": 56,
   "id": "7d1d8d4b",
   "metadata": {},
   "outputs": [
    {
     "name": "stdout",
     "output_type": "stream",
     "text": [
      "1\n",
      "-1\n",
      "0\n",
      "0.0\n"
     ]
    }
   ],
   "source": [
    "print(a+b)\n",
    "print(b-a)\n",
    "print(a*b)\n",
    "print(b/a)"
   ]
  },
  {
   "cell_type": "code",
   "execution_count": 57,
   "id": "120ed194",
   "metadata": {
    "scrolled": true
   },
   "outputs": [
    {
     "data": {
      "text/plain": [
       "False"
      ]
     },
     "execution_count": 57,
     "metadata": {},
     "output_type": "execute_result"
    }
   ],
   "source": [
    "1 + 1 == 2 and 1 + 2 == 2\n",
    "#둘 중하나가 거짓이기 때문에"
   ]
  },
  {
   "cell_type": "code",
   "execution_count": 58,
   "id": "8de391d7",
   "metadata": {},
   "outputs": [
    {
     "data": {
      "text/plain": [
       "True"
      ]
     },
     "execution_count": 58,
     "metadata": {},
     "output_type": "execute_result"
    }
   ],
   "source": [
    "#둘 중 하나가 참이기 때문에 \n",
    "1 + 1 == 2 or 1 + 2 == 2"
   ]
  },
  {
   "cell_type": "markdown",
   "id": "cb0080de",
   "metadata": {},
   "source": [
    "### 조건문\n",
    "- if 명제:\n",
    "        명제가 참일 경우에 실행되는 코드\n",
    "  else 명제:\n",
    "        명제가 거짓일 경우에 실행되는 코드\n",
    "        \n",
    "- 들여쓰기 -> 종속절이라는 뜻"
   ]
  },
  {
   "cell_type": "code",
   "execution_count": 59,
   "id": "33f64415",
   "metadata": {},
   "outputs": [
    {
     "data": {
      "text/plain": [
       "['짜', '장']"
      ]
     },
     "execution_count": 59,
     "metadata": {},
     "output_type": "execute_result"
    }
   ],
   "source": [
    "a=['짜','장']\n",
    "a"
   ]
  },
  {
   "cell_type": "code",
   "execution_count": 60,
   "id": "d2fd5e8e",
   "metadata": {},
   "outputs": [
    {
     "data": {
      "text/plain": [
       "['짜', '왕']"
      ]
     },
     "execution_count": 60,
     "metadata": {},
     "output_type": "execute_result"
    }
   ],
   "source": [
    "a[1]='왕'\n",
    "a"
   ]
  },
  {
   "cell_type": "code",
   "execution_count": 71,
   "id": "7473bccc",
   "metadata": {},
   "outputs": [
    {
     "data": {
      "text/plain": [
       "'짜왕'"
      ]
     },
     "execution_count": 71,
     "metadata": {},
     "output_type": "execute_result"
    }
   ],
   "source": [
    "#replace는 리스트에서 사용 못함\n",
    "m=\"짜장\"\n",
    "m = m.replace(\"장\", \"왕\")\n",
    "m"
   ]
  },
  {
   "cell_type": "code",
   "execution_count": 72,
   "id": "e1a73978",
   "metadata": {},
   "outputs": [
    {
     "data": {
      "text/plain": [
       "['짜', '왕']"
      ]
     },
     "execution_count": 72,
     "metadata": {},
     "output_type": "execute_result"
    }
   ],
   "source": [
    "n=[\"짜\",\"왕\"]\n",
    "n.sort(reverse=True)\n",
    "n"
   ]
  },
  {
   "cell_type": "code",
   "execution_count": 74,
   "id": "2e7266a4",
   "metadata": {},
   "outputs": [
    {
     "data": {
      "text/plain": [
       "['짜', '왕']"
      ]
     },
     "execution_count": 74,
     "metadata": {},
     "output_type": "execute_result"
    }
   ],
   "source": [
    "v=[\"왕\", \"짜\"]\n",
    "v.sort(reverse=True)\n",
    "v"
   ]
  },
  {
   "cell_type": "markdown",
   "id": "16976674",
   "metadata": {},
   "source": [
    "### 반복문 예제\n",
    "- for / while\n",
    " - 10,000보다 큰 57과 83의 공배수 중 가장 작은 수를 출력해주세요\n",
    " - 공배수: 57과 83을 모두 약수로 가지는 수"
   ]
  },
  {
   "cell_type": "code",
   "execution_count": 126,
   "id": "8d6a661f",
   "metadata": {},
   "outputs": [
    {
     "name": "stdout",
     "output_type": "stream",
     "text": [
      "14193\n"
     ]
    }
   ],
   "source": [
    "n=10000\n",
    "while True:\n",
    "    if(n % 57 == 0 and n % 83 == 0):\n",
    "        print(n)\n",
    "        break\n",
    "    n=n+1"
   ]
  },
  {
   "cell_type": "code",
   "execution_count": 125,
   "id": "848c1cd1",
   "metadata": {},
   "outputs": [
    {
     "name": "stdout",
     "output_type": "stream",
     "text": [
      "14193\n"
     ]
    }
   ],
   "source": [
    "m=10000\n",
    "while m % 57 != 0 or m % 83 != 0:\n",
    "    m=m+1\n",
    "print(m)"
   ]
  },
  {
   "cell_type": "markdown",
   "id": "5c113a3b",
   "metadata": {},
   "source": [
    "### 딕셔너리 예제\n",
    "- cbs = {이름 : [\"홍길동\" , \"임꺽정\", \"장길산], \"나이\" : [20, 35, 52], \"키\" : [160, 200, 180], \"발사이즈\" : [60, 290, 270]}\n",
    " - for문을 활용해서 홍길동, 임꺽정, 장길산의 나이 평균, 키평균, 발사이즈 평균을 구해주세요"
   ]
  },
  {
   "cell_type": "code",
   "execution_count": 201,
   "id": "787765e9",
   "metadata": {},
   "outputs": [
    {
     "data": {
      "text/plain": [
       "{'이름': ['홍길동', '임꺽정', '장길산'],\n",
       " '나이': [20, 35, 52],\n",
       " '키': [160, 200, 180],\n",
       " '발사이즈': [60, 290, 270]}"
      ]
     },
     "execution_count": 201,
     "metadata": {},
     "output_type": "execute_result"
    }
   ],
   "source": [
    "csb = {\"이름\" : [\"홍길동\" , \"임꺽정\", \"장길산\"], \"나이\" : [20, 35, 52], \"키\" : [160, 200, 180], \"발사이즈\" : [60, 290, 270] }\n",
    "csb"
   ]
  },
  {
   "cell_type": "code",
   "execution_count": 187,
   "id": "2908927f",
   "metadata": {},
   "outputs": [
    {
     "name": "stdout",
     "output_type": "stream",
     "text": [
      "['홍길동', '임꺽정', '장길산']\n"
     ]
    }
   ],
   "source": [
    "print(csb[\"이름\"])"
   ]
  },
  {
   "cell_type": "code",
   "execution_count": 188,
   "id": "2e50db66",
   "metadata": {},
   "outputs": [
    {
     "name": "stdout",
     "output_type": "stream",
     "text": [
      "20\n",
      "35\n",
      "52\n"
     ]
    }
   ],
   "source": [
    "for i in csb[\"나이\"]:\n",
    "    print(i)\n",
    "   "
   ]
  },
  {
   "cell_type": "code",
   "execution_count": 191,
   "id": "f4f84bd6",
   "metadata": {},
   "outputs": [
    {
     "data": {
      "text/plain": [
       "['이름', '나이', '키', '발사이즈', '평균들']"
      ]
     },
     "execution_count": 191,
     "metadata": {},
     "output_type": "execute_result"
    }
   ],
   "source": [
    "list(csb.keys())"
   ]
  },
  {
   "cell_type": "code",
   "execution_count": 189,
   "id": "97dd6b6a",
   "metadata": {
    "scrolled": true
   },
   "outputs": [
    {
     "name": "stdout",
     "output_type": "stream",
     "text": [
      "['홍길동', '임꺽정', '장길산']\n",
      "[20, 35, 52]\n",
      "[160, 200, 180]\n",
      "[60, 290, 270]\n"
     ]
    }
   ],
   "source": [
    "for i in csb:\n",
    "    print(csb[i])"
   ]
  },
  {
   "cell_type": "code",
   "execution_count": 202,
   "id": "b4a2a0e7",
   "metadata": {},
   "outputs": [
    {
     "data": {
      "text/plain": [
       "{'이름': ['홍길동', '임꺽정', '장길산'],\n",
       " '나이': [20, 35, 52],\n",
       " '키': [160, 200, 180],\n",
       " '발사이즈': [60, 290, 270],\n",
       " '평균들': [35.666666666666664, 180.0, 206.66666666666666]}"
      ]
     },
     "execution_count": 202,
     "metadata": {},
     "output_type": "execute_result"
    }
   ],
   "source": [
    "averages = []\n",
    "for i in csb:\n",
    "    try:\n",
    "        n=0\n",
    "        for w in cbs[i]:\n",
    "            n=n+w\n",
    "        averages.append(n/len(csb[i]))\n",
    "    except:\n",
    "        pass\n",
    "csb[\"평균들\"]=averages\n",
    "csb"
   ]
  },
  {
   "cell_type": "code",
   "execution_count": 200,
   "id": "f0bebd1e",
   "metadata": {},
   "outputs": [
    {
     "data": {
      "text/plain": [
       "{'이름': ['홍길동', '임꺽정', '장길산'],\n",
       " '나이': [20, 35, 52],\n",
       " '키': [160, 200, 180],\n",
       " '발사이즈': [60, 290, 270],\n",
       " '평균들': [35.666666666666664, 180.0, 206.66666666666666]}"
      ]
     },
     "execution_count": 200,
     "metadata": {},
     "output_type": "execute_result"
    }
   ],
   "source": [
    "#다른 방식으로 평균 구하기\n",
    "averages =[]\n",
    "for i in list(csb.keys())[1:]: # ['이름', '나이', '키', '발사이즈', '평균들']\n",
    "    n=0\n",
    "    for k in csb[i]:\n",
    "        n = n + k\n",
    "    averages.append(n/len(csb[i]))\n",
    "csb[\"평균들\"]=averages\n",
    "csb    "
   ]
  },
  {
   "cell_type": "code",
   "execution_count": 194,
   "id": "fbaa808e",
   "metadata": {},
   "outputs": [
    {
     "name": "stdout",
     "output_type": "stream",
     "text": [
      "35.666666666666664\n"
     ]
    }
   ],
   "source": [
    "n=0\n",
    "for i in [20, 35, 52]:\n",
    "    n = n + i\n",
    "print(n/len([20,35,52]))"
   ]
  },
  {
   "cell_type": "code",
   "execution_count": null,
   "id": "1a6cb1dd",
   "metadata": {},
   "outputs": [],
   "source": []
  },
  {
   "cell_type": "code",
   "execution_count": null,
   "id": "8b2caa62",
   "metadata": {},
   "outputs": [],
   "source": []
  },
  {
   "cell_type": "code",
   "execution_count": null,
   "id": "16976942",
   "metadata": {},
   "outputs": [],
   "source": []
  }
 ],
 "metadata": {
  "kernelspec": {
   "display_name": "Python 3.9.12 ('base')",
   "language": "python",
   "name": "python3"
  },
  "language_info": {
   "codemirror_mode": {
    "name": "ipython",
    "version": 3
   },
   "file_extension": ".py",
   "mimetype": "text/x-python",
   "name": "python",
   "nbconvert_exporter": "python",
   "pygments_lexer": "ipython3",
   "version": "3.9.12"
  },
  "vscode": {
   "interpreter": {
    "hash": "a077222d77dfe082b8f1dd562ad70e458ac2ab76993a0b248ab0476e32e9e8dd"
   }
  }
 },
 "nbformat": 4,
 "nbformat_minor": 5
}
