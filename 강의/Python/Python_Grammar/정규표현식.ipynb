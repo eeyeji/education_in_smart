{
 "cells": [
  {
   "cell_type": "code",
   "execution_count": 1,
   "metadata": {},
   "outputs": [],
   "source": [
    "#모든 특수문자를 지우고 싶다. re: 정규표현식(Regular Expression)\n",
    "import re"
   ]
  },
  {
   "cell_type": "code",
   "execution_count": 2,
   "metadata": {},
   "outputs": [
    {
     "data": {
      "text/plain": [
       "re.compile(r'배고파', re.UNICODE)"
      ]
     },
     "execution_count": 2,
     "metadata": {},
     "output_type": "execute_result"
    }
   ],
   "source": [
    "a = re.compile(\"배고파\")\n",
    "a"
   ]
  },
  {
   "cell_type": "code",
   "execution_count": 3,
   "metadata": {},
   "outputs": [
    {
     "data": {
      "text/plain": [
       "<re.Match object; span=(0, 3), match='배고파'>"
      ]
     },
     "execution_count": 3,
     "metadata": {},
     "output_type": "execute_result"
    }
   ],
   "source": [
    "a.match(\"배고파\")"
   ]
  },
  {
   "cell_type": "code",
   "execution_count": 4,
   "metadata": {},
   "outputs": [
    {
     "data": {
      "text/plain": [
       "['배고파', '배고파', '배고파']"
      ]
     },
     "execution_count": 4,
     "metadata": {},
     "output_type": "execute_result"
    }
   ],
   "source": [
    "a.findall(\"배고파서 아 배고파 배고파 노래를 불렀다\")"
   ]
  },
  {
   "cell_type": "code",
   "execution_count": 5,
   "metadata": {},
   "outputs": [],
   "source": [
    "a.match(\"고파\")\n",
    "#매치 안됨"
   ]
  },
  {
   "cell_type": "code",
   "execution_count": 17,
   "metadata": {},
   "outputs": [
    {
     "name": "stdout",
     "output_type": "stream",
     "text": [
      "<re.Match object; span=(0, 3), match='배고파'>\n",
      "<re.Match object; span=(0, 3), match='배아파'>\n"
     ]
    }
   ],
   "source": [
    "a=re.compile(\"배.파\")\n",
    "print(a.match(\"배고파\"))\n",
    "print(a.match(\"배아파\"))"
   ]
  },
  {
   "cell_type": "markdown",
   "metadata": {},
   "source": [
    "### 정규표현식 기본문법1\n",
    " 1. .:모든것\n",
    " 2. *: 0이상 반복\n",
    " 3. +: 1번이상 반복\n",
    " 4. {m}: m번 이상 반복\n",
    " 5. {m,n}: m번 이상, n번 이하 반복\n",
    " 6. ?: 있어도 되고 없어도 됨\n",
    " "
   ]
  },
  {
   "cell_type": "code",
   "execution_count": 7,
   "metadata": {},
   "outputs": [
    {
     "name": "stdout",
     "output_type": "stream",
     "text": [
      "<re.Match object; span=(0, 3), match='배고파'>\n",
      "<re.Match object; span=(0, 3), match='배아파'>\n",
      "<re.Match object; span=(0, 3), match='배흙파'>\n"
     ]
    }
   ],
   "source": [
    "b=re.compile(\"배.파\")\n",
    "print(b.match(\"배고파\"))\n",
    "print(b.match(\"배아파\"))\n",
    "print(b.match(\"배흙파\"))"
   ]
  },
  {
   "cell_type": "code",
   "execution_count": 8,
   "metadata": {},
   "outputs": [
    {
     "name": "stdout",
     "output_type": "stream",
     "text": [
      "None\n"
     ]
    }
   ],
   "source": [
    "b=re.compile(\"배..파\")\n",
    "print(b.match(\"배고파\"))"
   ]
  },
  {
   "cell_type": "code",
   "execution_count": 9,
   "metadata": {},
   "outputs": [
    {
     "name": "stdout",
     "output_type": "stream",
     "text": [
      "<re.Match object; span=(0, 2), match='배파'>\n",
      "<re.Match object; span=(0, 3), match='배고파'>\n",
      "<re.Match object; span=(0, 4), match='배고고파'>\n",
      "<re.Match object; span=(0, 5), match='배고고고파'>\n"
     ]
    }
   ],
   "source": [
    "b=re.compile(\"배고*파\")\n",
    "print(b.match(\"배파\"))\n",
    "print(b.match(\"배고파\"))\n",
    "print(b.match(\"배고고파\"))\n",
    "print(b.match(\"배고고고파\"))\n"
   ]
  },
  {
   "cell_type": "code",
   "execution_count": 10,
   "metadata": {},
   "outputs": [
    {
     "name": "stdout",
     "output_type": "stream",
     "text": [
      "None\n"
     ]
    }
   ],
   "source": [
    "print(b.match(\"배고배고파\"))"
   ]
  },
  {
   "cell_type": "code",
   "execution_count": 11,
   "metadata": {},
   "outputs": [
    {
     "name": "stdout",
     "output_type": "stream",
     "text": [
      "None\n",
      "<re.Match object; span=(0, 3), match='배고파'>\n",
      "<re.Match object; span=(0, 4), match='배고고파'>\n",
      "<re.Match object; span=(0, 5), match='배고고고파'>\n"
     ]
    }
   ],
   "source": [
    "b=re.compile(\"배고+파\")\n",
    "print(b.match(\"배파\"))\n",
    "print(b.match(\"배고파\"))\n",
    "print(b.match(\"배고고파\"))\n",
    "print(b.match(\"배고고고파\"))"
   ]
  },
  {
   "cell_type": "code",
   "execution_count": 12,
   "metadata": {},
   "outputs": [
    {
     "name": "stdout",
     "output_type": "stream",
     "text": [
      "None\n",
      "None\n",
      "<re.Match object; span=(0, 4), match='배고고파'>\n",
      "None\n"
     ]
    }
   ],
   "source": [
    "b=re.compile(\"배고{2}파\")\n",
    "print(b.match(\"배파\"))\n",
    "print(b.match(\"배고파\"))\n",
    "print(b.match(\"배고고파\"))\n",
    "print(b.match(\"배고고고파\"))"
   ]
  },
  {
   "cell_type": "code",
   "execution_count": 13,
   "metadata": {},
   "outputs": [
    {
     "name": "stdout",
     "output_type": "stream",
     "text": [
      "None\n",
      "<re.Match object; span=(0, 3), match='배고파'>\n",
      "<re.Match object; span=(0, 4), match='배고고파'>\n",
      "None\n"
     ]
    }
   ],
   "source": [
    "b=re.compile(\"배고{1,2}파\")\n",
    "print(b.match(\"배파\"))\n",
    "print(b.match(\"배고파\"))\n",
    "print(b.match(\"배고고파\"))\n",
    "print(b.match(\"배고고고파\"))"
   ]
  },
  {
   "cell_type": "code",
   "execution_count": 14,
   "metadata": {},
   "outputs": [
    {
     "name": "stdout",
     "output_type": "stream",
     "text": [
      "<re.Match object; span=(0, 2), match='배파'>\n",
      "<re.Match object; span=(0, 3), match='배고파'>\n",
      "None\n",
      "None\n"
     ]
    }
   ],
   "source": [
    "b=re.compile(\"배고?파\")\n",
    "print(b.match(\"배파\"))\n",
    "print(b.match(\"배고파\"))\n",
    "print(b.match(\"배고고파\"))\n",
    "print(b.match(\"배고고고파\"))"
   ]
  },
  {
   "cell_type": "code",
   "execution_count": 15,
   "metadata": {},
   "outputs": [
    {
     "name": "stdout",
     "output_type": "stream",
     "text": [
      "<re.Match object; span=(0, 10), match='나는 밥을 먹었다.'>\n",
      "<re.Match object; span=(0, 10), match='나는 밥을 먹었다ㅋ'>\n"
     ]
    }
   ],
   "source": [
    "b = re.compile(\"나는 밥을 먹었다.\") #모든 것을 의미하는 .으로 해석\n",
    "print(b.match(\"나는 밥을 먹었다.\"))\n",
    "print(b.match(\"나는 밥을 먹었다ㅋ\"))"
   ]
  },
  {
   "cell_type": "code",
   "execution_count": 16,
   "metadata": {},
   "outputs": [
    {
     "name": "stdout",
     "output_type": "stream",
     "text": [
      "<re.Match object; span=(0, 10), match='나는 밥을 먹었다.'>\n",
      "None\n"
     ]
    }
   ],
   "source": [
    "b = re.compile(\"나는 밥을 먹었다\\.\") #오직 .으로서 받아오려면 역슬래시 필요\n",
    "print(b.match(\"나는 밥을 먹었다.\"))\n",
    "print(b.match(\"나는 밥을 먹었다ㅋ\"))"
   ]
  },
  {
   "cell_type": "markdown",
   "metadata": {},
   "source": []
  },
  {
   "cell_type": "markdown",
   "metadata": {},
   "source": [
    "### 괄호의 활용"
   ]
  },
  {
   "cell_type": "code",
   "execution_count": 20,
   "metadata": {},
   "outputs": [
    {
     "name": "stdout",
     "output_type": "stream",
     "text": [
      "None\n",
      "<re.Match object; span=(0, 3), match='배고파'>\n",
      "<re.Match object; span=(0, 5), match='배고파고파'>\n",
      "None\n",
      "None\n"
     ]
    }
   ],
   "source": [
    "c=re.compile(\"배(고파)+\")\n",
    "print(c.match(\"배\"))\n",
    "print(c.match(\"배고파\"))\n",
    "print(c.match(\"배고파고파\"))\n",
    "print(c.match(\"배\"))\n",
    "print(c.match(\"배고고파\"))"
   ]
  },
  {
   "cell_type": "code",
   "execution_count": 23,
   "metadata": {},
   "outputs": [
    {
     "name": "stdout",
     "output_type": "stream",
     "text": [
      "None\n",
      "<re.Match object; span=(0, 2), match='배고'>\n",
      "<re.Match object; span=(0, 2), match='배고'>\n",
      "None\n",
      "<re.Match object; span=(0, 2), match='배고'>\n"
     ]
    }
   ],
   "source": [
    "c=re.compile(\"배[고파]\")\n",
    "print(c.match(\"배\"))\n",
    "print(c.match(\"배고파\"))\n",
    "print(c.match(\"배고파고파\"))\n",
    "print(c.match(\"배\"))\n",
    "print(c.match(\"배고고파\"))"
   ]
  },
  {
   "cell_type": "code",
   "execution_count": 22,
   "metadata": {},
   "outputs": [
    {
     "name": "stdout",
     "output_type": "stream",
     "text": [
      "None\n",
      "<re.Match object; span=(0, 3), match='배고파'>\n",
      "<re.Match object; span=(0, 5), match='배고파고파'>\n",
      "None\n",
      "<re.Match object; span=(0, 4), match='배고고파'>\n"
     ]
    }
   ],
   "source": [
    "c=re.compile(\"배[고파]+\")\n",
    "print(c.match(\"배\"))\n",
    "print(c.match(\"배고파\"))\n",
    "print(c.match(\"배고파고파\"))\n",
    "print(c.match(\"배\"))\n",
    "print(c.match(\"배고고파\"))"
   ]
  },
  {
   "cell_type": "code",
   "execution_count": 25,
   "metadata": {},
   "outputs": [
    {
     "name": "stdout",
     "output_type": "stream",
     "text": [
      "<re.Match object; span=(0, 3), match='배고파'>\n",
      "<re.Match object; span=(0, 5), match='배고파고파'>\n",
      "<re.Match object; span=(0, 5), match='배파고파고'>\n",
      "None\n",
      "None\n"
     ]
    }
   ],
   "source": [
    "c=re.compile(\"배[고파]+\")\n",
    "print(c.match(\"배고파\"))\n",
    "print(c.match(\"배고파고파\"))\n",
    "print(c.match(\"배파고파고\"))\n",
    "print(c.match(\"베바고파고\"))\n",
    "print(c.match(\"배바고파바\"))"
   ]
  },
  {
   "cell_type": "code",
   "execution_count": 26,
   "metadata": {},
   "outputs": [
    {
     "name": "stdout",
     "output_type": "stream",
     "text": [
      "None\n",
      "<re.Match object; span=(0, 2), match='공고'>\n"
     ]
    }
   ],
   "source": [
    "c=re.compile(\"[여남공외]고\")\n",
    "print(c.match(\"남공고\"))\n",
    "print(c.match(\"공고\"))"
   ]
  },
  {
   "cell_type": "code",
   "execution_count": 81,
   "metadata": {},
   "outputs": [
    {
     "name": "stdout",
     "output_type": "stream",
     "text": [
      "<re.Match object; span=(0, 3), match='여공고'>\n",
      "<re.Match object; span=(0, 3), match='남공고'>\n",
      "None\n"
     ]
    }
   ],
   "source": [
    "c=re.compile(\"[여남공외]{2}고\")\n",
    "print(c.match(\"여공고\"))\n",
    "print(c.match(\"남공고\"))\n",
    "print(c.match(\"공고\"))"
   ]
  },
  {
   "cell_type": "code",
   "execution_count": 32,
   "metadata": {},
   "outputs": [
    {
     "name": "stdout",
     "output_type": "stream",
     "text": [
      "<re.Match object; span=(0, 6), match='여자고등학교'>\n",
      "None\n",
      "None\n"
     ]
    }
   ],
   "source": [
    "c=re.compile(\"(여자|외국어|남자|공업)고등학교\")\n",
    "print(c.match(\"여자고등학교\"))\n",
    "print(c.match(\"여자외국어고등학교\"))\n",
    "print(c.match(\"여자여자고등학교\"))"
   ]
  },
  {
   "cell_type": "code",
   "execution_count": 31,
   "metadata": {},
   "outputs": [
    {
     "name": "stdout",
     "output_type": "stream",
     "text": [
      "<re.Match object; span=(0, 8), match='여자공업고등학교'>\n",
      "<re.Match object; span=(0, 9), match='여자외국어고등학교'>\n",
      "<re.Match object; span=(0, 8), match='여자여자고등학교'>\n"
     ]
    }
   ],
   "source": [
    "c=re.compile(\"(여자|외국어|남자|공업)+고등학교\")\n",
    "print(c.match(\"여자공업고등학교\"))\n",
    "print(c.match(\"여자외국어고등학교\"))\n",
    "print(c.match(\"여자여자고등학교\"))"
   ]
  },
  {
   "cell_type": "code",
   "execution_count": 37,
   "metadata": {},
   "outputs": [
    {
     "name": "stdout",
     "output_type": "stream",
     "text": [
      "None\n"
     ]
    }
   ],
   "source": [
    "c=re.compile(\"[0~9]\") \n",
    "# c=re.compile(\"[0123456789]\")\n",
    "print(c.match(\"10\"))"
   ]
  },
  {
   "cell_type": "code",
   "execution_count": 35,
   "metadata": {},
   "outputs": [
    {
     "name": "stdout",
     "output_type": "stream",
     "text": [
      "<re.Match object; span=(0, 2), match='10'>\n"
     ]
    }
   ],
   "source": [
    "c=re.compile(\"[0-9]+\") \n",
    "# c=re.compile(\"[0123456789]\")\n",
    "print(c.match(\"10\"))"
   ]
  },
  {
   "cell_type": "code",
   "execution_count": 38,
   "metadata": {},
   "outputs": [
    {
     "name": "stdout",
     "output_type": "stream",
     "text": [
      "<re.Match object; span=(0, 1), match='랄'>\n"
     ]
    }
   ],
   "source": [
    "#구간표현\n",
    "c=re.compile(\"[가-힣]\")\n",
    "print(c.match(\"랄\"))"
   ]
  },
  {
   "cell_type": "code",
   "execution_count": 40,
   "metadata": {},
   "outputs": [
    {
     "name": "stdout",
     "output_type": "stream",
     "text": [
      "<re.Match object; span=(0, 1), match='3'>\n"
     ]
    }
   ],
   "source": [
    "#OR로 연결되어있어서 가능\n",
    "c=re.compile(\"[a-zA-Z0-9]\")\n",
    "print(c.match(\"3\"))"
   ]
  },
  {
   "cell_type": "code",
   "execution_count": 42,
   "metadata": {},
   "outputs": [
    {
     "name": "stdout",
     "output_type": "stream",
     "text": [
      "None\n",
      "<re.Match object; span=(0, 1), match='가'>\n",
      "<re.Match object; span=(0, 1), match='A'>\n"
     ]
    }
   ],
   "source": [
    "#여집합\n",
    "c=re.compile(\"[^0-9]\")\n",
    "print(c.match(\"3\"))\n",
    "print(c.match(\"가\"))\n",
    "print(c.match(\"A\"))"
   ]
  },
  {
   "cell_type": "markdown",
   "metadata": {},
   "source": []
  },
  {
   "cell_type": "markdown",
   "metadata": {},
   "source": [
    "### 정규표현식 특수문법"
   ]
  },
  {
   "cell_type": "code",
   "execution_count": 47,
   "metadata": {},
   "outputs": [
    {
     "name": "stdout",
     "output_type": "stream",
     "text": [
      "<re.Match object; span=(0, 1), match='9'>\n",
      "None\n"
     ]
    }
   ],
   "source": [
    "d = re.compile(\"\\d\")\n",
    "#re.compie([0-9])\n",
    "#d = re.compile(\"\\D\")\n",
    "#re.compie([^0-9])\n",
    "print(d.match(\"9\"))\n",
    "print(d.match(\"가\"))"
   ]
  },
  {
   "cell_type": "code",
   "execution_count": 48,
   "metadata": {},
   "outputs": [
    {
     "name": "stdout",
     "output_type": "stream",
     "text": [
      "<re.Match object; span=(0, 1), match=' '>\n"
     ]
    }
   ],
   "source": [
    "d = re.compile(\"\\s\")\n",
    "print(d.match(\" \"))"
   ]
  },
  {
   "cell_type": "code",
   "execution_count": 50,
   "metadata": {},
   "outputs": [
    {
     "name": "stdout",
     "output_type": "stream",
     "text": [
      "None\n",
      "<re.Match object; span=(0, 1), match='가'>\n"
     ]
    }
   ],
   "source": [
    "d = re.compile(\"\\S\")#띄어쓰기 제외한 문자와 대응\n",
    "print(d.match(\" \"))\n",
    "print(d.match(\"가\"))"
   ]
  },
  {
   "cell_type": "code",
   "execution_count": 53,
   "metadata": {},
   "outputs": [
    {
     "name": "stdout",
     "output_type": "stream",
     "text": [
      "<re.Match object; span=(0, 1), match='가'>\n",
      "<re.Match object; span=(0, 1), match='a'>\n",
      "<re.Match object; span=(0, 1), match='1'>\n",
      "<re.Match object; span=(0, 1), match='_'>\n",
      "None\n"
     ]
    }
   ],
   "source": [
    "d = re.compile(\"\\w\")#특수문자 중 _만 대응\n",
    "print(d.match(\"가\"))\n",
    "print(d.match(\"a\"))\n",
    "print(d.match(\"1\"))\n",
    "print(d.match(\"_\"))\n",
    "print(d.match(\" \"))"
   ]
  },
  {
   "cell_type": "code",
   "execution_count": 52,
   "metadata": {},
   "outputs": [
    {
     "name": "stdout",
     "output_type": "stream",
     "text": [
      "None\n",
      "None\n",
      "None\n",
      "None\n",
      "<re.Match object; span=(0, 1), match=' '>\n"
     ]
    }
   ],
   "source": [
    "d = re.compile(\"\\W\")#_를 제외한 모든 특수문자와 대응\n",
    "print(d.match(\"가\"))\n",
    "print(d.match(\"a\"))\n",
    "print(d.match(\"1\"))\n",
    "print(d.match(\"_\"))\n",
    "print(d.match(\" \"))"
   ]
  },
  {
   "cell_type": "markdown",
   "metadata": {},
   "source": [
    "### 이메일 지칭하기\n",
    "- abcdefg1121@email.com\n",
    "- abcdefg1121@daum.net\n",
    "- abcdefg1121@yahoo.co.kr\n",
    "- 이메일 지칭해서 지우기위해 필요"
   ]
  },
  {
   "cell_type": "code",
   "execution_count": 60,
   "metadata": {},
   "outputs": [
    {
     "name": "stdout",
     "output_type": "stream",
     "text": [
      "<re.Match object; span=(0, 17), match='scv0206@naver.com'>\n",
      "<re.Match object; span=(0, 18), match='dldpwl026@daum.net'>\n",
      "<re.Match object; span=(0, 14), match='feds@gmail.com'>\n",
      "<re.Match object; span=(0, 16), match='asdf@yahoo.co.kr'>\n",
      "None\n",
      "None\n",
      "None\n",
      "<re.Match object; span=(0, 16), match='a가가가가가@naver.com'>\n"
     ]
    }
   ],
   "source": [
    "#띄어쓰기제외 한번이상 반복 @써주고 그다음 숫자와 알파벳 나오기 다음에 . 나오기 \n",
    "#그 다음 알파벳 나오기 .이 뒤에 나올수도 있고 안나올수도 있고 그 다음 알파벳이 나올수도 있고 안나올수도있고\n",
    "e = re.compile(\"\\S+@[a-zA-Q0-9]+\\.[a-zA-Z0-9]+\\.?[a-zA-Z0-9]*\")\n",
    "print(e.match(\"scv0206@naver.com\"))\n",
    "print(e.match(\"dldpwl026@daum.net\"))\n",
    "print(e.match(\"feds@gmail.com\"))\n",
    "print(e.match(\"asdf@yahoo.co.kr\"))\n",
    "print(e.match(\"asdfyahoo.co.kr\"))\n",
    "print(e.match(\"asdfyahoocokr\"))\n",
    "print(e.match(\"asdfyahoo.co.kr\"))\n",
    "print(e.match(\"a가가가가가@naver.com\"))"
   ]
  },
  {
   "cell_type": "markdown",
   "metadata": {},
   "source": [
    "### 전화번호 지칭하기\n",
    "- 010-1234-5678\n",
    "- 02-123-4567\n",
    "- 031)1234567\n",
    "- 0321234567\n",
    "- 112\n",
    "- 1588-5588"
   ]
  },
  {
   "cell_type": "code",
   "execution_count": 80,
   "metadata": {},
   "outputs": [
    {
     "name": "stdout",
     "output_type": "stream",
     "text": [
      "<re.Match object; span=(0, 13), match='010-1234-5678'>\n",
      "<re.Match object; span=(0, 11), match='02-123-4567'>\n",
      "<re.Match object; span=(0, 10), match='0321234567'>\n",
      "<re.Match object; span=(0, 10), match='031)123456'>\n",
      "<re.Match object; span=(0, 3), match='112'>\n",
      "<re.Match object; span=(0, 9), match='1588-5588'>\n",
      "<re.Match object; span=(0, 5), match='12345'>\n",
      "<re.Match object; span=(0, 11), match='01012345678'>\n"
     ]
    }
   ],
   "source": [
    "p=re.compile(\"[0-9]+\\W?[0-9]+\\W?[0-9]+\")\n",
    "print(p.match(\"010-1234-5678\"))\n",
    "print(p.match(\"02-123-4567\"))\n",
    "print(p.match(\"0321234567\"))\n",
    "print(p.match(\"031)123456\"))\n",
    "print(p.match(\"112\"))\n",
    "print(p.match(\"1588-5588\"))\n",
    "print(p.match(\"12345\"))\n",
    "print(p.match(\"01012345678\"))"
   ]
  },
  {
   "cell_type": "code",
   "execution_count": null,
   "metadata": {},
   "outputs": [],
   "source": [
    "p=re.compile(\"[0-9][\\-\\)]?[0-9]+[-)]?[0-9]\")\n",
    "print(p.match(\"010-1234-5678\"))\n",
    "print(p.match(\"02-123-4567\"))\n",
    "print(p.match(\"0321234567\"))\n",
    "print(p.match(\"031)123456\"))\n",
    "print(p.match(\"112\"))\n",
    "print(p.match(\"1588-5588\"))\n",
    "print(p.match(\"12345\"))\n",
    "print(p.match(\"01012345678\"))"
   ]
  },
  {
   "cell_type": "code",
   "execution_count": 90,
   "metadata": {},
   "outputs": [
    {
     "name": "stdout",
     "output_type": "stream",
     "text": [
      "<re.Match object; span=(0, 5), match='010-1'>\n",
      "<re.Match object; span=(0, 8), match='02-123-4'>\n",
      "<re.Match object; span=(0, 10), match='0321234567'>\n",
      "<re.Match object; span=(0, 5), match='031)1'>\n",
      "None\n",
      "<re.Match object; span=(0, 6), match='1588-5'>\n",
      "<re.Match object; span=(0, 5), match='12345'>\n",
      "<re.Match object; span=(0, 11), match='01012345678'>\n"
     ]
    }
   ],
   "source": [
    "if len(p)<= 13:\n",
    "p=re.compile(\"[0-1][0-9][-)]?[0-9]+[-]?[0-9]\")\n",
    "\n",
    "print(p.match(\"010-1234-5678\"))\n",
    "print(p.match(\"02-123-4567\"))\n",
    "print(p.match(\"0321234567\"))\n",
    "print(p.match(\"031)123456\"))\n",
    "print(p.match(\"112\"))\n",
    "print(p.match(\"1588-5588\"))\n",
    "print(p.match(\"12345\"))\n",
    "print(p.match(\"01012345678\"))"
   ]
  },
  {
   "cell_type": "code",
   "execution_count": 91,
   "metadata": {},
   "outputs": [
    {
     "name": "stdout",
     "output_type": "stream",
     "text": [
      "<re.Match object; span=(0, 13), match='010-1234-5678'>\n",
      "<re.Match object; span=(0, 11), match='02-123-4567'>\n",
      "<re.Match object; span=(0, 10), match='0321234567'>\n",
      "<re.Match object; span=(0, 10), match='031)123456'>\n",
      "<re.Match object; span=(0, 3), match='112'>\n",
      "<re.Match object; span=(0, 9), match='1588-5588'>\n",
      "<re.Match object; span=(0, 5), match='12345'>\n",
      "<re.Match object; span=(0, 11), match='01012345678'>\n"
     ]
    }
   ],
   "source": [
    "p=re.compile(\"[0-9]+[\\-\\)]?[0-9]+\\-?[0-9]+\")\n",
    "print(p.match(\"010-1234-5678\"))\n",
    "print(p.match(\"02-123-4567\"))\n",
    "print(p.match(\"0321234567\"))\n",
    "print(p.match(\"031)123456\"))\n",
    "print(p.match(\"112\"))\n",
    "print(p.match(\"1588-5588\"))\n",
    "print(p.match(\"12345\"))\n",
    "print(p.match(\"01012345678\"))"
   ]
  }
 ],
 "metadata": {
  "kernelspec": {
   "display_name": "Python 3.9.12 ('base')",
   "language": "python",
   "name": "python3"
  },
  "language_info": {
   "codemirror_mode": {
    "name": "ipython",
    "version": 3
   },
   "file_extension": ".py",
   "mimetype": "text/x-python",
   "name": "python",
   "nbconvert_exporter": "python",
   "pygments_lexer": "ipython3",
   "version": "3.9.12"
  },
  "orig_nbformat": 4,
  "vscode": {
   "interpreter": {
    "hash": "a077222d77dfe082b8f1dd562ad70e458ac2ab76993a0b248ab0476e32e9e8dd"
   }
  }
 },
 "nbformat": 4,
 "nbformat_minor": 2
}
