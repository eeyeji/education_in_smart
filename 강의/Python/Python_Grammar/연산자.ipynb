{
 "cells": [
  {
   "cell_type": "code",
   "execution_count": 8,
   "id": "c49fc309",
   "metadata": {},
   "outputs": [
    {
     "data": {
      "text/plain": [
       "2"
      ]
     },
     "execution_count": 8,
     "metadata": {},
     "output_type": "execute_result"
    }
   ],
   "source": [
    "1 + 1"
   ]
  },
  {
   "cell_type": "code",
   "execution_count": 9,
   "id": "50e3a46f",
   "metadata": {},
   "outputs": [
    {
     "data": {
      "text/plain": [
       "0"
      ]
     },
     "execution_count": 9,
     "metadata": {},
     "output_type": "execute_result"
    }
   ],
   "source": [
    "1 - 1"
   ]
  },
  {
   "cell_type": "code",
   "execution_count": 10,
   "id": "2f4ecc98",
   "metadata": {},
   "outputs": [
    {
     "data": {
      "text/plain": [
       "4"
      ]
     },
     "execution_count": 10,
     "metadata": {},
     "output_type": "execute_result"
    }
   ],
   "source": [
    "2 * 2"
   ]
  },
  {
   "cell_type": "code",
   "execution_count": 11,
   "id": "c71f19d3",
   "metadata": {},
   "outputs": [
    {
     "data": {
      "text/plain": [
       "1.0"
      ]
     },
     "execution_count": 11,
     "metadata": {},
     "output_type": "execute_result"
    }
   ],
   "source": [
    "2 / 2"
   ]
  },
  {
   "cell_type": "code",
   "execution_count": 6,
   "id": "17b79579",
   "metadata": {},
   "outputs": [
    {
     "data": {
      "text/plain": [
       "1"
      ]
     },
     "execution_count": 6,
     "metadata": {},
     "output_type": "execute_result"
    }
   ],
   "source": [
    "int(2/2)"
   ]
  },
  {
   "cell_type": "code",
   "execution_count": 2,
   "id": "03ba893a",
   "metadata": {},
   "outputs": [
    {
     "data": {
      "text/plain": [
       "1.0"
      ]
     },
     "execution_count": 2,
     "metadata": {},
     "output_type": "execute_result"
    }
   ],
   "source": [
    "float(2/2)"
   ]
  },
  {
   "cell_type": "markdown",
   "id": "2b620067",
   "metadata": {},
   "source": [
    "### 지수연산"
   ]
  },
  {
   "cell_type": "code",
   "execution_count": 3,
   "id": "d793eb64",
   "metadata": {},
   "outputs": [
    {
     "data": {
      "text/plain": [
       "27"
      ]
     },
     "execution_count": 3,
     "metadata": {},
     "output_type": "execute_result"
    }
   ],
   "source": [
    "3**3"
   ]
  },
  {
   "cell_type": "markdown",
   "id": "0fbb1804",
   "metadata": {},
   "source": [
    "### 몫 연산, 나머지 연산"
   ]
  },
  {
   "cell_type": "code",
   "execution_count": 4,
   "id": "45e63cb9",
   "metadata": {},
   "outputs": [
    {
     "data": {
      "text/plain": [
       "2"
      ]
     },
     "execution_count": 4,
     "metadata": {},
     "output_type": "execute_result"
    }
   ],
   "source": [
    "7 // 3"
   ]
  },
  {
   "cell_type": "code",
   "execution_count": 5,
   "id": "2df347e1",
   "metadata": {},
   "outputs": [
    {
     "data": {
      "text/plain": [
       "1"
      ]
     },
     "execution_count": 5,
     "metadata": {},
     "output_type": "execute_result"
    }
   ],
   "source": [
    "7 % 3"
   ]
  },
  {
   "cell_type": "code",
   "execution_count": 7,
   "id": "f925c077",
   "metadata": {},
   "outputs": [
    {
     "data": {
      "text/plain": [
       "6.0"
      ]
     },
     "execution_count": 7,
     "metadata": {},
     "output_type": "execute_result"
    }
   ],
   "source": [
    "3 + 3.0"
   ]
  },
  {
   "cell_type": "code",
   "execution_count": 13,
   "id": "00e27a11",
   "metadata": {},
   "outputs": [
    {
     "data": {
      "text/plain": [
       "'안녕하세요'"
      ]
     },
     "execution_count": 13,
     "metadata": {},
     "output_type": "execute_result"
    }
   ],
   "source": [
    "\"안녕\" + \"하세요\"\n",
    "#문자열끼리는 덧셈만 가능"
   ]
  },
  {
   "cell_type": "code",
   "execution_count": 15,
   "id": "4b505223",
   "metadata": {},
   "outputs": [
    {
     "data": {
      "text/plain": [
       "'안녕안녕안녕'"
      ]
     },
     "execution_count": 15,
     "metadata": {},
     "output_type": "execute_result"
    }
   ],
   "source": [
    "\"안녕\" * 3\n",
    "#문자열과 숫자의 조합은 곱셈만 가능"
   ]
  },
  {
   "cell_type": "code",
   "execution_count": 28,
   "id": "0ab99468",
   "metadata": {},
   "outputs": [
    {
     "data": {
      "text/plain": [
       "19"
      ]
     },
     "execution_count": 28,
     "metadata": {},
     "output_type": "execute_result"
    }
   ],
   "source": [
    "# 2 + \"10 \" + 7\n",
    "int(2) + int(\"10\") + int(7)"
   ]
  },
  {
   "cell_type": "code",
   "execution_count": 29,
   "id": "987af364",
   "metadata": {},
   "outputs": [
    {
     "data": {
      "text/plain": [
       "'2107'"
      ]
     },
     "execution_count": 29,
     "metadata": {},
     "output_type": "execute_result"
    }
   ],
   "source": [
    "# 2 + \"10 \" + 7\n",
    "str(2) + str(\"10\") + str(7)"
   ]
  },
  {
   "cell_type": "code",
   "execution_count": 30,
   "id": "9de63e49",
   "metadata": {
    "scrolled": true
   },
   "outputs": [
    {
     "name": "stdout",
     "output_type": "stream",
     "text": [
      "하하하하\n"
     ]
    }
   ],
   "source": [
    "c=input()"
   ]
  },
  {
   "cell_type": "code",
   "execution_count": 32,
   "id": "053375f1",
   "metadata": {},
   "outputs": [
    {
     "data": {
      "text/plain": [
       "'하하하하'"
      ]
     },
     "execution_count": 32,
     "metadata": {},
     "output_type": "execute_result"
    }
   ],
   "source": [
    "c"
   ]
  },
  {
   "cell_type": "code",
   "execution_count": 22,
   "id": "cc545233",
   "metadata": {},
   "outputs": [
    {
     "name": "stdout",
     "output_type": "stream",
     "text": [
      "아이디를 입력하세요: 아이디\n"
     ]
    }
   ],
   "source": [
    "a = input(\"아이디를 입력하세요: \")"
   ]
  },
  {
   "cell_type": "code",
   "execution_count": 24,
   "id": "9eadfbaf",
   "metadata": {},
   "outputs": [
    {
     "data": {
      "text/plain": [
       "'아이디'"
      ]
     },
     "execution_count": 24,
     "metadata": {},
     "output_type": "execute_result"
    }
   ],
   "source": [
    "a"
   ]
  },
  {
   "cell_type": "code",
   "execution_count": 25,
   "id": "24e03d58",
   "metadata": {},
   "outputs": [
    {
     "name": "stdout",
     "output_type": "stream",
     "text": [
      "아이디를 입력하세요: 12123\n"
     ]
    }
   ],
   "source": [
    "b = int(input(\"아이디를 입력하세요: \"))"
   ]
  },
  {
   "cell_type": "code",
   "execution_count": 26,
   "id": "f1bbf9b2",
   "metadata": {},
   "outputs": [
    {
     "data": {
      "text/plain": [
       "12123"
      ]
     },
     "execution_count": 26,
     "metadata": {},
     "output_type": "execute_result"
    }
   ],
   "source": [
    "b"
   ]
  },
  {
   "cell_type": "code",
   "execution_count": 27,
   "id": "a2340fb4",
   "metadata": {},
   "outputs": [
    {
     "data": {
      "text/plain": [
       "'2107'"
      ]
     },
     "execution_count": 27,
     "metadata": {},
     "output_type": "execute_result"
    }
   ],
   "source": [
    "str(2) + \"10\" + str(7)"
   ]
  },
  {
   "cell_type": "markdown",
   "id": "aba68814",
   "metadata": {},
   "source": [
    "## 시간 파싱하기\n",
    "\n",
    "- \"2022년 08월 10일 14시 57분 50초\"로 출력하기\n"
   ]
  },
  {
   "cell_type": "code",
   "execution_count": 48,
   "id": "d1b0db26",
   "metadata": {},
   "outputs": [
    {
     "data": {
      "text/plain": [
       "'2022-08-10 14:57:48'"
      ]
     },
     "execution_count": 48,
     "metadata": {},
     "output_type": "execute_result"
    }
   ],
   "source": [
    "import datetime\n",
    "datetime.datetime.now().strftime(\"%Y-%m-%d %H:%M:%S\")"
   ]
  },
  {
   "cell_type": "code",
   "execution_count": 49,
   "id": "afb547e6",
   "metadata": {},
   "outputs": [
    {
     "name": "stdout",
     "output_type": "stream",
     "text": [
      "2022년 08월 10일 14시 57분 50초\n"
     ]
    }
   ],
   "source": [
    "now = datetime.datetime.now().strftime(\"%Y-%m-%d %H:%M:%S\")\n",
    "year = now[:4]\n",
    "month = now[5:7]\n",
    "day = now[8:10]\n",
    "hour = now[11:13]\n",
    "minute = now[14:16]\n",
    "second = now[17:]\n",
    "\n",
    "print(f\"{year}년 {month}월 {day}일 {hour}시 {minute}분 {second}초\")"
   ]
  },
  {
   "cell_type": "markdown",
   "id": "1320a4e9",
   "metadata": {},
   "source": [
    "input 함수로 초 단위의 시간을 받습니다.\n",
    "\n",
    "그시간을 시간, 분, 초로 나누어서 출력합니다.\n",
    "\n",
    "예시) 3653을 받으면 1시간 0분 53초를 출력"
   ]
  },
  {
   "cell_type": "code",
   "execution_count": 47,
   "id": "e0bd1eab",
   "metadata": {},
   "outputs": [
    {
     "name": "stdout",
     "output_type": "stream",
     "text": [
      "초 단위의 시간을 입력해 주세요: 3653\n",
      "1시 0분 53초\n"
     ]
    }
   ],
   "source": [
    "time = int(input(\"초 단위의 시간을 입력해 주세요: \"))\n",
    "hour = time // 3600\n",
    "minute = time % 3600 // 60\n",
    "second = time % 60\n",
    "\n",
    "print(f\"{hour}시 {minute}분 {second}초\")"
   ]
  },
  {
   "cell_type": "code",
   "execution_count": 50,
   "id": "043f2bc9",
   "metadata": {},
   "outputs": [
    {
     "name": "stdout",
     "output_type": "stream",
     "text": [
      "초 단위의 시간을 입력해 주세요: 4523\n",
      "1시 15분 23초\n"
     ]
    }
   ],
   "source": [
    "time = int(input(\"초 단위의 시간을 입력해 주세요: \"))\n",
    "hour = time // 3600\n",
    "minute = time % 3600 // 60\n",
    "second = time % 60\n",
    "\n",
    "print(f\"{hour}시 {minute}분 {second}초\")"
   ]
  },
  {
   "cell_type": "code",
   "execution_count": 54,
   "id": "2a56e9ba",
   "metadata": {},
   "outputs": [
    {
     "data": {
      "text/plain": [
       "6"
      ]
     },
     "execution_count": 54,
     "metadata": {},
     "output_type": "execute_result"
    }
   ],
   "source": [
    "num = 3\n",
    "# num = num + 3   +=, -+, *=, /=, **=\n",
    "num += 3\n",
    "num"
   ]
  },
  {
   "cell_type": "code",
   "execution_count": null,
   "id": "04b3b50f",
   "metadata": {},
   "outputs": [],
   "source": []
  }
 ],
 "metadata": {
  "kernelspec": {
   "display_name": "Python 3 (ipykernel)",
   "language": "python",
   "name": "python3"
  },
  "language_info": {
   "codemirror_mode": {
    "name": "ipython",
    "version": 3
   },
   "file_extension": ".py",
   "mimetype": "text/x-python",
   "name": "python",
   "nbconvert_exporter": "python",
   "pygments_lexer": "ipython3",
   "version": "3.9.12"
  }
 },
 "nbformat": 4,
 "nbformat_minor": 5
}
