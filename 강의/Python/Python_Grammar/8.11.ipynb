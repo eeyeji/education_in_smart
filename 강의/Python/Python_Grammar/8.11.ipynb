{
 "cells": [
  {
   "cell_type": "markdown",
   "id": "a104e7eb",
   "metadata": {},
   "source": [
    "## 8.10 복습"
   ]
  },
  {
   "cell_type": "markdown",
   "id": "1d83668c",
   "metadata": {},
   "source": [
    "#### 변수에 할당될 수 있는 자료형\n",
    "- 정수형(integer)\n",
    "- 실수형(float)\n",
    "- 문자형(string)\n",
    "- 논리형(boolean)\n"
   ]
  },
  {
   "cell_type": "code",
   "execution_count": 1,
   "id": "f1ff91b7",
   "metadata": {},
   "outputs": [
    {
     "data": {
      "text/plain": [
       "int"
      ]
     },
     "execution_count": 1,
     "metadata": {},
     "output_type": "execute_result"
    }
   ],
   "source": [
    "jeongsu = 1\n",
    "type(jeongsu)"
   ]
  },
  {
   "cell_type": "code",
   "execution_count": 2,
   "id": "ac984acb",
   "metadata": {},
   "outputs": [
    {
     "data": {
      "text/plain": [
       "float"
      ]
     },
     "execution_count": 2,
     "metadata": {},
     "output_type": "execute_result"
    }
   ],
   "source": [
    "silsu = 1.2\n",
    "type(silsu)"
   ]
  },
  {
   "cell_type": "code",
   "execution_count": 3,
   "id": "b1e97fd9",
   "metadata": {},
   "outputs": [
    {
     "data": {
      "text/plain": [
       "1.0"
      ]
     },
     "execution_count": 3,
     "metadata": {},
     "output_type": "execute_result"
    }
   ],
   "source": [
    "#정수를 실수로 변환하기\n",
    "float(jeongsu)"
   ]
  },
  {
   "cell_type": "markdown",
   "id": "fc4e69ab",
   "metadata": {},
   "source": [
    "#### 연산: +, -, *, /, **, //, %"
   ]
  },
  {
   "cell_type": "markdown",
   "id": "84df20da",
   "metadata": {},
   "source": [
    "#### 문자: (\" \", ' ')로 표현"
   ]
  },
  {
   "cell_type": "code",
   "execution_count": 5,
   "id": "8935bfc3",
   "metadata": {},
   "outputs": [
    {
     "data": {
      "text/plain": [
       "str"
      ]
     },
     "execution_count": 5,
     "metadata": {},
     "output_type": "execute_result"
    }
   ],
   "source": [
    "banana = \"banana\"\n",
    "type(banana)"
   ]
  },
  {
   "cell_type": "markdown",
   "id": "f5e91664",
   "metadata": {},
   "source": [
    "#### 인덱싱과 슬라이싱"
   ]
  },
  {
   "cell_type": "code",
   "execution_count": 10,
   "id": "2858d92b",
   "metadata": {},
   "outputs": [
    {
     "data": {
      "text/plain": [
       "'N'"
      ]
     },
     "execution_count": 10,
     "metadata": {},
     "output_type": "execute_result"
    }
   ],
   "source": [
    "\"BaNaNa\"[2]"
   ]
  },
  {
   "cell_type": "code",
   "execution_count": 11,
   "id": "8548114f",
   "metadata": {},
   "outputs": [
    {
     "data": {
      "text/plain": [
       "'e'"
      ]
     },
     "execution_count": 11,
     "metadata": {},
     "output_type": "execute_result"
    }
   ],
   "source": [
    "\"my name is leeyeji\"[-3]"
   ]
  },
  {
   "cell_type": "code",
   "execution_count": 12,
   "id": "c2a808a9",
   "metadata": {},
   "outputs": [
    {
     "data": {
      "text/plain": [
       "'name'"
      ]
     },
     "execution_count": 12,
     "metadata": {},
     "output_type": "execute_result"
    }
   ],
   "source": [
    "\"my name is leeyeji\"[3:7]"
   ]
  },
  {
   "cell_type": "code",
   "execution_count": 13,
   "id": "24470a72",
   "metadata": {},
   "outputs": [
    {
     "data": {
      "text/plain": [
       "'name is leeyeji'"
      ]
     },
     "execution_count": 13,
     "metadata": {},
     "output_type": "execute_result"
    }
   ],
   "source": [
    "\"my name is leeyeji\"[3:]"
   ]
  },
  {
   "cell_type": "markdown",
   "id": "417299fe",
   "metadata": {},
   "source": [
    "#### 포맷팅"
   ]
  },
  {
   "cell_type": "code",
   "execution_count": 23,
   "id": "96c4d661",
   "metadata": {},
   "outputs": [
    {
     "name": "stdout",
     "output_type": "stream",
     "text": [
      "오늘 점심은 초밥입니다.\n",
      "오늘 점심은 초밥와 짜장면입니다.\n",
      "오늘 점심은 초밥와 국밥입니다.\n",
      "오늘 점심은 국밥와 초밥입니다.\n",
      "오늘 점심은 짜장면와 국밥입니다.\n"
     ]
    }
   ],
   "source": [
    "menu1 = \"초밥\"\n",
    "menu2 = \"짜장면\"\n",
    "menu3 = \"국밥\"\n",
    "\n",
    "print(\"오늘 점심은 %s입니다.\" %menu1)\n",
    "print(\"오늘 점심은 %s와 %s입니다.\" %(menu1, menu2))\n",
    "print(\"오늘 점심은 {}와 {}입니다.\".format(menu1, menu3))\n",
    "print(\"오늘 점심은 {1}와 {0}입니다.\".format(menu1, menu3))\n",
    "print(f\"오늘 점심은 {menu2}와 {menu3}입니다.\")"
   ]
  },
  {
   "cell_type": "markdown",
   "id": "a8491163",
   "metadata": {},
   "source": [
    "#### 메소드"
   ]
  },
  {
   "cell_type": "code",
   "execution_count": 24,
   "id": "3b4bb9ea",
   "metadata": {},
   "outputs": [],
   "source": [
    "song = \"tell me tell me tetetete tell me\""
   ]
  },
  {
   "cell_type": "code",
   "execution_count": 25,
   "id": "752978d4",
   "metadata": {},
   "outputs": [
    {
     "data": {
      "text/plain": [
       "3"
      ]
     },
     "execution_count": 25,
     "metadata": {},
     "output_type": "execute_result"
    }
   ],
   "source": [
    "song. count(\"tell me\")"
   ]
  },
  {
   "cell_type": "code",
   "execution_count": 26,
   "id": "5361eb73",
   "metadata": {},
   "outputs": [
    {
     "data": {
      "text/plain": [
       "16"
      ]
     },
     "execution_count": 26,
     "metadata": {},
     "output_type": "execute_result"
    }
   ],
   "source": [
    "song.find(\"tetetete\")"
   ]
  },
  {
   "cell_type": "code",
   "execution_count": 27,
   "id": "76ecec3c",
   "metadata": {},
   "outputs": [
    {
     "data": {
      "text/plain": [
       "0"
      ]
     },
     "execution_count": 27,
     "metadata": {},
     "output_type": "execute_result"
    }
   ],
   "source": [
    "# 중복된 것은 맨 앞 인덱스만 나타남\n",
    "song.find(\"tell me\")"
   ]
  },
  {
   "cell_type": "code",
   "execution_count": 28,
   "id": "93704966",
   "metadata": {},
   "outputs": [
    {
     "name": "stdout",
     "output_type": "stream",
     "text": [
      "TELL ME TELL ME TETETETE TELL ME\n",
      "tell me tell me tetetete tell me\n",
      "Tell Me Tell Me Tetetete Tell Me\n"
     ]
    }
   ],
   "source": [
    "print(song.upper())\n",
    "print(song.lower())\n",
    "print(song.title())"
   ]
  },
  {
   "cell_type": "code",
   "execution_count": 34,
   "id": "8e1d01fb",
   "metadata": {},
   "outputs": [
    {
     "name": "stdout",
     "output_type": "stream",
     "text": [
      "['tell', 'me', 'tell', 'me', 'tetetete', 'tell', 'me']\n",
      "['', 'll me ', 'll me ', '', '', '', ' ', 'll me']\n"
     ]
    }
   ],
   "source": [
    "a = song.split()\n",
    "b= song.split(\"te\")\n",
    "print(a)\n",
    "print(b)"
   ]
  },
  {
   "cell_type": "code",
   "execution_count": 35,
   "id": "8d247721",
   "metadata": {},
   "outputs": [
    {
     "data": {
      "text/plain": [
       "'tell him tell him tetetete tell him'"
      ]
     },
     "execution_count": 35,
     "metadata": {},
     "output_type": "execute_result"
    }
   ],
   "source": [
    "song.replace(\"me\", \"him\")"
   ]
  },
  {
   "cell_type": "code",
   "execution_count": 36,
   "id": "da4b04de",
   "metadata": {},
   "outputs": [
    {
     "data": {
      "text/plain": [
       "'안녕하세요'"
      ]
     },
     "execution_count": 36,
     "metadata": {},
     "output_type": "execute_result"
    }
   ],
   "source": [
    "\"안녕\" + \"하세요\""
   ]
  },
  {
   "cell_type": "code",
   "execution_count": 37,
   "id": "5051b137",
   "metadata": {},
   "outputs": [
    {
     "data": {
      "text/plain": [
       "'안녕안녕안녕'"
      ]
     },
     "execution_count": 37,
     "metadata": {},
     "output_type": "execute_result"
    }
   ],
   "source": [
    "\"안녕\" * 3"
   ]
  },
  {
   "cell_type": "markdown",
   "id": "e380e891",
   "metadata": {},
   "source": [
    "#### 논리형(true, false)\n",
    "- ==, !=, <=, >=, <, >\n",
    "- and, or"
   ]
  },
  {
   "cell_type": "code",
   "execution_count": 38,
   "id": "e7965944",
   "metadata": {},
   "outputs": [
    {
     "data": {
      "text/plain": [
       "False"
      ]
     },
     "execution_count": 38,
     "metadata": {},
     "output_type": "execute_result"
    }
   ],
   "source": [
    "1 == 2"
   ]
  },
  {
   "cell_type": "code",
   "execution_count": 42,
   "id": "6afaf8e1",
   "metadata": {},
   "outputs": [
    {
     "data": {
      "text/plain": [
       "False"
      ]
     },
     "execution_count": 42,
     "metadata": {},
     "output_type": "execute_result"
    }
   ],
   "source": [
    "6 % 3 == 0 and 6 % 5 == 0"
   ]
  },
  {
   "cell_type": "code",
   "execution_count": 41,
   "id": "69417a79",
   "metadata": {},
   "outputs": [
    {
     "data": {
      "text/plain": [
       "True"
      ]
     },
     "execution_count": 41,
     "metadata": {},
     "output_type": "execute_result"
    }
   ],
   "source": [
    "6 % 3 == 0 or 6 % 5 == 0"
   ]
  },
  {
   "cell_type": "markdown",
   "id": "2ef4bade",
   "metadata": {},
   "source": [
    "#### 조건문\n",
    "\n",
    "- 블록을 선언하는 것: if, try, def, class, for, while\n",
    "- if 명제1:\n",
    "       명제1가 참일 경우에 실행되는 코드\n",
    "  elif 명제2:                                           \n",
    "       명제2은 거짓이지만, 명제2는 참일 경우에 실행되는 코드\n",
    "       \n",
    "       #주의: if와 elif가 중복되는 경우 if가 실행, 이러한 경우 지양해주기!\n",
    "       \n",
    "  else:\n",
    "       명제1과 명제2가 모두 거짓일 경우에 실행되는 코드"
   ]
  },
  {
   "cell_type": "code",
   "execution_count": 45,
   "id": "88f3a963",
   "metadata": {},
   "outputs": [
    {
     "name": "stdout",
     "output_type": "stream",
     "text": [
      "가지고 있는 돈을 입력하세요: 2000\n",
      "걸어간다.\n",
      "우와 집이다~\n"
     ]
    }
   ],
   "source": [
    "money = int(input(\"가지고 있는 돈을 입력하세요: \"))\n",
    "\n",
    "if money >= 4000:\n",
    "    print(\"택시를 타고 간다.\")\n",
    "else:\n",
    "    print(\"걸어간다.\")\n",
    "    \n",
    "print(\"우와 집이다~\")"
   ]
  },
  {
   "cell_type": "code",
   "execution_count": 46,
   "id": "ed2b75e5",
   "metadata": {},
   "outputs": [
    {
     "name": "stdout",
     "output_type": "stream",
     "text": [
      "가지고 있는 돈을 입력하세요: 2000\n",
      "우와 집이다~\n"
     ]
    }
   ],
   "source": [
    "money = int(input(\"가지고 있는 돈을 입력하세요: \"))\n",
    "\n",
    "if money >= 4000:\n",
    "    print(\"택시를 타고 간다.\")\n",
    "else:\n",
    "    pass\n",
    "    \n",
    "print(\"우와 집이다~\")"
   ]
  },
  {
   "cell_type": "code",
   "execution_count": 48,
   "id": "dfff90ff",
   "metadata": {},
   "outputs": [
    {
     "name": "stdout",
     "output_type": "stream",
     "text": [
      "가지고 있는 돈을 입력하세요: 2000\n",
      "버스를 타고 간다.\n",
      "우와 집이다~\n"
     ]
    }
   ],
   "source": [
    "money = int(input(\"가지고 있는 돈을 입력하세요: \"))\n",
    "\n",
    "if money >= 4000:\n",
    "    print(\"택시를 타고 간다.\")\n",
    "elif money < 4000 and money >= 1250:\n",
    "    print(\"버스를 타고 간다.\")\n",
    "else:\n",
    "    pass\n",
    "    \n",
    "print(\"우와 집이다~\")"
   ]
  },
  {
   "cell_type": "markdown",
   "id": "aca9343e",
   "metadata": {},
   "source": [
    "#### 리스트,튜플\n",
    "- 리스트는 데이터를 조작(추가, 삭제)할 수 있음\n",
    "- 튜플은 데이터를 조작할 수 없음"
   ]
  },
  {
   "cell_type": "code",
   "execution_count": 57,
   "id": "8ec3b94d",
   "metadata": {},
   "outputs": [],
   "source": [
    "list1 = ['a', 'b','c', 'd', 'e']\n",
    "tuple1 = ('a', 'b','c', 'd', 'e')"
   ]
  },
  {
   "cell_type": "code",
   "execution_count": 52,
   "id": "fcbd6929",
   "metadata": {},
   "outputs": [
    {
     "data": {
      "text/plain": [
       "'a'"
      ]
     },
     "execution_count": 52,
     "metadata": {},
     "output_type": "execute_result"
    }
   ],
   "source": [
    "list1[0]"
   ]
  },
  {
   "cell_type": "code",
   "execution_count": 58,
   "id": "8dc2c682",
   "metadata": {},
   "outputs": [
    {
     "data": {
      "text/plain": [
       "'a'"
      ]
     },
     "execution_count": 58,
     "metadata": {},
     "output_type": "execute_result"
    }
   ],
   "source": [
    "tuple1[0]"
   ]
  },
  {
   "cell_type": "code",
   "execution_count": 59,
   "id": "491d67cc",
   "metadata": {},
   "outputs": [
    {
     "data": {
      "text/plain": [
       "['a', 'b', 'c', 'd', 'e', 'f']"
      ]
     },
     "execution_count": 59,
     "metadata": {},
     "output_type": "execute_result"
    }
   ],
   "source": [
    "# 원소 추가: .append 메소드\n",
    "list1.append('f')\n",
    "list1"
   ]
  },
  {
   "cell_type": "code",
   "execution_count": 63,
   "id": "81c4dc4c",
   "metadata": {},
   "outputs": [
    {
     "data": {
      "text/plain": [
       "['a', 'b', 'c', 'g', 'd', 'e', 'f']"
      ]
     },
     "execution_count": 63,
     "metadata": {},
     "output_type": "execute_result"
    }
   ],
   "source": [
    "# 원소 추가: .insert(인덱스, 추가) -> 원하는 위치에 추가할 수 있음\n",
    "list1.insert(3, \"g\")\n",
    "list1"
   ]
  },
  {
   "cell_type": "code",
   "execution_count": 64,
   "id": "c64f3fae",
   "metadata": {},
   "outputs": [
    {
     "data": {
      "text/plain": [
       "['a', 'b', 'c', 'd', 'e', 'f']"
      ]
     },
     "execution_count": 64,
     "metadata": {},
     "output_type": "execute_result"
    }
   ],
   "source": [
    "# 원소 제거\n",
    "del list1[3]\n",
    "list1"
   ]
  },
  {
   "cell_type": "code",
   "execution_count": 65,
   "id": "568e4259",
   "metadata": {},
   "outputs": [
    {
     "data": {
      "text/plain": [
       "['a', 'b', 'c', 'd', 'e']"
      ]
     },
     "execution_count": 65,
     "metadata": {},
     "output_type": "execute_result"
    }
   ],
   "source": [
    "# 원소 제거: remove -> 지정해서 삭제 가능\n",
    "list1.remove('f')\n",
    "list1"
   ]
  },
  {
   "cell_type": "code",
   "execution_count": 66,
   "id": "5d72e185",
   "metadata": {},
   "outputs": [
    {
     "data": {
      "text/plain": [
       "['a', 'b', 'c', 'd']"
      ]
     },
     "execution_count": 66,
     "metadata": {},
     "output_type": "execute_result"
    }
   ],
   "source": [
    "# 원소 제거: .pop -> 맨 뒤 삭제\n",
    "list1.pop()\n",
    "list1"
   ]
  },
  {
   "cell_type": "code",
   "execution_count": 67,
   "id": "7e6de724",
   "metadata": {},
   "outputs": [
    {
     "data": {
      "text/plain": [
       "['e', 'b', 'c', 'd']"
      ]
     },
     "execution_count": 67,
     "metadata": {},
     "output_type": "execute_result"
    }
   ],
   "source": [
    "# 원소 교체\n",
    "list1[0] = 'e'\n",
    "list1"
   ]
  },
  {
   "cell_type": "code",
   "execution_count": 68,
   "id": "5cac2b9d",
   "metadata": {},
   "outputs": [
    {
     "data": {
      "text/plain": [
       "['d', 'c', 'b', 'e']"
      ]
     },
     "execution_count": 68,
     "metadata": {},
     "output_type": "execute_result"
    }
   ],
   "source": [
    "# .reverse -> 배열 거꾸로 출력\n",
    "list1.reverse()\n",
    "list1"
   ]
  },
  {
   "cell_type": "code",
   "execution_count": 69,
   "id": "cd60b1a9",
   "metadata": {},
   "outputs": [
    {
     "data": {
      "text/plain": [
       "['b', 'c', 'd', 'e']"
      ]
     },
     "execution_count": 69,
     "metadata": {},
     "output_type": "execute_result"
    }
   ],
   "source": [
    "#정렬: .sort -> 오름차순으로 정렬되어 출력\n",
    "list1.sort()\n",
    "list1"
   ]
  },
  {
   "cell_type": "markdown",
   "id": "e371ed59",
   "metadata": {},
   "source": [
    "#### random\n",
    "- random.random():0~1사이의 무작위 실수가 출력"
   ]
  },
  {
   "cell_type": "code",
   "execution_count": 70,
   "id": "cfbe86d9",
   "metadata": {},
   "outputs": [
    {
     "data": {
      "text/plain": [
       "0.4866559028865838"
      ]
     },
     "execution_count": 70,
     "metadata": {},
     "output_type": "execute_result"
    }
   ],
   "source": [
    "import random\n",
    "random.random()"
   ]
  },
  {
   "cell_type": "code",
   "execution_count": 71,
   "id": "d619e25c",
   "metadata": {},
   "outputs": [
    {
     "data": {
      "text/plain": [
       "'d'"
      ]
     },
     "execution_count": 71,
     "metadata": {},
     "output_type": "execute_result"
    }
   ],
   "source": [
    "random.choice(list1)"
   ]
  },
  {
   "cell_type": "markdown",
   "id": "9e8a6129",
   "metadata": {},
   "source": [
    "### 문제\n",
    "- 플레이어로부터 아이템의 강화 등급을 입력받습니다. (0~10)\n",
    "- 강화 성공률은 0등급일 때 70%, 1등급일 때 65% ... 1등급이 올라갈수록 5%씩 하락합니다.\n",
    "- 강화 실패 시 50%확률로 아이템이 파괴됩니다.\n",
    "- 강화 성공 시 \"강화 성공\", 강화 실패 시 \"강화 실패\", 아이템 파괴 시 \"아이템 파괴\"를 출력해주세요"
   ]
  },
  {
   "cell_type": "code",
   "execution_count": 80,
   "id": "79cee099",
   "metadata": {},
   "outputs": [
    {
     "name": "stdout",
     "output_type": "stream",
     "text": [
      "강화 등급을 입력하세요: 5\n",
      "강화 실패\n"
     ]
    }
   ],
   "source": [
    "item = int(input(\"강화 등급을 입력하세요: \"))\n",
    "prob1 = random.random()\n",
    "prob2 = random.random()\n",
    "if prob1 <= 0.7-(0.05*item):\n",
    "    print(\"강화 성공\")\n",
    "\n",
    "else:\n",
    "    if prob2 <= 0.5:\n",
    "        #0.5보다 작을 확률이 50%를 나타내는 것이기 때문에 <= 0.5로 나타냄\n",
    "        print(\"강화 실패\")\n",
    "    else:\n",
    "        print(\"아이템 파괴\")\n",
    "\n",
    "\n",
    "\n",
    "\n",
    "    "
   ]
  },
  {
   "cell_type": "code",
   "execution_count": null,
   "id": "cbeb38c5",
   "metadata": {},
   "outputs": [],
   "source": []
  }
 ],
 "metadata": {
  "kernelspec": {
   "display_name": "Python 3.9.12 64-bit",
   "language": "python",
   "name": "python3"
  },
  "language_info": {
   "codemirror_mode": {
    "name": "ipython",
    "version": 3
   },
   "file_extension": ".py",
   "mimetype": "text/x-python",
   "name": "python",
   "nbconvert_exporter": "python",
   "pygments_lexer": "ipython3",
   "version": "3.9.12"
  },
  "vscode": {
   "interpreter": {
    "hash": "82ed002fa2d4956f5c6aec99bcefe0f73a9f79882f3c9e2319b14958a5896ac5"
   }
  }
 },
 "nbformat": 4,
 "nbformat_minor": 5
}
