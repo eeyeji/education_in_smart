{
 "cells": [
  {
   "cell_type": "code",
   "execution_count": 2,
   "id": "28454517",
   "metadata": {},
   "outputs": [],
   "source": [
    "#콜론(:)은 블록을 만듬\n",
    "#if 나는 부자다:\n",
    "#    택시를 타고 가자.\n",
    "#else: \n",
    "#    버스를 타고 가자.   \n",
    "#와 집에 도착했다."
   ]
  },
  {
   "cell_type": "code",
   "execution_count": 5,
   "id": "bbe1390a",
   "metadata": {},
   "outputs": [
    {
     "name": "stdout",
     "output_type": "stream",
     "text": [
      "내가 가진 돈: 5000\n",
      "택시를 타고 가자.\n",
      "우와 집이다!\n"
     ]
    }
   ],
   "source": [
    "money = int(input(\"내가 가진 돈: \"))\n",
    "\n",
    "if money >= 4000:\n",
    "    print(\"택시를 타고 가자.\")\n",
    "else:\n",
    "    print(\"버스를 타고 가자.\")\n",
    "    \n",
    "print(\"우와 집이다!\")"
   ]
  },
  {
   "cell_type": "markdown",
   "id": "4e349a38",
   "metadata": {},
   "source": [
    "- input 함수로 정수를 받습니다.\n",
    "- 만약 주어진 수가 3의 배수라면 \"3의 배수입니다.\"를 출력합니다.\n",
    "- 만약 주어진 수가 3의 배수가 아니라면 \"3의 배수가 아닙니다.\"를 출력합니다."
   ]
  },
  {
   "cell_type": "code",
   "execution_count": 7,
   "id": "57d12a9b",
   "metadata": {},
   "outputs": [
    {
     "name": "stdout",
     "output_type": "stream",
     "text": [
      "정수를 입력하세요: 5\n",
      "3의 배수가 아닙니다.\n"
     ]
    }
   ],
   "source": [
    "num = int(input(\"정수를 입력하세요: \"))\n",
    "\n",
    "if num % 3 == 0:\n",
    "    print(\"3의 배수입니다.\")\n",
    "else:\n",
    "    print(\"3의 배수가 아닙니다.\")"
   ]
  },
  {
   "cell_type": "code",
   "execution_count": 9,
   "id": "2848fbad",
   "metadata": {},
   "outputs": [
    {
     "name": "stdout",
     "output_type": "stream",
     "text": [
      "내가 가진 돈: 1300\n",
      "걸어가자.\n",
      "우와 집이다!\n"
     ]
    }
   ],
   "source": [
    "# 모순관계 조건문은 지양하기!\n",
    "money = int(input(\"내가 가진 돈: \"))\n",
    "\n",
    "if money >= 4000:\n",
    "    print(\"택시를 타고 가자.\")\n",
    "\n",
    "elif money <= 1300:\n",
    "    print(\"걸어가자.\")\n",
    "    \n",
    "else:\n",
    "    print(\"버스를 타고 가자.\")\n",
    "    \n",
    "print(\"우와 집이다!\")"
   ]
  },
  {
   "cell_type": "code",
   "execution_count": 11,
   "id": "d447a83b",
   "metadata": {},
   "outputs": [
    {
     "name": "stdout",
     "output_type": "stream",
     "text": [
      "내가 가진 돈: 5000\n",
      "택시를 타고 가자.\n",
      "우와 집이다!\n"
     ]
    }
   ],
   "source": [
    "#오류는 안남 if문이 돌아감\n",
    "money = int(input(\"내가 가진 돈: \"))\n",
    "\n",
    "if money >= 4000:\n",
    "    print(\"택시를 타고 가자.\")\n",
    "\n",
    "elif money >= 1300:\n",
    "    print(\"버스를 타고 가자.\")\n",
    "    \n",
    "else:\n",
    "    print(\"걸어 가자.\")\n",
    "    \n",
    "print(\"우와 집이다!\")"
   ]
  },
  {
   "cell_type": "code",
   "execution_count": 14,
   "id": "53dada9f",
   "metadata": {},
   "outputs": [
    {
     "name": "stdout",
     "output_type": "stream",
     "text": [
      "내가 가진 돈: 80000\n",
      "택시를 타고 가자.\n",
      "우와 집이다!\n"
     ]
    }
   ],
   "source": [
    "money = int(input(\"내가 가진 돈: \"))\n",
    "\n",
    "if money >= 4000 and money < 100000:\n",
    "    print(\"택시를 타고 가자.\")\n",
    "    \n",
    "elif money >= 100000:\n",
    "    print(\"리무진을 타고 가자.\")\n",
    "\n",
    "elif money >= 1300 and money < 4000:\n",
    "    print(\"버스를 타고 가자.\")\n",
    "    \n",
    "else:\n",
    "    print(\"걸어 가자.\")\n",
    "    \n",
    "print(\"우와 집이다!\")"
   ]
  },
  {
   "cell_type": "markdown",
   "id": "32dddf81",
   "metadata": {},
   "source": [
    "### 추석 선물 세트 구매\n",
    "- 추석 선물 세트는 1개에 1만원입니다.\n",
    "- 추석 선물 세트는 11개 이상 사면, 11개째부터 10% 할인됩니다.\n",
    "- 추석 선물 세트를 몇개 샀는지 input 함수를 받아, 총 얼마인지를 출력해주세요."
   ]
  },
  {
   "cell_type": "code",
   "execution_count": 33,
   "id": "044832a9",
   "metadata": {},
   "outputs": [
    {
     "name": "stdout",
     "output_type": "stream",
     "text": [
      "추석 선물 세트를 몇 개 살 것인가요: 12\n",
      "총 118000원 입니다.\n"
     ]
    }
   ],
   "source": [
    "present = int(input(\"추석 선물 세트를 몇 개 살 것인가요: \"))\n",
    "if present >= 11:\n",
    "    price = int(present)*10000-(int(present)-10)*10000*0.1\n",
    "    price = int(price)\n",
    "    print(f\"총 {price}원 입니다.\")\n",
    "else:\n",
    "    price2 = int(present)*10000\n",
    "    price2 = int(price2)\n",
    "    print(f\"총 {price2}원 입니다.\")\n",
    "    "
   ]
  },
  {
   "cell_type": "code",
   "execution_count": 46,
   "id": "d5de6e89",
   "metadata": {},
   "outputs": [
    {
     "name": "stdout",
     "output_type": "stream",
     "text": [
      "개수를 입력하세요: 12\n",
      "118000원 입니다.\n"
     ]
    }
   ],
   "source": [
    "chooseok = int(input(\"개수를 입력하세요: \"))\n",
    "\n",
    "if chooseok <= 10:\n",
    "    price = chooseok * 10000\n",
    "    print(f\"{int(price)}원 입니다.\")\n",
    "else:\n",
    "    price = chooseok * 10000 - ((chooseok-10)*10000*0.1)\n",
    "    print(f\"{int(price)}원 입니다.\")"
   ]
  },
  {
   "cell_type": "code",
   "execution_count": null,
   "id": "e57b7385",
   "metadata": {},
   "outputs": [],
   "source": []
  }
 ],
 "metadata": {
  "kernelspec": {
   "display_name": "Python 3 (ipykernel)",
   "language": "python",
   "name": "python3"
  },
  "language_info": {
   "codemirror_mode": {
    "name": "ipython",
    "version": 3
   },
   "file_extension": ".py",
   "mimetype": "text/x-python",
   "name": "python",
   "nbconvert_exporter": "python",
   "pygments_lexer": "ipython3",
   "version": "3.9.12"
  }
 },
 "nbformat": 4,
 "nbformat_minor": 5
}
