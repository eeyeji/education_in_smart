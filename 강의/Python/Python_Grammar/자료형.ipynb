{
 "cells": [
  {
   "cell_type": "code",
   "execution_count": 21,
   "id": "8d7f8be6",
   "metadata": {},
   "outputs": [
    {
     "name": "stdout",
     "output_type": "stream",
     "text": [
      "오늘의 메뉴는 곱창볶음입니다.\n",
      "오늘의 숫자는 2입니다.\n",
      "즉 오늘의 메뉴는 꽈배기와 짬뽕입니다.\n",
      "오늘의 메뉴는 곱창볶음입니다.\n",
      "오늘의 메뉴는 곱창볶음와 짬뽕입니다.\n",
      "오늘의 메뉴는 곱창볶음와 짬뽕입니다.\n",
      "오늘의 메뉴는 짬뽕와 곱창볶음입니다.\n",
      "오늘의 메뉴는곱창볶음와 꽈배기입니다.\n"
     ]
    }
   ],
   "source": [
    "#포멧팅 1. %사용(문자열 할당시 s 사용, 숫자 할당시 d 사용) 2.\n",
    "lunch_menu1=\"곱창볶음\" \n",
    "lunch_menu2=\"꽈배기\" \n",
    "lunch_menu3=\"짬뽕\"\n",
    "num=2\n",
    "\n",
    "print(\"오늘의 메뉴는 %s입니다.\"%lunch_menu1)\n",
    "print(\"오늘의 숫자는 %d입니다.\"%num)\n",
    "print(\"즉 오늘의 메뉴는 %s와 %s입니다.\" %(lunch_menu2, lunch_menu3))\n",
    "\n",
    "print(\"오늘의 메뉴는 {}입니다.\".format(lunch_menu1))\n",
    "print(\"오늘의 메뉴는 {}와 {}입니다.\".format(lunch_menu1, lunch_menu3))\n",
    "#위치 바꾸고 싶을 때 해당 인덱스 번호 사용해서 바꿔주기\n",
    "print(\"오늘의 메뉴는 {0}와 {1}입니다.\".format(lunch_menu1, lunch_menu3))\n",
    "print(\"오늘의 메뉴는 {1}와 {0}입니다.\".format(lunch_menu1, lunch_menu3))\n",
    "\n",
    "print(f\"오늘의 메뉴는{lunch_menu1}와 {lunch_menu2}입니다.\")"
   ]
  },
  {
   "cell_type": "markdown",
   "id": "55f8663f",
   "metadata": {},
   "source": [
    "## 문제\n",
    "\n",
    "### 변수 x에 100을 대입하고, 변수 y에 200을 대입한 뒤.변수 add에 x와 y의 합을 대입합니다.\n",
    "\n",
    "- 그 후, 대입한 변수를 바탕으로 아래 문자를 출력합니다.\n",
    "-\"100과 200의 합은 300입니다.\""
   ]
  },
  {
   "cell_type": "code",
   "execution_count": 22,
   "id": "927ebde0",
   "metadata": {},
   "outputs": [
    {
     "name": "stdout",
     "output_type": "stream",
     "text": [
      "100과 200의 합은 300입니다.\n"
     ]
    }
   ],
   "source": [
    "x, y =100, 200\n",
    "add = x + y\n",
    "#print(\"100과 200의 합은 %d입니다.\"%add)\n",
    "#print(\"100과 200의 합은 {}입니다\".format(add))\n",
    "#print(f\"100과 200의 합은 {add}입니다.\")\n",
    "print(\"{}과 {}의 합은 {}입니다.\".format(x,y,add))"
   ]
  },
  {
   "cell_type": "code",
   "execution_count": 23,
   "id": "d8943fee",
   "metadata": {},
   "outputs": [],
   "source": [
    "song=\"tell me tell me tetetete tell me\""
   ]
  },
  {
   "cell_type": "code",
   "execution_count": 24,
   "id": "b85a608a",
   "metadata": {},
   "outputs": [
    {
     "data": {
      "text/plain": [
       "3"
      ]
     },
     "execution_count": 24,
     "metadata": {},
     "output_type": "execute_result"
    }
   ],
   "source": [
    "song.count(\"tell me\")\n",
    "#tell me가 나오는 수"
   ]
  },
  {
   "cell_type": "code",
   "execution_count": 25,
   "id": "f4cb7e26",
   "metadata": {},
   "outputs": [
    {
     "data": {
      "text/plain": [
       "16"
      ]
     },
     "execution_count": 25,
     "metadata": {},
     "output_type": "execute_result"
    }
   ],
   "source": [
    "song.find(\"tetetete\")\n",
    "#tetetete가 시작되는 인덱스 번호 나타냄"
   ]
  },
  {
   "cell_type": "code",
   "execution_count": 26,
   "id": "82a4c34a",
   "metadata": {},
   "outputs": [
    {
     "data": {
      "text/plain": [
       "'TELL ME TELL ME TETETETE TELL ME'"
      ]
     },
     "execution_count": 26,
     "metadata": {},
     "output_type": "execute_result"
    }
   ],
   "source": [
    "song.upper()\n",
    "#대문자로 나타냄, 계속해서 대문자로 나타내고 싶으면 song에다가 song.upper()를 할당해줘야함"
   ]
  },
  {
   "cell_type": "code",
   "execution_count": 29,
   "id": "56df958f",
   "metadata": {},
   "outputs": [
    {
     "data": {
      "text/plain": [
       "'TELL ME TELL ME TETETETE TELL ME'"
      ]
     },
     "execution_count": 29,
     "metadata": {},
     "output_type": "execute_result"
    }
   ],
   "source": [
    "song = song.upper()\n",
    "song"
   ]
  },
  {
   "cell_type": "code",
   "execution_count": 31,
   "id": "677fda88",
   "metadata": {},
   "outputs": [
    {
     "data": {
      "text/plain": [
       "'tell me tell me tetetete tell me'"
      ]
     },
     "execution_count": 31,
     "metadata": {},
     "output_type": "execute_result"
    }
   ],
   "source": [
    "song=song.lower()\n",
    "song\n",
    "#소문자로 나타냄"
   ]
  },
  {
   "cell_type": "code",
   "execution_count": 32,
   "id": "e6901664",
   "metadata": {},
   "outputs": [
    {
     "data": {
      "text/plain": [
       "'Tell Me Tell Me Tetetete Tell Me'"
      ]
     },
     "execution_count": 32,
     "metadata": {},
     "output_type": "execute_result"
    }
   ],
   "source": [
    "song.title()\n",
    "#첫글자만 대문자로 바꿔줌"
   ]
  },
  {
   "cell_type": "code",
   "execution_count": 34,
   "id": "286a40d4",
   "metadata": {},
   "outputs": [
    {
     "data": {
      "text/plain": [
       "'yell me yell me yeyeyeye yell me'"
      ]
     },
     "execution_count": 34,
     "metadata": {},
     "output_type": "execute_result"
    }
   ],
   "source": [
    "#문자열 안에 있는 특정한 단어를 교체해줌\n",
    "song.replace(\"t\", \"y\")\n",
    "#song.replace(\"tell\", \"yell\")"
   ]
  },
  {
   "cell_type": "code",
   "execution_count": 35,
   "id": "ce3878fe",
   "metadata": {},
   "outputs": [
    {
     "data": {
      "text/plain": [
       "'tell me tell me tetetete tell me'"
      ]
     },
     "execution_count": 35,
     "metadata": {},
     "output_type": "execute_result"
    }
   ],
   "source": [
    "song\n",
    "#song을 song.replace로 할당을 해주지 않았기 때문에 song은 여전히 tell~"
   ]
  },
  {
   "cell_type": "code",
   "execution_count": 37,
   "id": "885b307e",
   "metadata": {},
   "outputs": [
    {
     "data": {
      "text/plain": [
       "['tell', 'me', 'tell', 'me', 'tetetete', 'tell', 'me']"
      ]
     },
     "execution_count": 37,
     "metadata": {},
     "output_type": "execute_result"
    }
   ],
   "source": [
    "song.split(\" \")\n",
    "#단어 혹은 문장으로 구분해 놓기 위해 사용"
   ]
  },
  {
   "cell_type": "code",
   "execution_count": 38,
   "id": "a830785a",
   "metadata": {},
   "outputs": [
    {
     "data": {
      "text/plain": [
       "['나는 밥을 먹었다', '아주 맛이 있었다.']"
      ]
     },
     "execution_count": 38,
     "metadata": {},
     "output_type": "execute_result"
    }
   ],
   "source": [
    "sentence = \"나는 밥을 먹었다. 아주 맛이 있었다.\"\n",
    "sentence.split(\". \")"
   ]
  },
  {
   "cell_type": "code",
   "execution_count": 45,
   "id": "b666c899",
   "metadata": {},
   "outputs": [
    {
     "data": {
      "text/plain": [
       "'tell        '"
      ]
     },
     "execution_count": 45,
     "metadata": {},
     "output_type": "execute_result"
    }
   ],
   "source": [
    "ah_ryeon = \"       tell        \"\n",
    "#ah_ryeon.strip()\n",
    "#ah_ryeon.rstrip()\n",
    "ah_ryeon.lstrip()"
   ]
  },
  {
   "cell_type": "code",
   "execution_count": 43,
   "id": "08219760",
   "metadata": {},
   "outputs": [
    {
     "data": {
      "text/plain": [
       "'tell'"
      ]
     },
     "execution_count": 43,
     "metadata": {},
     "output_type": "execute_result"
    }
   ],
   "source": [
    "ah_ryeon = \".........tell.........\"\n",
    "ah_ryeon.strip(\".\")"
   ]
  },
  {
   "cell_type": "code",
   "execution_count": null,
   "id": "14429dc0",
   "metadata": {},
   "outputs": [],
   "source": []
  }
 ],
 "metadata": {
  "kernelspec": {
   "display_name": "Python 3 (ipykernel)",
   "language": "python",
   "name": "python3"
  },
  "language_info": {
   "codemirror_mode": {
    "name": "ipython",
    "version": 3
   },
   "file_extension": ".py",
   "mimetype": "text/x-python",
   "name": "python",
   "nbconvert_exporter": "python",
   "pygments_lexer": "ipython3",
   "version": "3.9.12"
  }
 },
 "nbformat": 4,
 "nbformat_minor": 5
}
