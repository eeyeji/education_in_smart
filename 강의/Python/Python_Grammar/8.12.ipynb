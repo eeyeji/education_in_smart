{
 "cells": [
  {
   "cell_type": "markdown",
   "id": "edb93813",
   "metadata": {},
   "source": [
    "### 복습"
   ]
  },
  {
   "cell_type": "markdown",
   "id": "40ad7fbb",
   "metadata": {},
   "source": [
    "#### 변수\n",
    "- 정수형(int)\n",
    "- 실수형(float)\n",
    "- 논리형(boolean)\n",
    "- 문자형(string)"
   ]
  },
  {
   "cell_type": "markdown",
   "id": "de917835",
   "metadata": {},
   "source": [
    "#### 인덱싱과 슬라이싱"
   ]
  },
  {
   "cell_type": "markdown",
   "id": "5bf069cc",
   "metadata": {},
   "source": [
    "#### 인덱싱"
   ]
  },
  {
   "cell_type": "code",
   "execution_count": 4,
   "id": "55539eba",
   "metadata": {},
   "outputs": [
    {
     "data": {
      "text/plain": [
       "'a'"
      ]
     },
     "execution_count": 4,
     "metadata": {},
     "output_type": "execute_result"
    }
   ],
   "source": [
    "\"apple\"[0]"
   ]
  },
  {
   "cell_type": "code",
   "execution_count": 2,
   "id": "9b84e8fa",
   "metadata": {},
   "outputs": [
    {
     "data": {
      "text/plain": [
       "'apple'"
      ]
     },
     "execution_count": 2,
     "metadata": {},
     "output_type": "execute_result"
    }
   ],
   "source": [
    "[\"apple\", \"banana\", \"egg\"][0]"
   ]
  },
  {
   "cell_type": "code",
   "execution_count": 1,
   "id": "7e24548f",
   "metadata": {},
   "outputs": [
    {
     "data": {
      "text/plain": [
       "'a'"
      ]
     },
     "execution_count": 1,
     "metadata": {},
     "output_type": "execute_result"
    }
   ],
   "source": [
    "[\"apple\", \"banana\", \"egg\"][0][0]"
   ]
  },
  {
   "cell_type": "code",
   "execution_count": 6,
   "id": "91bdf4e0",
   "metadata": {},
   "outputs": [
    {
     "data": {
      "text/plain": [
       "['melon', 'watermelon']"
      ]
     },
     "execution_count": 6,
     "metadata": {},
     "output_type": "execute_result"
    }
   ],
   "source": [
    "[\"apple\", \"banana\", [\"melon\", \"watermelon\"]][2]"
   ]
  },
  {
   "cell_type": "code",
   "execution_count": 9,
   "id": "d935e746",
   "metadata": {},
   "outputs": [
    {
     "data": {
      "text/plain": [
       "'w'"
      ]
     },
     "execution_count": 9,
     "metadata": {},
     "output_type": "execute_result"
    }
   ],
   "source": [
    "[\"apple\", \"banana\", [\"melon\", \"watermelon\"]][2][1][0]"
   ]
  },
  {
   "cell_type": "code",
   "execution_count": 17,
   "id": "8623f10f",
   "metadata": {},
   "outputs": [
    {
     "data": {
      "text/plain": [
       "'o'"
      ]
     },
     "execution_count": 17,
     "metadata": {},
     "output_type": "execute_result"
    }
   ],
   "source": [
    "fruit = [[\"mango\", \"grape\"], [\"apple\", \"banana\", [\"melon\", \"watermelon\"]]]\n",
    "fruit[1][2][0][3]"
   ]
  },
  {
   "cell_type": "code",
   "execution_count": 21,
   "id": "b4257f67",
   "metadata": {
    "scrolled": true
   },
   "outputs": [
    {
     "data": {
      "text/plain": [
       "'r'"
      ]
     },
     "execution_count": 21,
     "metadata": {},
     "output_type": "execute_result"
    }
   ],
   "source": [
    "fruit = [[\"mango\", \"grape\"], [\"apple\", \"banana\", [\"melon\", \"watermelon\"]]]\n",
    "fruit[0][1][1]"
   ]
  },
  {
   "cell_type": "markdown",
   "id": "b78748ac",
   "metadata": {},
   "source": [
    "#### 슬라이싱"
   ]
  },
  {
   "cell_type": "code",
   "execution_count": 24,
   "id": "eb9a7d30",
   "metadata": {
    "scrolled": true
   },
   "outputs": [
    {
     "data": {
      "text/plain": [
       "'melon'"
      ]
     },
     "execution_count": 24,
     "metadata": {},
     "output_type": "execute_result"
    }
   ],
   "source": [
    "\"watermelon\"[5:10]"
   ]
  },
  {
   "cell_type": "code",
   "execution_count": 26,
   "id": "81bdcaa6",
   "metadata": {},
   "outputs": [
    {
     "data": {
      "text/plain": [
       "'melo'"
      ]
     },
     "execution_count": 26,
     "metadata": {},
     "output_type": "execute_result"
    }
   ],
   "source": [
    "# 주의: [왼쪽 이상 : 오른쪽 미만]\n",
    "\"watermelon\"[-5:-1]"
   ]
  },
  {
   "cell_type": "code",
   "execution_count": 23,
   "id": "cfe14a5f",
   "metadata": {},
   "outputs": [
    {
     "data": {
      "text/plain": [
       "'melon'"
      ]
     },
     "execution_count": 23,
     "metadata": {},
     "output_type": "execute_result"
    }
   ],
   "source": [
    "\"watermelon\"[-5:]"
   ]
  },
  {
   "cell_type": "code",
   "execution_count": 28,
   "id": "06e9a822",
   "metadata": {},
   "outputs": [
    {
     "data": {
      "text/plain": [
       "'water'"
      ]
     },
     "execution_count": 28,
     "metadata": {},
     "output_type": "execute_result"
    }
   ],
   "source": [
    "fruit = [[\"mango\", \"grape\"], [\"apple\", \"banana\", [\"melon\", \"watermelon\"]]]\n",
    "fruit[1][2][1][0:5]\n",
    "#fruit[1][2][1][:5]"
   ]
  },
  {
   "cell_type": "markdown",
   "id": "ee5e618d",
   "metadata": {},
   "source": [
    "### 포맷팅"
   ]
  },
  {
   "cell_type": "code",
   "execution_count": 33,
   "id": "051f49e0",
   "metadata": {},
   "outputs": [
    {
     "name": "stdout",
     "output_type": "stream",
     "text": [
      "시장에 가면 망고이(가) 있다\n",
      "시장에 가면 파인애플이(가) 있다\n",
      "시장에 가면 멜론이(가) 있다\n"
     ]
    }
   ],
   "source": [
    "fruit1 = \"망고\"\n",
    "fruit2 = \"파인애플\"\n",
    "fruit3 = \"멜론\"\n",
    "\n",
    "print(\"시장에 가면 %s이(가) 있다\"%fruit1)\n",
    "print(\"시장에 가면 {}이(가) 있다\".format(fruit2))\n",
    "print(f\"시장에 가면 {fruit3}이(가) 있다\")"
   ]
  },
  {
   "cell_type": "code",
   "execution_count": null,
   "id": "5e563f8a",
   "metadata": {},
   "outputs": [],
   "source": [
    "fruit = [\"mango\", \"grape\", \"apple\", \"banana\", \"melon\", \"watermelon\"]\n",
    "print(\"There is a %s in the market\"%fruit[0])\n",
    "print(\"There is a {} in the market\".format(fruit[2]))\n",
    "print(f\"There is a {fruit[5]} in the market\")"
   ]
  },
  {
   "cell_type": "markdown",
   "id": "e6c9bef2",
   "metadata": {},
   "source": [
    "#### 메소드"
   ]
  },
  {
   "cell_type": "code",
   "execution_count": 41,
   "id": "f4592b37",
   "metadata": {},
   "outputs": [
    {
     "data": {
      "text/plain": [
       "3"
      ]
     },
     "execution_count": 41,
     "metadata": {},
     "output_type": "execute_result"
    }
   ],
   "source": [
    "# count\n",
    "sentence = \"There is a mango in the market\"\n",
    "sentence.count(\"a\")"
   ]
  },
  {
   "cell_type": "code",
   "execution_count": 42,
   "id": "f6ae5a97",
   "metadata": {},
   "outputs": [
    {
     "data": {
      "text/plain": [
       "9"
      ]
     },
     "execution_count": 42,
     "metadata": {},
     "output_type": "execute_result"
    }
   ],
   "source": [
    "# a가 중복되면 a가 최초로 등장하는 구간 찾아냄\n",
    "sentence.find(\"a\")"
   ]
  },
  {
   "cell_type": "code",
   "execution_count": 43,
   "id": "6db4d30b",
   "metadata": {},
   "outputs": [
    {
     "data": {
      "text/plain": [
       "'THERE IS A MANGO IN THE MARKET'"
      ]
     },
     "execution_count": 43,
     "metadata": {},
     "output_type": "execute_result"
    }
   ],
   "source": [
    "#대문자\n",
    "sentence.upper()"
   ]
  },
  {
   "cell_type": "code",
   "execution_count": 44,
   "id": "fa636886",
   "metadata": {},
   "outputs": [
    {
     "data": {
      "text/plain": [
       "'there is a mango in the market'"
      ]
     },
     "execution_count": 44,
     "metadata": {},
     "output_type": "execute_result"
    }
   ],
   "source": [
    "#소문자\n",
    "sentence.lower()"
   ]
  },
  {
   "cell_type": "code",
   "execution_count": 45,
   "id": "596c8c41",
   "metadata": {},
   "outputs": [
    {
     "data": {
      "text/plain": [
       "['There', 'is', 'a', 'mango', 'in', 'the', 'market']"
      ]
     },
     "execution_count": 45,
     "metadata": {},
     "output_type": "execute_result"
    }
   ],
   "source": [
    "#쪼개기\n",
    "sentence.split()"
   ]
  },
  {
   "cell_type": "code",
   "execution_count": 46,
   "id": "58b5fa11",
   "metadata": {},
   "outputs": [
    {
     "data": {
      "text/plain": [
       "['There is ', ' m', 'ngo in the m', 'rket']"
      ]
     },
     "execution_count": 46,
     "metadata": {},
     "output_type": "execute_result"
    }
   ],
   "source": [
    "sentence.split(\"a\")"
   ]
  },
  {
   "cell_type": "code",
   "execution_count": 47,
   "id": "1a0c3535",
   "metadata": {},
   "outputs": [
    {
     "data": {
      "text/plain": [
       "'There is a grape in the market'"
      ]
     },
     "execution_count": 47,
     "metadata": {},
     "output_type": "execute_result"
    }
   ],
   "source": [
    "# 교체\n",
    "fruit = [\"mango\", \"grape\", \"apple\", \"banana\", \"melon\", \"watermelon\"]\n",
    "sentence = \"There is a mango in the market\"\n",
    "\n",
    "sentence.replace(\"mango\", \"grape\")"
   ]
  },
  {
   "cell_type": "code",
   "execution_count": 48,
   "id": "8b6fab43",
   "metadata": {},
   "outputs": [
    {
     "data": {
      "text/plain": [
       "'There is a grape in the market'"
      ]
     },
     "execution_count": 48,
     "metadata": {},
     "output_type": "execute_result"
    }
   ],
   "source": [
    "fruit = [\"mango\", \"grape\", \"apple\", \"banana\", \"melon\", \"watermelon\"]\n",
    "sentence = \"There is a mango in the market\"\n",
    "\n",
    "sentence.replace(fruit[0], fruit[1])"
   ]
  },
  {
   "cell_type": "code",
   "execution_count": 50,
   "id": "9752a9c2",
   "metadata": {},
   "outputs": [
    {
     "data": {
      "text/plain": [
       "'There is a  in the market'"
      ]
     },
     "execution_count": 50,
     "metadata": {},
     "output_type": "execute_result"
    }
   ],
   "source": [
    "# replace를 이용하여 문자열 없애기\n",
    "fruit = [\"mango\", \"grape\", \"apple\", \"banana\", \"melon\", \"watermelon\"]\n",
    "sentence = \"There is a mango in the market\"\n",
    "\n",
    "sentence.replace(\"mango\", \"\")"
   ]
  },
  {
   "cell_type": "markdown",
   "id": "ac91d6f5",
   "metadata": {},
   "source": [
    "#### 연산자\n",
    "- +, -, *, /, //, %, **\n",
    "- 문자 + 문자\n",
    "- 문자 * 숫자"
   ]
  },
  {
   "cell_type": "code",
   "execution_count": 54,
   "id": "f44ee4b5",
   "metadata": {},
   "outputs": [
    {
     "data": {
      "text/plain": [
       "14"
      ]
     },
     "execution_count": 54,
     "metadata": {},
     "output_type": "execute_result"
    }
   ],
   "source": [
    "num = 7\n",
    "num = num + 7\n",
    "num"
   ]
  },
  {
   "cell_type": "code",
   "execution_count": 55,
   "id": "44f7d7a9",
   "metadata": {},
   "outputs": [
    {
     "data": {
      "text/plain": [
       "21"
      ]
     },
     "execution_count": 55,
     "metadata": {},
     "output_type": "execute_result"
    }
   ],
   "source": [
    "num += 7\n",
    "num"
   ]
  },
  {
   "cell_type": "code",
   "execution_count": 69,
   "id": "ca1db59e",
   "metadata": {},
   "outputs": [
    {
     "name": "stdout",
     "output_type": "stream",
     "text": [
      "안녕하세요\n",
      "안녕안녕안녕\n",
      "안녕3\n",
      "6\n"
     ]
    }
   ],
   "source": [
    "a = \"안녕\"\n",
    "b = \"하세요\"\n",
    "c = 3\n",
    "d = \"3\"\n",
    "\n",
    "print(a + b)\n",
    "print(a * c)\n",
    "print(a + d)\n",
    "print(c + int(d))"
   ]
  },
  {
   "cell_type": "markdown",
   "id": "ad1c0691",
   "metadata": {},
   "source": [
    "### 다음 중 결과 값이 다른 하나는?\n",
    "1. 5 + 6\n",
    "2.int(5) + int(6)\n",
    "3.int(5 + 6)\n",
    "4.int(\"5\") + int(\"6\")\n",
    "5.int(\"5\" + \"6\")\n",
    "\n",
    "답: 5 \n",
    "이유: 5번만 56으로 출력됨"
   ]
  },
  {
   "cell_type": "markdown",
   "id": "3c8ede82",
   "metadata": {},
   "source": [
    "#### len"
   ]
  },
  {
   "cell_type": "code",
   "execution_count": 171,
   "id": "8b20517d",
   "metadata": {},
   "outputs": [
    {
     "data": {
      "text/plain": [
       "2"
      ]
     },
     "execution_count": 171,
     "metadata": {},
     "output_type": "execute_result"
    }
   ],
   "source": [
    "len(\"ㅎㅎ\")"
   ]
  },
  {
   "cell_type": "code",
   "execution_count": 72,
   "id": "34e5a351",
   "metadata": {},
   "outputs": [
    {
     "data": {
      "text/plain": [
       "6"
      ]
     },
     "execution_count": 72,
     "metadata": {},
     "output_type": "execute_result"
    }
   ],
   "source": [
    "# 순서가 있는 자료형의 len은 그 자료형의 인덱스의 개수를 의미한다.\n",
    "fruit = [\"mango\", \"grape\", \"apple\", \"banana\", \"melon\", \"watermelon\"]\n",
    "len(fruit)"
   ]
  },
  {
   "cell_type": "code",
   "execution_count": 73,
   "id": "20b64c85",
   "metadata": {},
   "outputs": [
    {
     "data": {
      "text/plain": [
       "5"
      ]
     },
     "execution_count": 73,
     "metadata": {},
     "output_type": "execute_result"
    }
   ],
   "source": [
    "fruit = [\"mango\", \"grape\", \"apple\", \"banana\", \"melon\", \"watermelon\"]\n",
    "len(fruit[0])"
   ]
  },
  {
   "cell_type": "markdown",
   "id": "d7e4a8e5",
   "metadata": {},
   "source": [
    "#### 논리형(true, false)\n",
    "- ==, !=, <=, >=, <, >\n",
    "- and, or"
   ]
  },
  {
   "cell_type": "markdown",
   "id": "b0901b04",
   "metadata": {},
   "source": [
    "#### 조건문: if(블록을 생성함 - :을 사용함으로써 다음 줄에 들여쓰기로 표시됨- 종속됨을 나타내는 표시)\n",
    "if 명제가 참이라면:\n",
    "\n",
    "    명제가 참일때 실행하는 코드\n",
    "\n",
    "else:\n",
    "\n",
    "    명제가 거짓일 때 실행하는 코드\n",
    "    \n",
    "*추가: pass사용시 뒷가정은 패스하라는 뜻"
   ]
  },
  {
   "cell_type": "code",
   "execution_count": 74,
   "id": "f29eb096",
   "metadata": {},
   "outputs": [
    {
     "name": "stdout",
     "output_type": "stream",
     "text": [
      "홀수입니다.\n"
     ]
    }
   ],
   "source": [
    "#숫자가 짝수라면: if sutja % 2 == 0\n",
    "sutja = 3\n",
    "if sutja % 2 == 0:\n",
    "    print(\"짝수입니다.\")\n",
    "else:\n",
    "    print(\"홀수입니다.\")"
   ]
  },
  {
   "cell_type": "markdown",
   "id": "cfbd73da",
   "metadata": {},
   "source": [
    "#### in\n",
    "왼 in 오: 왼쪽이 오른쪽에 포함되는가?"
   ]
  },
  {
   "cell_type": "code",
   "execution_count": 75,
   "id": "d5ffdb0b",
   "metadata": {},
   "outputs": [
    {
     "data": {
      "text/plain": [
       "True"
      ]
     },
     "execution_count": 75,
     "metadata": {},
     "output_type": "execute_result"
    }
   ],
   "source": [
    "fruit = [\"mango\", \"grape\", \"apple\", \"banana\", \"melon\", \"watermelon\"]\n",
    "\"mango\" in fruit"
   ]
  },
  {
   "cell_type": "code",
   "execution_count": 77,
   "id": "91b90e74",
   "metadata": {},
   "outputs": [
    {
     "data": {
      "text/plain": [
       "True"
      ]
     },
     "execution_count": 77,
     "metadata": {},
     "output_type": "execute_result"
    }
   ],
   "source": [
    "\"m\" in \"mango\""
   ]
  },
  {
   "cell_type": "code",
   "execution_count": 78,
   "id": "663fecf2",
   "metadata": {},
   "outputs": [
    {
     "data": {
      "text/plain": [
       "True"
      ]
     },
     "execution_count": 78,
     "metadata": {},
     "output_type": "execute_result"
    }
   ],
   "source": [
    "\"man\" in \"mango\""
   ]
  },
  {
   "cell_type": "code",
   "execution_count": 79,
   "id": "9622c8ea",
   "metadata": {},
   "outputs": [
    {
     "data": {
      "text/plain": [
       "False"
      ]
     },
     "execution_count": 79,
     "metadata": {},
     "output_type": "execute_result"
    }
   ],
   "source": [
    "fruit = [\"mango\", \"grape\", \"apple\", \"banana\", \"melon\", \"watermelon\"]\n",
    "[\"mango\", \"grape\"] in fruit"
   ]
  },
  {
   "cell_type": "code",
   "execution_count": 83,
   "id": "819220e7",
   "metadata": {},
   "outputs": [
    {
     "data": {
      "text/plain": [
       "True"
      ]
     },
     "execution_count": 83,
     "metadata": {},
     "output_type": "execute_result"
    }
   ],
   "source": [
    "fruit = [\"mango\", \"grape\", \"apple\", \"banana\", \"melon\", \"watermelon\"]\n",
    "\"mango\" in fruit and \"grape\" in fruit"
   ]
  },
  {
   "cell_type": "code",
   "execution_count": 86,
   "id": "b49baed3",
   "metadata": {},
   "outputs": [
    {
     "data": {
      "text/plain": [
       "True"
      ]
     },
     "execution_count": 86,
     "metadata": {},
     "output_type": "execute_result"
    }
   ],
   "source": [
    "fruit = [\"mango\", \"grape\", \"apple\", \"banana\", \"melon\", \"watermelon\"]\n",
    "(\"mango\" in fruit) or (\"grape\" in fruit)"
   ]
  },
  {
   "cell_type": "code",
   "execution_count": 87,
   "id": "0b5659cc",
   "metadata": {},
   "outputs": [
    {
     "data": {
      "text/plain": [
       "'mango'"
      ]
     },
     "execution_count": 87,
     "metadata": {},
     "output_type": "execute_result"
    }
   ],
   "source": [
    "# 파이썬이 중의적 표현으로 인식하기 때문에 사용하지 않는다. 해결법&권장사항: ()로 묶어준다\n",
    "fruit = [\"mango\", \"grape\", \"apple\", \"banana\", \"melon\", \"watermelon\"]\n",
    "\"mango\" or \"grape\" in fruit"
   ]
  },
  {
   "cell_type": "code",
   "execution_count": 85,
   "id": "4bd8feae",
   "metadata": {
    "scrolled": true
   },
   "outputs": [
    {
     "data": {
      "text/plain": [
       "True"
      ]
     },
     "execution_count": 85,
     "metadata": {},
     "output_type": "execute_result"
    }
   ],
   "source": [
    "fruit = [\"mango\", \"grape\", \"apple\", \"banana\", \"melon\", \"watermelon\"]\n",
    "(\"mango\" or \"grape\") in fruit"
   ]
  },
  {
   "cell_type": "markdown",
   "id": "c9223b36",
   "metadata": {},
   "source": [
    "#### tell me노래 가사를 보고 가사에 제목이 포함되는지 확인하고 만약 가사에 제목이 포함된다면 그 부분을 삭제하기\n",
    "- 제목: tell me\n",
    "- lyrics = \"\"\"\n",
    "   가사\n",
    "  \"\"\"\n",
    "- 실행 후 lyrics 호출\n",
    "- 변수에 lyrics 대입\n",
    "- \\n: 줄바꿈"
   ]
  },
  {
   "cell_type": "code",
   "execution_count": 167,
   "id": "af62c1ad",
   "metadata": {},
   "outputs": [],
   "source": [
    "lyrics = \"\"\"\n",
    "너도 날 좋아할 줄은 몰랐어\n",
    "어쩌면 좋아 너무나 좋아\n",
    "꿈만 같아서 나\n",
    "내 자신을 자꾸 꼬집어 봐 너무나 좋아\n",
    "니가 날 혹시 안 좋아할까봐\n",
    "혼자 얼마나 애 태운지 몰라\n",
    "그런데 니가 날 사랑한다니\n",
    "어머나, 다시 한 번 말해봐\n",
    "Tell me tell me\n",
    "Tell tell tell tell tell tell me\n",
    "나를 사랑한다고 날 기다려 왔다고\n",
    "Tell me tell me\n",
    "Tell tell tell tell tell tell me\n",
    "내가 필요하다 말해, 말해줘요\n",
    "Tell me tell me\n",
    "Tell tell tell tell tell tell me\n",
    "자꾸만 듣고 싶어 계속 내게 말해줘\n",
    "Tell me tell me\n",
    "Tell tell tell tell tell tell me\n",
    "꿈이 아니라고 말해, 말해줘요\n",
    "어쩜 내 가슴이 이렇게 뛰니\n",
    "가슴이 정말 터질 것 같아\n",
    "니가 날 볼 때면\n",
    "전기에 감전된 사람처럼 전기가 올라\n",
    "얼마나 오래 기다린지 몰라\n",
    "얼마나 오래 꿈 꿨는지 몰라\n",
    "그런데 니가 날 사랑한다니 어머나\n",
    "다시 한 번 말해봐\n",
    "Tell me tell me\n",
    "Tell tell tell tell tell tell me\n",
    "나를 사랑한다고 날 기다려 왔다고\n",
    "Tell me tell me\n",
    "Tell tell tell tell tell tell me\n",
    "내가 필요하다 말해, 말해줘요\n",
    "Tell me tell me\n",
    "Tell tell tell tell tell tell me\n",
    "자꾸만 듣고 싶어 계속 내게 말해줘\n",
    "Tell me tell me\n",
    "Tell tell tell tell tell tell me\n",
    "꿈이 아니라고 말해, 말해줘요\n",
    "Slave to the moon, slave to the moon (I know you got)\n",
    "Slave to the moon, slave to the moon (I know you)\n",
    "Tell me tell me tell me you\n",
    "Want me want me want me, too\n",
    "Tell me tell me tell me you\n",
    "Love me too, love me too\n",
    "얼마나 오래 기다린지 몰라\n",
    "얼마나 오래 꿈 꿨는지 몰라\n",
    "그런데 니가 날 사랑한다니\n",
    "어머나, 다시 한 번 말해봐\n",
    "Tell me tell me\n",
    "Tell tell tell tell tell tell me\n",
    "나를 사랑한다고 날 기다려 왔다고\n",
    "Tell me tell me\n",
    "Tell tell tell tell tell tell me\n",
    "내가 필요하다 말해, 말해줘요\n",
    "Tell me tell me\n",
    "Tell tell tell tell tell tell me\n",
    "자꾸만 듣고 싶어 계속 내게 말해줘\n",
    "Tell me tell me\n",
    "Tell tell tell tell tell tell me\n",
    "꿈이 아니라고 말해, 말해줘요\n",
    "Tell me tell me\n",
    "Tell tell tell tell tell tell me\n",
    "Tell tell tell tell tell tell me\n",
    "Tell me (tell me)\n",
    "\"\"\""
   ]
  },
  {
   "cell_type": "code",
   "execution_count": 168,
   "id": "87148f94",
   "metadata": {},
   "outputs": [
    {
     "data": {
      "text/plain": [
       "'\\n너도 날 좋아할 줄은 몰랐어\\n어쩌면 좋아 너무나 좋아\\n꿈만 같아서 나\\n내 자신을 자꾸 꼬집어 봐 너무나 좋아\\n니가 날 혹시 안 좋아할까봐\\n혼자 얼마나 애 태운지 몰라\\n그런데 니가 날 사랑한다니\\n어머나, 다시 한 번 말해봐\\nTell me tell me\\nTell tell tell tell tell tell me\\n나를 사랑한다고 날 기다려 왔다고\\nTell me tell me\\nTell tell tell tell tell tell me\\n내가 필요하다 말해, 말해줘요\\nTell me tell me\\nTell tell tell tell tell tell me\\n자꾸만 듣고 싶어 계속 내게 말해줘\\nTell me tell me\\nTell tell tell tell tell tell me\\n꿈이 아니라고 말해, 말해줘요\\n어쩜 내 가슴이 이렇게 뛰니\\n가슴이 정말 터질 것 같아\\n니가 날 볼 때면\\n전기에 감전된 사람처럼 전기가 올라\\n얼마나 오래 기다린지 몰라\\n얼마나 오래 꿈 꿨는지 몰라\\n그런데 니가 날 사랑한다니 어머나\\n다시 한 번 말해봐\\nTell me tell me\\nTell tell tell tell tell tell me\\n나를 사랑한다고 날 기다려 왔다고\\nTell me tell me\\nTell tell tell tell tell tell me\\n내가 필요하다 말해, 말해줘요\\nTell me tell me\\nTell tell tell tell tell tell me\\n자꾸만 듣고 싶어 계속 내게 말해줘\\nTell me tell me\\nTell tell tell tell tell tell me\\n꿈이 아니라고 말해, 말해줘요\\nSlave to the moon, slave to the moon (I know you got)\\nSlave to the moon, slave to the moon (I know you)\\nTell me tell me tell me you\\nWant me want me want me, too\\nTell me tell me tell me you\\nLove me too, love me too\\n얼마나 오래 기다린지 몰라\\n얼마나 오래 꿈 꿨는지 몰라\\n그런데 니가 날 사랑한다니\\n어머나, 다시 한 번 말해봐\\nTell me tell me\\nTell tell tell tell tell tell me\\n나를 사랑한다고 날 기다려 왔다고\\nTell me tell me\\nTell tell tell tell tell tell me\\n내가 필요하다 말해, 말해줘요\\nTell me tell me\\nTell tell tell tell tell tell me\\n자꾸만 듣고 싶어 계속 내게 말해줘\\nTell me tell me\\nTell tell tell tell tell tell me\\n꿈이 아니라고 말해, 말해줘요\\nTell me tell me\\nTell tell tell tell tell tell me\\nTell tell tell tell tell tell me\\nTell me (tell me)\\n'"
      ]
     },
     "execution_count": 168,
     "metadata": {},
     "output_type": "execute_result"
    }
   ],
   "source": [
    "lyrics"
   ]
  },
  {
   "cell_type": "code",
   "execution_count": 128,
   "id": "a35a92bb",
   "metadata": {
    "scrolled": true
   },
   "outputs": [
    {
     "data": {
      "text/plain": [
       "' 너도 날 좋아할 줄은 몰랐어 어쩌면 좋아 너무나 좋아 꿈만 같아서 나 내 자신을 자꾸 꼬집어 봐 너무나 좋아 니가 날 혹시 안 좋아할까봐 혼자 얼마나 애 태운지 몰라 그런데 니가 날 사랑한다니 어머나, 다시 한 번 말해봐 @@@@@@ @@@@@@ tell tell tell tell tell @@@@@@ 나를 사랑한다고 날 기다려 왔다고 @@@@@@ @@@@@@ tell tell tell tell tell @@@@@@ 내가 필요하다 말해, 말해줘요 @@@@@@ @@@@@@ tell tell tell tell tell @@@@@@ 자꾸만 듣고 싶어 계속 내게 말해줘 @@@@@@ @@@@@@ tell tell tell tell tell @@@@@@ 꿈이 아니라고 말해, 말해줘요 어쩜 내 가슴이 이렇게 뛰니 가슴이 정말 터질 것 같아 니가 날 볼 때면 전기에 감전된 사람처럼 전기가 올라 얼마나 오래 기다린지 몰라 얼마나 오래 꿈 꿨는지 몰라 그런데 니가 날 사랑한다니 어머나 다시 한 번 말해봐 @@@@@@ @@@@@@ tell tell tell tell tell @@@@@@ 나를 사랑한다고 날 기다려 왔다고 @@@@@@ @@@@@@ tell tell tell tell tell @@@@@@ 내가 필요하다 말해, 말해줘요 @@@@@@ @@@@@@ tell tell tell tell tell @@@@@@ 자꾸만 듣고 싶어 계속 내게 말해줘 @@@@@@ @@@@@@ tell tell tell tell tell @@@@@@ 꿈이 아니라고 말해, 말해줘요 slave to the moon, slave to the moon (i know you got) slave to the moon, slave to the moon (i know you) @@@@@@ @@@@@@ @@@@@@ you want me want me want me, too @@@@@@ @@@@@@ @@@@@@ you love me too, love me too 얼마나 오래 기다린지 몰라 얼마나 오래 꿈 꿨는지 몰라 그런데 니가 날 사랑한다니 어머나, 다시 한 번 말해봐 @@@@@@ @@@@@@ tell tell tell tell tell @@@@@@ 나를 사랑한다고 날 기다려 왔다고 @@@@@@ @@@@@@ tell tell tell tell tell @@@@@@ 내가 필요하다 말해, 말해줘요 @@@@@@ @@@@@@ tell tell tell tell tell @@@@@@ 자꾸만 듣고 싶어 계속 내게 말해줘 @@@@@@ @@@@@@ tell tell tell tell tell @@@@@@ 꿈이 아니라고 말해, 말해줘요 @@@@@@ @@@@@@ tell tell tell tell tell @@@@@@ tell tell tell tell tell @@@@@@ @@@@@@ (@@@@@@)'"
      ]
     },
     "execution_count": 128,
     "metadata": {},
     "output_type": "execute_result"
    }
   ],
   "source": [
    "lyrics = lyrics.replace(\"\\n\", \" \")\n",
    "lyrics"
   ]
  },
  {
   "cell_type": "code",
   "execution_count": 129,
   "id": "45fb2599",
   "metadata": {
    "scrolled": true
   },
   "outputs": [
    {
     "data": {
      "text/plain": [
       "' 너도 날 좋아할 줄은 몰랐어 어쩌면 좋아 너무나 좋아 꿈만 같아서 나 내 자신을 자꾸 꼬집어 봐 너무나 좋아 니가 날 혹시 안 좋아할까봐 혼자 얼마나 애 태운지 몰라 그런데 니가 날 사랑한다니 어머나, 다시 한 번 말해봐 @@@@@@ @@@@@@ tell tell tell tell tell @@@@@@ 나를 사랑한다고 날 기다려 왔다고 @@@@@@ @@@@@@ tell tell tell tell tell @@@@@@ 내가 필요하다 말해, 말해줘요 @@@@@@ @@@@@@ tell tell tell tell tell @@@@@@ 자꾸만 듣고 싶어 계속 내게 말해줘 @@@@@@ @@@@@@ tell tell tell tell tell @@@@@@ 꿈이 아니라고 말해, 말해줘요 어쩜 내 가슴이 이렇게 뛰니 가슴이 정말 터질 것 같아 니가 날 볼 때면 전기에 감전된 사람처럼 전기가 올라 얼마나 오래 기다린지 몰라 얼마나 오래 꿈 꿨는지 몰라 그런데 니가 날 사랑한다니 어머나 다시 한 번 말해봐 @@@@@@ @@@@@@ tell tell tell tell tell @@@@@@ 나를 사랑한다고 날 기다려 왔다고 @@@@@@ @@@@@@ tell tell tell tell tell @@@@@@ 내가 필요하다 말해, 말해줘요 @@@@@@ @@@@@@ tell tell tell tell tell @@@@@@ 자꾸만 듣고 싶어 계속 내게 말해줘 @@@@@@ @@@@@@ tell tell tell tell tell @@@@@@ 꿈이 아니라고 말해, 말해줘요 slave to the moon, slave to the moon (i know you got) slave to the moon, slave to the moon (i know you) @@@@@@ @@@@@@ @@@@@@ you want me want me want me, too @@@@@@ @@@@@@ @@@@@@ you love me too, love me too 얼마나 오래 기다린지 몰라 얼마나 오래 꿈 꿨는지 몰라 그런데 니가 날 사랑한다니 어머나, 다시 한 번 말해봐 @@@@@@ @@@@@@ tell tell tell tell tell @@@@@@ 나를 사랑한다고 날 기다려 왔다고 @@@@@@ @@@@@@ tell tell tell tell tell @@@@@@ 내가 필요하다 말해, 말해줘요 @@@@@@ @@@@@@ tell tell tell tell tell @@@@@@ 자꾸만 듣고 싶어 계속 내게 말해줘 @@@@@@ @@@@@@ tell tell tell tell tell @@@@@@ 꿈이 아니라고 말해, 말해줘요 @@@@@@ @@@@@@ tell tell tell tell tell @@@@@@ tell tell tell tell tell @@@@@@ @@@@@@ (@@@@@@)'"
      ]
     },
     "execution_count": 129,
     "metadata": {},
     "output_type": "execute_result"
    }
   ],
   "source": [
    "#가리는 경우: 마스킹\n",
    "#tell me -> @@@@@@\n",
    "lyrics = lyrics.lower()\n",
    "lyrics = lyrics.replace(\"tell me\", \"@@@@@@\")\n",
    "lyrics"
   ]
  },
  {
   "cell_type": "code",
   "execution_count": 130,
   "id": "bedcecf4",
   "metadata": {},
   "outputs": [
    {
     "data": {
      "text/plain": [
       "'\\n너도 날 좋아할 줄은 몰랐어\\n어쩌면 좋아 너무나 좋아\\n꿈만 같아서 나\\n내 자신을 자꾸 꼬집어 봐 너무나 좋아\\n니가 날 혹시 안 좋아할까봐\\n혼자 얼마나 애 태운지 몰라\\n그런데 니가 날 사랑한다니\\n어머나, 다시 한 번 말해봐\\nTell me tell me\\nTell tell tell tell tell tell me\\n나를 사랑한다고 날 기다려 왔다고\\nTell me tell me\\nTell tell tell tell tell tell me\\n내가 필요하다 말해, 말해줘요\\nTell me tell me\\nTell tell tell tell tell tell me\\n자꾸만 듣고 싶어 계속 내게 말해줘\\nTell me tell me\\nTell tell tell tell tell tell me\\n꿈이 아니라고 말해, 말해줘요\\n어쩜 내 가슴이 이렇게 뛰니\\n가슴이 정말 터질 것 같아\\n니가 날 볼 때면\\n전기에 감전된 사람처럼 전기가 올라\\n얼마나 오래 기다린지 몰라\\n얼마나 오래 꿈 꿨는지 몰라\\n그런데 니가 날 사랑한다니 어머나\\n다시 한 번 말해봐\\nTell me tell me\\nTell tell tell tell tell tell me\\n나를 사랑한다고 날 기다려 왔다고\\nTell me tell me\\nTell tell tell tell tell tell me\\n내가 필요하다 말해, 말해줘요\\nTell me tell me\\nTell tell tell tell tell tell me\\n자꾸만 듣고 싶어 계속 내게 말해줘\\nTell me tell me\\nTell tell tell tell tell tell me\\n꿈이 아니라고 말해, 말해줘요\\nSlave to the moon, slave to the moon (I know you got)\\nSlave to the moon, slave to the moon (I know you)\\nTell me tell me tell me you\\nWant me want me want me, too\\nTell me tell me tell me you\\nLove me too, love me too\\n얼마나 오래 기다린지 몰라\\n얼마나 오래 꿈 꿨는지 몰라\\n그런데 니가 날 사랑한다니\\n어머나, 다시 한 번 말해봐\\nTell me tell me\\nTell tell tell tell tell tell me\\n나를 사랑한다고 날 기다려 왔다고\\nTell me tell me\\nTell tell tell tell tell tell me\\n내가 필요하다 말해, 말해줘요\\nTell me tell me\\nTell tell tell tell tell tell me\\n자꾸만 듣고 싶어 계속 내게 말해줘\\nTell me tell me\\nTell tell tell tell tell tell me\\n꿈이 아니라고 말해, 말해줘요\\nTell me tell me\\nTell tell tell tell tell tell me\\nTell tell tell tell tell tell me\\nTell me (tell me)'"
      ]
     },
     "execution_count": 130,
     "metadata": {},
     "output_type": "execute_result"
    }
   ],
   "source": [
    "lyrics =lytics.replace(\"  \", \" \")\n",
    "lyrics"
   ]
  },
  {
   "cell_type": "code",
   "execution_count": null,
   "id": "b6ec4686",
   "metadata": {},
   "outputs": [],
   "source": [
    "lyrics.strip()"
   ]
  },
  {
   "cell_type": "code",
   "execution_count": null,
   "id": "a48d46fc",
   "metadata": {},
   "outputs": [],
   "source": [
    "lyrics[1:-1]"
   ]
  },
  {
   "cell_type": "code",
   "execution_count": 170,
   "id": "90db114a",
   "metadata": {},
   "outputs": [
    {
     "name": "stdout",
     "output_type": "stream",
     "text": [
      "가사에 제목이 존재합니다.\n"
     ]
    },
    {
     "data": {
      "text/plain": [
       "'\\n너도 날 좋아할 줄은 몰랐어\\n어쩌면 좋아 너무나 좋아\\n꿈만 같아서 나\\n내 자신을 자꾸 꼬집어 봐 너무나 좋아\\n니가 날 혹시 안 좋아할까봐\\n혼자 얼마나 애 태운지 몰라\\n그런데 니가 날 사랑한다니\\n어머나, 다시 한 번 말해봐\\n \\nTell tell tell tell tell \\n나를 사랑한다고 날 기다려 왔다고\\n \\nTell tell tell tell tell \\n내가 필요하다 말해, 말해줘요\\n \\nTell tell tell tell tell \\n자꾸만 듣고 싶어 계속 내게 말해줘\\n \\nTell tell tell tell tell \\n꿈이 아니라고 말해, 말해줘요\\n어쩜 내 가슴이 이렇게 뛰니\\n가슴이 정말 터질 것 같아\\n니가 날 볼 때면\\n전기에 감전된 사람처럼 전기가 올라\\n얼마나 오래 기다린지 몰라\\n얼마나 오래 꿈 꿨는지 몰라\\n그런데 니가 날 사랑한다니 어머나\\n다시 한 번 말해봐\\n \\nTell tell tell tell tell \\n나를 사랑한다고 날 기다려 왔다고\\n \\nTell tell tell tell tell \\n내가 필요하다 말해, 말해줘요\\n \\nTell tell tell tell tell \\n자꾸만 듣고 싶어 계속 내게 말해줘\\n \\nTell tell tell tell tell \\n꿈이 아니라고 말해, 말해줘요\\nSlave to the moon, slave to the moon (I know you got)\\nSlave to the moon, slave to the moon (I know you)\\n   you\\nWant me want me want me, too\\n   you\\nLove me too, love me too\\n얼마나 오래 기다린지 몰라\\n얼마나 오래 꿈 꿨는지 몰라\\n그런데 니가 날 사랑한다니\\n어머나, 다시 한 번 말해봐\\n \\nTell tell tell tell tell \\n나를 사랑한다고 날 기다려 왔다고\\n \\nTell tell tell tell tell \\n내가 필요하다 말해, 말해줘요\\n \\nTell tell tell tell tell \\n자꾸만 듣고 싶어 계속 내게 말해줘\\n \\nTell tell tell tell tell \\n꿈이 아니라고 말해, 말해줘요\\n \\nTell tell tell tell tell \\nTell tell tell tell tell \\n ()\\n'"
      ]
     },
     "execution_count": 170,
     "metadata": {},
     "output_type": "execute_result"
    }
   ],
   "source": [
    "# 권장사항: (tell me in a) or (Tell me in a)\n",
    "a = lyrics\n",
    "\n",
    "if (\"tell me\") or (\"Tell me\") in a:\n",
    "    print(\"가사에 제목이 존재합니다.\")\n",
    "    \n",
    "else:\n",
    "    print(\"가사에 제목이 존재하지 않습니다.\")\n",
    "    \n",
    "#a=a.lower()\n",
    "#a=a.replace(\"tell me\", \"\")\n",
    "a = a.replace(\"tell me\", \"\")\n",
    "a = a.replace(\"Tell me\", \"\")\n",
    "\n",
    "a"
   ]
  },
  {
   "cell_type": "markdown",
   "id": "0d616613",
   "metadata": {},
   "source": [
    "#### 리스트, 튜플\n",
    "- 리스트는 조작이 가능하지만 튜플은 조작 불가능\n",
    "- 조작이란 순서를 바꾸거나 제거하거나 추가하는 것"
   ]
  },
  {
   "cell_type": "markdown",
   "id": "38207955",
   "metadata": {},
   "source": [
    "#### 데이터 추가\n",
    "- 문자열: 덧셈 연산 후 할당 해야함\n",
    "- 리스트: .append(): 리스트 끝에 추가  \n",
    "         .insert(): 내가 원하는 위치에 추가\n",
    "         \n",
    "         메소드 사용 후 할당 안해도 됨"
   ]
  },
  {
   "cell_type": "code",
   "execution_count": 134,
   "id": "6a7b358f",
   "metadata": {},
   "outputs": [],
   "source": [
    "menu = \"짜장면, 짬뽕, 탕수육\""
   ]
  },
  {
   "cell_type": "code",
   "execution_count": 135,
   "id": "bc3148ec",
   "metadata": {},
   "outputs": [
    {
     "data": {
      "text/plain": [
       "'짜장면, 짬뽕, 탕수육, 군만두'"
      ]
     },
     "execution_count": 135,
     "metadata": {},
     "output_type": "execute_result"
    }
   ],
   "source": [
    "#군만두를 추가하고 싶다.\n",
    "menu = menu + \", 군만두\"\n",
    "menu"
   ]
  },
  {
   "cell_type": "code",
   "execution_count": 137,
   "id": "a5550b0e",
   "metadata": {},
   "outputs": [
    {
     "data": {
      "text/plain": [
       "['짜장면', '짬뽕', '탕수육', '군만두']"
      ]
     },
     "execution_count": 137,
     "metadata": {},
     "output_type": "execute_result"
    }
   ],
   "source": [
    "menu = [\"짜장면\", \"짬뽕\", \"탕수육\"]\n",
    "menu.append(\"군만두\")\n",
    "menu"
   ]
  },
  {
   "cell_type": "code",
   "execution_count": 139,
   "id": "33e9c2c0",
   "metadata": {},
   "outputs": [
    {
     "data": {
      "text/plain": [
       "['짜장면', '팔보채', '짬뽕', '탕수육', '군만두']"
      ]
     },
     "execution_count": 139,
     "metadata": {},
     "output_type": "execute_result"
    }
   ],
   "source": [
    "menu.insert(1,\"팔보채\")\n",
    "menu"
   ]
  },
  {
   "cell_type": "markdown",
   "id": "c5baa0de",
   "metadata": {},
   "source": [
    "#### 데이터 제거\n",
    "- 문자열: .replace()\n",
    "- 리스트: del + 해당인덱스, .remove(지정), .pop(): 가장 끝 제거"
   ]
  },
  {
   "cell_type": "code",
   "execution_count": 149,
   "id": "c5b394f3",
   "metadata": {},
   "outputs": [
    {
     "data": {
      "text/plain": [
       "'짜장면, 짬뽕, 탕수육'"
      ]
     },
     "execution_count": 149,
     "metadata": {},
     "output_type": "execute_result"
    }
   ],
   "source": [
    "menu = \"짜장면, 짬뽕, 탕수육, 군만두\"\n",
    "menu = menu.replace(\", 군만두\", \"\")\n",
    "menu"
   ]
  },
  {
   "cell_type": "code",
   "execution_count": 151,
   "id": "4be8049c",
   "metadata": {},
   "outputs": [
    {
     "data": {
      "text/plain": [
       "['짜장면', '팔보채', '짬뽕', '탕수육']"
      ]
     },
     "execution_count": 151,
     "metadata": {},
     "output_type": "execute_result"
    }
   ],
   "source": [
    "menu = [\"짜장면\", \"팔보채\", \"짬뽕\", \"탕수육\", \"군만두\"]\n",
    "del menu[4]\n",
    "menu"
   ]
  },
  {
   "cell_type": "code",
   "execution_count": 152,
   "id": "dfcdd234",
   "metadata": {},
   "outputs": [
    {
     "data": {
      "text/plain": [
       "['짜장면', '짬뽕', '탕수육']"
      ]
     },
     "execution_count": 152,
     "metadata": {},
     "output_type": "execute_result"
    }
   ],
   "source": [
    "menu.remove(\"팔보채\")\n",
    "menu"
   ]
  },
  {
   "cell_type": "code",
   "execution_count": 153,
   "id": "3282b72f",
   "metadata": {},
   "outputs": [
    {
     "data": {
      "text/plain": [
       "['짜장면', '짬뽕']"
      ]
     },
     "execution_count": 153,
     "metadata": {},
     "output_type": "execute_result"
    }
   ],
   "source": [
    "menu.pop()\n",
    "menu"
   ]
  },
  {
   "cell_type": "markdown",
   "id": "24a8dd3e",
   "metadata": {},
   "source": [
    "#### 데이터 교체\n",
    "- 문자열: .replace()\n",
    "- 리스트: 딱히 함수 없음 따라서 인덱스 사용하여 새롭게 할당하는 방법 사용"
   ]
  },
  {
   "cell_type": "code",
   "execution_count": 155,
   "id": "57e58abd",
   "metadata": {},
   "outputs": [
    {
     "data": {
      "text/plain": [
       "'짜장면, 짬뽕, 탕수육, 팔보채'"
      ]
     },
     "execution_count": 155,
     "metadata": {},
     "output_type": "execute_result"
    }
   ],
   "source": [
    "menu = \"짜장면, 짬뽕, 탕수육, 군만두\"\n",
    "menu = menu.replace(\"군만두\", \"팔보채\")\n",
    "menu"
   ]
  },
  {
   "cell_type": "code",
   "execution_count": 157,
   "id": "371ed7c7",
   "metadata": {},
   "outputs": [
    {
     "data": {
      "text/plain": [
       "['짜장면', '유산슬', '짬뽕', '탕수육', '군만두']"
      ]
     },
     "execution_count": 157,
     "metadata": {},
     "output_type": "execute_result"
    }
   ],
   "source": [
    "menu = [\"짜장면\", \"팔보채\", \"짬뽕\", \"탕수육\", \"군만두\"]\n",
    "menu[1] = \"유산슬\"\n",
    "menu"
   ]
  },
  {
   "cell_type": "markdown",
   "id": "2ba57ba5",
   "metadata": {},
   "source": [
    "- fruit의 \"apple\"을 \"pineapple\"로 바꾸어라"
   ]
  },
  {
   "cell_type": "code",
   "execution_count": 158,
   "id": "858403b2",
   "metadata": {},
   "outputs": [],
   "source": [
    "fruit = [[\"mango\", \"grape\"], [\"apple\", \"banana\", [\"melon\", \"watermelon\"]]]"
   ]
  },
  {
   "cell_type": "code",
   "execution_count": 163,
   "id": "17794e6b",
   "metadata": {},
   "outputs": [
    {
     "data": {
      "text/plain": [
       "[['mango', 'grape'], ['pineapple', 'banana', ['melon', 'watermelon']]]"
      ]
     },
     "execution_count": 163,
     "metadata": {},
     "output_type": "execute_result"
    }
   ],
   "source": [
    "fruit[1][0] = \"pineapple\"\n",
    "fruit"
   ]
  },
  {
   "cell_type": "code",
   "execution_count": null,
   "id": "4a7a5348",
   "metadata": {},
   "outputs": [],
   "source": []
  },
  {
   "cell_type": "markdown",
   "id": "bf5b9902",
   "metadata": {},
   "source": [
    "#### 반복문(for,-반복횟수를 알때 사용 while-반복 횟수를 모르기 때문에 break 필요함)\n",
    "\n",
    "while 명제:\n",
    "\n",
    "     명제가 참인 한 실행되는 코드\n",
    "     break\n",
    "     \n",
    "- 무한루프를 피하는 법\n",
    "1. 특정 조건에서 while문에 걸려 있는 명제가 거짓이 되도록 설계한다.\n",
    "2. break를 사용한다.\n",
    "     \n",
    "for 명제:\n",
    "       "
   ]
  },
  {
   "cell_type": "code",
   "execution_count": 172,
   "id": "1d027fea",
   "metadata": {},
   "outputs": [
    {
     "name": "stdout",
     "output_type": "stream",
     "text": [
      "0\n",
      "1\n",
      "2\n"
     ]
    }
   ],
   "source": [
    "n = 0 \n",
    "while n < 3:\n",
    "    print(n)\n",
    "    n = n + 1"
   ]
  },
  {
   "cell_type": "code",
   "execution_count": 175,
   "id": "27f7e68b",
   "metadata": {},
   "outputs": [
    {
     "name": "stdout",
     "output_type": "stream",
     "text": [
      "0\n",
      "1\n",
      "2\n"
     ]
    }
   ],
   "source": [
    "n = 0 \n",
    "while True:\n",
    "    print(n)\n",
    "    n = n + 1\n",
    "    if n >= 3:\n",
    "        break \n",
    "    else:\n",
    "        pass"
   ]
  },
  {
   "cell_type": "markdown",
   "id": "1e273363",
   "metadata": {},
   "source": [
    "#### 1000이 넘는 최초의 43의 배수를 찾고 싶습니다."
   ]
  },
  {
   "cell_type": "code",
   "execution_count": 184,
   "id": "48909be2",
   "metadata": {},
   "outputs": [
    {
     "name": "stdout",
     "output_type": "stream",
     "text": [
      "1032\n"
     ]
    }
   ],
   "source": [
    "n = 0\n",
    "while True:\n",
    "    n = n + 1\n",
    "    if n >= 1000:\n",
    "        if n%43==0:\n",
    "            print(n)\n",
    "            break\n",
    "        else:\n",
    "            pass\n",
    "    \n"
   ]
  },
  {
   "cell_type": "code",
   "execution_count": 186,
   "id": "3997ab98",
   "metadata": {},
   "outputs": [
    {
     "name": "stdout",
     "output_type": "stream",
     "text": [
      "1032\n"
     ]
    }
   ],
   "source": [
    "n = 1000\n",
    "while n%43 != 0:\n",
    "    n = n + 1\n",
    "print(n)"
   ]
  },
  {
   "cell_type": "code",
   "execution_count": 187,
   "id": "1ed30a45",
   "metadata": {},
   "outputs": [
    {
     "name": "stdout",
     "output_type": "stream",
     "text": [
      "1032\n"
     ]
    }
   ],
   "source": [
    "n = 0\n",
    "while n * 43 <1000:\n",
    "    n = n + 1\n",
    "print(n*43)"
   ]
  },
  {
   "cell_type": "code",
   "execution_count": 188,
   "id": "20dba981",
   "metadata": {},
   "outputs": [
    {
     "name": "stdout",
     "output_type": "stream",
     "text": [
      "1032\n"
     ]
    }
   ],
   "source": [
    "n = 1000\n",
    "while True:\n",
    "    n = n + 1\n",
    "    if n % 43 == 0:\n",
    "        print(n)\n",
    "        break\n",
    "    else:\n",
    "        pass"
   ]
  },
  {
   "cell_type": "code",
   "execution_count": 189,
   "id": "253d98d3",
   "metadata": {},
   "outputs": [
    {
     "name": "stdout",
     "output_type": "stream",
     "text": [
      "1032\n"
     ]
    }
   ],
   "source": [
    "n = 0\n",
    "while True:\n",
    "    n = n + 1\n",
    "    if n *43 >= 1000:\n",
    "        print(43 * n)\n",
    "        break\n",
    "    else:\n",
    "        pass"
   ]
  },
  {
   "cell_type": "markdown",
   "id": "b913270f",
   "metadata": {},
   "source": [
    "#### 10000이 넘는 수 중에서 가장 작은 43과 67의 공배수를 구해주세요\n",
    "- 43과 67의 공배수란, 43과 67을 모두 약수로 가지고 있는 수"
   ]
  },
  {
   "cell_type": "code",
   "execution_count": 3,
   "id": "ebed5ad6",
   "metadata": {},
   "outputs": [
    {
     "name": "stdout",
     "output_type": "stream",
     "text": [
      "11524\n"
     ]
    }
   ],
   "source": [
    "n = 10000\n",
    "while True:\n",
    "    n = n + 1\n",
    "    if n%43==0 and n%67==0:\n",
    "        print(n)\n",
    "        break\n",
    "    else:\n",
    "        pass"
   ]
  },
  {
   "cell_type": "code",
   "execution_count": 7,
   "id": "c33e3d80",
   "metadata": {},
   "outputs": [
    {
     "name": "stdout",
     "output_type": "stream",
     "text": [
      "11524\n"
     ]
    }
   ],
   "source": [
    "n = 10000\n",
    "while (n % 43 != 0) or (n % 67 != 0):\n",
    "    n=n+1\n",
    "print(n)"
   ]
  },
  {
   "cell_type": "markdown",
   "id": "7525dd8c",
   "metadata": {},
   "source": [
    "- for문\n",
    "\n",
    "for 변수 in 순서가 있는 자료형:\n",
    "\n",
    "    코드"
   ]
  },
  {
   "cell_type": "code",
   "execution_count": 8,
   "id": "5ea01325",
   "metadata": {},
   "outputs": [
    {
     "name": "stdout",
     "output_type": "stream",
     "text": [
      "1\n",
      "4\n",
      "9\n",
      "16\n"
     ]
    }
   ],
   "source": [
    "for i in [1, 2, 3, 4]:\n",
    "    print(i**2)"
   ]
  },
  {
   "cell_type": "markdown",
   "id": "12825448",
   "metadata": {},
   "source": [
    "#### 구구단 3단을 출력하시오"
   ]
  },
  {
   "cell_type": "code",
   "execution_count": 12,
   "id": "e6f7cec5",
   "metadata": {
    "scrolled": true
   },
   "outputs": [
    {
     "name": "stdout",
     "output_type": "stream",
     "text": [
      "3 x 1 = 3\n",
      "3 x 2 = 6\n",
      "3 x 3 = 9\n",
      "3 x 4 = 12\n",
      "3 x 5 = 15\n",
      "3 x 6 = 18\n",
      "3 x 7 = 21\n",
      "3 x 8 = 24\n",
      "3 x 9 = 27\n"
     ]
    }
   ],
   "source": [
    "for i in [1,2,3,4,5,6,7,8,9]:\n",
    "    print(f\"3 x {i} =\",3*i)"
   ]
  },
  {
   "cell_type": "markdown",
   "id": "e4352ffe",
   "metadata": {},
   "source": [
    "#### range(n): 0~n미만의 범위의 리스트 출력 \n",
    "- 이때 n은 len의 값? 반복되는 횟수과 같음\n",
    "- range(n,m): n이상 m미만"
   ]
  },
  {
   "cell_type": "code",
   "execution_count": 59,
   "id": "1e0e35aa",
   "metadata": {},
   "outputs": [
    {
     "data": {
      "text/plain": [
       "3"
      ]
     },
     "execution_count": 59,
     "metadata": {},
     "output_type": "execute_result"
    }
   ],
   "source": [
    "a = range(1,10)[2]\n",
    "a"
   ]
  },
  {
   "cell_type": "code",
   "execution_count": null,
   "id": "2c3b119d",
   "metadata": {},
   "outputs": [],
   "source": [
    "for i in range(10):\n",
    "    print(f\"3 x {i} =\",3*i)"
   ]
  },
  {
   "cell_type": "code",
   "execution_count": 16,
   "id": "accdd9fb",
   "metadata": {},
   "outputs": [
    {
     "name": "stdout",
     "output_type": "stream",
     "text": [
      "Hello Python\n",
      "Hello Python\n",
      "Hello Python\n",
      "Hello Python\n",
      "Hello Python\n",
      "Hello Python\n",
      "Hello Python\n",
      "Hello Python\n",
      "Hello Python\n"
     ]
    }
   ],
   "source": [
    "n=0\n",
    "while n<9:\n",
    "    print(\"Hello Python\")\n",
    "    n=n+1"
   ]
  },
  {
   "cell_type": "code",
   "execution_count": 17,
   "id": "83fd8c3e",
   "metadata": {
    "scrolled": true
   },
   "outputs": [
    {
     "name": "stdout",
     "output_type": "stream",
     "text": [
      "Hello Python\n",
      "Hello Python\n",
      "Hello Python\n",
      "Hello Python\n",
      "Hello Python\n",
      "Hello Python\n",
      "Hello Python\n",
      "Hello Python\n",
      "Hello Python\n"
     ]
    }
   ],
   "source": [
    "for i in range(9):\n",
    "    print(\"Hello Python\")"
   ]
  },
  {
   "cell_type": "code",
   "execution_count": 40,
   "id": "b913bb36",
   "metadata": {},
   "outputs": [
    {
     "name": "stdout",
     "output_type": "stream",
     "text": [
      "3\n"
     ]
    }
   ],
   "source": [
    "n=0\n",
    "a = [1,2,3,4,5,6,7]\n",
    "b = [2,4,3,6,5,3,7]\n",
    "\n",
    "for i in range(7):   \n",
    "    if a[i] == b[i]:\n",
    "        n=n+1\n",
    "    else:\n",
    "        pass\n",
    "print(n)"
   ]
  },
  {
   "cell_type": "code",
   "execution_count": 25,
   "id": "6381080e",
   "metadata": {},
   "outputs": [
    {
     "name": "stdout",
     "output_type": "stream",
     "text": [
      "3\n"
     ]
    }
   ],
   "source": [
    "# range(len(a))\n",
    "n=0\n",
    "a = [1,2,3,4,5,6,7]\n",
    "b = [2,4,3,6,5,3,7]\n",
    "for i in range(len(a)):\n",
    "    if a[i] == b[i]:\n",
    "        n=n+1\n",
    "    else:\n",
    "        pass\n",
    "print(n)"
   ]
  },
  {
   "cell_type": "code",
   "execution_count": 33,
   "id": "86a252e3",
   "metadata": {},
   "outputs": [
    {
     "name": "stdout",
     "output_type": "stream",
     "text": [
      "3\n"
     ]
    }
   ],
   "source": [
    "#enumerate\n",
    "n=0\n",
    "a = [1,2,3,4,5,6,7]\n",
    "b = [2,4,3,6,5,3,7]\n",
    "for w, i in enumerate(a):\n",
    "    if a[w] == b[w]:\n",
    "        n=n+1\n",
    "    else:\n",
    "        pass\n",
    "print(n)"
   ]
  },
  {
   "cell_type": "code",
   "execution_count": 30,
   "id": "ce486d2b",
   "metadata": {},
   "outputs": [
    {
     "data": {
      "text/plain": [
       "3"
      ]
     },
     "execution_count": 30,
     "metadata": {},
     "output_type": "execute_result"
    }
   ],
   "source": [
    "n = 0\n",
    "a = [\"가\", \"나\", \"다\", \"라\", \"마\", \"바\", \"사\"]\n",
    "b = [\"나\", \"라\", \"다\", \"바\", \"마\", \"가\", \"사\"]\n",
    "for w,i in enumerate(a):\n",
    "    if a[w] == b[w]:\n",
    "        n = n + 1\n",
    "    else:\n",
    "        pass\n",
    "n"
   ]
  },
  {
   "cell_type": "code",
   "execution_count": 31,
   "id": "25349184",
   "metadata": {
    "scrolled": true
   },
   "outputs": [
    {
     "data": {
      "text/plain": [
       "3"
      ]
     },
     "execution_count": 31,
     "metadata": {},
     "output_type": "execute_result"
    }
   ],
   "source": [
    "n = 0\n",
    "a = [\"가\", \"나\", \"다\", \"라\", \"마\", \"바\", \"사\"]\n",
    "b = [\"나\", \"라\", \"다\", \"바\", \"마\", \"가\", \"사\"]\n",
    "for w,i in enumerate(a):\n",
    "    if i == b[w]:\n",
    "        n = n + 1\n",
    "    else:\n",
    "        pass\n",
    "n"
   ]
  },
  {
   "cell_type": "markdown",
   "id": "da633173",
   "metadata": {},
   "source": [
    "#### 구구단\n",
    "- 구구단 1단부터 9단까지 출력하세요\n",
    "- 형식은 1 x 1 = 1"
   ]
  },
  {
   "cell_type": "code",
   "execution_count": 45,
   "id": "0bb87a99",
   "metadata": {},
   "outputs": [
    {
     "name": "stdout",
     "output_type": "stream",
     "text": [
      "-------1단 시작!--------\n",
      "\n",
      "1 x 1 = 1\n",
      "\n",
      "1 x 2 = 2\n",
      "\n",
      "1 x 3 = 3\n",
      "\n",
      "1 x 4 = 4\n",
      "\n",
      "1 x 5 = 5\n",
      "\n",
      "1 x 6 = 6\n",
      "\n",
      "1 x 7 = 7\n",
      "\n",
      "1 x 8 = 8\n",
      "\n",
      "1 x 9 = 9\n",
      "\n",
      "-------2단 시작!--------\n",
      "\n",
      "2 x 1 = 2\n",
      "\n",
      "2 x 2 = 4\n",
      "\n",
      "2 x 3 = 6\n",
      "\n",
      "2 x 4 = 8\n",
      "\n",
      "2 x 5 = 10\n",
      "\n",
      "2 x 6 = 12\n",
      "\n",
      "2 x 7 = 14\n",
      "\n",
      "2 x 8 = 16\n",
      "\n",
      "2 x 9 = 18\n",
      "\n",
      "-------3단 시작!--------\n",
      "\n",
      "3 x 1 = 3\n",
      "\n",
      "3 x 2 = 6\n",
      "\n",
      "3 x 3 = 9\n",
      "\n",
      "3 x 4 = 12\n",
      "\n",
      "3 x 5 = 15\n",
      "\n",
      "3 x 6 = 18\n",
      "\n",
      "3 x 7 = 21\n",
      "\n",
      "3 x 8 = 24\n",
      "\n",
      "3 x 9 = 27\n",
      "\n",
      "-------4단 시작!--------\n",
      "\n",
      "4 x 1 = 4\n",
      "\n",
      "4 x 2 = 8\n",
      "\n",
      "4 x 3 = 12\n",
      "\n",
      "4 x 4 = 16\n",
      "\n",
      "4 x 5 = 20\n",
      "\n",
      "4 x 6 = 24\n",
      "\n",
      "4 x 7 = 28\n",
      "\n",
      "4 x 8 = 32\n",
      "\n",
      "4 x 9 = 36\n",
      "\n",
      "-------5단 시작!--------\n",
      "\n",
      "5 x 1 = 5\n",
      "\n",
      "5 x 2 = 10\n",
      "\n",
      "5 x 3 = 15\n",
      "\n",
      "5 x 4 = 20\n",
      "\n",
      "5 x 5 = 25\n",
      "\n",
      "5 x 6 = 30\n",
      "\n",
      "5 x 7 = 35\n",
      "\n",
      "5 x 8 = 40\n",
      "\n",
      "5 x 9 = 45\n",
      "\n",
      "-------6단 시작!--------\n",
      "\n",
      "6 x 1 = 6\n",
      "\n",
      "6 x 2 = 12\n",
      "\n",
      "6 x 3 = 18\n",
      "\n",
      "6 x 4 = 24\n",
      "\n",
      "6 x 5 = 30\n",
      "\n",
      "6 x 6 = 36\n",
      "\n",
      "6 x 7 = 42\n",
      "\n",
      "6 x 8 = 48\n",
      "\n",
      "6 x 9 = 54\n",
      "\n",
      "-------7단 시작!--------\n",
      "\n",
      "7 x 1 = 7\n",
      "\n",
      "7 x 2 = 14\n",
      "\n",
      "7 x 3 = 21\n",
      "\n",
      "7 x 4 = 28\n",
      "\n",
      "7 x 5 = 35\n",
      "\n",
      "7 x 6 = 42\n",
      "\n",
      "7 x 7 = 49\n",
      "\n",
      "7 x 8 = 56\n",
      "\n",
      "7 x 9 = 63\n",
      "\n",
      "-------8단 시작!--------\n",
      "\n",
      "8 x 1 = 8\n",
      "\n",
      "8 x 2 = 16\n",
      "\n",
      "8 x 3 = 24\n",
      "\n",
      "8 x 4 = 32\n",
      "\n",
      "8 x 5 = 40\n",
      "\n",
      "8 x 6 = 48\n",
      "\n",
      "8 x 7 = 56\n",
      "\n",
      "8 x 8 = 64\n",
      "\n",
      "8 x 9 = 72\n",
      "\n",
      "-------9단 시작!--------\n",
      "\n",
      "9 x 1 = 9\n",
      "\n",
      "9 x 2 = 18\n",
      "\n",
      "9 x 3 = 27\n",
      "\n",
      "9 x 4 = 36\n",
      "\n",
      "9 x 5 = 45\n",
      "\n",
      "9 x 6 = 54\n",
      "\n",
      "9 x 7 = 63\n",
      "\n",
      "9 x 8 = 72\n",
      "\n",
      "9 x 9 = 81\n",
      "\n"
     ]
    }
   ],
   "source": [
    "for i in range(1,10):\n",
    "    print(f\"-------{i}단 시작!--------\\n\")\n",
    "    for j in range(1,10):\n",
    "        x = i*j\n",
    "        print(f\"{i} x {j} = {x}\\n\")\n",
    "        "
   ]
  },
  {
   "cell_type": "markdown",
   "id": "8001c8b7",
   "metadata": {},
   "source": [
    "#### try, except"
   ]
  },
  {
   "cell_type": "code",
   "execution_count": 48,
   "id": "56416733",
   "metadata": {},
   "outputs": [
    {
     "name": "stdout",
     "output_type": "stream",
     "text": [
      "0.14285714285714285\n",
      "0.16666666666666666\n",
      "0.2\n",
      "0.25\n",
      "0.3333333333333333\n",
      "0.5\n",
      "1.0\n"
     ]
    },
    {
     "ename": "ZeroDivisionError",
     "evalue": "division by zero",
     "output_type": "error",
     "traceback": [
      "\u001b[1;31m---------------------------------------------------------------------------\u001b[0m",
      "\u001b[1;31mZeroDivisionError\u001b[0m                         Traceback (most recent call last)",
      "Input \u001b[1;32mIn [48]\u001b[0m, in \u001b[0;36m<cell line: 1>\u001b[1;34m()\u001b[0m\n\u001b[0;32m      1\u001b[0m \u001b[38;5;28;01mfor\u001b[39;00m i \u001b[38;5;129;01min\u001b[39;00m \u001b[38;5;28mrange\u001b[39m(\u001b[38;5;241m10\u001b[39m):\n\u001b[1;32m----> 2\u001b[0m     \u001b[38;5;28mprint\u001b[39m(\u001b[38;5;241;43m1\u001b[39;49m\u001b[38;5;241;43m/\u001b[39;49m\u001b[43m(\u001b[49m\u001b[38;5;241;43m7\u001b[39;49m\u001b[38;5;241;43m-\u001b[39;49m\u001b[43mi\u001b[49m\u001b[43m)\u001b[49m)\n",
      "\u001b[1;31mZeroDivisionError\u001b[0m: division by zero"
     ]
    }
   ],
   "source": [
    "for i in range(10):\n",
    "    print(1/(7-i))"
   ]
  },
  {
   "cell_type": "markdown",
   "id": "578249d5",
   "metadata": {},
   "source": [
    "try:\n",
    "    에러가 날 수도 있는 코드가 에러가 나지 않을 경우에 실행될 코드\n",
    "except:\n",
    "    에러가 날 수도 있는 코드가 에러가 났을 때 실행될 코드"
   ]
  },
  {
   "cell_type": "code",
   "execution_count": 51,
   "id": "444e86d0",
   "metadata": {
    "scrolled": true
   },
   "outputs": [
    {
     "name": "stdout",
     "output_type": "stream",
     "text": [
      "0.14285714285714285\n",
      "0.16666666666666666\n",
      "0.2\n",
      "0.25\n",
      "0.3333333333333333\n",
      "0.5\n",
      "1.0\n",
      "에러가 났습니다.\n",
      "-1.0\n",
      "-0.5\n"
     ]
    }
   ],
   "source": [
    "# 7/7인 경우 반드시 에러가 나는 경우임\n",
    "for i in range(10):\n",
    "    try:\n",
    "        print(1/(7-i))\n",
    "    except:\n",
    "        print(\"에러가 났습니다.\")"
   ]
  },
  {
   "cell_type": "markdown",
   "id": "3dcd7455",
   "metadata": {},
   "source": [
    "#### raise Exception"
   ]
  },
  {
   "cell_type": "code",
   "execution_count": 55,
   "id": "9402a272",
   "metadata": {},
   "outputs": [
    {
     "name": "stdout",
     "output_type": "stream",
     "text": [
      "3의 배수를 입력하세요: 2\n"
     ]
    },
    {
     "ename": "Exception",
     "evalue": "Value Error",
     "output_type": "error",
     "traceback": [
      "\u001b[1;31m---------------------------------------------------------------------------\u001b[0m",
      "\u001b[1;31mException\u001b[0m                                 Traceback (most recent call last)",
      "Input \u001b[1;32mIn [55]\u001b[0m, in \u001b[0;36m<cell line: 2>\u001b[1;34m()\u001b[0m\n\u001b[0;32m      1\u001b[0m a \u001b[38;5;241m=\u001b[39m \u001b[38;5;28mint\u001b[39m(\u001b[38;5;28minput\u001b[39m(\u001b[38;5;124m\"\u001b[39m\u001b[38;5;124m3의 배수를 입력하세요: \u001b[39m\u001b[38;5;124m\"\u001b[39m))\n\u001b[0;32m      2\u001b[0m \u001b[38;5;28;01mif\u001b[39;00m a \u001b[38;5;241m%\u001b[39m \u001b[38;5;241m3\u001b[39m \u001b[38;5;241m!=\u001b[39m \u001b[38;5;241m0\u001b[39m:\n\u001b[1;32m----> 3\u001b[0m     \u001b[38;5;28;01mraise\u001b[39;00m \u001b[38;5;167;01mException\u001b[39;00m(\u001b[38;5;124m\"\u001b[39m\u001b[38;5;124mValue Error\u001b[39m\u001b[38;5;124m\"\u001b[39m)\n\u001b[0;32m      4\u001b[0m \u001b[38;5;28;01melse\u001b[39;00m:\n\u001b[0;32m      5\u001b[0m     \u001b[38;5;28mprint\u001b[39m(a)\n",
      "\u001b[1;31mException\u001b[0m: Value Error"
     ]
    }
   ],
   "source": [
    "a = int(input(\"3의 배수를 입력하세요: \"))\n",
    "if a % 3 != 0:\n",
    "    raise Exception(\"Value Error\")\n",
    "else:\n",
    "    print(a)"
   ]
  },
  {
   "cell_type": "markdown",
   "id": "39bd63e7",
   "metadata": {},
   "source": [
    "#### dict, 딕셔너리 {\"key\":\"value\"}"
   ]
  },
  {
   "cell_type": "code",
   "execution_count": 6,
   "id": "553aa27c",
   "metadata": {},
   "outputs": [
    {
     "data": {
      "text/plain": [
       "800"
      ]
     },
     "execution_count": 6,
     "metadata": {},
     "output_type": "execute_result"
    }
   ],
   "source": [
    "# gg = [[\"사과\", \"800원\"], [\"바나나\", \"1000원\"], [\"포도\", [8000원]] \n",
    "\n",
    "gg ={\"사과\":800, \"바나나\":1000, \"포도\":800}\n",
    "gg[\"사과\"]"
   ]
  },
  {
   "cell_type": "code",
   "execution_count": 17,
   "id": "94f3abfd",
   "metadata": {},
   "outputs": [
    {
     "data": {
      "text/plain": [
       "{'사과': 800, '바나나': 1000, '포도': 800, '파인애플': 1200}"
      ]
     },
     "execution_count": 17,
     "metadata": {},
     "output_type": "execute_result"
    }
   ],
   "source": [
    "#추가하기\n",
    "gg[\"파인애플\"]=1200\n",
    "gg"
   ]
  },
  {
   "cell_type": "code",
   "execution_count": 18,
   "id": "3403c9fd",
   "metadata": {},
   "outputs": [
    {
     "data": {
      "text/plain": [
       "{'사과': 800, '바나나': 1000, '포도': 800}"
      ]
     },
     "execution_count": 18,
     "metadata": {},
     "output_type": "execute_result"
    }
   ],
   "source": [
    "#삭제하기\n",
    "del gg[\"파인애플\"]\n",
    "gg"
   ]
  },
  {
   "cell_type": "code",
   "execution_count": 7,
   "id": "62539992",
   "metadata": {},
   "outputs": [
    {
     "name": "stdout",
     "output_type": "stream",
     "text": [
      "사과\n",
      "바나나\n",
      "포도\n"
     ]
    }
   ],
   "source": [
    "#딕셔너리의 for문은 key를 중심으로 실행 -> 즉 i 값에 키값이 들어감\n",
    "for i in gg:\n",
    "    print(i)"
   ]
  },
  {
   "cell_type": "code",
   "execution_count": 20,
   "id": "e440530e",
   "metadata": {},
   "outputs": [
    {
     "data": {
      "text/plain": [
       "dict_keys(['사과', '바나나', '포도'])"
      ]
     },
     "execution_count": 20,
     "metadata": {},
     "output_type": "execute_result"
    }
   ],
   "source": [
    "gg.keys()"
   ]
  },
  {
   "cell_type": "code",
   "execution_count": 21,
   "id": "7c813071",
   "metadata": {},
   "outputs": [
    {
     "data": {
      "text/plain": [
       "dict_values([800, 1000, 800])"
      ]
     },
     "execution_count": 21,
     "metadata": {},
     "output_type": "execute_result"
    }
   ],
   "source": [
    "gg.values()"
   ]
  },
  {
   "cell_type": "code",
   "execution_count": 22,
   "id": "0b96eee0",
   "metadata": {},
   "outputs": [
    {
     "data": {
      "text/plain": [
       "{'사과': 800, '바나나': 1000, '포도': 800}"
      ]
     },
     "execution_count": 22,
     "metadata": {},
     "output_type": "execute_result"
    }
   ],
   "source": [
    "gg"
   ]
  },
  {
   "cell_type": "code",
   "execution_count": 37,
   "id": "94de66d1",
   "metadata": {},
   "outputs": [
    {
     "name": "stdout",
     "output_type": "stream",
     "text": [
      "800\n",
      "1000\n",
      "800\n"
     ]
    }
   ],
   "source": [
    "for i in gg:\n",
    "    gg[i]\n",
    "    print(gg[i])"
   ]
  },
  {
   "cell_type": "code",
   "execution_count": 47,
   "id": "fd4f7e80",
   "metadata": {},
   "outputs": [
    {
     "data": {
      "text/plain": [
       "{'사과': 880, '바나나': 1100, '포도': 880}"
      ]
     },
     "execution_count": 47,
     "metadata": {},
     "output_type": "execute_result"
    }
   ],
   "source": [
    "#물가가 10%올랐을 때의 가격으로 변환하시오\n",
    "for i in gg:\n",
    "    gg[i]=int(gg[i]*1.1)\n",
    "gg"
   ]
  },
  {
   "cell_type": "code",
   "execution_count": 46,
   "id": "0be5c16a",
   "metadata": {},
   "outputs": [
    {
     "name": "stdout",
     "output_type": "stream",
     "text": [
      "880\n",
      "1100\n",
      "880\n"
     ]
    }
   ],
   "source": [
    "for i in gg:\n",
    "    m=gg[i]+gg[i]*0.1\n",
    "    print(int(m))"
   ]
  },
  {
   "cell_type": "code",
   "execution_count": 8,
   "id": "0bb4af72",
   "metadata": {},
   "outputs": [
    {
     "data": {
      "text/plain": [
       "{'서울점': {'사과': 800, '바나나': 1000, '포도': 800},\n",
       " '부산점': {'사과': 700, '바나나': 900, '포도': 900},\n",
       " '대구점': {'사과': 750, '바나나': 800, '포도': 1000}}"
      ]
     },
     "execution_count": 8,
     "metadata": {},
     "output_type": "execute_result"
    }
   ],
   "source": [
    "ggg={\"서울점\":{\"사과\":800, \"바나나\":1000, \"포도\":800},\n",
    "     \"부산점\":{\"사과\":700, \"바나나\":900, \"포도\":900},\n",
    "     \"대구점\":{\"사과\":750, \"바나나\":800, \"포도\":1000}}\n",
    "ggg"
   ]
  },
  {
   "cell_type": "code",
   "execution_count": 4,
   "id": "67cf2dac",
   "metadata": {},
   "outputs": [
    {
     "data": {
      "text/plain": [
       "800"
      ]
     },
     "execution_count": 4,
     "metadata": {},
     "output_type": "execute_result"
    }
   ],
   "source": [
    "ggg[\"서울점\"][\"사과\"]"
   ]
  },
  {
   "cell_type": "markdown",
   "id": "c722fc61",
   "metadata": {},
   "source": [
    "- 전국 사과 가격의 평균을 구해주세요"
   ]
  },
  {
   "cell_type": "code",
   "execution_count": 9,
   "id": "91d475ce",
   "metadata": {},
   "outputs": [
    {
     "name": "stdout",
     "output_type": "stream",
     "text": [
      "750.0\n"
     ]
    }
   ],
   "source": [
    "# len(ggg): ggg의 인덱스의 수 -> 서울점, 부산점, 대구점 -> 즉, key의 개수\n",
    "n=0\n",
    "for i in ggg:\n",
    "    n=n+ggg[i][\"사과\"]\n",
    "print(n/len(ggg))"
   ]
  },
  {
   "cell_type": "code",
   "execution_count": 10,
   "id": "2813ba11",
   "metadata": {},
   "outputs": [
    {
     "name": "stdout",
     "output_type": "stream",
     "text": [
      "750.0\n"
     ]
    }
   ],
   "source": [
    "n=0\n",
    "for i in ggg:\n",
    "    n=n+ggg[i][\"사과\"]\n",
    "print(n/len(ggg.keys()))"
   ]
  },
  {
   "cell_type": "markdown",
   "id": "66d07247",
   "metadata": {},
   "source": [
    "#### define, def: 함수를 정의한다 -> 함수를 만듦\n",
    "\n",
    "def 만들고 싶은 함수명():\n",
    "\n",
    "       만든 함수를 발견했을 때 실행시킬 코드"
   ]
  },
  {
   "cell_type": "code",
   "execution_count": 13,
   "id": "b4db6b98",
   "metadata": {},
   "outputs": [],
   "source": [
    "#덧셈을 실행시키는 add함수를 만들어라\n",
    "def add(x, y):\n",
    "    return x + y"
   ]
  },
  {
   "cell_type": "code",
   "execution_count": 14,
   "id": "f0968d1d",
   "metadata": {},
   "outputs": [
    {
     "data": {
      "text/plain": [
       "5"
      ]
     },
     "execution_count": 14,
     "metadata": {},
     "output_type": "execute_result"
    }
   ],
   "source": [
    "add(2, 3)"
   ]
  },
  {
   "cell_type": "markdown",
   "id": "bde08cc8",
   "metadata": {},
   "source": [
    "#### 오일러 문제 def 이용하여 해결하기"
   ]
  },
  {
   "cell_type": "code",
   "execution_count": 15,
   "id": "2ee28786",
   "metadata": {},
   "outputs": [],
   "source": [
    "def jegop(x, y):\n",
    "    a=0\n",
    "    b=0\n",
    "    for i in range(x, y+1):\n",
    "        a = a + i\n",
    "        b = b + i**2\n",
    "    return a**2 - b"
   ]
  },
  {
   "cell_type": "code",
   "execution_count": 16,
   "id": "2c30e0e4",
   "metadata": {},
   "outputs": [
    {
     "data": {
      "text/plain": [
       "25164150"
      ]
     },
     "execution_count": 16,
     "metadata": {},
     "output_type": "execute_result"
    }
   ],
   "source": [
    "jegop(1,100)"
   ]
  },
  {
   "cell_type": "markdown",
   "id": "3a365ae9",
   "metadata": {},
   "source": [
    "#### 모듈"
   ]
  },
  {
   "cell_type": "code",
   "execution_count": null,
   "id": "6eba8842",
   "metadata": {},
   "outputs": [],
   "source": []
  }
 ],
 "metadata": {
  "kernelspec": {
   "display_name": "Python 3 (ipykernel)",
   "language": "python",
   "name": "python3"
  },
  "language_info": {
   "codemirror_mode": {
    "name": "ipython",
    "version": 3
   },
   "file_extension": ".py",
   "mimetype": "text/x-python",
   "name": "python",
   "nbconvert_exporter": "python",
   "pygments_lexer": "ipython3",
   "version": "3.9.12"
  }
 },
 "nbformat": 4,
 "nbformat_minor": 5
}
