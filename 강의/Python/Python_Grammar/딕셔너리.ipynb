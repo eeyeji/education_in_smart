{
 "cells": [
  {
   "cell_type": "markdown",
   "id": "a1e3625a",
   "metadata": {},
   "source": [
    "- dict={\"key\":\"value\"}\n",
    "\n",
    "- dict={\"name\":\"yeji\"}\n",
    "\n",
    "- key는 조작 불가능 value는 조작 가능"
   ]
  },
  {
   "cell_type": "code",
   "execution_count": 7,
   "id": "f701eb4e",
   "metadata": {},
   "outputs": [
    {
     "name": "stdout",
     "output_type": "stream",
     "text": [
      "{'이름': '홍길동', '나이': 20, '키': 168}\n"
     ]
    },
    {
     "data": {
      "text/plain": [
       "dict"
      ]
     },
     "execution_count": 7,
     "metadata": {},
     "output_type": "execute_result"
    }
   ],
   "source": [
    "csb = {\"이름\":\"홍길동\", \"나이\":20, \"키\":168}\n",
    "print(csb)\n",
    "type(csb)"
   ]
  },
  {
   "cell_type": "code",
   "execution_count": 54,
   "id": "a8cb8d5a",
   "metadata": {},
   "outputs": [
    {
     "data": {
      "text/plain": [
       "{'이름': ['홍길동', '김철수', '최영희'], '나이': [20, 21, 22], '키': [168, 177, 204]}"
      ]
     },
     "execution_count": 54,
     "metadata": {},
     "output_type": "execute_result"
    }
   ],
   "source": [
    "class1_4 = {\"이름\":[\"홍길동\", \"김철수\", \"최영희\"], \"나이\":[20,21,22], \"키\":[168, 177, 204]}\n",
    "class1_4"
   ]
  },
  {
   "cell_type": "code",
   "execution_count": 10,
   "id": "d43224b1",
   "metadata": {
    "scrolled": true
   },
   "outputs": [
    {
     "data": {
      "text/plain": [
       "['홍길동', '김철수', '최영희']"
      ]
     },
     "execution_count": 10,
     "metadata": {},
     "output_type": "execute_result"
    }
   ],
   "source": [
    "class1_4[\"이름\"]"
   ]
  },
  {
   "cell_type": "code",
   "execution_count": 47,
   "id": "3281282a",
   "metadata": {},
   "outputs": [
    {
     "data": {
      "text/plain": [
       "{'이름': ['홍길동', '김철수', '최영희'],\n",
       " '나이': [20, 21, 22],\n",
       " '키': [168, 177, 204],\n",
       " '발 사이즈': [290, 275, 240]}"
      ]
     },
     "execution_count": 47,
     "metadata": {},
     "output_type": "execute_result"
    }
   ],
   "source": [
    "#추가하기\n",
    "class1_4[\"발 사이즈\"] = [290, 275, 240]\n",
    "class1_4"
   ]
  },
  {
   "cell_type": "code",
   "execution_count": 48,
   "id": "c7b4ff19",
   "metadata": {},
   "outputs": [
    {
     "data": {
      "text/plain": [
       "{'이름': ['홍길동', '김철수', '최영희'], '나이': [20, 21, 22], '키': [168, 177, 204]}"
      ]
     },
     "execution_count": 48,
     "metadata": {},
     "output_type": "execute_result"
    }
   ],
   "source": [
    "#삭제\n",
    "del class1_4[\"발 사이즈\"]\n",
    "class1_4"
   ]
  },
  {
   "cell_type": "code",
   "execution_count": 16,
   "id": "2de47aa9",
   "metadata": {},
   "outputs": [
    {
     "data": {
      "text/plain": [
       "dict_keys(['이름', '나이', '키'])"
      ]
     },
     "execution_count": 16,
     "metadata": {},
     "output_type": "execute_result"
    }
   ],
   "source": [
    "# dict와 관련된 메소드\n",
    "class1_4.keys()"
   ]
  },
  {
   "cell_type": "code",
   "execution_count": 20,
   "id": "cb62dd8a",
   "metadata": {},
   "outputs": [
    {
     "data": {
      "text/plain": [
       "dict_values([['홍길동', '김철수', '최영희'], [20, 21, 22], [168, 177, 204]])"
      ]
     },
     "execution_count": 20,
     "metadata": {},
     "output_type": "execute_result"
    }
   ],
   "source": [
    "# dict와 관련된 메소드\n",
    "class1_4.values()"
   ]
  },
  {
   "cell_type": "code",
   "execution_count": 19,
   "id": "ac5ed1c8",
   "metadata": {},
   "outputs": [
    {
     "name": "stdout",
     "output_type": "stream",
     "text": [
      "이름\n",
      "나이\n",
      "키\n"
     ]
    }
   ],
   "source": [
    "# i가 key를 대체함\n",
    "for i in class1_4:\n",
    "    print(i)"
   ]
  },
  {
   "cell_type": "code",
   "execution_count": 21,
   "id": "5debf7df",
   "metadata": {},
   "outputs": [
    {
     "data": {
      "text/plain": [
       "True"
      ]
     },
     "execution_count": 21,
     "metadata": {},
     "output_type": "execute_result"
    }
   ],
   "source": [
    "\"이름\" in class1_4"
   ]
  },
  {
   "cell_type": "code",
   "execution_count": 22,
   "id": "ef614386",
   "metadata": {},
   "outputs": [
    {
     "data": {
      "text/plain": [
       "False"
      ]
     },
     "execution_count": 22,
     "metadata": {},
     "output_type": "execute_result"
    }
   ],
   "source": [
    "\"홍길동\" in class1_4"
   ]
  },
  {
   "cell_type": "markdown",
   "id": "33bbbc2c",
   "metadata": {},
   "source": [
    "#### class1_4의 \"이름\" key에 할당된 value들을 전부 성을 뺀 이름들로 출력하세요.\n",
    "- 홍길동 -> 길동\n",
    "- 김철수 -> 철수\n",
    "- 김영희 -> 영희"
   ]
  },
  {
   "cell_type": "code",
   "execution_count": 49,
   "id": "ad62ccec",
   "metadata": {},
   "outputs": [
    {
     "data": {
      "text/plain": [
       "['홍길동', '김철수', '최영희']"
      ]
     },
     "execution_count": 49,
     "metadata": {},
     "output_type": "execute_result"
    }
   ],
   "source": [
    "class1_4[\"이름\"]"
   ]
  },
  {
   "cell_type": "code",
   "execution_count": 50,
   "id": "769e89c6",
   "metadata": {},
   "outputs": [
    {
     "name": "stdout",
     "output_type": "stream",
     "text": [
      "길동\n",
      "철수\n",
      "영희\n"
     ]
    }
   ],
   "source": [
    "for i in class1_4[\"이름\"]:\n",
    "    print(i[1:])"
   ]
  },
  {
   "cell_type": "code",
   "execution_count": 52,
   "id": "061c1f5e",
   "metadata": {},
   "outputs": [
    {
     "data": {
      "text/plain": [
       "{'이름': ['길동', '철수', '영희'], '나이': [20, 21, 22], '키': [168, 177, 204]}"
      ]
     },
     "execution_count": 52,
     "metadata": {},
     "output_type": "execute_result"
    }
   ],
   "source": [
    "# 교체\n",
    "class1_4[\"이름\"]=[\"길동\", \"철수\", \"영희\"]\n",
    "class1_4"
   ]
  },
  {
   "cell_type": "code",
   "execution_count": 55,
   "id": "2071cb3f",
   "metadata": {},
   "outputs": [
    {
     "data": {
      "text/plain": [
       "{'이름': ['길동', '철수', '영희'], '나이': [20, 21, 22], '키': [168, 177, 204]}"
      ]
     },
     "execution_count": 55,
     "metadata": {},
     "output_type": "execute_result"
    }
   ],
   "source": [
    "#교체할 것이 많을 때 사용하는 방법\n",
    "new_name = []\n",
    "for i in class1_4[\"이름\"]:\n",
    "    new_name.append(i[1:])\n",
    "class1_4[\"이름\"] = new_name\n",
    "class1_4"
   ]
  },
  {
   "cell_type": "code",
   "execution_count": 56,
   "id": "fb01f8f2",
   "metadata": {},
   "outputs": [
    {
     "data": {
      "text/plain": [
       "[0, 1, 4, 9, 16, 25, 36, 49, 64, 81]"
      ]
     },
     "execution_count": 56,
     "metadata": {},
     "output_type": "execute_result"
    }
   ],
   "source": [
    "jegop = [i**2 for i in range(10)]\n",
    "jegop"
   ]
  },
  {
   "cell_type": "code",
   "execution_count": 60,
   "id": "2ffcd47e",
   "metadata": {},
   "outputs": [
    {
     "name": "stdout",
     "output_type": "stream",
     "text": [
      "0\n",
      "1\n",
      "4\n",
      "9\n",
      "16\n",
      "25\n",
      "36\n",
      "49\n",
      "64\n",
      "81\n"
     ]
    }
   ],
   "source": [
    "#몰라도 되는 방법이긴 함 밑에랑 세트\n",
    "for i in range(10):\n",
    "    i=i**2\n",
    "    print(i)"
   ]
  },
  {
   "cell_type": "code",
   "execution_count": 58,
   "id": "49fc747c",
   "metadata": {},
   "outputs": [
    {
     "data": {
      "text/plain": [
       "[0, 1, 4, 9, 16, 25, 36, 49, 64, 81]"
      ]
     },
     "execution_count": 58,
     "metadata": {},
     "output_type": "execute_result"
    }
   ],
   "source": [
    "# 위 코드 짧게 쓰기\n",
    "[i**2 for i in range(10)]"
   ]
  },
  {
   "cell_type": "markdown",
   "id": "4972e9f7",
   "metadata": {},
   "source": [
    "- 여러 학생의 성적 점수가 다음과 같은 Dictionary로 구성되어 있다."
   ]
  },
  {
   "cell_type": "code",
   "execution_count": 117,
   "id": "1b0f8b24",
   "metadata": {},
   "outputs": [],
   "source": [
    "scores = {'홍길동':{'수학':99,'영어':80,'국어':75},\n",
    "          '김미정':{'영어':67,'국어':87,'수학':55},\n",
    "          '정수진':{'수학':67,'국어':41,'영어':23}}"
   ]
  },
  {
   "cell_type": "markdown",
   "id": "5f998d92",
   "metadata": {},
   "source": [
    "- 이 때, 학생들의 평균을 저장하는 새로운 항목을 추가하고 싶다.\n",
    "- scores에 학생들의 수학, 영어, 국어 평균 성적을 기록한 \"성적\" key를 추가해주세요."
   ]
  },
  {
   "cell_type": "code",
   "execution_count": 118,
   "id": "2c1459ee",
   "metadata": {
    "scrolled": true
   },
   "outputs": [
    {
     "data": {
      "text/plain": [
       "{'홍길동': {'수학': 99, '영어': 80, '국어': 75},\n",
       " '김미정': {'영어': 67, '국어': 87, '수학': 55},\n",
       " '정수진': {'수학': 67, '국어': 41, '영어': 23},\n",
       " '평균점수': {'수학': 73.66666666666667,\n",
       "  '영어': 56.666666666666664,\n",
       "  '국어': 67.66666666666667}}"
      ]
     },
     "execution_count": 118,
     "metadata": {},
     "output_type": "execute_result"
    }
   ],
   "source": [
    "math = 0\n",
    "eng = 0\n",
    "kor = 0\n",
    "\n",
    "for i in scores:\n",
    "    math = math + scores[i][\"수학\"]\n",
    "    eng = eng + scores[i][\"영어\"]\n",
    "    kor = kor + scores[i][\"국어\"]\n",
    "\n",
    "scores[\"평균점수\"]={\"수학\": math/len(scores), \"영어\": eng/len(scores), \"국어\": kor/len(scores)}\n",
    "scores"
   ]
  },
  {
   "cell_type": "code",
   "execution_count": 128,
   "id": "1176485b",
   "metadata": {},
   "outputs": [
    {
     "data": {
      "text/plain": [
       "74"
      ]
     },
     "execution_count": 128,
     "metadata": {},
     "output_type": "execute_result"
    }
   ],
   "source": [
    "# 반올림\n",
    "\n",
    "dirty = 73.66666666\n",
    "round(dirty)"
   ]
  },
  {
   "cell_type": "code",
   "execution_count": 124,
   "id": "69437e93",
   "metadata": {},
   "outputs": [
    {
     "data": {
      "text/plain": [
       "73.67"
      ]
     },
     "execution_count": 124,
     "metadata": {},
     "output_type": "execute_result"
    }
   ],
   "source": [
    "#반올림\n",
    "round(dirty, 2)"
   ]
  },
  {
   "cell_type": "code",
   "execution_count": 129,
   "id": "54c4fc1d",
   "metadata": {},
   "outputs": [],
   "source": [
    "import math"
   ]
  },
  {
   "cell_type": "code",
   "execution_count": 130,
   "id": "ea0eff10",
   "metadata": {},
   "outputs": [
    {
     "data": {
      "text/plain": [
       "73"
      ]
     },
     "execution_count": 130,
     "metadata": {},
     "output_type": "execute_result"
    }
   ],
   "source": [
    "math.floor(dirty)"
   ]
  },
  {
   "cell_type": "code",
   "execution_count": 131,
   "id": "2ba55df9",
   "metadata": {},
   "outputs": [
    {
     "data": {
      "text/plain": [
       "74"
      ]
     },
     "execution_count": 131,
     "metadata": {},
     "output_type": "execute_result"
    }
   ],
   "source": [
    "#반올림\n",
    "math.ceil(dirty)"
   ]
  },
  {
   "cell_type": "code",
   "execution_count": null,
   "id": "c950e459",
   "metadata": {},
   "outputs": [],
   "source": []
  },
  {
   "cell_type": "code",
   "execution_count": 116,
   "id": "1b10fdd0",
   "metadata": {},
   "outputs": [
    {
     "name": "stdout",
     "output_type": "stream",
     "text": [
      "홍길동\n",
      "김미정\n",
      "정수진\n"
     ]
    }
   ],
   "source": [
    "# 이 코드의 결과 값의 len = 3, 3명이기때문에\n",
    "#len은 인덱스의 개수\n",
    "for i in scores:\n",
    "    print(i)"
   ]
  },
  {
   "cell_type": "code",
   "execution_count": 122,
   "id": "9daac88c",
   "metadata": {},
   "outputs": [
    {
     "data": {
      "text/plain": [
       "4"
      ]
     },
     "execution_count": 122,
     "metadata": {},
     "output_type": "execute_result"
    }
   ],
   "source": [
    "#len\n",
    "len(\"한글나라\")"
   ]
  },
  {
   "cell_type": "code",
   "execution_count": 121,
   "id": "3c36f292",
   "metadata": {},
   "outputs": [
    {
     "data": {
      "text/plain": [
       "4"
      ]
     },
     "execution_count": 121,
     "metadata": {},
     "output_type": "execute_result"
    }
   ],
   "source": [
    "#len\n",
    "len([\"apple\", \"banana\", \"egg\", \"carrot\"])"
   ]
  },
  {
   "cell_type": "code",
   "execution_count": 115,
   "id": "8315be06",
   "metadata": {},
   "outputs": [
    {
     "data": {
      "text/plain": [
       "221"
      ]
     },
     "execution_count": 115,
     "metadata": {},
     "output_type": "execute_result"
    }
   ],
   "source": [
    "math=0\n",
    "for i in scores:\n",
    "    math = math + scores[i][\"수학\"]\n",
    "math"
   ]
  },
  {
   "cell_type": "code",
   "execution_count": 87,
   "id": "22e56572",
   "metadata": {
    "scrolled": true
   },
   "outputs": [
    {
     "name": "stdout",
     "output_type": "stream",
     "text": [
      "{'수학': 99, '영어': 80, '국어': 75}\n",
      "{'영어': 67, '국어': 87, '수학': 55}\n",
      "{'수학': 67, '국어': 41, '영어': 23}\n"
     ]
    }
   ],
   "source": [
    "for i in scores:\n",
    "    print(scores[i])"
   ]
  },
  {
   "cell_type": "code",
   "execution_count": 109,
   "id": "14bf910a",
   "metadata": {},
   "outputs": [
    {
     "data": {
      "text/plain": [
       "{'홍길동': {'수학': 99, '영어': 80, '국어': 75},\n",
       " '김미정': {'영어': 67, '국어': 87, '수학': 55},\n",
       " '정수진': {'수학': 67, '국어': 41, '영어': 23},\n",
       " '평균점수': {'수학': 73.66666666666667,\n",
       "  '영어': 56.666666666666664,\n",
       "  '국어': 67.66666666666667}}"
      ]
     },
     "execution_count": 109,
     "metadata": {},
     "output_type": "execute_result"
    }
   ],
   "source": [
    "m1 = scores['홍길동']['수학']\n",
    "m2 = scores['김미정']['수학']\n",
    "m3 = scores['정수진']['수학']\n",
    "e1 = scores['홍길동']['영어']\n",
    "e2 = scores['김미정']['영어']\n",
    "e3 = scores['정수진']['영어']\n",
    "k1 = scores['홍길동']['국어']\n",
    "k2 = scores['김미정']['국어']\n",
    "k3 = scores['정수진']['국어']\n",
    "\n",
    "am = (m1+m2+m3)/3\n",
    "ae = (e1+e2+e3)/3\n",
    "ak = (k1+k2+k3)/3\n",
    "\n",
    "scores[\"평균점수\"] = {'수학':am ,'영어':ae , '국어':ak}\n",
    "scores"
   ]
  },
  {
   "cell_type": "code",
   "execution_count": 37,
   "id": "cf658f58",
   "metadata": {},
   "outputs": [
    {
     "ename": "SyntaxError",
     "evalue": "invalid syntax (1380015261.py, line 29)",
     "output_type": "error",
     "traceback": [
      "\u001b[1;36m  Input \u001b[1;32mIn [37]\u001b[1;36m\u001b[0m\n\u001b[1;33m    new_id.replace(new_id[15:]:\"\")\u001b[0m\n\u001b[1;37m                              ^\u001b[0m\n\u001b[1;31mSyntaxError\u001b[0m\u001b[1;31m:\u001b[0m invalid syntax\n"
     ]
    }
   ],
   "source": [
    "new_id=input(\"아이디를 입력하세요: \")\n",
    "\n",
    "allowed=['a', 'b', 'c', 'd', 'e', 'f', 'g', 'h', 'i', 'j', 'k', 'l', 'm', 'n', 'o', 'p' ,'q', 'r', 's', 't', 'u', 'v', 'w', 'x', 'y', 'z', \"0\", \"1\", \"2\", \"3\", \"4\", \"5\", \"6\", \"7\", \"8\", \"9\", \"0\",  \"-\", \"_\", \".\"]\n",
    "\n",
    "#1단계: new_id의 모든 대문자를 대응되는 소문자로 치환합니다.\n",
    "new_id = new_id.lower()\n",
    "\n",
    "#2단계: new_id에서 알파벳 소문자, 숫자, 빼기(-), 밑줄(_), 마침표(.)를 제외한 모든 문자를 제거합니다.\n",
    "for i in new_id:\n",
    "    if i not in allowed:\n",
    "        new_id = new_id.replace(i, \"\")\n",
    "        \n",
    "#3단계: new_id에서 마침표(.)가 2번 이상 연속된 부분을 하나의 마침표(.)로 치환합니다.\n",
    "while \"..\" in new_id:\n",
    "    new_id = new_id.replace(\"..\", \".\")\n",
    "\n",
    "\n",
    "#4단계: new_id에서 마침표(.)가 처음이나 끝에 위치한다면 제거합니다.\n",
    "new_id = new_id.lstrip(\".\")\n",
    "new_id = new_id.rstrip(\".\")\n",
    "\n",
    "#5단계: new_id가 빈 문자열이라면, new_id에 \"a\"를 대입합니다.\n",
    "if new_id == \"\":\n",
    "    new_id = \"a\"\n",
    "\n",
    "#6단계: new_id의 길이가 16자 이상이면, new_id의 첫 15개의 문자를 제외한 나머지 문자들을 모두 제거합니다.\n",
    "# 만약 제거 후 마침표(.)가 new_id의 끝에 위치한다면 끝에 위치한 마침표(.) 문자를 제거합니다.\n",
    "for len(new_id)==15:\n",
    "    if len(new_id)>=16:\n",
    "        new_id=new_id.replace(new_id[16],\"\")\n",
    "\n",
    "#7단계: new_id의 길이가 2자 이하라면, new_id의 마지막 문자를 new_id의 길이가 3이 될 때까지 반복해서 끝에 붙입니다.\n",
    "\n",
    "         \n",
    "        \n",
    "print(new_id)"
   ]
  },
  {
   "cell_type": "markdown",
   "id": "b52c6116",
   "metadata": {},
   "source": [
    "- 3단계: while True 이용하기\n",
    " \n",
    "   while True:\n",
    "\n",
    "        new_id = new_id.replace(\"..\", \".\")\n",
    "      \n",
    "        if \"..\" not in new_id:\n",
    "       \n",
    "             break"
   ]
  },
  {
   "cell_type": "code",
   "execution_count": null,
   "id": "9477bfc1",
   "metadata": {},
   "outputs": [],
   "source": [
    "if len(new_id) <= 2:\n",
    "    for len(new_id) == 3:\n",
    "        new_id=new_id.insert(n, f\"{n}\")"
   ]
  },
  {
   "cell_type": "code",
   "execution_count": null,
   "id": "386762a4",
   "metadata": {},
   "outputs": [],
   "source": [
    "#6\n",
    "\n",
    "if new_id = len(new_id):\n",
    "    new_id.append(\"a\""
   ]
  },
  {
   "cell_type": "code",
   "execution_count": null,
   "id": "cd214688",
   "metadata": {},
   "outputs": [],
   "source": [
    "#4\n",
    "if \".\" in new_id[0] or new_id[-1]:\n",
    "    new_id.remove(\".\")"
   ]
  },
  {
   "cell_type": "code",
   "execution_count": null,
   "id": "0e46ccfc",
   "metadata": {},
   "outputs": [],
   "source": [
    "#5\n",
    "if new_id == []:\n",
    "    new_id = new_id.replace(\" \", \"a\")"
   ]
  },
  {
   "cell_type": "code",
   "execution_count": null,
   "id": "1a507f36",
   "metadata": {},
   "outputs": [],
   "source": [
    "new_id.replace(\"\",\"a\")"
   ]
  },
  {
   "cell_type": "code",
   "execution_count": 32,
   "id": "e57004f2",
   "metadata": {},
   "outputs": [],
   "source": [
    "new_id = new_id.lstrip(\".\")\n",
    "new_id = new_id.rstrip(\".\")"
   ]
  },
  {
   "cell_type": "code",
   "execution_count": null,
   "id": "2e23abff",
   "metadata": {},
   "outputs": [],
   "source": [
    "if len(new_id) >= 16:\n",
    "    del new_id[15:]"
   ]
  },
  {
   "cell_type": "code",
   "execution_count": 11,
   "id": "08ebb392",
   "metadata": {},
   "outputs": [
    {
     "name": "stdout",
     "output_type": "stream",
     "text": [
      "아이디를 입력하세요: agef\n"
     ]
    },
    {
     "data": {
      "text/plain": [
       "'f'"
      ]
     },
     "execution_count": 11,
     "metadata": {},
     "output_type": "execute_result"
    }
   ],
   "source": [
    "new_id=input(\"아이디를 입력하세요: \")\n",
    "len(new_id)\n",
    "new_id[3]"
   ]
  },
  {
   "cell_type": "code",
   "execution_count": 13,
   "id": "9602c853",
   "metadata": {},
   "outputs": [
    {
     "data": {
      "text/plain": [
       "'안녕세요'"
      ]
     },
     "execution_count": 13,
     "metadata": {},
     "output_type": "execute_result"
    }
   ],
   "source": [
    "n=\"안녕하세요\"\n",
    "n=n.replace(n[2],\"\")\n",
    "n"
   ]
  },
  {
   "cell_type": "code",
   "execution_count": 17,
   "id": "8bf9c0ea",
   "metadata": {},
   "outputs": [
    {
     "ename": "SyntaxError",
     "evalue": "invalid syntax (2394510646.py, line 2)",
     "output_type": "error",
     "traceback": [
      "\u001b[1;36m  Input \u001b[1;32mIn [17]\u001b[1;36m\u001b[0m\n\u001b[1;33m    for len(new_id)<=15:\u001b[0m\n\u001b[1;37m                       ^\u001b[0m\n\u001b[1;31mSyntaxError\u001b[0m\u001b[1;31m:\u001b[0m invalid syntax\n"
     ]
    }
   ],
   "source": [
    "#6단계: new_id의 길이가 16자 이상이면, new_id의 첫 15개의 문자를 제외한 나머지 문자들을 모두 제거합니다.\n",
    "# 만약 제거 후 마침표(.)가 new_id의 끝에 위치한다면 끝에 위치한 마침표(.) 문자를 제거합니다.\n",
    "\n",
    "new_id=input(\"아이디를 입력하세요: \")\n",
    "for len(new_id)<=15:\n",
    "    if len(new_id)>=16:\n",
    "        new_id=new_id.replace(new_id[16],\"\")\n",
    "    else:\n",
    "        pass\n",
    "print(new_id)"
   ]
  },
  {
   "cell_type": "code",
   "execution_count": null,
   "id": "ebfa3a97",
   "metadata": {},
   "outputs": [],
   "source": []
  }
 ],
 "metadata": {
  "kernelspec": {
   "display_name": "Python 3 (ipykernel)",
   "language": "python",
   "name": "python3"
  },
  "language_info": {
   "codemirror_mode": {
    "name": "ipython",
    "version": 3
   },
   "file_extension": ".py",
   "mimetype": "text/x-python",
   "name": "python",
   "nbconvert_exporter": "python",
   "pygments_lexer": "ipython3",
   "version": "3.9.12"
  }
 },
 "nbformat": 4,
 "nbformat_minor": 5
}
