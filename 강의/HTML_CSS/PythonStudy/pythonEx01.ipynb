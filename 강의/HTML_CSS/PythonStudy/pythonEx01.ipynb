{
 "cells": [
  {
   "cell_type": "code",
   "execution_count": 33,
   "metadata": {},
   "outputs": [
    {
     "data": {
      "text/plain": [
       "['False',\n",
       " 'None',\n",
       " 'True',\n",
       " '__peg_parser__',\n",
       " 'and',\n",
       " 'as',\n",
       " 'assert',\n",
       " 'async',\n",
       " 'await',\n",
       " 'break',\n",
       " 'class',\n",
       " 'continue',\n",
       " 'def',\n",
       " 'del',\n",
       " 'elif',\n",
       " 'else',\n",
       " 'except',\n",
       " 'finally',\n",
       " 'for',\n",
       " 'from',\n",
       " 'global',\n",
       " 'if',\n",
       " 'import',\n",
       " 'in',\n",
       " 'is',\n",
       " 'lambda',\n",
       " 'nonlocal',\n",
       " 'not',\n",
       " 'or',\n",
       " 'pass',\n",
       " 'raise',\n",
       " 'return',\n",
       " 'try',\n",
       " 'while',\n",
       " 'with',\n",
       " 'yield']"
      ]
     },
     "execution_count": 33,
     "metadata": {},
     "output_type": "execute_result"
    }
   ],
   "source": [
    "import keyword\n",
    "keyword.kwlist"
   ]
  },
  {
   "cell_type": "code",
   "execution_count": 34,
   "metadata": {},
   "outputs": [
    {
     "name": "stdout",
     "output_type": "stream",
     "text": [
      "20\n",
      "3.14\n"
     ]
    }
   ],
   "source": [
    "number1 = 20\n",
    "pi=3.14\n",
    "print(number1)\n",
    "print(pi)"
   ]
  },
  {
   "attachments": {},
   "cell_type": "markdown",
   "metadata": {},
   "source": [
    "[중요] 사전(dictionary) 자료구조 실습"
   ]
  },
  {
   "cell_type": "code",
   "execution_count": 35,
   "metadata": {},
   "outputs": [
    {
     "name": "stdout",
     "output_type": "stream",
     "text": [
      "제목\n",
      "내용\n",
      "{'a': 40, 'b': 20, 'c': 30}\n",
      "{'a': 40, 'b': 20, 'c': 30, 'd': 50}\n"
     ]
    },
    {
     "ename": "NameError",
     "evalue": "name 'forms' is not defined",
     "output_type": "error",
     "traceback": [
      "\u001b[1;31m---------------------------------------------------------------------------\u001b[0m",
      "\u001b[1;31mNameError\u001b[0m                                 Traceback (most recent call last)",
      "\u001b[1;32mc:\\Users\\user\\Desktop\\HTML_CSS\\PythonStudy\\pythonEx01.ipynb Cell 4\u001b[0m in \u001b[0;36m<cell line: 15>\u001b[1;34m()\u001b[0m\n\u001b[0;32m     <a href='vscode-notebook-cell:/c%3A/Users/user/Desktop/HTML_CSS/PythonStudy/pythonEx01.ipynb#W3sZmlsZQ%3D%3D?line=9'>10</a>\u001b[0m \u001b[39mprint\u001b[39m(dict2) \u001b[39m#{'a':40, 'b':20, 'c':30, 'd':50} -> 요소를 추가 가능\u001b[39;00m\n\u001b[0;32m     <a href='vscode-notebook-cell:/c%3A/Users/user/Desktop/HTML_CSS/PythonStudy/pythonEx01.ipynb#W3sZmlsZQ%3D%3D?line=11'>12</a>\u001b[0m \u001b[39m\"\"\"\u001b[39;00m\n\u001b[0;32m     <a href='vscode-notebook-cell:/c%3A/Users/user/Desktop/HTML_CSS/PythonStudy/pythonEx01.ipynb#W3sZmlsZQ%3D%3D?line=12'>13</a>\u001b[0m \u001b[39mDjango에서 질문/답변 게시판 구현시 -> list, dictionary 활용\u001b[39;00m\n\u001b[0;32m     <a href='vscode-notebook-cell:/c%3A/Users/user/Desktop/HTML_CSS/PythonStudy/pythonEx01.ipynb#W3sZmlsZQ%3D%3D?line=13'>14</a>\u001b[0m \u001b[39m\"\"\"\u001b[39;00m\n\u001b[1;32m---> <a href='vscode-notebook-cell:/c%3A/Users/user/Desktop/HTML_CSS/PythonStudy/pythonEx01.ipynb#W3sZmlsZQ%3D%3D?line=14'>15</a>\u001b[0m \u001b[39mclass\u001b[39;00m \u001b[39mQuestionForm\u001b[39;00m(forms\u001b[39m.\u001b[39mModelForm): \u001b[39m#Django에서 쓸 수 있는 forms.ModelForm\u001b[39;00m\n\u001b[0;32m     <a href='vscode-notebook-cell:/c%3A/Users/user/Desktop/HTML_CSS/PythonStudy/pythonEx01.ipynb#W3sZmlsZQ%3D%3D?line=15'>16</a>\u001b[0m     \u001b[39mclass\u001b[39;00m \u001b[39mMeta\u001b[39;00m:\n\u001b[0;32m     <a href='vscode-notebook-cell:/c%3A/Users/user/Desktop/HTML_CSS/PythonStudy/pythonEx01.ipynb#W3sZmlsZQ%3D%3D?line=16'>17</a>\u001b[0m         fields\u001b[39m=\u001b[39m[\u001b[39m'\u001b[39m\u001b[39msubject\u001b[39m\u001b[39m'\u001b[39m, \u001b[39m'\u001b[39m\u001b[39mcontent\u001b[39m\u001b[39m'\u001b[39m]\n",
      "\u001b[1;31mNameError\u001b[0m: name 'forms' is not defined"
     ]
    }
   ],
   "source": [
    "dict1 = {'subject' : '제목', 'content':'내용'}\n",
    "print(dict1['subject']) #제목이 출력됨\n",
    "print(dict1['content']) #내용이 출력됨\n",
    "\n",
    "dict2={'a':10, 'b':20, 'c': 30}\n",
    "dict2['a'] = 40 #dictionary는 만일 동일한 키가 있다면 키에 대응하는 값은 변경 가능\n",
    "print(dict2)\n",
    "\n",
    "dict2['d']=50\n",
    "print(dict2) #{'a':40, 'b':20, 'c':30, 'd':50} -> 요소를 추가 가능\n",
    "\n",
    "\"\"\"\n",
    "Django에서 질문/답변 게시판 구현시 -> list, dictionary 활용\n",
    "\"\"\"\n",
    "class QuestionForm(forms.ModelForm): #Django에서 쓸 수 있는 forms.ModelForm\n",
    "    class Meta:\n",
    "        fields=['subject', 'content']\n",
    "        widgets={\n",
    "            'subject': forms.TextInput(attrs={'class':'form-control'}),\n",
    "            'content': forms.Textarea(attrs={'class':'form-control', 'rows':10})\n",
    "        }"
   ]
  },
  {
   "attachments": {},
   "cell_type": "markdown",
   "metadata": {},
   "source": [
    "연습문제\n",
    "아래 리스트에 들어있는 문자열 중에서 길이가 5인 것들만 리스트 형태로 출력되게 하는 프로그램을 작성하세요"
   ]
  },
  {
   "cell_type": "code",
   "execution_count": null,
   "metadata": {},
   "outputs": [
    {
     "name": "stdout",
     "output_type": "stream",
     "text": [
      "['alpha', 'bravo', 'delta', 'hotal', 'india']\n"
     ]
    }
   ],
   "source": [
    "list1=['alpha', 'bravo', 'charlie', 'delta', 'echo', 'foxtrot', 'golf', 'hotal', 'india']\n",
    "list2=[]\n",
    "for i in list1:\n",
    "    if len(i) == 5:\n",
    "        list2.append(i)\n",
    "print(list2)\n",
    "#print([a for a in list1 if len(a)==5])"
   ]
  },
  {
   "attachments": {},
   "cell_type": "markdown",
   "metadata": {},
   "source": [
    "[연습문제] 자동 판매기 프로그램 작성\n",
    "- 자동 판매기 프로그램을 시뮬레이션 하는 프로그램을 작성하세요.\n",
    "- 자동 판매기는 사용자로부터 투입된 돈과 상품의 값을 입력받는다.\n",
    "- 상품 값은 100원 단위로 가정한다. 프로그램은 잔돈을 계산하여 출력한다.\n",
    "- 자판기는 동전 500원, 100원짜리만 가지고 있다고 가정.\n",
    "- 실행 결과\n",
    "    - 투입된 금액: 5000원 / 상품 값: 2600 / 거스름돈: 2400 \n",
    "    -  500원 동전의 개수: 4 / 100원 동전의 개수: 4"
   ]
  },
  {
   "cell_type": "code",
   "execution_count": null,
   "metadata": {},
   "outputs": [
    {
     "name": "stdout",
     "output_type": "stream",
     "text": [
      "투입된 금액: 5000원\n",
      "상품 값: 2600원\n",
      "거스름 돈은 2400원 입니다.\n",
      "500원 동전의 개수:  4\n",
      "100원 동전의 개수:  4\n"
     ]
    }
   ],
   "source": [
    "x = int(input(\"투입된 금액을 입력하세요: \"))\n",
    "print(f\"투입된 금액: {x}원\")\n",
    "y = int(input(\"상품 금액을 입력하세요: \"))\n",
    "print(f\"상품 값: {y}원\")\n",
    "z = x-y\n",
    "print(f\"거스름 돈은 {z}원 입니다.\")\n",
    "o = z // 500\n",
    "b = (z%500)//100\n",
    "print(\"500원 동전의 개수: \", o)\n",
    "print(\"100원 동전의 개수: \", b)\n"
   ]
  },
  {
   "cell_type": "code",
   "execution_count": null,
   "metadata": {},
   "outputs": [],
   "source": []
  },
  {
   "cell_type": "code",
   "execution_count": null,
   "metadata": {},
   "outputs": [
    {
     "name": "stdout",
     "output_type": "stream",
     "text": [
      "<강남 대리점 2022년 상반기 판매실적>\n",
      "1월판매실적: 59,870,000원\n",
      "2월판매실적: 39,860,000원\n",
      "3월판매실적: 78,930,000원\n"
     ]
    }
   ],
   "source": [
    "print ('<강남 대리점 2022년 상반기 판매실적>')\n",
    "sales_performance={'1월':59870000, '2월':39860000, '3월':78930000}\n",
    "key_values = sales_performance.keys()\n",
    "\n",
    "#문제해결 logic -> 제어문 if문, for문 활용\n",
    "#시나리오\n",
    "\n",
    "for keys in key_values:\n",
    "    num = str(sales_performance[keys])\n",
    "    value = num[::-1] #슬라이싱 -> 판매실적값을 거꾸로 뒤집기\n",
    "    ret =''\n",
    "\n",
    "    for i, c in enumerate(value):\n",
    "        i += 1\n",
    "        if i != len(value) and i%3 == 0:\n",
    "            ret +=(c + ',')\n",
    "        else:\n",
    "            ret += c\n",
    "    ret = ret[::-1]\n",
    "    print('%s판매실적: %s원' %(keys, ret))"
   ]
  },
  {
   "cell_type": "code",
   "execution_count": null,
   "metadata": {},
   "outputs": [
    {
     "name": "stdout",
     "output_type": "stream",
     "text": [
      "<강남 대리점 2022년 상반기 판매실적>\n",
      "1월판매실적 :  59,870,000원\n",
      "1월 판매실적: 59,870,000원\n",
      "2월판매실적 :  39,860,000원\n",
      "2월 판매실적: 39,860,000원\n",
      "3월판매실적 :  78,930,000원\n",
      "3월 판매실적: 78,930,000원\n"
     ]
    }
   ],
   "source": [
    "sales_performance={'1월':59870000, '2월':39860000, '3월':78930000}\n",
    "#dictionary 객체의 items() 함수는 키:값을 모두 추출하는 함수이다.\n",
    "items = sales_performance.items()\n",
    "\n",
    "print('<강남 대리점 2022년 상반기 판매실적>')\n",
    "\n",
    "#format(항목, \"형식지정자\")\n",
    "for key, value in items:\n",
    "    \n",
    "    print(key + \"판매실적 : \", format(value, \",d\") + \"원\") #d : 천단위마다 콤마를 찍어라\n",
    "   \n",
    "    print(f\"{key} 판매실적: {value:,d}원\") #f-string 문자열 포맷팅"
   ]
  },
  {
   "attachments": {},
   "cell_type": "markdown",
   "metadata": {},
   "source": [
    "[연습문제]\n",
    "- 금액을 입력받아 각 화폐 단위로 출력하기\n",
    "- 프로그램 실행결과\n",
    "    - ========================\n",
    "    - 금액을 입력하세요: 76790\n",
    "    - 오만원권: 1매\n",
    "    - 만원권: 2매\n",
    "    - 오천원권: 1매\n",
    "    - 천원권: 1매\n",
    "    - 오백원: 1개\n",
    "    - 백원: 2개\n",
    "    - 오십원: 1개\n",
    "    - 십원: 4개"
   ]
  },
  {
   "cell_type": "code",
   "execution_count": null,
   "metadata": {},
   "outputs": [
    {
     "name": "stdout",
     "output_type": "stream",
     "text": [
      "금액을 입력하세요: 76790원\n",
      "===============================\n",
      "오만원권: 1매\n",
      "만원권: 2매\n",
      "오천원권: 1매\n",
      "천원권: 1매\n",
      "오백원: 1개\n",
      "백원: 2개\n",
      "오십원: 1개\n",
      "십원: 4개\n"
     ]
    }
   ],
   "source": [
    "charge = int(input(\"금액을 입력하세요\"))\n",
    "print(f\"금액을 입력하세요: {charge}원\")\n",
    "print(\"===============================\")\n",
    "while True:\n",
    "    if charge>50000:\n",
    "        a=charge//50000\n",
    "        charge=charge-50000*a\n",
    "        print(f\"오만원권: {a}매\")\n",
    "    elif charge>10000:\n",
    "        a=charge//10000\n",
    "        charge=charge-10000*a\n",
    "        print(f'만원권: {a}매')\n",
    "    elif charge>5000:\n",
    "        a=charge//5000\n",
    "        charge=charge-5000*a\n",
    "        print(f'오천원권: {a}매')\n",
    "    elif charge>1000:\n",
    "        a=charge//1000\n",
    "        charge=charge-1000*a\n",
    "        print(f'천원권: {a}매')\n",
    "    elif charge>500:\n",
    "        a=charge//500\n",
    "        charge=charge-500*a\n",
    "        print(f'오백원: {a}개')\n",
    "    elif charge>100:\n",
    "        a=charge//100\n",
    "        charge=charge-100*a\n",
    "        print(f'백원: {a}개')\n",
    "    elif charge>50:\n",
    "        a=charge//50\n",
    "        charge=charge-50*a\n",
    "        print(f'오십원: {a}개')\n",
    "    else:\n",
    "        a=charge//10\n",
    "        charge=charge-10*a\n",
    "        print(f'십원: {a}개')\n",
    "        break"
   ]
  },
  {
   "cell_type": "code",
   "execution_count": null,
   "metadata": {},
   "outputs": [
    {
     "name": "stdout",
     "output_type": "stream",
     "text": [
      "금액을 입력하세요: 76790원\n",
      "===============================\n",
      "[26790, 6790, 1790, 790, 290, 90, 40, 0]\n"
     ]
    }
   ],
   "source": [
    "money = int(input(\"금액을 입력하세요\"))\n",
    "print(f\"금액을 입력하세요: {money}원\")\n",
    "print(\"===============================\")\n",
    "charge=[50000,10000,5000,1000,500,100,50,10]\n",
    "ans=[]\n",
    "for i in charge:\n",
    "    if money>i:\n",
    "        a=money//i\n",
    "        money=money-i*a\n",
    "        ans.append(money)\n",
    "print(ans)"
   ]
  },
  {
   "cell_type": "code",
   "execution_count": 45,
   "metadata": {},
   "outputs": [
    {
     "name": "stdout",
     "output_type": "stream",
     "text": [
      "오만원권 : 1매\n",
      "만원원권 : 2매\n",
      "오천원권 : 1매\n",
      "천원원권 : 1매\n",
      "오백원권 : 1매\n",
      "오백원권 : 2매\n",
      "오백원권 : 1매\n",
      "오백원권 : 4매\n"
     ]
    }
   ],
   "source": [
    "money=int(input(\"금액을 입력하세요 : \"))\n",
    "list= [50000, 10000, 5000, 1000, 500, 100, 50, 10]\n",
    "list2=['오만', '만원', '오천', '천원']\n",
    "list3=['오백', '백', '오십', '십원']\n",
    "j=0\n",
    "p=0\n",
    "for i in list:\n",
    "    if money >=1000:\n",
    "        count = int(money/i)\n",
    "        money = money % i\n",
    "        \n",
    "        a=list2[j]\n",
    "        print(f\"{a}원권 : {count}매\") \n",
    "        j+=1\n",
    "    else:\n",
    "        count = int(money/i)\n",
    "        money = money % i\n",
    "        a=list3[p]\n",
    "        print(f\"{b}원권 : {count}매\") "
   ]
  },
  {
   "cell_type": "code",
   "execution_count": 2,
   "metadata": {},
   "outputs": [
    {
     "name": "stdout",
     "output_type": "stream",
     "text": [
      "입력받은 금액: 76790 원\n",
      "오만원권 : 1매\n",
      "만원권 : 2매\n",
      "오천원권 : 1매\n",
      "천원권 : 1매\n",
      "오백원 : 1개\n",
      "백원 : 2개\n",
      "오십원 : 1개\n",
      "십원 : 4개\n"
     ]
    }
   ],
   "source": [
    "cost = int(input('금액을 입력하세요. : '))\n",
    "print('입력받은 금액:',cost,'원')\n",
    "bill = [50000, 10000, 5000, 1000, 500, 100, 50, 10]\n",
    "korean = {50000:'오만원권',10000:'만원권',5000:'오천원권',1000:'천원권',500:'오백원',100:'백원',50:'오십원',10:'십원'}\n",
    "for i in bill:\n",
    "    tmp,cost = divmod(cost,i)\n",
    "    if i>=1000:\n",
    "        print(f'{korean[i]} : {tmp}매')\n",
    "    else:\n",
    "        print(f'{korean[i]} : {tmp}개')"
   ]
  },
  {
   "cell_type": "code",
   "execution_count": 3,
   "metadata": {},
   "outputs": [
    {
     "name": "stdout",
     "output_type": "stream",
     "text": [
      "오만원권 1매\n",
      "오천원권 1매\n",
      "천원권 1매\n",
      "오백원 1개\n",
      "백원 3개\n",
      "십원 4개\n"
     ]
    }
   ],
   "source": [
    "money = int(input('금액을 입력해주세요'))\n",
    "list_money=[50000, 10000, 5000, 1000, 500, 100, 50, 10]\n",
    "list_str_money=['오만원권', '만원권', '오천원권', '천원권', '오백원', '백원', '오십원', '십원']\n",
    "for i in range(0, 8): #0이상 8미만까지 즉 0~7, 8번 반복처리\n",
    "    portion, remainder = divmod(money, list_money[i])\n",
    "    money = remainder #중요\n",
    "\n",
    "    if portion > 0 and i < 4:\n",
    "        print(list_str_money[i] + ' ' + str(portion) + '매')\n",
    "    elif portion > 0 and i >= 4:\n",
    "        print(list_str_money[i] + ' ' + str(portion) + '개')"
   ]
  }
 ],
 "metadata": {
  "kernelspec": {
   "display_name": "base",
   "language": "python",
   "name": "python3"
  },
  "language_info": {
   "codemirror_mode": {
    "name": "ipython",
    "version": 3
   },
   "file_extension": ".py",
   "mimetype": "text/x-python",
   "name": "python",
   "nbconvert_exporter": "python",
   "pygments_lexer": "ipython3",
   "version": "3.9.12"
  },
  "orig_nbformat": 4,
  "vscode": {
   "interpreter": {
    "hash": "a077222d77dfe082b8f1dd562ad70e458ac2ab76993a0b248ab0476e32e9e8dd"
   }
  }
 },
 "nbformat": 4,
 "nbformat_minor": 2
}
