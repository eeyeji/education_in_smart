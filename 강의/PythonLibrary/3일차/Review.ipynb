{
 "cells": [
  {
   "cell_type": "markdown",
   "metadata": {},
   "source": [
    "##### 9.22  복습"
   ]
  },
  {
   "cell_type": "code",
   "execution_count": 29,
   "metadata": {},
   "outputs": [],
   "source": [
    "import pandas as pd\n",
    "import numpy as np"
   ]
  },
  {
   "cell_type": "code",
   "execution_count": 30,
   "metadata": {},
   "outputs": [
    {
     "data": {
      "text/plain": [
       "국어    75\n",
       "영어    80\n",
       "수학    90\n",
       "과학    95\n",
       "사회    70\n",
       "dtype: int64"
      ]
     },
     "execution_count": 30,
     "metadata": {},
     "output_type": "execute_result"
    }
   ],
   "source": [
    "#mid_score = pd.Series({'국어' : 75, '영어' : 80, '수학' : 90, '과학' : 95, '사회' : 70})\n",
    "mid_score = pd.Series([75,80,90,95,70], index=['국어', '영어', '수학', '과학', '사회'])\n",
    "mid_score"
   ]
  },
  {
   "cell_type": "code",
   "execution_count": 31,
   "metadata": {},
   "outputs": [
    {
     "data": {
      "text/plain": [
       "과목\n",
       "국어    75\n",
       "영어    80\n",
       "수학    90\n",
       "과학    95\n",
       "사회    70\n",
       "dtype: int64"
      ]
     },
     "execution_count": 31,
     "metadata": {},
     "output_type": "execute_result"
    }
   ],
   "source": [
    "mid_score.index.name='과목'\n",
    "mid_score"
   ]
  },
  {
   "cell_type": "code",
   "execution_count": 32,
   "metadata": {},
   "outputs": [
    {
     "data": {
      "text/plain": [
       "과목\n",
       "국어    75\n",
       "영어    80\n",
       "수학    90\n",
       "과학    95\n",
       "사회    70\n",
       "Name: 중간고사 성적, dtype: int64"
      ]
     },
     "execution_count": 32,
     "metadata": {},
     "output_type": "execute_result"
    }
   ],
   "source": [
    "mid_score.name='중간고사 성적'\n",
    "mid_score"
   ]
  },
  {
   "cell_type": "code",
   "execution_count": 33,
   "metadata": {},
   "outputs": [
    {
     "name": "stdout",
     "output_type": "stream",
     "text": [
      "과목\n",
      "국어    75\n",
      "영어    80\n",
      "수학    90\n",
      "Name: 중간고사 성적, dtype: int64\n",
      "과목\n",
      "국어    75\n",
      "영어    80\n",
      "수학    90\n",
      "Name: 중간고사 성적, dtype: int64\n"
     ]
    }
   ],
   "source": [
    "#국어~수학까지만 출력하기\n",
    "print(mid_score[0:3])\n",
    "print(mid_score['국어':'수학'])"
   ]
  },
  {
   "cell_type": "code",
   "execution_count": 41,
   "metadata": {},
   "outputs": [
    {
     "name": "stdout",
     "output_type": "stream",
     "text": [
      "===========================================\n",
      "과목\n",
      "수학    90\n",
      "과학    95\n",
      "Name: 중간고사 성적, dtype: int64\n",
      "===========================================\n",
      "과목\n",
      "영어    80\n",
      "수학    90\n",
      "Name: 중간고사 성적, dtype: int64\n",
      "===========================================\n",
      "합계:  410\n",
      "평균:  82.0\n",
      "최대값:  95\n",
      "===========================================\n"
     ]
    }
   ],
   "source": [
    "print(\"===========================================\")\n",
    "#중간고사 성적이 85점 이상인 과목만 뽑아주기\n",
    "print(mid_score[mid_score>=85])\n",
    "print(\"===========================================\")\n",
    "\n",
    "#중간고사 성적이 80점 이상 90점 이하인 과목만 뽑아주기\n",
    "print(mid_score[(mid_score>=80)&(mid_score<=90)])\n",
    "print(\"===========================================\")\n",
    "\n",
    "#5개의 과목의 평균점수, 합계점수, 최대값을 출력해주기\n",
    "print(\"합계: \", np.sum(mid_score))\n",
    "print(\"평균: \", np.mean(mid_score))\n",
    "print(\"최대값: \", np.max(mid_score))\n",
    "print(\"===========================================\")"
   ]
  },
  {
   "cell_type": "code",
   "execution_count": null,
   "metadata": {},
   "outputs": [],
   "source": []
  }
 ],
 "metadata": {
  "kernelspec": {
   "display_name": "Python 3.9.12 ('base')",
   "language": "python",
   "name": "python3"
  },
  "language_info": {
   "codemirror_mode": {
    "name": "ipython",
    "version": 3
   },
   "file_extension": ".py",
   "mimetype": "text/x-python",
   "name": "python",
   "nbconvert_exporter": "python",
   "pygments_lexer": "ipython3",
   "version": "3.9.12"
  },
  "orig_nbformat": 4,
  "vscode": {
   "interpreter": {
    "hash": "a077222d77dfe082b8f1dd562ad70e458ac2ab76993a0b248ab0476e32e9e8dd"
   }
  }
 },
 "nbformat": 4,
 "nbformat_minor": 2
}
