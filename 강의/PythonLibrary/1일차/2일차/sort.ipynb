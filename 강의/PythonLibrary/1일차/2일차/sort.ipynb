{
 "cells": [
  {
   "cell_type": "markdown",
   "metadata": {},
   "source": [
    "##### 정렬: sort"
   ]
  },
  {
   "cell_type": "code",
   "execution_count": 1,
   "metadata": {},
   "outputs": [],
   "source": [
    "import numpy as np\n",
    "import pandas as pd\n",
    "import random"
   ]
  },
  {
   "cell_type": "markdown",
   "metadata": {},
   "source": [
    "1. 1차원 정렬\n",
    "- 1차원 정렬은 매우 간단\n",
    "- sort 기능을 사용해도 저장은 되지 않는다. 저장하고 싶으면 새로운 변수에 할당해줘야한다."
   ]
  },
  {
   "cell_type": "code",
   "execution_count": 9,
   "metadata": {},
   "outputs": [
    {
     "name": "stdout",
     "output_type": "stream",
     "text": [
      "[ 1 10  5  8  2  4  3  6  8  7  9]\n",
      "[ 1  2  3  4  5  6  7  8  8  9 10]\n",
      "[10  9  8  8  7  6  5  4  3  2  1]\n",
      "[ 1  2  3  4  5  6  7  8  8  9 10]\n"
     ]
    }
   ],
   "source": [
    "arr = np.array([1,10,5,8,2,4,3,6,8,7,9])\n",
    "print(arr)\n",
    "\n",
    "#오름차순\n",
    "print(np.sort(arr))\n",
    "\n",
    "#내림차순\n",
    "print(np.sort(arr)[::-1])\n",
    "\n",
    "#새로운 변수에 정렬한 배열 할당\n",
    "new_arr = np.sort(arr)\n",
    "print(new_arr)"
   ]
  },
  {
   "cell_type": "markdown",
   "metadata": {},
   "source": [
    "2. N차원 정렬"
   ]
  },
  {
   "cell_type": "code",
   "execution_count": 19,
   "metadata": {},
   "outputs": [
    {
     "name": "stdout",
     "output_type": "stream",
     "text": [
      "[[ 5  6  7  8]\n",
      " [ 4  3  2  1]\n",
      " [10  9 12 11]]\n",
      "(3, 4)\n",
      "[[ 5  6  7  8]\n",
      " [ 1  2  3  4]\n",
      " [ 9 10 11 12]]\n",
      "[[ 4  3  2  1]\n",
      " [ 5  6  7  8]\n",
      " [10  9 12 11]]\n"
     ]
    }
   ],
   "source": [
    "arr2d=np.array([[5,6,7,8],\n",
    "              [4,3,2,1],\n",
    "              [10,9,12,11]])\n",
    "print(arr2d)\n",
    "\n",
    "#형태 확인\n",
    "print(arr2d.shape)\n",
    "\n",
    "#axis: 축 -> 가로축, 세로축을 0아니면 1로 표현\n",
    "\n",
    "#열 정렬(왼쪽에서 오른쪽으로) -> 행을 기준으로?\n",
    "new_add2d = np.sort(arr2d, axis=1)\n",
    "print(new_add2d)\n",
    "\n",
    "\n",
    "#행 정렬(위에서 아래로) ->열을 기준으로?\n",
    "new2_add2d =np.sort(arr2d, axis=0)\n",
    "print(new2_add2d)"
   ]
  },
  {
   "cell_type": "markdown",
   "metadata": {},
   "source": [
    "##### y원소들의 평균, 합, 최대값, 최소값, 분산, 중앙값, 표준편차를 구해봅시다."
   ]
  },
  {
   "cell_type": "code",
   "execution_count": 22,
   "metadata": {},
   "outputs": [
    {
     "name": "stdout",
     "output_type": "stream",
     "text": [
      "[[ 1 31 16 65 62]\n",
      " [46  5 72 54 99]\n",
      " [78 79 39 39  6]]\n"
     ]
    }
   ],
   "source": [
    "y = np.random.randint(100, size = (3, 5))\n",
    "print(y)"
   ]
  },
  {
   "cell_type": "code",
   "execution_count": 31,
   "metadata": {},
   "outputs": [
    {
     "name": "stdout",
     "output_type": "stream",
     "text": [
      "합계:  692\n",
      "평균:  46.13333333333333\n",
      "최대값:  99\n",
      "최소값:  1\n",
      "분산:  853.848888888889\n",
      "중앙값:  46.0\n",
      "표준편차:  29.220692820138417\n"
     ]
    }
   ],
   "source": [
    "#합계\n",
    "print(\"합계: \", np.sum(y))\n",
    "\n",
    "#평균\n",
    "print(\"평균: \", np.mean(y))\n",
    "#y.mean()\n",
    "\n",
    "#최대값\n",
    "print(\"최대값: \", y.max())\n",
    "\n",
    "#최소값\n",
    "print(\"최소값: \", y.min())\n",
    "\n",
    "#분산\n",
    "print(\"분산: \",y.var())\n",
    "\n",
    "#중앙값\n",
    "print(\"중앙값: \", np.median(y))\n",
    "\n",
    "#표준편차\n",
    "print(\"표준편차: \", y.std())"
   ]
  },
  {
   "cell_type": "code",
   "execution_count": null,
   "metadata": {},
   "outputs": [],
   "source": []
  },
  {
   "cell_type": "code",
   "execution_count": null,
   "metadata": {},
   "outputs": [],
   "source": []
  },
  {
   "cell_type": "code",
   "execution_count": null,
   "metadata": {},
   "outputs": [],
   "source": []
  },
  {
   "cell_type": "code",
   "execution_count": null,
   "metadata": {},
   "outputs": [],
   "source": []
  }
 ],
 "metadata": {
  "kernelspec": {
   "display_name": "Python 3.9.12 ('base')",
   "language": "python",
   "name": "python3"
  },
  "language_info": {
   "codemirror_mode": {
    "name": "ipython",
    "version": 3
   },
   "file_extension": ".py",
   "mimetype": "text/x-python",
   "name": "python",
   "nbconvert_exporter": "python",
   "pygments_lexer": "ipython3",
   "version": "3.9.12"
  },
  "orig_nbformat": 4,
  "vscode": {
   "interpreter": {
    "hash": "a077222d77dfe082b8f1dd562ad70e458ac2ab76993a0b248ab0476e32e9e8dd"
   }
  }
 },
 "nbformat": 4,
 "nbformat_minor": 2
}
