{
 "cells": [
  {
   "cell_type": "markdown",
   "metadata": {},
   "source": [
    "#### Numpy라이브러리 활용해보기\n",
    "- 고성능의 계산을 하고 싶을 때 사용한다"
   ]
  },
  {
   "cell_type": "code",
   "execution_count": 3,
   "metadata": {},
   "outputs": [],
   "source": [
    "import numpy as np"
   ]
  },
  {
   "cell_type": "markdown",
   "metadata": {},
   "source": [
    "##### 1차원"
   ]
  },
  {
   "cell_type": "code",
   "execution_count": 42,
   "metadata": {},
   "outputs": [
    {
     "data": {
      "text/plain": [
       "[1, 2, 3, 4, 5]"
      ]
     },
     "execution_count": 42,
     "metadata": {},
     "output_type": "execute_result"
    }
   ],
   "source": [
    "#방법2-변수활용해서 넣기\n",
    "list1 = [1, 2, 3, 4, 5]\n",
    "list1"
   ]
  },
  {
   "cell_type": "code",
   "execution_count": 43,
   "metadata": {},
   "outputs": [
    {
     "data": {
      "text/plain": [
       "array([1, 2, 3, 4, 5])"
      ]
     },
     "execution_count": 43,
     "metadata": {},
     "output_type": "execute_result"
    }
   ],
   "source": [
    "arr = np.array(list1)\n",
    "arr"
   ]
  },
  {
   "cell_type": "code",
   "execution_count": 37,
   "metadata": {},
   "outputs": [
    {
     "name": "stdout",
     "output_type": "stream",
     "text": [
      "[1 2 3 4 5]\n",
      "(5,)\n",
      "5\n",
      "int32\n",
      "1\n"
     ]
    }
   ],
   "source": [
    "#방법2-직접넣기\n",
    "arr1 = np.array([1,2,3,4,5])\n",
    "print(arr1)\n",
    "#배열의 크기(형태) 확인\n",
    "print(arr1.shape)\n",
    "#배열의 요수의 수 확인\n",
    "print(arr1.size)\n",
    "#\n",
    "print(arr1.dtype)\n",
    "#몇차원인지 확인\n",
    "print(arr1.ndim)"
   ]
  },
  {
   "cell_type": "markdown",
   "metadata": {},
   "source": [
    "##### 2차원"
   ]
  },
  {
   "cell_type": "code",
   "execution_count": 36,
   "metadata": {},
   "outputs": [
    {
     "name": "stdout",
     "output_type": "stream",
     "text": [
      "[[1 2 3]\n",
      " [4 5 6]]\n",
      "(2, 3)\n",
      "6\n",
      "int32\n",
      "2\n"
     ]
    }
   ],
   "source": [
    "#               동일한 원소개소 유지 [], [] -> 같은 차원인 경우\n",
    "arr2 = np.array([[1, 2, 3], [4, 5, 6]])\n",
    "print(arr2)\n",
    "print(arr2.shape)\n",
    "print(arr2.size)\n",
    "print(arr2.dtype)\n",
    "print(arr2.ndim)"
   ]
  },
  {
   "cell_type": "markdown",
   "metadata": {},
   "source": [
    "##### 3차원 배열"
   ]
  },
  {
   "cell_type": "code",
   "execution_count": 32,
   "metadata": {},
   "outputs": [
    {
     "name": "stdout",
     "output_type": "stream",
     "text": [
      "[[[1 2 3]\n",
      "  [4 5 6]]\n",
      "\n",
      " [[1 3 5]\n",
      "  [2 4 6]]\n",
      "\n",
      " [[7 8 9]\n",
      "  [9 8 7]]]\n",
      "(3, 2, 3)\n",
      "18\n",
      "int32\n",
      "3\n"
     ]
    }
   ],
   "source": [
    "arr3 = np.array([[[1, 2, 3], [4, 5, 6]], [[1, 3, 5],[2, 4, 6]], [[7, 8, 9], [9, 8, 7]]])\n",
    "print(arr3)\n",
    "print(arr3.shape)\n",
    "print(arr3.size)\n",
    "print(arr3.dtype)\n",
    "print(arr3.ndim)"
   ]
  },
  {
   "cell_type": "code",
   "execution_count": 31,
   "metadata": {},
   "outputs": [
    {
     "name": "stdout",
     "output_type": "stream",
     "text": [
      "[[[1 2]\n",
      "  [3 4]]\n",
      "\n",
      " [[5 6]\n",
      "  [7 8]]]\n",
      "(2, 2, 2)\n",
      "8\n",
      "int32\n",
      "3\n"
     ]
    }
   ],
   "source": [
    "arr3_1 = np.array([[[1, 2], [3, 4]], [[5, 6], [7, 8],]])\n",
    "print(arr3_1)\n",
    "print(arr3_1.shape)\n",
    "print(arr3_1.size)\n",
    "print(arr3_1.dtype)\n",
    "print(arr3_1.ndim)"
   ]
  },
  {
   "cell_type": "code",
   "execution_count": 34,
   "metadata": {},
   "outputs": [
    {
     "data": {
      "text/plain": [
       "array([[0., 0., 0., 0.],\n",
       "       [0., 0., 0., 0.],\n",
       "       [0., 0., 0., 0.]])"
      ]
     },
     "execution_count": 34,
     "metadata": {},
     "output_type": "execute_result"
    }
   ],
   "source": [
    "#3*4인형태인 모든 값이 0으로 채워진 배열 만들기\n",
    "arr_zeros = np.zeros((3, 4))\n",
    "arr_zeros"
   ]
  },
  {
   "cell_type": "code",
   "execution_count": 35,
   "metadata": {},
   "outputs": [
    {
     "data": {
      "text/plain": [
       "array([[1., 1., 1., 1.],\n",
       "       [1., 1., 1., 1.],\n",
       "       [1., 1., 1., 1.]])"
      ]
     },
     "execution_count": 35,
     "metadata": {},
     "output_type": "execute_result"
    }
   ],
   "source": [
    "#3*4인형태인 모든 값이 1으로 채워진 배열 만들기\n",
    "arr_ones = np.ones((3, 4))\n",
    "arr_ones"
   ]
  },
  {
   "cell_type": "code",
   "execution_count": 45,
   "metadata": {},
   "outputs": [
    {
     "data": {
      "text/plain": [
       "array([[5, 5],\n",
       "       [5, 5],\n",
       "       [5, 5]])"
      ]
     },
     "execution_count": 45,
     "metadata": {},
     "output_type": "execute_result"
    }
   ],
   "source": [
    "#원하는 값 지정해서 원하는 형태의 배열만들기\n",
    "arr_full = np.full((3,2), 5)\n",
    "arr_full"
   ]
  },
  {
   "cell_type": "code",
   "execution_count": 40,
   "metadata": {},
   "outputs": [
    {
     "name": "stdout",
     "output_type": "stream",
     "text": [
      "[1, 2, 3, 4, 5, 6, 7, 8, 9, 10, 11, 12, 13, 14, 15, 16, 17, 18, 19, 20, 21, 22, 23, 24, 25, 26, 27, 28, 29, 30, 31, 32, 33, 34, 35, 36, 37, 38, 39, 40, 41, 42, 43, 44, 45, 46, 47, 48, 49, 50]\n"
     ]
    }
   ],
   "source": [
    "#for문 이용해서 1~50이 들어간 리스트 만들기\n",
    "list = []\n",
    "for i in range(1, 51):\n",
    "    list.append(i)\n",
    "print(list)\n"
   ]
  },
  {
   "cell_type": "code",
   "execution_count": 44,
   "metadata": {},
   "outputs": [
    {
     "data": {
      "text/plain": [
       "array([ 1,  2,  3,  4,  5,  6,  7,  8,  9, 10, 11, 12, 13, 14, 15, 16, 17,\n",
       "       18, 19, 20, 21, 22, 23, 24, 25, 26, 27, 28, 29, 30, 31, 32, 33, 34,\n",
       "       35, 36, 37, 38, 39, 40, 41, 42, 43, 44, 45, 46, 47, 48, 49, 50])"
      ]
     },
     "execution_count": 44,
     "metadata": {},
     "output_type": "execute_result"
    }
   ],
   "source": [
    "arr = np.array(list)\n",
    "arr"
   ]
  },
  {
   "cell_type": "code",
   "execution_count": 46,
   "metadata": {},
   "outputs": [
    {
     "data": {
      "text/plain": [
       "array([ 1,  2,  3,  4,  5,  6,  7,  8,  9, 10, 11, 12, 13, 14, 15, 16, 17,\n",
       "       18, 19, 20, 21, 22, 23, 24, 25, 26, 27, 28, 29, 30, 31, 32, 33, 34,\n",
       "       35, 36, 37, 38, 39, 40, 41, 42, 43, 44, 45, 46, 47, 48, 49, 50])"
      ]
     },
     "execution_count": 46,
     "metadata": {},
     "output_type": "execute_result"
    }
   ],
   "source": [
    "#1~50이 담긴 배열 생성하기\n",
    "arr = np.arange(1, 51)\n",
    "arr"
   ]
  },
  {
   "cell_type": "code",
   "execution_count": 47,
   "metadata": {},
   "outputs": [
    {
     "data": {
      "text/plain": [
       "array([ 1, 11, 21, 31, 41])"
      ]
     },
     "execution_count": 47,
     "metadata": {},
     "output_type": "execute_result"
    }
   ],
   "source": [
    "#               범위   간격    \n",
    "arr = np.arange(1, 51, 10)\n",
    "arr"
   ]
  },
  {
   "cell_type": "code",
   "execution_count": 50,
   "metadata": {},
   "outputs": [
    {
     "data": {
      "text/plain": [
       "array([[0.37022336, 0.52963671, 0.51134964],\n",
       "       [0.99979379, 0.47027249, 0.3393414 ]])"
      ]
     },
     "execution_count": 50,
     "metadata": {},
     "output_type": "execute_result"
    }
   ],
   "source": [
    "#랜덤 값 배열 생성하기-rand: 난수(0-10사이의 난수들 )\n",
    "arr = np.random.rand(2, 3)\n",
    "arr"
   ]
  },
  {
   "cell_type": "code",
   "execution_count": 51,
   "metadata": {},
   "outputs": [
    {
     "data": {
      "text/plain": [
       "6"
      ]
     },
     "execution_count": 51,
     "metadata": {},
     "output_type": "execute_result"
    }
   ],
   "source": [
    "#랜덤 값 배열 생성하기-randint: 정수(1개)\n",
    "arr = np.random.randint(2, 10)\n",
    "arr"
   ]
  },
  {
   "cell_type": "code",
   "execution_count": 52,
   "metadata": {},
   "outputs": [
    {
     "data": {
      "text/plain": [
       "array([[2, 3, 7],\n",
       "       [7, 9, 2]])"
      ]
     },
     "execution_count": 52,
     "metadata": {},
     "output_type": "execute_result"
    }
   ],
   "source": [
    "arr = np.random.randint(2, 10, size=(2, 3))\n",
    "arr"
   ]
  },
  {
   "cell_type": "code",
   "execution_count": 53,
   "metadata": {},
   "outputs": [
    {
     "data": {
      "text/plain": [
       "array([1, 2, 3], dtype=int64)"
      ]
     },
     "execution_count": 53,
     "metadata": {},
     "output_type": "execute_result"
    }
   ],
   "source": [
    "#dtype: 데이터타입\n",
    "#타입 지정하여 배열 생성하기-int32? / 실수 -> int64 / 정수\n",
    "arr_type = np.array([1.1, 2.2, 3.3], dtype = np.int64)\n",
    "arr_type"
   ]
  },
  {
   "cell_type": "code",
   "execution_count": 54,
   "metadata": {},
   "outputs": [
    {
     "data": {
      "text/plain": [
       "array([1., 2., 3.])"
      ]
     },
     "execution_count": 54,
     "metadata": {},
     "output_type": "execute_result"
    }
   ],
   "source": [
    "#타입변경하기                실수 비트\n",
    "arr_type = arr_type.astype(\"float64\")\n",
    "arr_type"
   ]
  },
  {
   "cell_type": "code",
   "execution_count": 55,
   "metadata": {},
   "outputs": [
    {
     "data": {
      "text/plain": [
       "dtype('float64')"
      ]
     },
     "execution_count": 55,
     "metadata": {},
     "output_type": "execute_result"
    }
   ],
   "source": [
    "arr_type.dtype"
   ]
  },
  {
   "cell_type": "markdown",
   "metadata": {},
   "source": [
    "##### 연산"
   ]
  },
  {
   "cell_type": "code",
   "execution_count": 57,
   "metadata": {},
   "outputs": [
    {
     "data": {
      "text/plain": [
       "array([1, 2, 3])"
      ]
     },
     "execution_count": 57,
     "metadata": {},
     "output_type": "execute_result"
    }
   ],
   "source": [
    "arr = np.array([1, 2, 3])\n",
    "arr"
   ]
  },
  {
   "cell_type": "code",
   "execution_count": 58,
   "metadata": {},
   "outputs": [
    {
     "data": {
      "text/plain": [
       "array([2, 4, 6])"
      ]
     },
     "execution_count": 58,
     "metadata": {},
     "output_type": "execute_result"
    }
   ],
   "source": [
    "arr + arr"
   ]
  },
  {
   "cell_type": "code",
   "execution_count": 59,
   "metadata": {},
   "outputs": [
    {
     "data": {
      "text/plain": [
       "array([1, 4, 9])"
      ]
     },
     "execution_count": 59,
     "metadata": {},
     "output_type": "execute_result"
    }
   ],
   "source": [
    "arr * arr"
   ]
  },
  {
   "cell_type": "code",
   "execution_count": 60,
   "metadata": {},
   "outputs": [
    {
     "data": {
      "text/plain": [
       "array([1, 2, 3])"
      ]
     },
     "execution_count": 60,
     "metadata": {},
     "output_type": "execute_result"
    }
   ],
   "source": [
    "#1차원 배열\n",
    "arr_a = np.array([1,2,3])\n",
    "arr_a"
   ]
  },
  {
   "cell_type": "code",
   "execution_count": 61,
   "metadata": {},
   "outputs": [
    {
     "data": {
      "text/plain": [
       "array([4, 5, 6])"
      ]
     },
     "execution_count": 61,
     "metadata": {},
     "output_type": "execute_result"
    }
   ],
   "source": [
    "arr_b = np.array([4, 5, 6])\n",
    "arr_b"
   ]
  },
  {
   "cell_type": "code",
   "execution_count": 62,
   "metadata": {},
   "outputs": [
    {
     "data": {
      "text/plain": [
       "array([5, 7, 9])"
      ]
     },
     "execution_count": 62,
     "metadata": {},
     "output_type": "execute_result"
    }
   ],
   "source": [
    "arr_a + arr_b"
   ]
  },
  {
   "cell_type": "code",
   "execution_count": 64,
   "metadata": {},
   "outputs": [
    {
     "data": {
      "text/plain": [
       "array([[1, 2, 3],\n",
       "       [4, 5, 6]])"
      ]
     },
     "execution_count": 64,
     "metadata": {},
     "output_type": "execute_result"
    }
   ],
   "source": [
    "#2차원\n",
    "arr2_a = np.array([[1, 2, 3], [4, 5, 6]])\n",
    "arr2_a"
   ]
  },
  {
   "cell_type": "code",
   "execution_count": 70,
   "metadata": {},
   "outputs": [
    {
     "data": {
      "text/plain": [
       "array([[2, 3, 4],\n",
       "       [5, 6, 7]])"
      ]
     },
     "execution_count": 70,
     "metadata": {},
     "output_type": "execute_result"
    }
   ],
   "source": [
    "arr2_a + 1"
   ]
  },
  {
   "cell_type": "code",
   "execution_count": 65,
   "metadata": {},
   "outputs": [
    {
     "data": {
      "text/plain": [
       "array([[[ 7,  8,  9],\n",
       "        [10, 11, 12]]])"
      ]
     },
     "execution_count": 65,
     "metadata": {},
     "output_type": "execute_result"
    }
   ],
   "source": [
    "arr2_b = np.array([[[7, 8, 9],[10, 11, 12]]])\n",
    "arr2_b"
   ]
  },
  {
   "cell_type": "code",
   "execution_count": 72,
   "metadata": {},
   "outputs": [
    {
     "data": {
      "text/plain": [
       "array([[[14, 16, 18],\n",
       "        [20, 22, 24]]])"
      ]
     },
     "execution_count": 72,
     "metadata": {},
     "output_type": "execute_result"
    }
   ],
   "source": [
    "arr2_b * 2"
   ]
  },
  {
   "cell_type": "code",
   "execution_count": 71,
   "metadata": {},
   "outputs": [
    {
     "data": {
      "text/plain": [
       "array([[[ 8, 10, 12],\n",
       "        [14, 16, 18]]])"
      ]
     },
     "execution_count": 71,
     "metadata": {},
     "output_type": "execute_result"
    }
   ],
   "source": [
    "arr2_a + arr2_b"
   ]
  },
  {
   "cell_type": "markdown",
   "metadata": {},
   "source": [
    "##### 인덱싱, 슬라이싱"
   ]
  },
  {
   "cell_type": "markdown",
   "metadata": {},
   "source": [
    "##### 1차원 인덱싱"
   ]
  },
  {
   "cell_type": "code",
   "execution_count": 86,
   "metadata": {},
   "outputs": [
    {
     "data": {
      "text/plain": [
       "array([0, 1, 2, 3, 4, 5])"
      ]
     },
     "execution_count": 86,
     "metadata": {},
     "output_type": "execute_result"
    }
   ],
   "source": [
    "arr1 = np.array([0, 1, 2, 3, 4, 5])\n",
    "arr1"
   ]
  },
  {
   "cell_type": "code",
   "execution_count": 87,
   "metadata": {},
   "outputs": [
    {
     "name": "stdout",
     "output_type": "stream",
     "text": [
      "2\n",
      "5\n"
     ]
    }
   ],
   "source": [
    "print(arr1[2])\n",
    "print(arr1[5])"
   ]
  },
  {
   "cell_type": "markdown",
   "metadata": {},
   "source": [
    "##### 2차원 인덱싱"
   ]
  },
  {
   "cell_type": "code",
   "execution_count": 90,
   "metadata": {},
   "outputs": [
    {
     "data": {
      "text/plain": [
       "array([[1, 2, 3],\n",
       "       [4, 5, 6]])"
      ]
     },
     "execution_count": 90,
     "metadata": {},
     "output_type": "execute_result"
    }
   ],
   "source": [
    "arr2 = np.array([[1, 2, 3], [4, 5, 6]])\n",
    "arr2"
   ]
  },
  {
   "cell_type": "code",
   "execution_count": 93,
   "metadata": {},
   "outputs": [
    {
     "name": "stdout",
     "output_type": "stream",
     "text": [
      "[1 2 3]\n",
      "1\n",
      "-----------\n",
      "4\n",
      "6\n",
      "6\n",
      "[4 5 6]\n"
     ]
    }
   ],
   "source": [
    "print(arr2[0])\n",
    "print(arr2[0][0])\n",
    "print('-----------')\n",
    "print(arr2[1][0])\n",
    "print(arr2[1][2])\n",
    "print(arr2[1, 2])\n",
    "print(arr2[1])"
   ]
  },
  {
   "cell_type": "markdown",
   "metadata": {},
   "source": [
    "##### 슬라이싱"
   ]
  },
  {
   "cell_type": "markdown",
   "metadata": {},
   "source": [
    "##### 1차원 슬라이싱"
   ]
  },
  {
   "cell_type": "code",
   "execution_count": 95,
   "metadata": {},
   "outputs": [
    {
     "data": {
      "text/plain": [
       "array([0, 1, 2, 3, 4, 5, 6, 7, 8, 9])"
      ]
     },
     "execution_count": 95,
     "metadata": {},
     "output_type": "execute_result"
    }
   ],
   "source": [
    "arr1 = np.arange(10)\n",
    "arr1"
   ]
  },
  {
   "cell_type": "code",
   "execution_count": 96,
   "metadata": {},
   "outputs": [
    {
     "data": {
      "text/plain": [
       "array([3, 4, 5, 6, 7])"
      ]
     },
     "execution_count": 96,
     "metadata": {},
     "output_type": "execute_result"
    }
   ],
   "source": [
    "#3부터 8미만\n",
    "arr1[3:8]"
   ]
  },
  {
   "cell_type": "code",
   "execution_count": 98,
   "metadata": {},
   "outputs": [
    {
     "data": {
      "text/plain": [
       "array([ 0,  1,  2, 12, 12, 12, 12, 12,  8,  9])"
      ]
     },
     "execution_count": 98,
     "metadata": {},
     "output_type": "execute_result"
    }
   ],
   "source": [
    "#슬라이싱한 곳에 데이터 넣기\n",
    "arr1[3:8] = 12\n",
    "arr1"
   ]
  },
  {
   "cell_type": "markdown",
   "metadata": {},
   "source": [
    "##### 2차원 슬라이싱"
   ]
  },
  {
   "cell_type": "code",
   "execution_count": 101,
   "metadata": {},
   "outputs": [
    {
     "data": {
      "text/plain": [
       "array([[ 0,  1,  2,  3,  4,  5,  6,  7,  8,  9],\n",
       "       [10, 11, 12, 13, 14, 15, 16, 17, 18, 19],\n",
       "       [20, 21, 22, 23, 24, 25, 26, 27, 28, 29],\n",
       "       [30, 31, 32, 33, 34, 35, 36, 37, 38, 39],\n",
       "       [40, 41, 42, 43, 44, 45, 46, 47, 48, 49]])"
      ]
     },
     "execution_count": 101,
     "metadata": {},
     "output_type": "execute_result"
    }
   ],
   "source": [
    "arr2 = np.arange(50).reshape(5, 10)\n",
    "arr2"
   ]
  },
  {
   "cell_type": "code",
   "execution_count": 105,
   "metadata": {},
   "outputs": [
    {
     "data": {
      "text/plain": [
       "array([[ 0,  1,  2,  3,  4,  5,  6,  7,  8,  9],\n",
       "       [10, 11, 12, 13, 14, 15, 16, 17, 18, 19]])"
      ]
     },
     "execution_count": 105,
     "metadata": {},
     "output_type": "execute_result"
    }
   ],
   "source": [
    "#0행부터 1행까지 전체 열 출력\n",
    "arr2[:2, :]"
   ]
  },
  {
   "cell_type": "code",
   "execution_count": 110,
   "metadata": {},
   "outputs": [
    {
     "data": {
      "text/plain": [
       "array([ 0, 10, 20, 30, 40])"
      ]
     },
     "execution_count": 110,
     "metadata": {},
     "output_type": "execute_result"
    }
   ],
   "source": [
    "#전체 행의 1열만 출력\n",
    "arr2[:, 0]"
   ]
  },
  {
   "cell_type": "code",
   "execution_count": 113,
   "metadata": {},
   "outputs": [
    {
     "data": {
      "text/plain": [
       "array([[ 0,  1,  2,  3,  4],\n",
       "       [10, 11, 12, 13, 14],\n",
       "       [20, 21, 22, 23, 24],\n",
       "       [30, 31, 32, 33, 34]])"
      ]
     },
     "execution_count": 113,
     "metadata": {},
     "output_type": "execute_result"
    }
   ],
   "source": [
    "#0행부터 3행까지 0열부터 4열까지 출력\n",
    "arr2[:4, 0:5]"
   ]
  },
  {
   "cell_type": "code",
   "execution_count": 116,
   "metadata": {},
   "outputs": [
    {
     "data": {
      "text/plain": [
       "21"
      ]
     },
     "execution_count": 116,
     "metadata": {},
     "output_type": "execute_result"
    }
   ],
   "source": [
    "#21출력-인덱싱 사용\n",
    "arr2[2, 1]\n",
    "#arr2[2][1]\n",
    "#arr2[2:3, 1:2]"
   ]
  },
  {
   "cell_type": "code",
   "execution_count": 119,
   "metadata": {},
   "outputs": [
    {
     "name": "stdout",
     "output_type": "stream",
     "text": [
      "48\n",
      "29\n",
      "12\n"
     ]
    }
   ],
   "source": [
    "print(arr2[4, 8])\n",
    "print(arr2[2, 9])\n",
    "print(arr2[1, 2])"
   ]
  },
  {
   "cell_type": "markdown",
   "metadata": {},
   "source": [
    "##### boolean"
   ]
  },
  {
   "cell_type": "code",
   "execution_count": 124,
   "metadata": {},
   "outputs": [
    {
     "name": "stdout",
     "output_type": "stream",
     "text": [
      "[80 75 55 96 30]\n",
      "[ True False False  True False]\n",
      "[80 96]\n"
     ]
    }
   ],
   "source": [
    "score = np.array([80, 75, 55, 96, 30])\n",
    "print(score)\n",
    "print(score >= 80)\n",
    "print(score[score>=80])"
   ]
  },
  {
   "cell_type": "code",
   "execution_count": 125,
   "metadata": {},
   "outputs": [
    {
     "data": {
      "text/plain": [
       "array(['영화', '동원', '성우', '수민'], dtype='<U2')"
      ]
     },
     "execution_count": 125,
     "metadata": {},
     "output_type": "execute_result"
    }
   ],
   "source": [
    "name = np.array([\"영화\", \"동원\", \"성우\", \"수민\"])\n",
    "name"
   ]
  },
  {
   "cell_type": "code",
   "execution_count": 126,
   "metadata": {},
   "outputs": [
    {
     "data": {
      "text/plain": [
       "array([False,  True, False,  True])"
      ]
     },
     "execution_count": 126,
     "metadata": {},
     "output_type": "execute_result"
    }
   ],
   "source": [
    "bol = np.array([False, True, False, True])\n",
    "bol"
   ]
  },
  {
   "cell_type": "code",
   "execution_count": 127,
   "metadata": {},
   "outputs": [
    {
     "data": {
      "text/plain": [
       "array(['동원', '수민'], dtype='<U2')"
      ]
     },
     "execution_count": 127,
     "metadata": {},
     "output_type": "execute_result"
    }
   ],
   "source": [
    "name[bol]"
   ]
  },
  {
   "cell_type": "code",
   "execution_count": 128,
   "metadata": {},
   "outputs": [
    {
     "data": {
      "text/plain": [
       "array([[60, 60],\n",
       "       [70, 70],\n",
       "       [80, 80],\n",
       "       [90, 90]])"
      ]
     },
     "execution_count": 128,
     "metadata": {},
     "output_type": "execute_result"
    }
   ],
   "source": [
    "score = np.array([[60, 60], [70, 70], [80, 80], [90, 90]])\n",
    "score"
   ]
  },
  {
   "cell_type": "code",
   "execution_count": 130,
   "metadata": {},
   "outputs": [
    {
     "data": {
      "text/plain": [
       "array([False, False, False, False])"
      ]
     },
     "execution_count": 130,
     "metadata": {},
     "output_type": "execute_result"
    }
   ],
   "source": [
    "name == \"운비\""
   ]
  },
  {
   "cell_type": "code",
   "execution_count": 131,
   "metadata": {},
   "outputs": [
    {
     "data": {
      "text/plain": [
       "array([ True, False, False, False])"
      ]
     },
     "execution_count": 131,
     "metadata": {},
     "output_type": "execute_result"
    }
   ],
   "source": [
    "name == \"영화\""
   ]
  },
  {
   "cell_type": "code",
   "execution_count": 134,
   "metadata": {},
   "outputs": [
    {
     "data": {
      "text/plain": [
       "array([[60, 60]])"
      ]
     },
     "execution_count": 134,
     "metadata": {},
     "output_type": "execute_result"
    }
   ],
   "source": [
    "score[name == \"영화\"]"
   ]
  },
  {
   "cell_type": "code",
   "execution_count": 135,
   "metadata": {},
   "outputs": [
    {
     "data": {
      "text/plain": [
       "array([[90, 90]])"
      ]
     },
     "execution_count": 135,
     "metadata": {},
     "output_type": "execute_result"
    }
   ],
   "source": [
    "score[name == \"수민\"]"
   ]
  },
  {
   "cell_type": "markdown",
   "metadata": {},
   "source": [
    "##### universally function"
   ]
  },
  {
   "cell_type": "code",
   "execution_count": 137,
   "metadata": {},
   "outputs": [
    {
     "data": {
      "text/plain": [
       "array([[6, 2, 1, 7, 2],\n",
       "       [7, 2, 5, 8, 3]])"
      ]
     },
     "execution_count": 137,
     "metadata": {},
     "output_type": "execute_result"
    }
   ],
   "source": [
    "arr = np.random.randint(1, 10, size = (2, 5))\n",
    "arr"
   ]
  },
  {
   "cell_type": "code",
   "execution_count": 142,
   "metadata": {},
   "outputs": [
    {
     "name": "stdout",
     "output_type": "stream",
     "text": [
      "43\n",
      "43\n",
      "4.3\n",
      "4.3\n"
     ]
    }
   ],
   "source": [
    "#합계: sum()\n",
    "print(arr.sum())\n",
    "print(np.sum(arr))\n",
    "\n",
    "#평균: mean()\n",
    "print(arr.mean())\n",
    "print(np.mean(arr))"
   ]
  },
  {
   "cell_type": "code",
   "execution_count": 144,
   "metadata": {},
   "outputs": [
    {
     "data": {
      "text/plain": [
       "array([1, 2, 3, 4, 5])"
      ]
     },
     "execution_count": 144,
     "metadata": {},
     "output_type": "execute_result"
    }
   ],
   "source": [
    "arr = np.arange(1, 6)\n",
    "arr"
   ]
  },
  {
   "cell_type": "code",
   "execution_count": 146,
   "metadata": {},
   "outputs": [
    {
     "data": {
      "text/plain": [
       "array([1.        , 1.41421356, 1.73205081, 2.        , 2.23606798])"
      ]
     },
     "execution_count": 146,
     "metadata": {},
     "output_type": "execute_result"
    }
   ],
   "source": [
    "#제곱근: sqrt()\n",
    "np.sqrt(arr)"
   ]
  },
  {
   "cell_type": "code",
   "execution_count": 147,
   "metadata": {},
   "outputs": [
    {
     "data": {
      "text/plain": [
       "array([-1, -2, -3,  4,  5])"
      ]
     },
     "execution_count": 147,
     "metadata": {},
     "output_type": "execute_result"
    }
   ],
   "source": [
    "arr = np.array([-1, -2, -3, 4, 5])\n",
    "arr"
   ]
  },
  {
   "cell_type": "code",
   "execution_count": 148,
   "metadata": {},
   "outputs": [
    {
     "data": {
      "text/plain": [
       "array([1, 2, 3, 4, 5])"
      ]
     },
     "execution_count": 148,
     "metadata": {},
     "output_type": "execute_result"
    }
   ],
   "source": [
    "#절대값:  abs()\n",
    "np.abs(arr)"
   ]
  },
  {
   "cell_type": "markdown",
   "metadata": {},
   "source": [
    "##### numpy를 왜 사용하는가?\n",
    "- 리스트에서는 할 수 없던 계산 혹은 고성능의 계산을 하기 위해서?"
   ]
  },
  {
   "cell_type": "code",
   "execution_count": 150,
   "metadata": {},
   "outputs": [],
   "source": [
    "#이미지 불러오기\n",
    "from IPython.display import Image"
   ]
  },
  {
   "cell_type": "code",
   "execution_count": 152,
   "metadata": {},
   "outputs": [
    {
     "data": {
      "text/html": [
       "<img src=\"data:image/png;base64,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\"/>"
      ],
      "text/plain": [
       "<IPython.core.display.Image object>"
      ]
     },
     "execution_count": 152,
     "metadata": {},
     "output_type": "execute_result"
    }
   ],
   "source": [
    "Image(url='data:image/png;base64,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')"
   ]
  },
  {
   "cell_type": "code",
   "execution_count": 172,
   "metadata": {},
   "outputs": [],
   "source": [
    "#유튜브 불러오기\n",
    "from IPython.lib.display import YouTubeVideo\n",
    "#from IPython.display import YouTubeVideo"
   ]
  },
  {
   "cell_type": "code",
   "execution_count": 176,
   "metadata": {},
   "outputs": [
    {
     "data": {
      "image/jpeg": "[encoded data removed]",
      "text/html": [
       "\n",
       "        <iframe\n",
       "            width=\"400\"\n",
       "            height=\"300\"\n",
       "            src=\"https://www.youtube.com/embed/Ql6iiHDOZmQ\"\n",
       "            frameborder=\"0\"\n",
       "            allowfullscreen\n",
       "            \n",
       "        ></iframe>\n",
       "        "
      ],
      "text/plain": [
       "<IPython.lib.display.YouTubeVideo at 0x1d6cd23ed00>"
      ]
     },
     "execution_count": 176,
     "metadata": {},
     "output_type": "execute_result"
    }
   ],
   "source": [
    "#https://www.youtube.com/watch?v='HZuVByIeEeA(고유번호)'\n",
    "YouTubeVideo(\"Ql6iiHDOZmQ\", width = 400, height = 300)"
   ]
  },
  {
   "cell_type": "code",
   "execution_count": null,
   "metadata": {},
   "outputs": [],
   "source": []
  }
 ],
 "metadata": {
  "kernelspec": {
   "display_name": "Python 3.9.12 ('base')",
   "language": "python",
   "name": "python3"
  },
  "language_info": {
   "codemirror_mode": {
    "name": "ipython",
    "version": 3
   },
   "file_extension": ".py",
   "mimetype": "text/x-python",
   "name": "python",
   "nbconvert_exporter": "python",
   "pygments_lexer": "ipython3",
   "version": "3.9.12"
  },
  "orig_nbformat": 4,
  "vscode": {
   "interpreter": {
    "hash": "a077222d77dfe082b8f1dd562ad70e458ac2ab76993a0b248ab0476e32e9e8dd"
   }
  }
 },
 "nbformat": 4,
 "nbformat_minor": 2
}
