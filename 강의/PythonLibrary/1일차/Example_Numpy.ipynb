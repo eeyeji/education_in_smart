{
 "cells": [
  {
   "cell_type": "code",
   "execution_count": 1,
   "metadata": {},
   "outputs": [],
   "source": [
    "import numpy as np"
   ]
  },
  {
   "cell_type": "code",
   "execution_count": 8,
   "metadata": {},
   "outputs": [
    {
     "name": "stdout",
     "output_type": "stream",
     "text": [
      "[0. 0. 0. 0. 0. 0. 0. 0. 0. 0.]\n"
     ]
    }
   ],
   "source": [
    "zero = np.zeros(10)\n",
    "print(zero)"
   ]
  },
  {
   "cell_type": "code",
   "execution_count": 10,
   "metadata": {},
   "outputs": [
    {
     "name": "stdout",
     "output_type": "stream",
     "text": [
      "[0. 0. 0. 0. 1. 0. 0. 0. 0. 0.]\n"
     ]
    }
   ],
   "source": [
    "zero[4]=1\n",
    "print(zero)"
   ]
  },
  {
   "cell_type": "code",
   "execution_count": 11,
   "metadata": {},
   "outputs": [
    {
     "name": "stdout",
     "output_type": "stream",
     "text": [
      "[10 11 12 13 14 15 16 17 18 19 20 21 22 23 24 25 26 27 28 29 30 31 32 33\n",
      " 34 35 36 37 38 39 40 41 42 43 44 45 46 47 48 49]\n"
     ]
    }
   ],
   "source": [
    "arr = np.arange(10, 50)\n",
    "print(arr)"
   ]
  },
  {
   "cell_type": "code",
   "execution_count": 13,
   "metadata": {},
   "outputs": [
    {
     "name": "stdout",
     "output_type": "stream",
     "text": [
      "[[0 1 2]\n",
      " [3 4 5]\n",
      " [6 7 8]]\n"
     ]
    }
   ],
   "source": [
    "arr = np.arange(9).reshape(3, 3)\n",
    "print(arr)"
   ]
  },
  {
   "cell_type": "code",
   "execution_count": 19,
   "metadata": {},
   "outputs": [
    {
     "name": "stdout",
     "output_type": "stream",
     "text": [
      "[[[0.92475867 0.02248477 0.64973904]\n",
      "  [0.31564416 0.18713056 0.92089965]\n",
      "  [0.87735761 0.47998401 0.32419447]]\n",
      "\n",
      " [[0.05242499 0.73758784 0.69560112]\n",
      "  [0.81852181 0.99793908 0.33632507]\n",
      "  [0.21153847 0.94440747 0.2407844 ]]\n",
      "\n",
      " [[0.32242358 0.20799446 0.61011068]\n",
      "  [0.57898639 0.34617711 0.1210686 ]\n",
      "  [0.70860213 0.37623868 0.83172108]]]\n"
     ]
    }
   ],
   "source": [
    "arr = np.random.random((3, 3, 3))\n",
    "print(arr)"
   ]
  },
  {
   "cell_type": "code",
   "execution_count": 18,
   "metadata": {},
   "outputs": [
    {
     "name": "stdout",
     "output_type": "stream",
     "text": [
      "[[[7 8 7]\n",
      "  [1 5 4]\n",
      "  [5 1 6]]\n",
      "\n",
      " [[3 5 7]\n",
      "  [8 8 3]\n",
      "  [7 6 3]]\n",
      "\n",
      " [[1 2 8]\n",
      "  [6 1 2]\n",
      "  [1 4 5]]]\n"
     ]
    }
   ],
   "source": [
    "arr = np.random.randint(1, 9, size =(3, 3, 3))\n",
    "print(arr)"
   ]
  },
  {
   "cell_type": "code",
   "execution_count": 22,
   "metadata": {},
   "outputs": [
    {
     "name": "stdout",
     "output_type": "stream",
     "text": [
      "[0.22309204 0.36474986 0.63615801 0.94344061 0.92740938 0.31663328\n",
      " 0.03030132 0.05449921 0.40158836 0.48274732 0.04439324 0.31846771\n",
      " 0.05057164 0.75235815 0.60107505 0.48110012 0.38312126 0.73581456\n",
      " 0.69090487 0.00176197 0.5833556  0.54863349 0.45766125 0.4144227\n",
      " 0.42677036 0.28979333 0.35877177 0.03146245 0.84790779 0.08400427]\n",
      "0.41609903283449845\n"
     ]
    }
   ],
   "source": [
    "#전체요소가 30인 numpy 배열 만들기\n",
    "arr = np.random.random(30)\n",
    "print(arr)\n",
    "#그 배열의 평균값 구하기\n",
    "print(np.mean(arr))"
   ]
  },
  {
   "cell_type": "code",
   "execution_count": 23,
   "metadata": {},
   "outputs": [
    {
     "name": "stdout",
     "output_type": "stream",
     "text": [
      "[10, 20, 30, 70, 80, 90]\n"
     ]
    }
   ],
   "source": [
    "mid_score = [10, 20, 30]\n",
    "final_score = [70, 80, 90]\n",
    "total_list = []\n",
    "total_list = mid_score+final_score\n",
    "#리스트로는 계산을 할 수 없음\n",
    "print(total_list)\n"
   ]
  },
  {
   "cell_type": "code",
   "execution_count": 24,
   "metadata": {},
   "outputs": [],
   "source": [
    "#리스트를 계산하기 위해선 numpy필요\n",
    "import numpy as np"
   ]
  },
  {
   "cell_type": "code",
   "execution_count": 30,
   "metadata": {},
   "outputs": [
    {
     "name": "stdout",
     "output_type": "stream",
     "text": [
      "시험 성적의 합계:  [ 80 100 120]\n",
      "시험 성적의 평균:  [40. 50. 60.]\n"
     ]
    }
   ],
   "source": [
    "mid_score = np.array([10, 20, 30])\n",
    "final_score = np.array([70, 80, 90])\n",
    "\n",
    "total_numpy = mid_score + final_score\n",
    "avg = total_numpy / 2\n",
    "\n",
    "print(\"시험 성적의 합계: \", total_numpy)\n",
    "#print(\"시험 성적의 합계: \", total_numpy/2)\n",
    "print(\"시험 성적의 평균: \", avg)"
   ]
  },
  {
   "cell_type": "code",
   "execution_count": 38,
   "metadata": {},
   "outputs": [
    {
     "name": "stdout",
     "output_type": "stream",
     "text": [
      "[0 1 2 3 4 5 6 7 8 9]\n",
      "[0 1 2 3 4 5 6 7 8 9]\n"
     ]
    }
   ],
   "source": [
    "#array_a = [0, 1, 2, 3, 4, 5, 6, 7, 8, 9]\n",
    "arr_a = []\n",
    "for i in range(10):\n",
    "    arr_a.append(i)\n",
    "array_a = np.array(arr_a)\n",
    "print(array_a)\n",
    "#array_a = np.arange(0, 10)\n",
    "#print(array_a)\n",
    "\n",
    "#array_b = [0, 1, 2, 3, 4, 5, 6, 7, 8, 9]\n",
    "array_b = np.arange(10)\n",
    "print(array_b)"
   ]
  },
  {
   "cell_type": "code",
   "execution_count": 40,
   "metadata": {},
   "outputs": [
    {
     "name": "stdout",
     "output_type": "stream",
     "text": [
      "[0 2 4 6 8]\n",
      "(5,)\n",
      "1\n",
      "int32\n",
      "5\n",
      "4\n"
     ]
    }
   ],
   "source": [
    "#array_c = [0, 2, 4, 6, 8]\n",
    "array_c = np.arange(0, 10, 2)\n",
    "print(array_c)\n",
    "print(array_c.shape)\n",
    "print(array_c.ndim)\n",
    "\n",
    "#byte크기\n",
    "print(array_c.dtype)\n",
    "print(array_c.size)\n",
    "\n",
    "#배열 내의 원소 크기를 바이트 단위로 알려줌: 4byte\n",
    "print(array_c.itemsize)"
   ]
  },
  {
   "cell_type": "code",
   "execution_count": 47,
   "metadata": {},
   "outputs": [
    {
     "name": "stdout",
     "output_type": "stream",
     "text": [
      "100추가:  [320 350 330]\n",
      "월급이 2배:  [640 700 660]\n"
     ]
    }
   ],
   "source": [
    "salary = np.array([220, 250, 230])\n",
    "salary = salary + 100\n",
    "print(\"100추가: \", salary)\n",
    "salary = salary * 2\n",
    "print(\"월급이 2배: \", salary)"
   ]
  },
  {
   "cell_type": "code",
   "execution_count": 64,
   "metadata": {},
   "outputs": [
    {
     "name": "stdout",
     "output_type": "stream",
     "text": [
      "[[170.   76.4]\n",
      " [183.   86.2]\n",
      " [171.   73.5]\n",
      " [176.   80.1]]\n",
      "몸무게가 80이상인 선수의 정보:  [[183.   86.2]\n",
      " [176.   80.1]]\n",
      "키가 180이상인 선수의 정보:  [[183.   86.2]]\n"
     ]
    }
   ],
   "source": [
    "players = [[170, 76.4], [183, 86.2], [171, 73.5], [176, 80.1]]\n",
    "\n",
    "np_players=np.array(players)\n",
    "print(np_players)\n",
    "\n",
    "#몸무게가 80kg이상인 선수만 출력\n",
    "#                                                            행 열\n",
    "print(\"몸무게가 80이상인 선수의 정보: \", np_players[np_players[:, 1] >= 80.0])\n",
    "\n",
    "#키가 180이상인 선수만 출력\n",
    "#                                                         행 열\n",
    "print(\"키가 180이상인 선수의 정보: \", np_players[np_players[:, 0] >= 180.0])\n"
   ]
  },
  {
   "cell_type": "code",
   "execution_count": 70,
   "metadata": {},
   "outputs": [
    {
     "name": "stdout",
     "output_type": "stream",
     "text": [
      "30\n",
      "[320.   220.   420.52 620.   100.   310.   210.   410.51 610.   200.\n",
      " 330.   230.   430.53 630.   300.   340.   240.   440.54 640.   600.\n",
      " 400.   250.   450.55 650.   750.   360.   260.   460.56 660.   800.  ]\n"
     ]
    }
   ],
   "source": [
    "revenue_in_yen = [320,220,420.520,620,100,310,210,410.510,610,200,330,230,430.530,630,300,340,240,440.540,640,600,400,250,450.550,650,750,360,260,460.560,660,800,]\n",
    "yen_array = np.array(revenue_in_yen)\n",
    "print(yen_array.size)\n",
    "print(yen_array)\n"
   ]
  },
  {
   "cell_type": "code",
   "execution_count": 72,
   "metadata": {},
   "outputs": [
    {
     "name": "stdout",
     "output_type": "stream",
     "text": [
      "30\n",
      "[3104.    2134.    4079.044 6014.     970.    3007.    2037.    3981.947\n",
      " 5917.    1940.    3201.    2231.    4176.141 6111.    2910.    3298.\n",
      " 2328.    4273.238 6208.    5820.    3880.    2425.    4370.335 6305.\n",
      " 7275.    3492.    2522.    4467.432 6402.    7760.   ]\n"
     ]
    }
   ],
   "source": [
    "won_array = yen_array * 9.7\n",
    "print(won_array.size)\n",
    "print(won_array)"
   ]
  },
  {
   "cell_type": "code",
   "execution_count": 74,
   "metadata": {},
   "outputs": [
    {
     "name": "stdout",
     "output_type": "stream",
     "text": [
      "30\n",
      "[10 20 30 40 50 60 11 21 31 41 51 61 12 22 32 42 52 62 13 23 33 43 53 63\n",
      " 14 24 34 44 54 64]\n"
     ]
    }
   ],
   "source": [
    "revenue_in_dollar = [10,20,30,40,50,60,11,21,31,41,51,61,12,22,32,42,52,62,13,23,33,43,53,63,14,24,34,44,54,64]\n",
    "dollar_array = np.array(revenue_in_dollar)\n",
    "print(dollar_array.size)\n",
    "print(dollar_array)"
   ]
  },
  {
   "cell_type": "code",
   "execution_count": 75,
   "metadata": {},
   "outputs": [
    {
     "name": "stdout",
     "output_type": "stream",
     "text": [
      "30\n",
      "[17014.    29954.    45809.044 61654.    70520.    86467.    17338.\n",
      " 33192.947 49038.    58971.    74142.    87082.    20868.141 36713.\n",
      " 47422.    61720.    74660.    90515.238 24291.    37813.    49783.\n",
      " 62238.    78093.335 93938.    26749.    36876.    49816.    65671.432\n",
      " 81516.    96784.   ]\n",
      "[170140.   299540.   458090.44 616540.   705200.   864670.   173380.\n",
      " 331929.47 490380.   589710.   741420.   870820.   208681.41 367130.\n",
      " 474220.   617200.   746600.   905152.38 242910.   378130.   497830.\n",
      " 622380.   780933.35 939380.   267490.   368760.   498160.   656714.32\n",
      " 815160.   967840.  ]\n"
     ]
    }
   ],
   "source": [
    "won_array = yen_array*9.7 + dollar_array * 1391\n",
    "print(won_array.size)\n",
    "print(won_array)\n",
    "new_array = won_array*10\n",
    "print(new_array)"
   ]
  },
  {
   "cell_type": "code",
   "execution_count": 76,
   "metadata": {},
   "outputs": [
    {
     "data": {
      "text/plain": [
       "array([170140, 299540, 458090, 616540, 705200, 864670, 173380, 331929,\n",
       "       490380, 589710, 741420, 870820, 208681, 367130, 474220, 617200,\n",
       "       746600, 905152, 242910, 378130, 497830, 622380, 780933, 939380,\n",
       "       267490, 368760, 498160, 656714, 815160, 967840], dtype=int64)"
      ]
     },
     "execution_count": 76,
     "metadata": {},
     "output_type": "execute_result"
    }
   ],
   "source": [
    "#.astype(): 데이터 타입 바꿔주기\n",
    "new_array.astype('int64')"
   ]
  },
  {
   "cell_type": "code",
   "execution_count": 80,
   "metadata": {},
   "outputs": [
    {
     "name": "stdout",
     "output_type": "stream",
     "text": [
      "[17014.    29954.    45809.044 17338.    33192.947 49038.    20868.141\n",
      " 36713.    47422.    24291.    37813.    49783.    26749.    36876.\n",
      " 49816.   ]\n"
     ]
    }
   ],
   "source": [
    "#won_array에서 수익이  50,000이하인 날을 뽑아봅시다.\n",
    "sad_days_revenue=won_array[won_array<=50000]\n",
    "print(sad_days_revenue)"
   ]
  },
  {
   "cell_type": "code",
   "execution_count": null,
   "metadata": {},
   "outputs": [],
   "source": []
  }
 ],
 "metadata": {
  "kernelspec": {
   "display_name": "Python 3.9.12 ('base')",
   "language": "python",
   "name": "python3"
  },
  "language_info": {
   "codemirror_mode": {
    "name": "ipython",
    "version": 3
   },
   "file_extension": ".py",
   "mimetype": "text/x-python",
   "name": "python",
   "nbconvert_exporter": "python",
   "pygments_lexer": "ipython3",
   "version": "3.9.12"
  },
  "orig_nbformat": 4,
  "vscode": {
   "interpreter": {
    "hash": "a077222d77dfe082b8f1dd562ad70e458ac2ab76993a0b248ab0476e32e9e8dd"
   }
  }
 },
 "nbformat": 4,
 "nbformat_minor": 2
}
