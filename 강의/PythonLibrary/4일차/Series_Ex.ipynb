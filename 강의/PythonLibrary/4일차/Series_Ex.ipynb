{
 "cells": [
  {
   "cell_type": "code",
   "execution_count": 42,
   "metadata": {},
   "outputs": [],
   "source": [
    "import matplotlib.pyplot as plt\n",
    "import pandas as pd\n",
    "import numpy as np\n",
    "import random\n",
    "from matplotlib import font_manager, rc  \n",
    "font_name = font_manager.FontProperties(fname='C:/Windows/Fonts/malgun.ttf').get_name()\n",
    "rc('font', family=font_name)"
   ]
  },
  {
   "cell_type": "markdown",
   "metadata": {},
   "source": [
    "- Series 활용\n",
    "- sr index: 학생 이름 / sr value: 영어점수"
   ]
  },
  {
   "cell_type": "code",
   "execution_count": 43,
   "metadata": {},
   "outputs": [
    {
     "data": {
      "text/plain": [
       "짱구     90\n",
       "유리     90\n",
       "훈이     55\n",
       "맹구     60\n",
       "흰둥이    76\n",
       "이슬     80\n",
       "수지     76\n",
       "철수1    88\n",
       "철수2    30\n",
       "철수3    25\n",
       "dtype: int64"
      ]
     },
     "execution_count": 43,
     "metadata": {},
     "output_type": "execute_result"
    }
   ],
   "source": [
    "sr = pd.Series([90,90,55,60,76,80,76,88,30,25])\n",
    "sr.index=['짱구', '유리', '훈이', '맹구', '흰둥이', '이슬', '수지', '철수1', '철수2', '철수3']\n",
    "sr"
   ]
  },
  {
   "cell_type": "code",
   "execution_count": 44,
   "metadata": {},
   "outputs": [
    {
     "data": {
      "text/plain": [
       "90"
      ]
     },
     "execution_count": 44,
     "metadata": {},
     "output_type": "execute_result"
    }
   ],
   "source": [
    "#영어점수 중 가장 높은 것은?\n",
    "sr.max()"
   ]
  },
  {
   "cell_type": "markdown",
   "metadata": {},
   "source": [
    "##### .nlargest()\n",
    "- 가장 높은 수 출력해주는 함수\n",
    "-nlargest(x, y) -> x: 가장 높은 수 몇개 뽑을지 / y: 중복되는 값 몇개 뽑을 지"
   ]
  },
  {
   "cell_type": "code",
   "execution_count": 45,
   "metadata": {},
   "outputs": [
    {
     "data": {
      "text/plain": [
       "Index(['짱구', '유리'], dtype='object')"
      ]
     },
     "execution_count": 45,
     "metadata": {},
     "output_type": "execute_result"
    }
   ],
   "source": [
    "#영어점수가 가장 높은 학생은?\n",
    "#.nlargest: 가장 큰 수가 몇명이니?\n",
    "#          (가장 높은 점수 하나만 뽑을 거야, 중복되는 값 다 출력)\n",
    "sr.nlargest(1, keep='all').index"
   ]
  },
  {
   "cell_type": "code",
   "execution_count": 46,
   "metadata": {},
   "outputs": [
    {
     "data": {
      "text/plain": [
       "짱구     90\n",
       "유리     90\n",
       "이슬     80\n",
       "철수1    88\n",
       "dtype: int64"
      ]
     },
     "execution_count": 46,
     "metadata": {},
     "output_type": "execute_result"
    }
   ],
   "source": [
    "#영어 점수가 80점 이상인 학생의 이름+점수를 출력해주기\n",
    "sr[sr>=80]"
   ]
  },
  {
   "cell_type": "code",
   "execution_count": 47,
   "metadata": {},
   "outputs": [
    {
     "data": {
      "text/plain": [
       "훈이     55\n",
       "맹구     60\n",
       "흰둥이    76\n",
       "이슬     80\n",
       "수지     76\n",
       "dtype: int64"
      ]
     },
     "execution_count": 47,
     "metadata": {},
     "output_type": "execute_result"
    }
   ],
   "source": [
    "#영어 점수가 50점 이상 80점 이하인 학생의 이름+점수를 출력해주기\n",
    "sr[(sr>=50)&(sr<=80)]"
   ]
  },
  {
   "cell_type": "code",
   "execution_count": 48,
   "metadata": {},
   "outputs": [
    {
     "data": {
      "text/plain": [
       "67.0"
      ]
     },
     "execution_count": 48,
     "metadata": {},
     "output_type": "execute_result"
    }
   ],
   "source": [
    "#영어 점수의 평군을 출력해주기\n",
    "sr.mean()"
   ]
  },
  {
   "cell_type": "code",
   "execution_count": 49,
   "metadata": {},
   "outputs": [
    {
     "data": {
      "text/plain": [
       "<AxesSubplot:>"
      ]
     },
     "execution_count": 49,
     "metadata": {},
     "output_type": "execute_result"
    },
    {
     "data": {
      "image/png": "[encoded data removed]",
      "text/plain": [
       "<Figure size 432x288 with 1 Axes>"
      ]
     },
     "metadata": {
      "needs_background": "light"
     },
     "output_type": "display_data"
    }
   ],
   "source": [
    "#영어 점수가 50점 이상인 학생의 바 차트 그리기\n",
    "sr50=sr[sr>=50]\n",
    "sr50.plot(kind='bar')"
   ]
  },
  {
   "cell_type": "code",
   "execution_count": 50,
   "metadata": {},
   "outputs": [
    {
     "name": "stdout",
     "output_type": "stream",
     "text": [
      "수지 76\n"
     ]
    }
   ],
   "source": [
    "#키보드로 학생들의 이름을 입력 받고, 그 학생의 영어 점수를 출력받아봅시다.\n",
    "name = input('이름을 입력하세요: ')\n",
    "print(name, sr[name])"
   ]
  },
  {
   "cell_type": "markdown",
   "metadata": {},
   "source": [
    "- .quantile(): 백분위 수 구할 때 사용"
   ]
  },
  {
   "cell_type": "code",
   "execution_count": 53,
   "metadata": {},
   "outputs": [
    {
     "data": {
      "text/plain": [
       "0.3    58.5\n",
       "0.6    77.6\n",
       "0.8    88.4\n",
       "dtype: float64"
      ]
     },
     "execution_count": 53,
     "metadata": {},
     "output_type": "execute_result"
    }
   ],
   "source": [
    "sr.quantile([0.3, 0.6, 0.8])"
   ]
  },
  {
   "cell_type": "code",
   "execution_count": 51,
   "metadata": {},
   "outputs": [
    {
     "name": "stdout",
     "output_type": "stream",
     "text": [
      "--------------------\n",
      "이름\t영어\t등급\n",
      "--------------------\n"
     ]
    },
    {
     "data": {
      "text/plain": [
       "짱구     A\n",
       "유리     A\n",
       "훈이     F\n",
       "맹구     D\n",
       "흰둥이    C\n",
       "이슬     B\n",
       "수지     C\n",
       "철수1    B\n",
       "철수2    F\n",
       "철수3    F\n",
       "dtype: category\n",
       "Categories (5, object): ['F' < 'D' < 'C' < 'B' < 'A']"
      ]
     },
     "execution_count": 51,
     "metadata": {},
     "output_type": "execute_result"
    }
   ],
   "source": [
    "#영어 점수 등급을 매기기\n",
    "#F: 0-59, D: 60-69, C: 70-79, B: 80-89 A:90-100\n",
    "\n",
    "#bins: 구간 - 왼쪽초과 오른쪽이하\n",
    "bins=[-1, 59, 69, 79, 89, 100]\n",
    "\n",
    "#labels: 구분\n",
    "labels=[\"F\", \"D\", \"C\", \"B\", \"A\"]\n",
    "\n",
    "print('-'*20)\n",
    "print('이름', '영어', '등급', sep='\\t')\n",
    "print('-'*20)\n",
    "\n",
    "result = pd.cut(sr, bins, labels=labels)\n",
    "result"
   ]
  },
  {
   "cell_type": "code",
   "execution_count": 52,
   "metadata": {},
   "outputs": [
    {
     "name": "stdout",
     "output_type": "stream",
     "text": [
      "--------------------\n",
      "이름\t영어\t등급\n",
      "--------------------\n"
     ]
    },
    {
     "data": {
      "text/plain": [
       "짱구     A\n",
       "유리     A\n",
       "훈이     F\n",
       "맹구     D\n",
       "흰둥이    C\n",
       "이슬     B\n",
       "수지     C\n",
       "철수1    B\n",
       "철수2    F\n",
       "철수3    F\n",
       "dtype: category\n",
       "Categories (5, object): ['F' < 'D' < 'C' < 'B' < 'A']"
      ]
     },
     "execution_count": 52,
     "metadata": {},
     "output_type": "execute_result"
    }
   ],
   "source": [
    "print('-'*20)\n",
    "print('이름', '영어', '등급', sep='\\t')\n",
    "print('-'*20)\n",
    "sr_cut=pd.cut(sr, [-1, 59, 69, 79, 89, 100], labels = [\"F\", \"D\", \"C\", \"B\", \"A\"])\n",
    "sr_cut"
   ]
  },
  {
   "cell_type": "markdown",
   "metadata": {},
   "source": [
    "- 위의 결과처럼 결과값에 영어 점수가 들어가지 못한다.\n",
    "- Series의 한계(열이 한개밖에 못만드는 점)를 극복하기 위해 DataFrame으로 변환해주기"
   ]
  },
  {
   "cell_type": "markdown",
   "metadata": {},
   "source": [
    "##### 과일 데이터를 만들어보고 해당 데이터를 파이차트로 표현하기"
   ]
  },
  {
   "cell_type": "code",
   "execution_count": 54,
   "metadata": {},
   "outputs": [
    {
     "data": {
      "text/plain": [
       "딸기    10\n",
       "귤     20\n",
       "수박    30\n",
       "사과    50\n",
       "Name: 과일, dtype: int64"
      ]
     },
     "execution_count": 54,
     "metadata": {},
     "output_type": "execute_result"
    }
   ],
   "source": [
    "#과일 데이터\n",
    "fruit = pd.Series([10,20,30,50], index=['딸기', '귤', '수박', '사과'], name='과일')\n",
    "fruit"
   ]
  },
  {
   "cell_type": "code",
   "execution_count": 57,
   "metadata": {},
   "outputs": [
    {
     "data": {
      "image/png": "[encoded data removed]",
      "text/plain": [
       "<Figure size 432x288 with 1 Axes>"
      ]
     },
     "metadata": {},
     "output_type": "display_data"
    }
   ],
   "source": [
    "#과일의 비율을 파이차트로 그려보기\n",
    "fruit.plot(kind='pie', autopct='%.2f', shadow=True, explode=[0, 0, 0.1, 0.2])\n",
    "plt.show()"
   ]
  },
  {
   "cell_type": "code",
   "execution_count": null,
   "metadata": {},
   "outputs": [],
   "source": []
  },
  {
   "cell_type": "code",
   "execution_count": null,
   "metadata": {},
   "outputs": [],
   "source": []
  }
 ],
 "metadata": {
  "kernelspec": {
   "display_name": "Python 3.9.12 ('base')",
   "language": "python",
   "name": "python3"
  },
  "language_info": {
   "codemirror_mode": {
    "name": "ipython",
    "version": 3
   },
   "file_extension": ".py",
   "mimetype": "text/x-python",
   "name": "python",
   "nbconvert_exporter": "python",
   "pygments_lexer": "ipython3",
   "version": "3.9.12"
  },
  "orig_nbformat": 4,
  "vscode": {
   "interpreter": {
    "hash": "a077222d77dfe082b8f1dd562ad70e458ac2ab76993a0b248ab0476e32e9e8dd"
   }
  }
 },
 "nbformat": 4,
 "nbformat_minor": 2
}
