{
 "cells": [
  {
   "cell_type": "code",
   "execution_count": null,
   "metadata": {},
   "outputs": [],
   "source": [
    "test=test.rename(columns = {'경도' : 'LON', '위도' : 'LAT'})\n",
    "test.plot(kind='scatter', x = 'LON', y = 'LAT', alpha=0.1)\n",
    "\n",
    "#hue = '주야'\n",
    "plt.xlim(123, 133)\n",
    "plt.show()"
   ]
  },
  {
   "cell_type": "code",
   "execution_count": null,
   "metadata": {},
   "outputs": [],
   "source": [
    "plt.figure(figsize=(10,6))\n",
    "\n",
    "plt.scatter(test1['LAT'], test1['LON'], c = 'pink', alpha = 0.6, \n",
    "            linewidths = 0.7, edgecolors = 'red', label = 'Night')\n",
    "plt.scatter(df_2['temp'], df_2['humidity'], c = 'cyan', alpha = 0.6, \n",
    "            linewidths = 0.5, edgecolors = 'blue', label = 'summer')\n",
    "\n",
    "plt.xlabel('temp', size = 12)\n",
    "plt.ylabel('humidity', size = 12)\n",
    "plt.legend()\n",
    "plt.show()\n"
   ]
  },
  {
   "cell_type": "code",
   "execution_count": null,
   "metadata": {},
   "outputs": [],
   "source": [
    "test=test.rename(columns = {'경도' : 'LON', '위도' : 'LAT'})\n",
    "\n",
    "#'주야' 칼럼에서 '야간'만 뽑아오기\n",
    "day=test[test['주야']=='주간']\n",
    "\n",
    "#'주야' 칼럼에서 '야간'만 뽑아오기\n",
    "night=test[test['주야']=='야간']\n",
    "\n",
    "\n",
    "\n",
    "day.plot(kind='scatter', x = 'LON', y = 'LAT', c='pink', alpha=0.1)\n",
    "night.plot(kind='scatter', x = 'LON', y = 'LAT',c='green', alpha=0.1)\n",
    "plt.xlim(123, 133)\n",
    "\n",
    "\n",
    "plt.show()"
   ]
  },
  {
   "cell_type": "code",
   "execution_count": null,
   "metadata": {},
   "outputs": [],
   "source": [
    "test=test.rename(columns = {'경도' : 'LON', '위도' : 'LAT'})\n",
    "\n",
    "#'주야' 칼럼에서 '야간'만 뽑아오기\n",
    "day=test[test['주야']=='주간']\n",
    "\n",
    "#'주야' 칼럼에서 '야간'만 뽑아오기\n",
    "night=test[test['주야']=='야간']\n",
    "\n",
    "plt.scatter(day, x='LON', y='LAT', c='pink', alpha=0.1)"
   ]
  },
  {
   "cell_type": "code",
   "execution_count": null,
   "metadata": {},
   "outputs": [],
   "source": []
  },
  {
   "cell_type": "code",
   "execution_count": null,
   "metadata": {},
   "outputs": [],
   "source": []
  }
 ],
 "metadata": {
  "kernelspec": {
   "display_name": "Python 3.9.12 ('base')",
   "language": "python",
   "name": "python3"
  },
  "language_info": {
   "name": "python",
   "version": "3.9.12"
  },
  "orig_nbformat": 4,
  "vscode": {
   "interpreter": {
    "hash": "a077222d77dfe082b8f1dd562ad70e458ac2ab76993a0b248ab0476e32e9e8dd"
   }
  }
 },
 "nbformat": 4,
 "nbformat_minor": 2
}
