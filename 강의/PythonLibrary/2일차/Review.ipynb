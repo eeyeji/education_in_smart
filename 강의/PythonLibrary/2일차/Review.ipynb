{
 "cells": [
  {
   "cell_type": "code",
   "execution_count": 1,
   "metadata": {},
   "outputs": [],
   "source": [
    "import numpy as np\n",
    "import pandas as pd"
   ]
  },
  {
   "cell_type": "code",
   "execution_count": 6,
   "metadata": {},
   "outputs": [
    {
     "name": "stdout",
     "output_type": "stream",
     "text": [
      "[ 2  4  6  8 10 12 14 16 18 20 22 24 26 28 30 32 34 36 38 40 42 44 46 48\n",
      " 50]\n"
     ]
    }
   ],
   "source": [
    "#1~50까지 짝수만 원소로 갖는 Numpy 배열 생성 - arrange \n",
    "arr = np.arange(2, 51, 2)\n",
    "print(arr)"
   ]
  },
  {
   "cell_type": "markdown",
   "metadata": {},
   "source": [
    "##### ones/zeros 의 결과값은 실수형이 기본"
   ]
  },
  {
   "cell_type": "code",
   "execution_count": 11,
   "metadata": {},
   "outputs": [
    {
     "data": {
      "text/plain": [
       "array([[0., 0., 0., 0.],\n",
       "       [0., 0., 0., 0.],\n",
       "       [0., 0., 0., 0.],\n",
       "       [0., 0., 0., 0.]])"
      ]
     },
     "execution_count": 11,
     "metadata": {},
     "output_type": "execute_result"
    }
   ],
   "source": [
    "#0을 원소로 갖는 4*4 배열 생성\n",
    "zero = np.zeros([4, 4])\n",
    "zero"
   ]
  },
  {
   "cell_type": "code",
   "execution_count": 12,
   "metadata": {},
   "outputs": [
    {
     "data": {
      "text/plain": [
       "array([[1., 1., 1., 1., 1., 1., 1., 1., 1., 1.],\n",
       "       [1., 1., 1., 1., 1., 1., 1., 1., 1., 1.],\n",
       "       [1., 1., 1., 1., 1., 1., 1., 1., 1., 1.],\n",
       "       [1., 1., 1., 1., 1., 1., 1., 1., 1., 1.],\n",
       "       [1., 1., 1., 1., 1., 1., 1., 1., 1., 1.],\n",
       "       [1., 1., 1., 1., 1., 1., 1., 1., 1., 1.],\n",
       "       [1., 1., 1., 1., 1., 1., 1., 1., 1., 1.],\n",
       "       [1., 1., 1., 1., 1., 1., 1., 1., 1., 1.],\n",
       "       [1., 1., 1., 1., 1., 1., 1., 1., 1., 1.],\n",
       "       [1., 1., 1., 1., 1., 1., 1., 1., 1., 1.]])"
      ]
     },
     "execution_count": 12,
     "metadata": {},
     "output_type": "execute_result"
    }
   ],
   "source": [
    "#1을 원소로 갖는 10*10 배열 생성\n",
    "one = np.ones([10, 10])\n",
    "one"
   ]
  },
  {
   "cell_type": "markdown",
   "metadata": {},
   "source": [
    "##### full은 내가 지정해준 값의 타입이 기본"
   ]
  },
  {
   "cell_type": "code",
   "execution_count": 13,
   "metadata": {},
   "outputs": [
    {
     "data": {
      "text/plain": [
       "array([[3, 3, 3, 3],\n",
       "       [3, 3, 3, 3],\n",
       "       [3, 3, 3, 3],\n",
       "       [3, 3, 3, 3],\n",
       "       [3, 3, 3, 3],\n",
       "       [3, 3, 3, 3],\n",
       "       [3, 3, 3, 3]])"
      ]
     },
     "execution_count": 13,
     "metadata": {},
     "output_type": "execute_result"
    }
   ],
   "source": [
    "#본인이 좋아하는 숫자를 원소로 갖는 7*4 배열 생성\n",
    "mine = np.full([7, 4], 3)\n",
    "mine"
   ]
  },
  {
   "cell_type": "code",
   "execution_count": 16,
   "metadata": {},
   "outputs": [
    {
     "data": {
      "text/plain": [
       "array([ 3,  6,  9, 12, 15, 18, 21, 24, 27, 30, 33, 36, 39, 42, 45, 48, 51,\n",
       "       54, 57, 60, 63, 66, 69, 72, 75, 78, 81, 84, 87, 90, 93, 96, 99])"
      ]
     },
     "execution_count": 16,
     "metadata": {},
     "output_type": "execute_result"
    }
   ],
   "source": [
    "#1부터 100까지 원소 중 3의 배수를 원소로 갖는 넘파이 배열 생성\n",
    "arr = np.arange(3, 100, 3)\n",
    "arr"
   ]
  },
  {
   "cell_type": "markdown",
   "metadata": {},
   "source": [
    "- 만들어진 3의 배수를 원소로 갖는 넘파이 배열의 원소 개수를 구하고, reshape함수를 이용하여 2차원 배열을 생성하시오\n",
    "- 생성된 2차원의 배열의 크기(shape)를 구하시오"
   ]
  },
  {
   "cell_type": "code",
   "execution_count": 26,
   "metadata": {},
   "outputs": [
    {
     "name": "stdout",
     "output_type": "stream",
     "text": [
      "33\n",
      "[[ 3  6  9 12 15 18 21 24 27 30 33]\n",
      " [36 39 42 45 48 51 54 57 60 63 66]\n",
      " [69 72 75 78 81 84 87 90 93 96 99]]\n",
      "(3, 11)\n"
     ]
    }
   ],
   "source": [
    "print(arr.size)\n",
    "arr2 = arr.reshape((3, 11))\n",
    "print(arr2)\n",
    "print(arr2.shape)"
   ]
  },
  {
   "cell_type": "markdown",
   "metadata": {},
   "source": [
    "##### Random"
   ]
  },
  {
   "cell_type": "code",
   "execution_count": 27,
   "metadata": {},
   "outputs": [],
   "source": [
    "import random"
   ]
  },
  {
   "cell_type": "markdown",
   "metadata": {},
   "source": [
    "1. 0~1사이의 값을 랜덤하게 가지는 6*4 배열을 생성하시오\n",
    "2. 1~100 사이의 값을 램덤하게 가지는 5*5 배열을 생성하시오\n",
    "3. astype을 사용하여 2번의 배열을 실수형태의 원소를 가지는 배열로 바꾸시오"
   ]
  },
  {
   "cell_type": "code",
   "execution_count": 28,
   "metadata": {},
   "outputs": [
    {
     "name": "stdout",
     "output_type": "stream",
     "text": [
      "[[0.41012652 0.5667834  0.0915099  0.33818468]\n",
      " [0.61423511 0.53305127 0.03156967 0.15208298]\n",
      " [0.06749175 0.92407914 0.03612978 0.04318382]\n",
      " [0.42476899 0.9446734  0.18686843 0.93401129]\n",
      " [0.82575537 0.14591474 0.79747761 0.39154205]\n",
      " [0.19958319 0.86373227 0.25474738 0.45975447]]\n"
     ]
    }
   ],
   "source": [
    "#               난수 형태\n",
    "arr = np.random.rand(6,4)\n",
    "print(arr)"
   ]
  },
  {
   "cell_type": "code",
   "execution_count": 39,
   "metadata": {},
   "outputs": [
    {
     "name": "stdout",
     "output_type": "stream",
     "text": [
      "[[78 57 13 84 25]\n",
      " [15 27 84 16 19]\n",
      " [11 80 29 14 86]\n",
      " [73 52 17 17 65]\n",
      " [82 23 90 65 20]]\n"
     ]
    }
   ],
   "source": [
    "#                  정수    범위     형태\n",
    "arr_2 = np.random.randint(1, 100, (5, 5))\n",
    "print(arr_2)"
   ]
  },
  {
   "cell_type": "code",
   "execution_count": 41,
   "metadata": {},
   "outputs": [
    {
     "data": {
      "text/plain": [
       "array([[78., 57., 13., 84., 25.],\n",
       "       [15., 27., 84., 16., 19.],\n",
       "       [11., 80., 29., 14., 86.],\n",
       "       [73., 52., 17., 17., 65.],\n",
       "       [82., 23., 90., 65., 20.]])"
      ]
     },
     "execution_count": 41,
     "metadata": {},
     "output_type": "execute_result"
    }
   ],
   "source": [
    "#실수형태로 변환 - .astype()\n",
    "arr_float = arr_2.astype('float64')\n",
    "arr_float"
   ]
  },
  {
   "cell_type": "markdown",
   "metadata": {},
   "source": [
    "- 주어진 배열에서 3, 4, 8, 9 원소만 가져오기"
   ]
  },
  {
   "cell_type": "code",
   "execution_count": 53,
   "metadata": {},
   "outputs": [
    {
     "name": "stdout",
     "output_type": "stream",
     "text": [
      "[[0 1 2 3 4]\n",
      " [5 6 7 8 9]]\n"
     ]
    }
   ],
   "source": [
    "x = np.arange(10).reshape(2, 5)\n",
    "print(x)"
   ]
  },
  {
   "cell_type": "code",
   "execution_count": 52,
   "metadata": {},
   "outputs": [
    {
     "data": {
      "text/plain": [
       "array([[3, 4],\n",
       "       [8, 9]])"
      ]
     },
     "execution_count": 52,
     "metadata": {},
     "output_type": "execute_result"
    }
   ],
   "source": [
    "x[:, 3:5]"
   ]
  },
  {
   "cell_type": "markdown",
   "metadata": {},
   "source": [
    "- 주어진 배열에서 6, 7, 8 원소만 가져오기"
   ]
  },
  {
   "cell_type": "code",
   "execution_count": 55,
   "metadata": {},
   "outputs": [
    {
     "data": {
      "text/plain": [
       "array([6, 7, 8])"
      ]
     },
     "execution_count": 55,
     "metadata": {},
     "output_type": "execute_result"
    }
   ],
   "source": [
    "x[1, 1:4]"
   ]
  },
  {
   "cell_type": "code",
   "execution_count": null,
   "metadata": {},
   "outputs": [],
   "source": []
  },
  {
   "cell_type": "code",
   "execution_count": 67,
   "metadata": {},
   "outputs": [
    {
     "name": "stdout",
     "output_type": "stream",
     "text": [
      "=====================\n",
      "[[ 0  1  2  3  4]\n",
      " [ 5  6  7  8  9]\n",
      " [10 11 12 13 14]]\n",
      "=====================\n",
      "[[ 3]\n",
      " [ 8]\n",
      " [13]]\n",
      "=====================\n",
      "[[5 6 7 8 9]]\n",
      "=====================\n",
      "[[1 2 3]\n",
      " [6 7 8]]\n",
      "=====================\n"
     ]
    }
   ],
   "source": [
    "#주어진 행렬\n",
    "print('=====================')\n",
    "y=np.arange(15).reshape(3, 5)\n",
    "print(y)\n",
    "print('=====================')\n",
    "\n",
    "#3, 8, 13 원소 가져오기\n",
    "print(y[:, 3:4])\n",
    "print('=====================')\n",
    "\n",
    "#5, 6, 7, 8, 9 원소 가져오기\n",
    "print(y[1:2, :])\n",
    "print('=====================')\n",
    "\n",
    "#1,2,3,6,7,8 원소 가져오기\n",
    "print(y[0:2, 1:4])\n",
    "print('=====================')"
   ]
  },
  {
   "cell_type": "code",
   "execution_count": 79,
   "metadata": {},
   "outputs": [
    {
     "name": "stdout",
     "output_type": "stream",
     "text": [
      "=====================\n",
      "[[ 1  2  3  4]\n",
      " [ 5  6  7  8]\n",
      " [ 9 10 11 12]]\n",
      "=====================\n",
      "[1 2 3 4 5]\n",
      "=====================\n",
      "[ 3  6  9 12]\n",
      "=====================\n"
     ]
    }
   ],
   "source": [
    "print('=====================')\n",
    "arr = np.arange(1, 13).reshape(3, 4)\n",
    "print(arr)\n",
    "print('=====================')\n",
    "\n",
    "#5보다 작거나 같은 값만 출력\n",
    "print(arr[arr<=5])\n",
    "print('=====================')\n",
    "\n",
    "#3의 배수만 출력\n",
    "print(arr[arr % 3 == 0])\n",
    "print('=====================')"
   ]
  },
  {
   "cell_type": "markdown",
   "metadata": {},
   "source": [
    "##### %: AND, |: OR"
   ]
  },
  {
   "cell_type": "code",
   "execution_count": 89,
   "metadata": {},
   "outputs": [
    {
     "name": "stdout",
     "output_type": "stream",
     "text": [
      "=====================\n",
      "[ 5 31 96 66 41 23 49 37 20  8]\n",
      "=====================\n",
      "[96 66 20  8]\n",
      "=====================\n",
      "[96 66]\n",
      "=====================\n",
      "[31 66 41 49 37]\n",
      "=====================\n",
      "[ 5 31 96 66 41 23 49 37]\n",
      "=====================\n"
     ]
    }
   ],
   "source": [
    "print('=====================')\n",
    "x=np.random.randint(1, 100, size=10)\n",
    "print(x)\n",
    "print('=====================')\n",
    "\n",
    "#x에서 2의 배수만 추출하기\n",
    "print(x[x % 2 == 0])\n",
    "print('=====================')\n",
    "\n",
    "#x에서 60이상의 수만 추출하기\n",
    "print(x[x >= 60])\n",
    "print('=====================')\n",
    "\n",
    "#x에서 30보다 크고 70보다 작은 수만 출력\n",
    "print(x[(x > 30) & (x < 70)])\n",
    "print('=====================')\n",
    "\n",
    "#x에서 60보다 크거나 홀수인 수를 출력\n",
    "print(x[(x > 60) | ((x % 2 != 0))])\n",
    "print('=====================')\n"
   ]
  },
  {
   "cell_type": "markdown",
   "metadata": {},
   "source": [
    "- 2019년 7월 서울 기온 데이터\n",
    "    - 기온이 25도를 넘는 날 수?\n",
    "    - 기온이 25도를 넘는 날의 평균 기온은?"
   ]
  },
  {
   "cell_type": "code",
   "execution_count": 103,
   "metadata": {},
   "outputs": [
    {
     "name": "stdout",
     "output_type": "stream",
     "text": [
      "31\n",
      "====기온이 25도를 넘는 날===\n",
      "21\n",
      "====기온이 25도를 넘는 날 수의 평균===\n",
      "26.857142857142858\n"
     ]
    }
   ],
   "source": [
    "temp = np.array(\n",
    "        [23.9, 24.4, 24.1, 25.4, 27.6, 29.7,\n",
    "         26.7, 25.1, 25.0, 22.7, 21.9, 23.6, \n",
    "         24.9, 25.9, 23.8, 24.7, 25.6, 26.9, \n",
    "         28.6, 28.0, 25.1, 26.7, 28.1, 26.5, \n",
    "         26.3, 25.9, 28.4, 26.1, 27.5, 28.1, 25.8])\n",
    "print(len(temp))\n",
    "\n",
    "print(\"====기온이 25도를 넘는 날===\")\n",
    "temp_25 = temp[temp>25.0]\n",
    "print(len(temp_25))\n",
    "#np.sum(temp>25.0)\n",
    "\n",
    "print(\"====기온이 25도를 넘는 날 수의 평균===\")\n",
    "#avg = sum(temp_25)/len(temp_25)\n",
    "#print(avg)\n",
    "print(np.mean(temp_25))\n"
   ]
  },
  {
   "cell_type": "code",
   "execution_count": null,
   "metadata": {},
   "outputs": [],
   "source": []
  }
 ],
 "metadata": {
  "kernelspec": {
   "display_name": "Python 3.9.12 ('base')",
   "language": "python",
   "name": "python3"
  },
  "language_info": {
   "codemirror_mode": {
    "name": "ipython",
    "version": 3
   },
   "file_extension": ".py",
   "mimetype": "text/x-python",
   "name": "python",
   "nbconvert_exporter": "python",
   "pygments_lexer": "ipython3",
   "version": "3.9.12"
  },
  "orig_nbformat": 4,
  "vscode": {
   "interpreter": {
    "hash": "a077222d77dfe082b8f1dd562ad70e458ac2ab76993a0b248ab0476e32e9e8dd"
   }
  }
 },
 "nbformat": 4,
 "nbformat_minor": 2
}
