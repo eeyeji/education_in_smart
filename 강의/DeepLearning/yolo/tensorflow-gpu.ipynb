{
 "cells": [
  {
   "cell_type": "code",
   "execution_count": 1,
   "metadata": {},
   "outputs": [
    {
     "name": "stdout",
     "output_type": "stream",
     "text": [
      "Note: you may need to restart the kernel to use updated packages.\n"
     ]
    }
   ],
   "source": [
    "pip install tensorflow-gpu >= 2.0"
   ]
  },
  {
   "cell_type": "code",
   "execution_count": 2,
   "metadata": {},
   "outputs": [
    {
     "name": "stdout",
     "output_type": "stream",
     "text": [
      "Package                       Version\n",
      "----------------------------- ---------\n",
      "absl-py                       1.3.0\n",
      "asttokens                     2.1.0\n",
      "astunparse                    1.6.3\n",
      "backcall                      0.2.0\n",
      "backports.functools-lru-cache 1.6.4\n",
      "cachetools                    5.2.0\n",
      "certifi                       2022.9.24\n",
      "charset-normalizer            2.1.1\n",
      "colorama                      0.4.6\n",
      "debugpy                       1.6.3\n",
      "decorator                     5.1.1\n",
      "entrypoints                   0.4\n",
      "executing                     1.2.0\n",
      "flatbuffers                   22.10.26\n",
      "gast                          0.4.0\n",
      "google-auth                   2.14.0\n",
      "google-auth-oauthlib          0.4.6\n",
      "google-pasta                  0.2.0\n",
      "grpcio                        1.50.0\n",
      "h5py                          3.7.0\n",
      "idna                          3.4\n",
      "ipykernel                     6.17.0\n",
      "ipython                       8.6.0\n",
      "jedi                          0.18.1\n",
      "jupyter_client                7.4.4\n",
      "jupyter_core                  4.11.2\n",
      "keras                         2.10.0\n",
      "Keras-Preprocessing           1.1.2\n",
      "libclang                      14.0.6\n",
      "Markdown                      3.4.1\n",
      "MarkupSafe                    2.1.1\n",
      "matplotlib-inline             0.1.6\n",
      "nest-asyncio                  1.5.6\n",
      "numpy                         1.23.4\n",
      "oauthlib                      3.2.2\n",
      "opencv-python                 4.6.0.66\n",
      "opt-einsum                    3.3.0\n",
      "packaging                     21.3\n",
      "parso                         0.8.3\n",
      "pickleshare                   0.7.5\n",
      "pip                           22.2.2\n",
      "prompt-toolkit                3.0.32\n",
      "protobuf                      3.19.6\n",
      "psutil                        5.9.0\n",
      "pure-eval                     0.2.2\n",
      "pyasn1                        0.4.8\n",
      "pyasn1-modules                0.2.8\n",
      "Pygments                      2.13.0\n",
      "pyparsing                     3.0.9\n",
      "python-dateutil               2.8.2\n",
      "pywin32                       302\n",
      "pyzmq                         23.2.0\n",
      "requests                      2.28.1\n",
      "requests-oauthlib             1.3.1\n",
      "rsa                           4.9\n",
      "setuptools                    65.5.0\n",
      "six                           1.16.0\n",
      "stack-data                    0.6.0\n",
      "tensorboard                   2.10.1\n",
      "tensorboard-data-server       0.6.1\n",
      "tensorboard-plugin-wit        1.8.1\n",
      "tensorflow-estimator          2.10.0\n",
      "tensorflow-gpu                2.10.0\n",
      "tensorflow-io-gcs-filesystem  0.27.0\n",
      "termcolor                     2.1.0\n",
      "tornado                       6.2\n",
      "traitlets                     5.5.0\n",
      "typing_extensions             4.4.0\n",
      "urllib3                       1.26.12\n",
      "wcwidth                       0.2.5\n",
      "Werkzeug                      2.2.2\n",
      "wheel                         0.37.1\n",
      "wincertstore                  0.2\n",
      "wrapt                         1.14.1\n",
      "Note: you may need to restart the kernel to use updated packages.\n"
     ]
    }
   ],
   "source": [
    "pip list"
   ]
  },
  {
   "cell_type": "code",
   "execution_count": 3,
   "metadata": {},
   "outputs": [
    {
     "name": "stdout",
     "output_type": "stream",
     "text": [
      "WARNING:tensorflow:From C:\\Users\\user\\AppData\\Local\\Temp\\ipykernel_16884\\3763141526.py:2: is_gpu_available (from tensorflow.python.framework.test_util) is deprecated and will be removed in a future version.\n",
      "Instructions for updating:\n",
      "Use `tf.config.list_physical_devices('GPU')` instead.\n"
     ]
    },
    {
     "data": {
      "text/plain": [
       "True"
      ]
     },
     "execution_count": 3,
     "metadata": {},
     "output_type": "execute_result"
    }
   ],
   "source": [
    "import tensorflow as tf\n",
    "tf.test.is_gpu_available()\n"
   ]
  },
  {
   "cell_type": "code",
   "execution_count": 4,
   "metadata": {},
   "outputs": [
    {
     "data": {
      "text/plain": [
       "True"
      ]
     },
     "execution_count": 4,
     "metadata": {},
     "output_type": "execute_result"
    }
   ],
   "source": [
    "tf.test.is_built_with_cuda()"
   ]
  },
  {
   "cell_type": "code",
   "execution_count": 5,
   "metadata": {},
   "outputs": [
    {
     "name": "stdout",
     "output_type": "stream",
     "text": [
      "[PhysicalDevice(name='/physical_device:GPU:0', device_type='GPU')]\n",
      "True\n"
     ]
    }
   ],
   "source": [
    "print(tf.config.list_physical_devices('GPU'))\n",
    "print(tf.test.is_built_with_cuda())"
   ]
  },
  {
   "cell_type": "code",
   "execution_count": null,
   "metadata": {},
   "outputs": [],
   "source": []
  }
 ],
 "metadata": {
  "kernelspec": {
   "display_name": "Python 3.10.6 ('yeji')",
   "language": "python",
   "name": "python3"
  },
  "language_info": {
   "codemirror_mode": {
    "name": "ipython",
    "version": 3
   },
   "file_extension": ".py",
   "mimetype": "text/x-python",
   "name": "python",
   "nbconvert_exporter": "python",
   "pygments_lexer": "ipython3",
   "version": "3.10.6"
  },
  "orig_nbformat": 4,
  "vscode": {
   "interpreter": {
    "hash": "5873215c99a84ed6994f487b0d64286d951cc66c0a4fab9e7cad162fea499ae1"
   }
  }
 },
 "nbformat": 4,
 "nbformat_minor": 2
}
