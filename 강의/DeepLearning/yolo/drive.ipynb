{
 "cells": [
  {
   "cell_type": "code",
   "execution_count": 2,
   "metadata": {},
   "outputs": [
    {
     "ename": "ValueError",
     "evalue": "not enough values to unpack (expected 3, got 0)",
     "output_type": "error",
     "traceback": [
      "\u001b[1;31m---------------------------------------------------------------------------\u001b[0m",
      "\u001b[1;31mValueError\u001b[0m                                Traceback (most recent call last)",
      "Cell \u001b[1;32mIn [2], line 12\u001b[0m\n\u001b[0;32m      9\u001b[0m gray_image \u001b[39m=\u001b[39m cv\u001b[39m.\u001b[39mimread(\u001b[39m'\u001b[39m\u001b[39mC:/develops/DeepLearning/5일차/짱구.png\u001b[39m\u001b[39m'\u001b[39m, cv\u001b[39m.\u001b[39mIMREAD_GRAYSCALE)\n\u001b[0;32m     11\u001b[0m \u001b[39m#BGR 채널 분해 조립\u001b[39;00m\n\u001b[1;32m---> 12\u001b[0m b, g, r \u001b[39m=\u001b[39m cv\u001b[39m.\u001b[39msplit(original_image)\n\u001b[0;32m     13\u001b[0m inverse_bgr \u001b[39m=\u001b[39m cv\u001b[39m.\u001b[39mmerge((r, g, b))\n\u001b[0;32m     14\u001b[0m inverse \u001b[39m=\u001b[39m cv\u001b[39m.\u001b[39mbitwise_not(original_image)\n",
      "\u001b[1;31mValueError\u001b[0m: not enough values to unpack (expected 3, got 0)"
     ]
    }
   ],
   "source": [
    "### 이미지 처리 ###\n",
    "import cv2 as cv\n",
    "import numpy as np\n",
    "\n",
    "# Read image with option\n",
    "\n",
    "# original_image = cv.imread('C:\\\\Users\\\\honesty\\\\Desktop\\\\test2.jpg', cv.IMREAD_COLOR)\n",
    "original_image = cv.imread('C:/develops/DeepLearning/5일차/짱구.png', cv.IMREAD_COLOR)\n",
    "gray_image = cv.imread('C:/develops/DeepLearning/5일차/짱구.png', cv.IMREAD_GRAYSCALE)\n",
    "\n",
    "#BGR 채널 분해 조립\n",
    "b, g, r = cv.split(original_image)\n",
    "inverse_bgr = cv.merge((r, g, b))\n",
    "inverse = cv.bitwise_not(original_image)\n",
    "mask_red = original_image.copy();mask_green = original_image.copy();mask_blue = original_image.copy()\n",
    "mask_red[:,:, 1] = 0\n",
    "mask_red[:,:, 0] = 0\n",
    "mask_green[:,:, 2] = 0\n",
    "mask_green[:,:, 0] = 0\n",
    "mask_blue[:,:, 2] = 0\n",
    "mask_blue[:,:, 1] = 0\n",
    "\n",
    "#변환처리 : Warp\n",
    "height, width, channel = original_image.shape\n",
    "\n",
    "# srcPoint=np.array([[300, 200], [400, 200], [500, 500], [200, 500]], dtype=np.float32)\n",
    "# dstPoint=np.array([[0, 0], [width, 0], [width, height], [0, height]], dtype=np.float32)\n",
    "srcPoint=np.array([[30, 80], [400, 80], [400, 300], [30, 300]], dtype=np.float32)\n",
    "dstPoint=np.array([[10, 10], [390, 100], [200, 350], [180, 350]], dtype=np.float32)\n",
    "matrix = cv.getPerspectiveTransform(srcPoint, dstPoint)\n",
    "\n",
    "warp_image = cv.warpPerspective(original_image, matrix, (width, height))\n",
    "\n",
    "alpha = 0.6;  beta = 0.7\n",
    "add_image1 = original_image + gray_image\n",
    "add_image2 = original_image * 0.5 + gray_image * 0.5\n",
    "add_image3 = original_image * alpha + gray_image * (1-alpha)\n",
    "add_image4 = cv.addWeighted(original_image, alpha, gray_image, beta, 0.0)\n",
    "\n",
    "cv.imshow('Original', original_image)\n",
    "cv.imshow(\"Blue\", mask_blue)\n",
    "cv.imshow(\"Green\", mask_green)\n",
    "cv.imshow(\"Red\", mask_red)\n",
    "cv.imshow(\"BGR <-> RGB\", inverse_bgr)\n",
    "cv.imshow(\"inverse\", inverse)\n",
    "cv.imshow(\"Warp Perspective\", warp_image)\n",
    "\n",
    "cv.waitKey(0)\n",
    "cv.destroyAllWindows()"
   ]
  },
  {
   "cell_type": "code",
   "execution_count": null,
   "metadata": {},
   "outputs": [],
   "source": []
  }
 ],
 "metadata": {
  "kernelspec": {
   "display_name": "Python 3.10.6 ('yeji')",
   "language": "python",
   "name": "python3"
  },
  "language_info": {
   "codemirror_mode": {
    "name": "ipython",
    "version": 3
   },
   "file_extension": ".py",
   "mimetype": "text/x-python",
   "name": "python",
   "nbconvert_exporter": "python",
   "pygments_lexer": "ipython3",
   "version": "3.10.6"
  },
  "orig_nbformat": 4,
  "vscode": {
   "interpreter": {
    "hash": "5873215c99a84ed6994f487b0d64286d951cc66c0a4fab9e7cad162fea499ae1"
   }
  }
 },
 "nbformat": 4,
 "nbformat_minor": 2
}
