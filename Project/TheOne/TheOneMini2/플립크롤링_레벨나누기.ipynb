{
 "cells": [
  {
   "cell_type": "code",
   "execution_count": 19,
   "metadata": {},
   "outputs": [],
   "source": [
    "from selenium import webdriver\n",
    "from webdriver_manager.chrome import ChromeDriverManager\n",
    "from selenium.webdriver.common.keys import Keys\n",
    "from bs4 import BeautifulSoup as bs\n",
    "import pandas as pd\n",
    "import numpy as np\n",
    "import time\n",
    "from collections import Counter\n",
    "import pickle\n",
    "from tqdm import tqdm\n",
    "\n",
    "import matplotlib.pyplot as plt\n",
    "import seaborn as sns\n",
    "\n",
    "from matplotlib import font_manager, rc  \n",
    "font_name = font_manager.FontProperties(fname='C:/Windows/Fonts/malgun.ttf').get_name()\n",
    "rc('font', family=font_name)"
   ]
  },
  {
   "cell_type": "markdown",
   "metadata": {},
   "source": [
    "##### fuleaf사이트 불러오기"
   ]
  },
  {
   "cell_type": "code",
   "execution_count": 20,
   "metadata": {},
   "outputs": [],
   "source": [
    "driver = webdriver.Chrome(ChromeDriverManager().install())\n",
    "#네이버 지식인: 식물키우기\n",
    "driver.get(\"https://www.fuleaf.com/plants\")\n",
    "driver.maximize_window()\n",
    "time.sleep(1)"
   ]
  },
  {
   "cell_type": "markdown",
   "metadata": {},
   "source": [
    "##### 스크롤 내려서 더보기 버튼 다 누르기"
   ]
  },
  {
   "cell_type": "code",
   "execution_count": 21,
   "metadata": {},
   "outputs": [],
   "source": [
    "for i in range(15):\n",
    "    try :\n",
    "        driver.implicitly_wait(20)        \n",
    "        #더보기버튼 \n",
    "        driver.find_element_by_xpath('//*[@id=\"more_btn\"]').send_keys(Keys.ENTER)\n",
    "    except :\n",
    "        pass"
   ]
  },
  {
   "cell_type": "markdown",
   "metadata": {},
   "source": [
    "##### href: url 주소 저장하기"
   ]
  },
  {
   "cell_type": "code",
   "execution_count": 22,
   "metadata": {},
   "outputs": [],
   "source": [
    "#객체화\n",
    "soup = bs(driver.page_source, 'html.parser')\n",
    "url = soup.select('div.plants__list-item>a')\n",
    "url_list=[]\n",
    "for i in url:\n",
    "    #print('https://www.fuleaf.com/'+i['href'])\n",
    "    url_list.append('https://www.fuleaf.com/'+i['href'])"
   ]
  },
  {
   "cell_type": "code",
   "execution_count": 23,
   "metadata": {},
   "outputs": [
    {
     "data": {
      "text/plain": [
       "306"
      ]
     },
     "execution_count": 23,
     "metadata": {},
     "output_type": "execute_result"
    }
   ],
   "source": [
    "len(url_list)"
   ]
  },
  {
   "cell_type": "code",
   "execution_count": 24,
   "metadata": {},
   "outputs": [
    {
     "name": "stderr",
     "output_type": "stream",
     "text": [
      "100%|██████████| 306/306 [3:33:22<00:00, 41.84s/it]  \n"
     ]
    }
   ],
   "source": [
    "title_list=[]\n",
    "temp_list=[]                             \n",
    "water_list=[]\n",
    "humidity_list=[]\n",
    "for url in tqdm(url_list):\n",
    "    driver.get(url)\n",
    "    time.sleep(1)\n",
    "    soup = bs(driver.page_source, 'html.parser')\n",
    "\n",
    "\n",
    "    title=driver.find_elements_by_xpath('//*[@id=\"plantDetail__page\"]/div/section/div[2]/section[2]/div[1]/div/h2')                                                                                \n",
    "    for j in title:\n",
    "        title_list.append(j.text)\n",
    "    \n",
    "    temp=driver.find_elements_by_css_selector('#plantDetail__page > div > section > div.pcSlide__flex.layout_body > section.plants-simpleinfo-section.layout_body > div.simpleinfo-table > ul > div:nth-child(2) > li:nth-child(2) > h2')\n",
    "    for j in temp:                              \n",
    "        temp_list.append(j.text)\n",
    "\n",
    "    water = driver.find_elements_by_css_selector('#plantDetail__page > div > section > div.pcSlide__flex.layout_body > section.plants-simpleinfo-section.layout_body > div.simpleinfo-table > ul > div:nth-child(1) > li:nth-child(1) > h1')\n",
    "    for j in water:                              \n",
    "        water_list.append(j.text)\n",
    "    time.sleep(1)\n",
    "\n",
    "    humidity = driver.find_elements_by_css_selector('#plantDetail__page > div > section > div.pcSlide__flex.layout_body > section.plants-simpleinfo-section.layout_body > div.simpleinfo-table > ul > div:nth-child(2) > li:nth-child(1) > h1')\n",
    "    for j in humidity:                              \n",
    "        humidity_list.append(j.text)\n",
    "\n",
    "    #새창불러오기\n",
    "    #driver.get(\"https://www.fuleaf.com/plants\")"
   ]
  },
  {
   "cell_type": "code",
   "execution_count": 32,
   "metadata": {},
   "outputs": [
    {
     "data": {
      "text/plain": [
       "(162, 162, 162, 162)"
      ]
     },
     "execution_count": 32,
     "metadata": {},
     "output_type": "execute_result"
    }
   ],
   "source": [
    "len(title_list), len(temp_list), len(water_list), len(humidity_list)"
   ]
  },
  {
   "cell_type": "markdown",
   "metadata": {},
   "source": [
    "##### 텍스트 정제-temp_list"
   ]
  },
  {
   "cell_type": "code",
   "execution_count": 33,
   "metadata": {},
   "outputs": [],
   "source": [
    "from konlpy.tag import Okt\n",
    "okt=Okt()\n",
    "import re\n",
    "\n",
    "#필요없는 표시들 지우기\n",
    "temp2_list =[]\n",
    "for i in temp_list:\n",
    "    result = i.replace(\"\\n\", \"\")\n",
    "    #        정규표현식\n",
    "    result = re.compile(\"의.+\").sub(\"\", result)\n",
    "    #result = result.replace(\"℃\", \"\")\n",
    "    #result = result.replace(\"°C\", \"\")\n",
    "    result = result.replace(\"-\", \"~\")\n",
    "\n",
    "    temp2_list.append(result)"
   ]
  },
  {
   "cell_type": "markdown",
   "metadata": {},
   "source": [
    "##### DataFrame"
   ]
  },
  {
   "cell_type": "code",
   "execution_count": 34,
   "metadata": {},
   "outputs": [
    {
     "data": {
      "text/html": [
       "<div>\n",
       "<style scoped>\n",
       "    .dataframe tbody tr th:only-of-type {\n",
       "        vertical-align: middle;\n",
       "    }\n",
       "\n",
       "    .dataframe tbody tr th {\n",
       "        vertical-align: top;\n",
       "    }\n",
       "\n",
       "    .dataframe thead th {\n",
       "        text-align: right;\n",
       "    }\n",
       "</style>\n",
       "<table border=\"1\" class=\"dataframe\">\n",
       "  <thead>\n",
       "    <tr style=\"text-align: right;\">\n",
       "      <th></th>\n",
       "      <th>이름</th>\n",
       "      <th>온도</th>\n",
       "      <th>물</th>\n",
       "      <th>습도</th>\n",
       "    </tr>\n",
       "  </thead>\n",
       "  <tbody>\n",
       "    <tr>\n",
       "      <th>0</th>\n",
       "      <td>바나나 크로톤</td>\n",
       "      <td>21~27℃</td>\n",
       "      <td>평균 주 1~2회</td>\n",
       "      <td>40~70%</td>\n",
       "    </tr>\n",
       "    <tr>\n",
       "      <th>1</th>\n",
       "      <td>코니오그램 에메이엔시스 '골든 제브라'</td>\n",
       "      <td>21~25℃</td>\n",
       "      <td>평균 주 1~2회</td>\n",
       "      <td>70% 이상</td>\n",
       "    </tr>\n",
       "    <tr>\n",
       "      <th>2</th>\n",
       "      <td>베고니아 콘치폴리아</td>\n",
       "      <td>21~25℃</td>\n",
       "      <td>평균 주 1~2회</td>\n",
       "      <td>40~70%</td>\n",
       "    </tr>\n",
       "    <tr>\n",
       "      <th>3</th>\n",
       "      <td>싱고니움 밀크컨페티</td>\n",
       "      <td>21~25℃</td>\n",
       "      <td>평균 주 1~2회</td>\n",
       "      <td>40~70%</td>\n",
       "    </tr>\n",
       "    <tr>\n",
       "      <th>4</th>\n",
       "      <td>필로덴드론 옥시카르디움 '브라질'</td>\n",
       "      <td>16~26℃</td>\n",
       "      <td>평균 주 1~2회</td>\n",
       "      <td>40~70%</td>\n",
       "    </tr>\n",
       "    <tr>\n",
       "      <th>...</th>\n",
       "      <td>...</td>\n",
       "      <td>...</td>\n",
       "      <td>...</td>\n",
       "      <td>...</td>\n",
       "    </tr>\n",
       "    <tr>\n",
       "      <th>157</th>\n",
       "      <td>디지고테카 아랄리아</td>\n",
       "      <td>15~25℃</td>\n",
       "      <td>평균 주 1~2회</td>\n",
       "      <td>40~70%</td>\n",
       "    </tr>\n",
       "    <tr>\n",
       "      <th>158</th>\n",
       "      <td>드라세나 마지나타</td>\n",
       "      <td>24~32℃</td>\n",
       "      <td>평균 월 1~2회</td>\n",
       "      <td>40~70%</td>\n",
       "    </tr>\n",
       "    <tr>\n",
       "      <th>159</th>\n",
       "      <td>덕구리 난</td>\n",
       "      <td>21~25°C</td>\n",
       "      <td>평균 월 1~2회</td>\n",
       "      <td>40% 이하</td>\n",
       "    </tr>\n",
       "    <tr>\n",
       "      <th>160</th>\n",
       "      <td>금전수 (돈나무)</td>\n",
       "      <td>16~20℃</td>\n",
       "      <td>평균 월 1~2회</td>\n",
       "      <td>40~70%</td>\n",
       "    </tr>\n",
       "    <tr>\n",
       "      <th>161</th>\n",
       "      <td>엔조이 스킨답서스</td>\n",
       "      <td>21~25℃</td>\n",
       "      <td>평균 주 1~2회</td>\n",
       "      <td>40~70%</td>\n",
       "    </tr>\n",
       "  </tbody>\n",
       "</table>\n",
       "<p>162 rows × 4 columns</p>\n",
       "</div>"
      ],
      "text/plain": [
       "                        이름       온도          물      습도\n",
       "0                  바나나 크로톤   21~27℃  평균 주 1~2회  40~70%\n",
       "1    코니오그램 에메이엔시스 '골든 제브라'   21~25℃  평균 주 1~2회  70% 이상\n",
       "2               베고니아 콘치폴리아   21~25℃  평균 주 1~2회  40~70%\n",
       "3               싱고니움 밀크컨페티   21~25℃  평균 주 1~2회  40~70%\n",
       "4       필로덴드론 옥시카르디움 '브라질'   16~26℃  평균 주 1~2회  40~70%\n",
       "..                     ...      ...        ...     ...\n",
       "157             디지고테카 아랄리아   15~25℃  평균 주 1~2회  40~70%\n",
       "158              드라세나 마지나타   24~32℃  평균 월 1~2회  40~70%\n",
       "159                  덕구리 난  21~25°C  평균 월 1~2회  40% 이하\n",
       "160              금전수 (돈나무)   16~20℃  평균 월 1~2회  40~70%\n",
       "161              엔조이 스킨답서스   21~25℃  평균 주 1~2회  40~70%\n",
       "\n",
       "[162 rows x 4 columns]"
      ]
     },
     "execution_count": 34,
     "metadata": {},
     "output_type": "execute_result"
    }
   ],
   "source": [
    "data = {'이름' : title_list, '온도' : temp2_list, '물' : water_list, '습도': humidity_list}\n",
    "plants = pd.DataFrame(data)\n",
    "plants"
   ]
  },
  {
   "cell_type": "markdown",
   "metadata": {},
   "source": [
    "##### 레벨나누기-중심은 물주는 주기\n",
    "- lv.1: 평균 월 1회 이하 + 습도 40%이하, 40~70%\n",
    "- lv.2: 평균 월 1~2회 + 습도 40%이하, 40~70%\n",
    "- lv.3: 평균 주 1~2회 + 습도 40~70%\n",
    "- lv.4: 평균 주 1~2회 + 습도 70% 이상\n",
    "- lv.5: 평균 주 2회 이상 + 습도 습도 40~70%\n",
    "- lv.6: 평균 주 2회 이상 + 습도 70% 이상"
   ]
  },
  {
   "cell_type": "code",
   "execution_count": 35,
   "metadata": {},
   "outputs": [],
   "source": [
    "plants.loc[plants.물 == '평균 월 1회 이하', 'level'] =1\n",
    "plants.loc[plants.물 == '평균 월 1~2회', 'level'] =2\n",
    "plants.loc[(plants.물 == '평균 주 1~2회') & (plants.습도 == '40~70%'), 'level'] =3\n",
    "plants.loc[(plants.물 == '평균 주 1~2회') & (plants.습도 == '70% 이상'), 'level'] =4\n",
    "plants.loc[(plants.물 == '평균 주 2회 이상') & (plants.습도 == '40~70%'), 'level'] =5\n",
    "plants.loc[(plants.물 == '평균 주 2회 이상') & (plants.습도 == '70% 이상'), 'level'] =6"
   ]
  },
  {
   "cell_type": "code",
   "execution_count": 36,
   "metadata": {},
   "outputs": [
    {
     "data": {
      "text/html": [
       "<div>\n",
       "<style scoped>\n",
       "    .dataframe tbody tr th:only-of-type {\n",
       "        vertical-align: middle;\n",
       "    }\n",
       "\n",
       "    .dataframe tbody tr th {\n",
       "        vertical-align: top;\n",
       "    }\n",
       "\n",
       "    .dataframe thead th {\n",
       "        text-align: right;\n",
       "    }\n",
       "</style>\n",
       "<table border=\"1\" class=\"dataframe\">\n",
       "  <thead>\n",
       "    <tr style=\"text-align: right;\">\n",
       "      <th></th>\n",
       "      <th>이름</th>\n",
       "      <th>온도</th>\n",
       "      <th>물</th>\n",
       "      <th>습도</th>\n",
       "      <th>level</th>\n",
       "    </tr>\n",
       "  </thead>\n",
       "  <tbody>\n",
       "    <tr>\n",
       "      <th>0</th>\n",
       "      <td>바나나 크로톤</td>\n",
       "      <td>21~27℃</td>\n",
       "      <td>평균 주 1~2회</td>\n",
       "      <td>40~70%</td>\n",
       "      <td>3.0</td>\n",
       "    </tr>\n",
       "    <tr>\n",
       "      <th>1</th>\n",
       "      <td>코니오그램 에메이엔시스 '골든 제브라'</td>\n",
       "      <td>21~25℃</td>\n",
       "      <td>평균 주 1~2회</td>\n",
       "      <td>70% 이상</td>\n",
       "      <td>4.0</td>\n",
       "    </tr>\n",
       "    <tr>\n",
       "      <th>2</th>\n",
       "      <td>베고니아 콘치폴리아</td>\n",
       "      <td>21~25℃</td>\n",
       "      <td>평균 주 1~2회</td>\n",
       "      <td>40~70%</td>\n",
       "      <td>3.0</td>\n",
       "    </tr>\n",
       "    <tr>\n",
       "      <th>3</th>\n",
       "      <td>싱고니움 밀크컨페티</td>\n",
       "      <td>21~25℃</td>\n",
       "      <td>평균 주 1~2회</td>\n",
       "      <td>40~70%</td>\n",
       "      <td>3.0</td>\n",
       "    </tr>\n",
       "    <tr>\n",
       "      <th>4</th>\n",
       "      <td>필로덴드론 옥시카르디움 '브라질'</td>\n",
       "      <td>16~26℃</td>\n",
       "      <td>평균 주 1~2회</td>\n",
       "      <td>40~70%</td>\n",
       "      <td>3.0</td>\n",
       "    </tr>\n",
       "    <tr>\n",
       "      <th>...</th>\n",
       "      <td>...</td>\n",
       "      <td>...</td>\n",
       "      <td>...</td>\n",
       "      <td>...</td>\n",
       "      <td>...</td>\n",
       "    </tr>\n",
       "    <tr>\n",
       "      <th>157</th>\n",
       "      <td>디지고테카 아랄리아</td>\n",
       "      <td>15~25℃</td>\n",
       "      <td>평균 주 1~2회</td>\n",
       "      <td>40~70%</td>\n",
       "      <td>3.0</td>\n",
       "    </tr>\n",
       "    <tr>\n",
       "      <th>158</th>\n",
       "      <td>드라세나 마지나타</td>\n",
       "      <td>24~32℃</td>\n",
       "      <td>평균 월 1~2회</td>\n",
       "      <td>40~70%</td>\n",
       "      <td>2.0</td>\n",
       "    </tr>\n",
       "    <tr>\n",
       "      <th>159</th>\n",
       "      <td>덕구리 난</td>\n",
       "      <td>21~25°C</td>\n",
       "      <td>평균 월 1~2회</td>\n",
       "      <td>40% 이하</td>\n",
       "      <td>2.0</td>\n",
       "    </tr>\n",
       "    <tr>\n",
       "      <th>160</th>\n",
       "      <td>금전수 (돈나무)</td>\n",
       "      <td>16~20℃</td>\n",
       "      <td>평균 월 1~2회</td>\n",
       "      <td>40~70%</td>\n",
       "      <td>2.0</td>\n",
       "    </tr>\n",
       "    <tr>\n",
       "      <th>161</th>\n",
       "      <td>엔조이 스킨답서스</td>\n",
       "      <td>21~25℃</td>\n",
       "      <td>평균 주 1~2회</td>\n",
       "      <td>40~70%</td>\n",
       "      <td>3.0</td>\n",
       "    </tr>\n",
       "  </tbody>\n",
       "</table>\n",
       "<p>162 rows × 5 columns</p>\n",
       "</div>"
      ],
      "text/plain": [
       "                        이름       온도          물      습도  level\n",
       "0                  바나나 크로톤   21~27℃  평균 주 1~2회  40~70%    3.0\n",
       "1    코니오그램 에메이엔시스 '골든 제브라'   21~25℃  평균 주 1~2회  70% 이상    4.0\n",
       "2               베고니아 콘치폴리아   21~25℃  평균 주 1~2회  40~70%    3.0\n",
       "3               싱고니움 밀크컨페티   21~25℃  평균 주 1~2회  40~70%    3.0\n",
       "4       필로덴드론 옥시카르디움 '브라질'   16~26℃  평균 주 1~2회  40~70%    3.0\n",
       "..                     ...      ...        ...     ...    ...\n",
       "157             디지고테카 아랄리아   15~25℃  평균 주 1~2회  40~70%    3.0\n",
       "158              드라세나 마지나타   24~32℃  평균 월 1~2회  40~70%    2.0\n",
       "159                  덕구리 난  21~25°C  평균 월 1~2회  40% 이하    2.0\n",
       "160              금전수 (돈나무)   16~20℃  평균 월 1~2회  40~70%    2.0\n",
       "161              엔조이 스킨답서스   21~25℃  평균 주 1~2회  40~70%    3.0\n",
       "\n",
       "[162 rows x 5 columns]"
      ]
     },
     "execution_count": 36,
     "metadata": {},
     "output_type": "execute_result"
    }
   ],
   "source": [
    "plants"
   ]
  },
  {
   "cell_type": "markdown",
   "metadata": {},
   "source": [
    "##### columns level: 데이터 타입 변경해주기"
   ]
  },
  {
   "cell_type": "code",
   "execution_count": 39,
   "metadata": {},
   "outputs": [
    {
     "data": {
      "text/html": [
       "<div>\n",
       "<style scoped>\n",
       "    .dataframe tbody tr th:only-of-type {\n",
       "        vertical-align: middle;\n",
       "    }\n",
       "\n",
       "    .dataframe tbody tr th {\n",
       "        vertical-align: top;\n",
       "    }\n",
       "\n",
       "    .dataframe thead th {\n",
       "        text-align: right;\n",
       "    }\n",
       "</style>\n",
       "<table border=\"1\" class=\"dataframe\">\n",
       "  <thead>\n",
       "    <tr style=\"text-align: right;\">\n",
       "      <th></th>\n",
       "      <th>이름</th>\n",
       "      <th>온도</th>\n",
       "      <th>물</th>\n",
       "      <th>습도</th>\n",
       "      <th>level</th>\n",
       "    </tr>\n",
       "  </thead>\n",
       "  <tbody>\n",
       "    <tr>\n",
       "      <th>0</th>\n",
       "      <td>바나나 크로톤</td>\n",
       "      <td>21~27℃</td>\n",
       "      <td>평균 주 1~2회</td>\n",
       "      <td>40~70%</td>\n",
       "      <td>3</td>\n",
       "    </tr>\n",
       "    <tr>\n",
       "      <th>1</th>\n",
       "      <td>코니오그램 에메이엔시스 '골든 제브라'</td>\n",
       "      <td>21~25℃</td>\n",
       "      <td>평균 주 1~2회</td>\n",
       "      <td>70% 이상</td>\n",
       "      <td>4</td>\n",
       "    </tr>\n",
       "    <tr>\n",
       "      <th>2</th>\n",
       "      <td>베고니아 콘치폴리아</td>\n",
       "      <td>21~25℃</td>\n",
       "      <td>평균 주 1~2회</td>\n",
       "      <td>40~70%</td>\n",
       "      <td>3</td>\n",
       "    </tr>\n",
       "    <tr>\n",
       "      <th>3</th>\n",
       "      <td>싱고니움 밀크컨페티</td>\n",
       "      <td>21~25℃</td>\n",
       "      <td>평균 주 1~2회</td>\n",
       "      <td>40~70%</td>\n",
       "      <td>3</td>\n",
       "    </tr>\n",
       "    <tr>\n",
       "      <th>4</th>\n",
       "      <td>필로덴드론 옥시카르디움 '브라질'</td>\n",
       "      <td>16~26℃</td>\n",
       "      <td>평균 주 1~2회</td>\n",
       "      <td>40~70%</td>\n",
       "      <td>3</td>\n",
       "    </tr>\n",
       "    <tr>\n",
       "      <th>...</th>\n",
       "      <td>...</td>\n",
       "      <td>...</td>\n",
       "      <td>...</td>\n",
       "      <td>...</td>\n",
       "      <td>...</td>\n",
       "    </tr>\n",
       "    <tr>\n",
       "      <th>157</th>\n",
       "      <td>디지고테카 아랄리아</td>\n",
       "      <td>15~25℃</td>\n",
       "      <td>평균 주 1~2회</td>\n",
       "      <td>40~70%</td>\n",
       "      <td>3</td>\n",
       "    </tr>\n",
       "    <tr>\n",
       "      <th>158</th>\n",
       "      <td>드라세나 마지나타</td>\n",
       "      <td>24~32℃</td>\n",
       "      <td>평균 월 1~2회</td>\n",
       "      <td>40~70%</td>\n",
       "      <td>2</td>\n",
       "    </tr>\n",
       "    <tr>\n",
       "      <th>159</th>\n",
       "      <td>덕구리 난</td>\n",
       "      <td>21~25°C</td>\n",
       "      <td>평균 월 1~2회</td>\n",
       "      <td>40% 이하</td>\n",
       "      <td>2</td>\n",
       "    </tr>\n",
       "    <tr>\n",
       "      <th>160</th>\n",
       "      <td>금전수 (돈나무)</td>\n",
       "      <td>16~20℃</td>\n",
       "      <td>평균 월 1~2회</td>\n",
       "      <td>40~70%</td>\n",
       "      <td>2</td>\n",
       "    </tr>\n",
       "    <tr>\n",
       "      <th>161</th>\n",
       "      <td>엔조이 스킨답서스</td>\n",
       "      <td>21~25℃</td>\n",
       "      <td>평균 주 1~2회</td>\n",
       "      <td>40~70%</td>\n",
       "      <td>3</td>\n",
       "    </tr>\n",
       "  </tbody>\n",
       "</table>\n",
       "<p>162 rows × 5 columns</p>\n",
       "</div>"
      ],
      "text/plain": [
       "                        이름       온도          물      습도  level\n",
       "0                  바나나 크로톤   21~27℃  평균 주 1~2회  40~70%      3\n",
       "1    코니오그램 에메이엔시스 '골든 제브라'   21~25℃  평균 주 1~2회  70% 이상      4\n",
       "2               베고니아 콘치폴리아   21~25℃  평균 주 1~2회  40~70%      3\n",
       "3               싱고니움 밀크컨페티   21~25℃  평균 주 1~2회  40~70%      3\n",
       "4       필로덴드론 옥시카르디움 '브라질'   16~26℃  평균 주 1~2회  40~70%      3\n",
       "..                     ...      ...        ...     ...    ...\n",
       "157             디지고테카 아랄리아   15~25℃  평균 주 1~2회  40~70%      3\n",
       "158              드라세나 마지나타   24~32℃  평균 월 1~2회  40~70%      2\n",
       "159                  덕구리 난  21~25°C  평균 월 1~2회  40% 이하      2\n",
       "160              금전수 (돈나무)   16~20℃  평균 월 1~2회  40~70%      2\n",
       "161              엔조이 스킨답서스   21~25℃  평균 주 1~2회  40~70%      3\n",
       "\n",
       "[162 rows x 5 columns]"
      ]
     },
     "execution_count": 39,
     "metadata": {},
     "output_type": "execute_result"
    }
   ],
   "source": [
    "plants['level']=plants.level.astype(int)\n",
    "plants"
   ]
  },
  {
   "cell_type": "markdown",
   "metadata": {},
   "source": [
    "##### Plants CSV파일로 저장하기"
   ]
  },
  {
   "cell_type": "code",
   "execution_count": 40,
   "metadata": {},
   "outputs": [],
   "source": [
    "plants.to_csv('Plants.csv', encoding='utf-8-sig')"
   ]
  }
 ],
 "metadata": {
  "kernelspec": {
   "display_name": "Python 3.9.12 ('base')",
   "language": "python",
   "name": "python3"
  },
  "language_info": {
   "codemirror_mode": {
    "name": "ipython",
    "version": 3
   },
   "file_extension": ".py",
   "mimetype": "text/x-python",
   "name": "python",
   "nbconvert_exporter": "python",
   "pygments_lexer": "ipython3",
   "version": "3.9.12"
  },
  "orig_nbformat": 4,
  "vscode": {
   "interpreter": {
    "hash": "a077222d77dfe082b8f1dd562ad70e458ac2ab76993a0b248ab0476e32e9e8dd"
   }
  }
 },
 "nbformat": 4,
 "nbformat_minor": 2
}
