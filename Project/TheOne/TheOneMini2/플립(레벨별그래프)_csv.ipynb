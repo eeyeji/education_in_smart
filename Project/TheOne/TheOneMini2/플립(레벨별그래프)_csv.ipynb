{
 "cells": [
  {
   "cell_type": "code",
   "execution_count": 14,
   "metadata": {},
   "outputs": [],
   "source": [
    "from selenium import webdriver\n",
    "from webdriver_manager.chrome import ChromeDriverManager\n",
    "from selenium.webdriver.common.keys import Keys\n",
    "from bs4 import BeautifulSoup as bs\n",
    "import pandas as pd\n",
    "import numpy as np\n",
    "import time\n",
    "from collections import Counter\n",
    "import pickle\n",
    "\n",
    "import matplotlib.pyplot as plt\n",
    "import seaborn as sns\n",
    "\n",
    "from matplotlib import font_manager, rc  \n",
    "font_name = font_manager.FontProperties(fname='C:/Windows/Fonts/malgun.ttf').get_name()\n",
    "rc('font', family=font_name)"
   ]
  },
  {
   "cell_type": "code",
   "execution_count": 15,
   "metadata": {},
   "outputs": [
    {
     "data": {
      "text/html": [
       "<div>\n",
       "<style scoped>\n",
       "    .dataframe tbody tr th:only-of-type {\n",
       "        vertical-align: middle;\n",
       "    }\n",
       "\n",
       "    .dataframe tbody tr th {\n",
       "        vertical-align: top;\n",
       "    }\n",
       "\n",
       "    .dataframe thead th {\n",
       "        text-align: right;\n",
       "    }\n",
       "</style>\n",
       "<table border=\"1\" class=\"dataframe\">\n",
       "  <thead>\n",
       "    <tr style=\"text-align: right;\">\n",
       "      <th></th>\n",
       "      <th>Unnamed: 0</th>\n",
       "      <th>이름</th>\n",
       "      <th>온도</th>\n",
       "      <th>물</th>\n",
       "      <th>습도</th>\n",
       "      <th>level</th>\n",
       "    </tr>\n",
       "  </thead>\n",
       "  <tbody>\n",
       "    <tr>\n",
       "      <th>0</th>\n",
       "      <td>0</td>\n",
       "      <td>바나나 크로톤</td>\n",
       "      <td>21~27℃</td>\n",
       "      <td>평균 주 1~2회</td>\n",
       "      <td>40~70%</td>\n",
       "      <td>3</td>\n",
       "    </tr>\n",
       "    <tr>\n",
       "      <th>1</th>\n",
       "      <td>1</td>\n",
       "      <td>코니오그램 에메이엔시스 '골든 제브라'</td>\n",
       "      <td>21~25℃</td>\n",
       "      <td>평균 주 1~2회</td>\n",
       "      <td>70% 이상</td>\n",
       "      <td>4</td>\n",
       "    </tr>\n",
       "    <tr>\n",
       "      <th>2</th>\n",
       "      <td>2</td>\n",
       "      <td>베고니아 콘치폴리아</td>\n",
       "      <td>21~25℃</td>\n",
       "      <td>평균 주 1~2회</td>\n",
       "      <td>40~70%</td>\n",
       "      <td>3</td>\n",
       "    </tr>\n",
       "    <tr>\n",
       "      <th>3</th>\n",
       "      <td>3</td>\n",
       "      <td>싱고니움 밀크컨페티</td>\n",
       "      <td>21~25℃</td>\n",
       "      <td>평균 주 1~2회</td>\n",
       "      <td>40~70%</td>\n",
       "      <td>3</td>\n",
       "    </tr>\n",
       "    <tr>\n",
       "      <th>4</th>\n",
       "      <td>4</td>\n",
       "      <td>필로덴드론 옥시카르디움 '브라질'</td>\n",
       "      <td>16~26℃</td>\n",
       "      <td>평균 주 1~2회</td>\n",
       "      <td>40~70%</td>\n",
       "      <td>3</td>\n",
       "    </tr>\n",
       "    <tr>\n",
       "      <th>...</th>\n",
       "      <td>...</td>\n",
       "      <td>...</td>\n",
       "      <td>...</td>\n",
       "      <td>...</td>\n",
       "      <td>...</td>\n",
       "      <td>...</td>\n",
       "    </tr>\n",
       "    <tr>\n",
       "      <th>157</th>\n",
       "      <td>157</td>\n",
       "      <td>디지고테카 아랄리아</td>\n",
       "      <td>15~25℃</td>\n",
       "      <td>평균 주 1~2회</td>\n",
       "      <td>40~70%</td>\n",
       "      <td>3</td>\n",
       "    </tr>\n",
       "    <tr>\n",
       "      <th>158</th>\n",
       "      <td>158</td>\n",
       "      <td>드라세나 마지나타</td>\n",
       "      <td>24~32℃</td>\n",
       "      <td>평균 월 1~2회</td>\n",
       "      <td>40~70%</td>\n",
       "      <td>2</td>\n",
       "    </tr>\n",
       "    <tr>\n",
       "      <th>159</th>\n",
       "      <td>159</td>\n",
       "      <td>덕구리 난</td>\n",
       "      <td>21~25°C</td>\n",
       "      <td>평균 월 1~2회</td>\n",
       "      <td>40% 이하</td>\n",
       "      <td>2</td>\n",
       "    </tr>\n",
       "    <tr>\n",
       "      <th>160</th>\n",
       "      <td>160</td>\n",
       "      <td>금전수 (돈나무)</td>\n",
       "      <td>16~20℃</td>\n",
       "      <td>평균 월 1~2회</td>\n",
       "      <td>40~70%</td>\n",
       "      <td>2</td>\n",
       "    </tr>\n",
       "    <tr>\n",
       "      <th>161</th>\n",
       "      <td>161</td>\n",
       "      <td>엔조이 스킨답서스</td>\n",
       "      <td>21~25℃</td>\n",
       "      <td>평균 주 1~2회</td>\n",
       "      <td>40~70%</td>\n",
       "      <td>3</td>\n",
       "    </tr>\n",
       "  </tbody>\n",
       "</table>\n",
       "<p>162 rows × 6 columns</p>\n",
       "</div>"
      ],
      "text/plain": [
       "     Unnamed: 0                     이름       온도          물      습도  level\n",
       "0             0                바나나 크로톤   21~27℃  평균 주 1~2회  40~70%      3\n",
       "1             1  코니오그램 에메이엔시스 '골든 제브라'   21~25℃  평균 주 1~2회  70% 이상      4\n",
       "2             2             베고니아 콘치폴리아   21~25℃  평균 주 1~2회  40~70%      3\n",
       "3             3             싱고니움 밀크컨페티   21~25℃  평균 주 1~2회  40~70%      3\n",
       "4             4     필로덴드론 옥시카르디움 '브라질'   16~26℃  평균 주 1~2회  40~70%      3\n",
       "..          ...                    ...      ...        ...     ...    ...\n",
       "157         157             디지고테카 아랄리아   15~25℃  평균 주 1~2회  40~70%      3\n",
       "158         158              드라세나 마지나타   24~32℃  평균 월 1~2회  40~70%      2\n",
       "159         159                  덕구리 난  21~25°C  평균 월 1~2회  40% 이하      2\n",
       "160         160              금전수 (돈나무)   16~20℃  평균 월 1~2회  40~70%      2\n",
       "161         161              엔조이 스킨답서스   21~25℃  평균 주 1~2회  40~70%      3\n",
       "\n",
       "[162 rows x 6 columns]"
      ]
     },
     "execution_count": 15,
     "metadata": {},
     "output_type": "execute_result"
    }
   ],
   "source": [
    "df = pd.read_csv('Plants.csv')\n",
    "df"
   ]
  },
  {
   "cell_type": "markdown",
   "metadata": {},
   "source": [
    "##### 레벨별로 하나씩 가져오기"
   ]
  },
  {
   "cell_type": "code",
   "execution_count": 16,
   "metadata": {},
   "outputs": [
    {
     "data": {
      "text/html": [
       "<div>\n",
       "<style scoped>\n",
       "    .dataframe tbody tr th:only-of-type {\n",
       "        vertical-align: middle;\n",
       "    }\n",
       "\n",
       "    .dataframe tbody tr th {\n",
       "        vertical-align: top;\n",
       "    }\n",
       "\n",
       "    .dataframe thead th {\n",
       "        text-align: right;\n",
       "    }\n",
       "</style>\n",
       "<table border=\"1\" class=\"dataframe\">\n",
       "  <thead>\n",
       "    <tr style=\"text-align: right;\">\n",
       "      <th></th>\n",
       "      <th>이름</th>\n",
       "      <th>온도</th>\n",
       "      <th>물</th>\n",
       "      <th>습도</th>\n",
       "      <th>level</th>\n",
       "    </tr>\n",
       "  </thead>\n",
       "  <tbody>\n",
       "    <tr>\n",
       "      <th>0</th>\n",
       "      <td>금황환 선인장</td>\n",
       "      <td>15~30℃</td>\n",
       "      <td>평균 월 1회 이하</td>\n",
       "      <td>40% 이하</td>\n",
       "      <td>1</td>\n",
       "    </tr>\n",
       "    <tr>\n",
       "      <th>1</th>\n",
       "      <td>녹탑</td>\n",
       "      <td>15~25℃</td>\n",
       "      <td>평균 월 1~2회</td>\n",
       "      <td>40~70%</td>\n",
       "      <td>2</td>\n",
       "    </tr>\n",
       "    <tr>\n",
       "      <th>2</th>\n",
       "      <td>바나나 크로톤</td>\n",
       "      <td>21~27℃</td>\n",
       "      <td>평균 주 1~2회</td>\n",
       "      <td>40~70%</td>\n",
       "      <td>3</td>\n",
       "    </tr>\n",
       "    <tr>\n",
       "      <th>3</th>\n",
       "      <td>코니오그램 에메이엔시스 '골든 제브라'</td>\n",
       "      <td>21~25℃</td>\n",
       "      <td>평균 주 1~2회</td>\n",
       "      <td>70% 이상</td>\n",
       "      <td>4</td>\n",
       "    </tr>\n",
       "    <tr>\n",
       "      <th>4</th>\n",
       "      <td>수국</td>\n",
       "      <td>16~26℃</td>\n",
       "      <td>평균 주 2회 이상</td>\n",
       "      <td>40~70%</td>\n",
       "      <td>5</td>\n",
       "    </tr>\n",
       "    <tr>\n",
       "      <th>5</th>\n",
       "      <td>캄피오 아비스 (아스플레니움 니두스 캄피오)</td>\n",
       "      <td>21~25℃</td>\n",
       "      <td>평균 주 2회 이상</td>\n",
       "      <td>70% 이상</td>\n",
       "      <td>6</td>\n",
       "    </tr>\n",
       "  </tbody>\n",
       "</table>\n",
       "</div>"
      ],
      "text/plain": [
       "                         이름      온도           물      습도  level\n",
       "0                   금황환 선인장  15~30℃  평균 월 1회 이하  40% 이하      1\n",
       "1                        녹탑  15~25℃   평균 월 1~2회  40~70%      2\n",
       "2                   바나나 크로톤  21~27℃   평균 주 1~2회  40~70%      3\n",
       "3     코니오그램 에메이엔시스 '골든 제브라'  21~25℃   평균 주 1~2회  70% 이상      4\n",
       "4                        수국  16~26℃  평균 주 2회 이상  40~70%      5\n",
       "5  캄피오 아비스 (아스플레니움 니두스 캄피오)  21~25℃  평균 주 2회 이상  70% 이상      6"
      ]
     },
     "execution_count": 16,
     "metadata": {},
     "output_type": "execute_result"
    }
   ],
   "source": [
    "name = []\n",
    "temp = []\n",
    "water = []\n",
    "mois = []\n",
    "lev = []\n",
    "for i in range(1, 7):\n",
    "    imsi = df[df[\"level\"] == i].iloc[0]\n",
    "    name.append(imsi[\"이름\"])\n",
    "    temp.append(imsi[\"온도\"])\n",
    "    water.append(imsi[\"물\"])\n",
    "    mois.append(imsi[\"습도\"])\n",
    "    lev.append(imsi[\"level\"])\n",
    "samp = {\"이름\" : name, \"온도\" : temp, \"물\" : water, \"습도\" : mois, \"level\" : lev}\n",
    "samp = pd.DataFrame(samp)\n",
    "samp"
   ]
  },
  {
   "cell_type": "markdown",
   "metadata": {},
   "source": [
    "##### 가져온 이름 중 긴 이름 변경하기"
   ]
  },
  {
   "cell_type": "code",
   "execution_count": 17,
   "metadata": {},
   "outputs": [
    {
     "data": {
      "text/html": [
       "<div>\n",
       "<style scoped>\n",
       "    .dataframe tbody tr th:only-of-type {\n",
       "        vertical-align: middle;\n",
       "    }\n",
       "\n",
       "    .dataframe tbody tr th {\n",
       "        vertical-align: top;\n",
       "    }\n",
       "\n",
       "    .dataframe thead th {\n",
       "        text-align: right;\n",
       "    }\n",
       "</style>\n",
       "<table border=\"1\" class=\"dataframe\">\n",
       "  <thead>\n",
       "    <tr style=\"text-align: right;\">\n",
       "      <th></th>\n",
       "      <th>이름</th>\n",
       "      <th>온도</th>\n",
       "      <th>물</th>\n",
       "      <th>습도</th>\n",
       "      <th>level</th>\n",
       "    </tr>\n",
       "  </thead>\n",
       "  <tbody>\n",
       "    <tr>\n",
       "      <th>0</th>\n",
       "      <td>금황환 선인장</td>\n",
       "      <td>15~30℃</td>\n",
       "      <td>평균 월 1회 이하</td>\n",
       "      <td>40% 이하</td>\n",
       "      <td>1</td>\n",
       "    </tr>\n",
       "    <tr>\n",
       "      <th>1</th>\n",
       "      <td>녹탑</td>\n",
       "      <td>15~25℃</td>\n",
       "      <td>평균 월 1~2회</td>\n",
       "      <td>40~70%</td>\n",
       "      <td>2</td>\n",
       "    </tr>\n",
       "    <tr>\n",
       "      <th>2</th>\n",
       "      <td>바나나 크로톤</td>\n",
       "      <td>21~27℃</td>\n",
       "      <td>평균 주 1~2회</td>\n",
       "      <td>40~70%</td>\n",
       "      <td>3</td>\n",
       "    </tr>\n",
       "    <tr>\n",
       "      <th>3</th>\n",
       "      <td>골든 제브라</td>\n",
       "      <td>21~25℃</td>\n",
       "      <td>평균 주 1~2회</td>\n",
       "      <td>70% 이상</td>\n",
       "      <td>4</td>\n",
       "    </tr>\n",
       "    <tr>\n",
       "      <th>4</th>\n",
       "      <td>수국</td>\n",
       "      <td>16~26℃</td>\n",
       "      <td>평균 주 2회 이상</td>\n",
       "      <td>40~70%</td>\n",
       "      <td>5</td>\n",
       "    </tr>\n",
       "    <tr>\n",
       "      <th>5</th>\n",
       "      <td>캄피오 아비스</td>\n",
       "      <td>21~25℃</td>\n",
       "      <td>평균 주 2회 이상</td>\n",
       "      <td>70% 이상</td>\n",
       "      <td>6</td>\n",
       "    </tr>\n",
       "  </tbody>\n",
       "</table>\n",
       "</div>"
      ],
      "text/plain": [
       "        이름      온도           물      습도  level\n",
       "0  금황환 선인장  15~30℃  평균 월 1회 이하  40% 이하      1\n",
       "1       녹탑  15~25℃   평균 월 1~2회  40~70%      2\n",
       "2  바나나 크로톤  21~27℃   평균 주 1~2회  40~70%      3\n",
       "3   골든 제브라  21~25℃   평균 주 1~2회  70% 이상      4\n",
       "4       수국  16~26℃  평균 주 2회 이상  40~70%      5\n",
       "5  캄피오 아비스  21~25℃  평균 주 2회 이상  70% 이상      6"
      ]
     },
     "execution_count": 17,
     "metadata": {},
     "output_type": "execute_result"
    }
   ],
   "source": [
    "samp['이름'].replace(\"캄피오 아비스 (아스플레니움 니두스 캄피오)\", \"캄피오 아비스\", inplace=True)\n",
    "samp['이름'].replace(\"코니오그램 에메이엔시스 '골든 제브라'\", \"골든 제브라\", inplace=True)\n",
    "samp"
   ]
  },
  {
   "cell_type": "markdown",
   "metadata": {},
   "source": [
    "##### 레벨별 bar 그래프 만들기"
   ]
  },
  {
   "cell_type": "code",
   "execution_count": 20,
   "metadata": {},
   "outputs": [
    {
     "data": {
      "image/png": "[encoded data removed]",
      "text/plain": [
       "<Figure size 800x500 with 1 Axes>"
      ]
     },
     "metadata": {},
     "output_type": "display_data"
    }
   ],
   "source": [
    "#%matplotlib inline\n",
    "#주피터노트북을 실행한 브라우저에서 바로 그림을 볼 수 있게만들어주는 코드\n",
    "#즉, 브라우저 내부(inline)에 바로 그려지도록 해주는 코드\n",
    "\n",
    "plt.rcParams['figure.figsize'] = [8, 5] # [width, height] (inches)\n",
    "colors=sns.color_palette('Reds')\n",
    "samp.plot(kind='bar', x='이름', y='level', color=colors)\n",
    "plt.ylim([0, 6])\n",
    "plt.xticks(rotation=0)\n",
    "plt.ylabel('level', rotation=0)\n",
    "\n",
    "plt.show()"
   ]
  },
  {
   "cell_type": "markdown",
   "metadata": {},
   "source": [
    "##### countplot"
   ]
  },
  {
   "cell_type": "code",
   "execution_count": 24,
   "metadata": {},
   "outputs": [
    {
     "data": {
      "text/plain": [
       "<AxesSubplot:xlabel='level', ylabel='count'>"
      ]
     },
     "execution_count": 24,
     "metadata": {},
     "output_type": "execute_result"
    },
    {
     "data": {
      "image/png": "[encoded data removed]",
      "text/plain": [
       "<Figure size 1000x500 with 1 Axes>"
      ]
     },
     "metadata": {},
     "output_type": "display_data"
    }
   ],
   "source": [
    "plt.rcParams['figure.figsize'] = [10, 5] # [width, height] (inches)\n",
    "sns.countplot(data=df, x='level')"
   ]
  },
  {
   "cell_type": "code",
   "execution_count": null,
   "metadata": {},
   "outputs": [],
   "source": []
  }
 ],
 "metadata": {
  "kernelspec": {
   "display_name": "Python 3.9.12 ('base')",
   "language": "python",
   "name": "python3"
  },
  "language_info": {
   "codemirror_mode": {
    "name": "ipython",
    "version": 3
   },
   "file_extension": ".py",
   "mimetype": "text/x-python",
   "name": "python",
   "nbconvert_exporter": "python",
   "pygments_lexer": "ipython3",
   "version": "3.9.12"
  },
  "orig_nbformat": 4,
  "vscode": {
   "interpreter": {
    "hash": "a077222d77dfe082b8f1dd562ad70e458ac2ab76993a0b248ab0476e32e9e8dd"
   }
  }
 },
 "nbformat": 4,
 "nbformat_minor": 2
}
