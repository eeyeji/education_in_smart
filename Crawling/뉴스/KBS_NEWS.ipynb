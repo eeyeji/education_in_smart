{
 "cells": [
  {
   "cell_type": "code",
   "execution_count": 1,
   "metadata": {},
   "outputs": [],
   "source": [
    "from selenium import webdriver\n",
    "from webdriver_manager.chrome import ChromeDriverManager\n",
    "from selenium.webdriver.common.keys import Keys\n",
    "from bs4 import BeautifulSoup as bs\n",
    "import pandas as pd\n",
    "import numpy as np\n",
    "import time\n",
    "from collections import Counter\n",
    "import pickle\n",
    "from tqdm import tqdm\n",
    "\n",
    "import matplotlib.pyplot as plt\n",
    "import seaborn as sns\n",
    "\n",
    "from matplotlib import font_manager, rc  \n",
    "font_name = font_manager.FontProperties(fname='C:/Windows/Fonts/malgun.ttf').get_name()\n",
    "rc('font', family=font_name)"
   ]
  },
  {
   "cell_type": "code",
   "execution_count": 28,
   "metadata": {},
   "outputs": [],
   "source": [
    "#(빈)크롬창 열기\n",
    "driver = webdriver.Chrome(ChromeDriverManager().install())\n",
    "\n",
    "#KBS뉴스홈페이지\n",
    "driver.get(\"https://news.kbs.co.kr/common/main.html?ref=pLogo\")\n",
    "#driver.maximize_window()\n",
    "time.sleep(1)"
   ]
  },
  {
   "cell_type": "code",
   "execution_count": 29,
   "metadata": {},
   "outputs": [],
   "source": [
    "#검색하기 위해 돋보기 클릭\n",
    "btn = driver.find_element_by_css_selector('#header > div.header-bot > div > div.hb-menu-l > a.btn-search > span.ico.ico-sh')\n",
    "btn.click()\n",
    "time.sleep(1)\n",
    "\n",
    "#검색어 입력하기 위해 검색창 클릭\n",
    "search = driver.find_element_by_css_selector('#header-search')\n",
    "search.click()\n",
    "time.sleep(1)\n",
    "\n",
    "#검색어 입력\n",
    "search.send_keys('지방소멸')\n",
    "search.send_keys(Keys.ENTER)\n",
    "time.sleep(1)\n",
    "\n",
    "#기간 설정: 최근 한달 동안\n",
    "month = driver.find_element_by_css_selector('#content > div > div.search-result > div.component > div > dl.select.col1 > dd > ul > li:nth-child(4) > label > span')\n",
    "month.click()\n",
    "time.sleep(1)"
   ]
  },
  {
   "cell_type": "code",
   "execution_count": 37,
   "metadata": {},
   "outputs": [
    {
     "name": "stdout",
     "output_type": "stream",
     "text": [
      "http://news.kbs.co.kr/news/view.do?ncd=5568917\n",
      "http://news.kbs.co.kr/news/view.do?ncd=5568877\n",
      "http://news.kbs.co.kr/news/view.do?ncd=5553547\n",
      "http://news.kbs.co.kr/news/view.do?ncd=5550970\n",
      "http://news.kbs.co.kr/news/view.do?ncd=5550793\n",
      "http://news.kbs.co.kr/news/view.do?ncd=5550483\n",
      "http://news.kbs.co.kr/news/view.do?ncd=5546717\n",
      "http://news.kbs.co.kr/news/view.do?ncd=5546550\n",
      "http://news.kbs.co.kr/news/view.do?ncd=5546285\n",
      "http://news.kbs.co.kr/news/view.do?ncd=5546085\n"
     ]
    }
   ],
   "source": [
    "url_list=[] \n",
    "for i in range(1, 2):\n",
    "    page_url=f'https://news.kbs.co.kr/search/search.do?query=%EC%A7%80%EB%B0%A9%EC%86%8C%EB%A9%B8#{i}'\n",
    "    driver.get(page_url)\n",
    "    time.sleep(1)\n",
    "    \n",
    "    #객체화\n",
    "    soup = bs(driver.page_source, 'html.parser')\n",
    "    url = soup.select('div.newslist-grid4>ul>li>a')\n",
    "    \n",
    "    for j in url:\n",
    "        print(j['href'])\n",
    "        url_list.append(j['href']) \n",
    "    time.sleep(1)\n"
   ]
  },
  {
   "cell_type": "code",
   "execution_count": 38,
   "metadata": {},
   "outputs": [
    {
     "data": {
      "text/plain": [
       "10"
      ]
     },
     "execution_count": 38,
     "metadata": {},
     "output_type": "execute_result"
    }
   ],
   "source": [
    "len(url_list)"
   ]
  },
  {
   "cell_type": "code",
   "execution_count": 41,
   "metadata": {},
   "outputs": [],
   "source": [
    "title_list=[]\n",
    "anchor_list=[]\n",
    "contents_list=[]\n",
    "\n",
    "for i in url_list:\n",
    "    driver.get(i)\n",
    "    #기사 제목 추출\n",
    "    title = driver.find_elements_by_css_selector('#content > div > div.detail-component.det-news > div.landing-box > div.landing-caption > h5')\n",
    "    for j in title:\n",
    "        title_list.append(j.text)\n",
    "#--------------------------------------------------------------------------------------------------------------------------------------\n",
    "    #앵커/리포트 형식의 기사 추출\n",
    "    try:\n",
    "        anchor = driver.find_elements_by_css_selector('#cont_newstext > div:nth-child(1)')\n",
    "        for j in anchor:\n",
    "            anchor_list.append(j.text)\n",
    "            \n",
    "\n",
    "        contents = driver.find_elements_by_css_selector('#cont_newstext > div:nth-child(2)')\n",
    "        for j in contents:\n",
    "            contents_list.append(j.text)\n",
    "    \n",
    "    #앵커/리포트 형식이 아닌 기사 추출        \n",
    "    except:\n",
    "        contents = driver.find_element_by_css_selector('#cont_newstext')\n",
    "        for j in contents:\n",
    "            contents_list.append(j.text)\n",
    "    "
   ]
  },
  {
   "cell_type": "code",
   "execution_count": 42,
   "metadata": {},
   "outputs": [
    {
     "data": {
      "text/plain": [
       "(10, 10, 10, 10)"
      ]
     },
     "execution_count": 42,
     "metadata": {},
     "output_type": "execute_result"
    }
   ],
   "source": [
    "len(url_list), len(title_list), len(anchor_list), len(contents_list)"
   ]
  },
  {
   "cell_type": "code",
   "execution_count": null,
   "metadata": {},
   "outputs": [],
   "source": []
  }
 ],
 "metadata": {
  "kernelspec": {
   "display_name": "Python 3.9.12 ('base')",
   "language": "python",
   "name": "python3"
  },
  "language_info": {
   "codemirror_mode": {
    "name": "ipython",
    "version": 3
   },
   "file_extension": ".py",
   "mimetype": "text/x-python",
   "name": "python",
   "nbconvert_exporter": "python",
   "pygments_lexer": "ipython3",
   "version": "3.9.12"
  },
  "orig_nbformat": 4,
  "vscode": {
   "interpreter": {
    "hash": "a077222d77dfe082b8f1dd562ad70e458ac2ab76993a0b248ab0476e32e9e8dd"
   }
  }
 },
 "nbformat": 4,
 "nbformat_minor": 2
}
