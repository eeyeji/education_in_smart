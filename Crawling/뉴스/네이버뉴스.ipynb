{
 "cells": [
  {
   "cell_type": "code",
   "execution_count": 18,
   "metadata": {},
   "outputs": [],
   "source": [
    "from selenium import webdriver\n",
    "from webdriver_manager.chrome import ChromeDriverManager\n",
    "from selenium.webdriver.common.keys import Keys\n",
    "from bs4 import BeautifulSoup as bs\n",
    "import pandas as pd\n",
    "import numpy as np\n",
    "import time\n",
    "from collections import Counter\n",
    "import pickle\n",
    "from tqdm import tqdm\n",
    "\n",
    "import matplotlib.pyplot as plt\n",
    "import seaborn as sns\n",
    "\n",
    "from matplotlib import font_manager, rc  \n",
    "font_name = font_manager.FontProperties(fname='C:/Windows/Fonts/malgun.ttf').get_name()\n",
    "rc('font', family=font_name)"
   ]
  },
  {
   "cell_type": "code",
   "execution_count": 19,
   "metadata": {},
   "outputs": [],
   "source": [
    "driver = webdriver.Chrome(ChromeDriverManager().install())\n",
    "\n",
    "#Naver홈페이지\n",
    "driver.get(\"https://www.naver.com/\")\n",
    "driver.maximize_window()\n",
    "time.sleep(1)\n",
    "\n",
    "#검색하기 위해 검색창 클릭\n",
    "search = driver.find_element_by_css_selector('#query')\n",
    "search.click()\n",
    "time.sleep(1)\n",
    "\n",
    "#검색어 입력\n",
    "search.send_keys('지방소멸')\n",
    "search.send_keys(Keys.ENTER)\n",
    "time.sleep(1)\n",
    "\n",
    "#뉴스버튼 클릭\n",
    "news = driver.find_element_by_css_selector('#lnb > div.lnb_group > div > ul > li:nth-child(2) > a')\n",
    "news.click()\n",
    "\n",
    "#최신순 클릭\n",
    "newest = driver.find_element_by_css_selector('#snb > div.api_group_option_filter._search_option_simple_wrap > div > div.option_area.type_sort > a:nth-child(2)')\n",
    "newest.click()\n",
    "time.sleep(1)\n",
    "\n",
    "#옵션버튼 클릭\n",
    "opt = driver.find_element_by_css_selector('#snb > div.api_group_option_filter._search_option_simple_wrap > div > div.option_filter > a')\n",
    "opt.click()\n",
    "time.sleep(1)\n",
    "\n",
    "#한달체크\n",
    "month = driver.find_element_by_css_selector('#snb > div.api_group_option_sort._search_option_detail_wrap > ul > li.bx.term > div > div.option > a:nth-child(5)')\n",
    "month.click()\n",
    "time.sleep(1)\n",
    "\n",
    "#언론사분류 선택\n",
    "news_select = driver.find_element_by_css_selector('#snb > div.api_group_option_sort._search_option_detail_wrap > ul > li.bx.press > div > div.option > a.txt.txt_option._category_select_trigger')\n",
    "news_select.click()\n",
    "time.sleep(1)\n",
    "\n",
    "#지역지 선택\n",
    "regional_paper = driver.find_element_by_css_selector('#snb > div.api_group_option_sort._search_option_detail_wrap > ul > li.bx.press > div > div.api_select_option.type_group._category_select_layer > div > div:nth-child(1) > div > div > div > ul > li:nth-child(6) > a')\n",
    "regional_paper.click()\n",
    "time.sleep(1)\n",
    "\n",
    "#뉴스사 선택\n",
    "newspaper = driver.find_element_by_css_selector('#snb > div.api_group_option_sort._search_option_detail_wrap > ul > li.bx.press > div > div.api_select_option.type_group._category_select_layer > div > div:nth-child(2) > div > div > div > ul > li:nth-child(1) > a')\n",
    "newspaper.click()\n",
    "time.sleep(1)\n",
    "\n",
    "#옵션창 닫기\n",
    "close_opt = driver.find_element_by_css_selector('#snb > div.api_group_option_sort._search_option_detail_wrap > button')\n",
    "close_opt.click()\n",
    "time.sleep(1)\n",
    "title_list=[]\n"
   ]
  },
  {
   "cell_type": "code",
   "execution_count": 20,
   "metadata": {},
   "outputs": [],
   "source": [
    "url_list=[]\n",
    "title_list=[]\n",
    "contents_list=[]\n",
    "\n",
    "start = 1\n",
    "end = 3\n",
    "for i in range(start,end):\n",
    "    driver.get(f'https://search.naver.com/search.naver?where=news&sm=tab_pge&query=%EC%A7%80%EB%B0%A9%EC%86%8C%EB%A9%B8&sort=1&photo=0&field=0&pd=2&ds=2022.09.02&de=2022.10.02&mynews=1&office_type=1&office_section_code=6&news_office_checked=1654&nso=so:dd,p:1m,a:all&start={i}')\n",
    "\n",
    "    soup = bs(driver.page_source, 'html.parser')\n",
    "    url = soup.select('a.news_tit')\n",
    "    \n",
    "    for j in url:\n",
    "        url_list.append(j['href'])\n",
    "    \n",
    "    #start+=10\n",
    "    #end+=10"
   ]
  },
  {
   "cell_type": "code",
   "execution_count": 22,
   "metadata": {},
   "outputs": [],
   "source": [
    "for i in url_list:\n",
    "    driver.get(i)\n",
    "    time.sleep(1)\n",
    "    \n",
    "    title = driver.find_elements_by_css_selector('#article-view > div > header > h3')\n",
    "    for j in title:\n",
    "        title_list.append(j.text)\n",
    "\n",
    "    contents = driver.find_elements_by_css_selector('#article-view-content-div')\n",
    "    for j in contents:\n",
    "        contents_list.append(j.text)\n",
    "    \n",
    "    time.sleep(1)"
   ]
  },
  {
   "cell_type": "code",
   "execution_count": 23,
   "metadata": {},
   "outputs": [
    {
     "data": {
      "text/plain": [
       "(20, 20, 20)"
      ]
     },
     "execution_count": 23,
     "metadata": {},
     "output_type": "execute_result"
    }
   ],
   "source": [
    "len(url_list), len(title_list), len(contents_list)"
   ]
  }
 ],
 "metadata": {
  "kernelspec": {
   "display_name": "Python 3.9.12 ('base')",
   "language": "python",
   "name": "python3"
  },
  "language_info": {
   "codemirror_mode": {
    "name": "ipython",
    "version": 3
   },
   "file_extension": ".py",
   "mimetype": "text/x-python",
   "name": "python",
   "nbconvert_exporter": "python",
   "pygments_lexer": "ipython3",
   "version": "3.9.12"
  },
  "orig_nbformat": 4,
  "vscode": {
   "interpreter": {
    "hash": "a077222d77dfe082b8f1dd562ad70e458ac2ab76993a0b248ab0476e32e9e8dd"
   }
  }
 },
 "nbformat": 4,
 "nbformat_minor": 2
}
