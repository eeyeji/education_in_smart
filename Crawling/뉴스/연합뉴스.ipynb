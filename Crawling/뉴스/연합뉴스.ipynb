{
 "cells": [
  {
   "cell_type": "code",
   "execution_count": 8,
   "metadata": {},
   "outputs": [],
   "source": [
    "from selenium import webdriver\n",
    "from webdriver_manager.chrome import ChromeDriverManager\n",
    "from selenium.webdriver.common.keys import Keys\n",
    "from bs4 import BeautifulSoup as bs\n",
    "import pandas as pd\n",
    "import numpy as np\n",
    "import time\n",
    "from collections import Counter\n",
    "import pickle\n",
    "from tqdm import tqdm\n",
    "\n",
    "import matplotlib.pyplot as plt\n",
    "import seaborn as sns\n",
    "\n",
    "from matplotlib import font_manager, rc  \n",
    "font_name = font_manager.FontProperties(fname='C:/Windows/Fonts/malgun.ttf').get_name()\n",
    "rc('font', family=font_name)"
   ]
  },
  {
   "cell_type": "markdown",
   "metadata": {},
   "source": [
    "##### 첫 페이지만 url수집-href"
   ]
  },
  {
   "cell_type": "code",
   "execution_count": 9,
   "metadata": {},
   "outputs": [
    {
     "name": "stdout",
     "output_type": "stream",
     "text": [
      "https://www.yna.co.kr/view/AKR20221002001400091?section=news\n",
      "https://www.yna.co.kr/view/AKR20221002001500071?section=news\n",
      "https://www.yna.co.kr/view/AKR20221001053352072?section=news\n",
      "https://www.yna.co.kr/view/AKR20221001052851099?section=news\n",
      "https://www.yna.co.kr/view/AKR20221002001300109?section=news\n",
      "https://www.yna.co.kr/view/AKR20221002001200091?section=news\n",
      "https://www.yna.co.kr/view/AKR20221002001100071?section=news\n",
      "https://www.yna.co.kr/view/AKR20221002000551072?section=news\n",
      "https://www.yna.co.kr/view/AKR20221001053351072?section=news\n",
      "https://www.yna.co.kr/view/AKR20221001039100004?section=news\n",
      "https://www.yna.co.kr/view/AKR20221002000700007?section=news\n",
      "https://www.yna.co.kr/view/AKR20221002000400109?section=news\n",
      "https://www.yna.co.kr/view/AKR20221002000500072?section=news\n",
      "https://www.yna.co.kr/view/AKR20221001053700007?section=news\n",
      "https://www.yna.co.kr/view/AKR20221002000100011?section=news\n",
      "https://www.yna.co.kr/view/AKR20220930150600053?section=news\n",
      "https://www.yna.co.kr/view/AKR20221001052800099?section=news\n",
      "https://www.yna.co.kr/view/AKR20221001053300072?section=news\n",
      "https://www.yna.co.kr/view/AKR20221001046651109?section=news\n",
      "https://www.yna.co.kr/view/AKR20221001053200007?section=news\n",
      "https://www.yna.co.kr/view/AKR20221001043951009?section=news\n",
      "https://www.yna.co.kr/view/AKR20221001053000072?section=news\n",
      "https://www.yna.co.kr/view/AKR20221001052600007?section=news\n",
      "https://www.yna.co.kr/view/AKR20221001051400009?section=news\n",
      "https://www.yna.co.kr/view/AKR20221001052000007?section=news\n"
     ]
    }
   ],
   "source": [
    "#빈크롬창 열기\n",
    "driver = webdriver.Chrome(ChromeDriverManager().install())\n",
    "#연합뉴스: 최신기사\n",
    "driver.get('https://www.yna.co.kr/news?site=navi_latest_depth01')\n",
    "\n",
    "url_list=[]\n",
    "\n",
    "#객체화\n",
    "soup = bs(driver.page_source, 'html.parser')\n",
    "url = soup.select('div.list-type038>ul.list>li>div.item-box01>div.news-con>a')\n",
    "for i in url:\n",
    "    print('https:' + i['href'])\n",
    "    url_list.append('https:'+i['href']) "
   ]
  },
  {
   "cell_type": "markdown",
   "metadata": {},
   "source": [
    "##### 두번째 페이지부터 url수집-href"
   ]
  },
  {
   "cell_type": "code",
   "execution_count": 10,
   "metadata": {},
   "outputs": [
    {
     "name": "stdout",
     "output_type": "stream",
     "text": [
      "https://www.yna.co.kr/view/AKR20221001051900083?section=news\n",
      "https://www.yna.co.kr/view/AKR20221001042251001?section=news\n",
      "https://www.yna.co.kr/view/AKR20221001051300061?section=news\n",
      "https://www.yna.co.kr/view/AKR20221001051600061?section=news\n",
      "https://www.yna.co.kr/view/AKR20221001051200082?section=news\n",
      "https://www.yna.co.kr/view/AKR20221001050700530?section=news\n",
      "https://www.yna.co.kr/view/AKR20221001050200109?section=news\n",
      "https://www.yna.co.kr/view/AKR20221001040252007?section=news\n",
      "https://www.yna.co.kr/view/AKR20221001050300007?section=news\n",
      "https://www.yna.co.kr/view/AKR20220919080561007?section=news\n",
      "https://www.yna.co.kr/view/AKR20220915170164007?section=news\n",
      "https://www.yna.co.kr/view/AKR20221001050100002?section=news\n",
      "https://www.yna.co.kr/view/AKR20221001048500009?section=news\n",
      "https://www.yna.co.kr/view/AKR20221001050000007?section=news\n",
      "https://www.yna.co.kr/view/AKR20221001049900007?section=news\n",
      "https://www.yna.co.kr/view/AKR20221001049700002?section=news\n",
      "https://www.yna.co.kr/view/AKR20221001049800007?section=news\n",
      "https://www.yna.co.kr/view/AKR20221001049500007?section=news\n",
      "https://www.yna.co.kr/view/AKR20221001049400007?section=news\n",
      "https://www.yna.co.kr/view/AKR20221001038652007?section=news\n",
      "https://www.yna.co.kr/view/AKR20221001049300007?section=news\n",
      "https://www.yna.co.kr/view/AKR20221001049200007?section=news\n",
      "https://www.yna.co.kr/view/AKR20221001049000053?section=news\n",
      "https://www.yna.co.kr/view/AKR20221001047100003?section=news\n",
      "https://www.yna.co.kr/view/AKR20221001048700009?section=news\n",
      "https://www.yna.co.kr/view/AKR20221001044800004?section=news\n",
      "https://www.yna.co.kr/view/AKR20221001047500004?section=news\n",
      "https://www.yna.co.kr/view/AKR20221001048400062?section=news\n",
      "https://www.yna.co.kr/view/AKR20221001048600007?section=news\n",
      "https://www.yna.co.kr/view/AKR20221001042851051?section=news\n",
      "https://www.yna.co.kr/view/AKR20221001047800104?section=news\n",
      "https://www.yna.co.kr/view/AKR20221001048100007?section=news\n",
      "https://www.yna.co.kr/view/AKR20221001047700504?section=news\n",
      "https://www.yna.co.kr/view/AKR20221001047600007?section=news\n",
      "https://www.yna.co.kr/view/AKR20221001047300007?section=news\n",
      "https://www.yna.co.kr/view/AKR20221001047200053?section=news\n",
      "https://www.yna.co.kr/view/AKR20221001046700009?section=news\n",
      "https://www.yna.co.kr/view/AKR20221001047000504?section=news\n",
      "https://www.yna.co.kr/view/AKR20221001045400009?section=news\n",
      "https://www.yna.co.kr/view/AKR20221001046600109?section=news\n",
      "https://www.yna.co.kr/view/AKR20221001046400007?section=news\n",
      "https://www.yna.co.kr/view/AKR20221001046000053?section=news\n",
      "https://www.yna.co.kr/view/AKR20221001046100007?section=news\n",
      "https://www.yna.co.kr/view/AKR20221001040251007?section=news\n",
      "https://www.yna.co.kr/view/AKR20221001045800527?section=news\n",
      "https://www.yna.co.kr/view/AKR20221001045500083?section=news\n",
      "https://www.yna.co.kr/view/AKR20221001045700007?section=news\n",
      "https://www.yna.co.kr/view/AKR20221001045600057?section=news\n",
      "https://www.yna.co.kr/view/AKR20221001045200076?section=news\n",
      "https://www.yna.co.kr/view/AKR20221001044200504?section=news\n"
     ]
    }
   ],
   "source": [
    "#2페이지부터 URL 수집-href\n",
    "for i in range(2, 4):\n",
    "    page =driver.find_element_by_css_selector(f'#container > div > div > div.section01 > section > div.paging.paging-type01 > a:nth-child({i})')\n",
    "    page.click()\n",
    "    \n",
    "    #url_list=[]\n",
    "    \n",
    "    #객체화\n",
    "    soup = bs(driver.page_source, 'html.parser')\n",
    "    url = soup.select('div.list-type038>ul.list>li>div.item-box01>div.news-con>a')\n",
    "    \n",
    "    for i in url:\n",
    "        print('https:' + i['href'])\n",
    "        url_list.append('https:'+i['href']) "
   ]
  },
  {
   "cell_type": "code",
   "execution_count": 11,
   "metadata": {},
   "outputs": [],
   "source": [
    "title_list=[]\n",
    "contents_list=[]\n",
    "                \n",
    "for i in url_list:\n",
    "    driver.get(i)\n",
    "    time.sleep(1)\n",
    "    soup = bs(driver.page_source, 'html.parser')\n",
    "                     \n",
    "    title=driver.find_elements_by_css_selector('#articleWrap > div.content03 > header > h1')\n",
    "    for j in title:\n",
    "        title_list.append(j.text)\n",
    "\n",
    "    contents = driver.find_elements_by_css_selector('#articleWrap > div.content01.scroll-article-zone01 > div > div > article')\n",
    "    for j in contents:\n",
    "        contents_list.append(j.text)\n",
    "        \n",
    "    #driver.back()\n",
    "    time.sleep(1)"
   ]
  },
  {
   "cell_type": "code",
   "execution_count": 12,
   "metadata": {},
   "outputs": [
    {
     "data": {
      "text/plain": [
       "(75, 75, 75)"
      ]
     },
     "execution_count": 12,
     "metadata": {},
     "output_type": "execute_result"
    }
   ],
   "source": [
    "len(url_list), len(title_list), len(contents_list)"
   ]
  },
  {
   "cell_type": "code",
   "execution_count": 13,
   "metadata": {},
   "outputs": [],
   "source": [
    "import re\n",
    "result_list =[]\n",
    "for i in contents_list:\n",
    "    result = i.replace(\"\\n\", \"\")\n",
    "    result = result.replace(\"\\'\", \"\")\n",
    "    result = result.replace(\"기자 페이지\", '')\n",
    "    \n",
    "    #정규표현식\n",
    "    result = re.compile(\"[a-zA-Z]+[0-9]+@yna+.+[a-zA-Z]+.+[a-zA-Z]+제보는\\s카.+\").sub(\"\", result)\n",
    "    result = re.compile(\"[a-zA-Z]+@yna+.+[a-zA-Z]+.+[a-zA-Z]+제보는\\s카.+\").sub(\"\", result)\n",
    "    result = re.compile(\"[a-zA-Z]+@yna+.+[a-zA-Z]+.+[a-zA-Z]\").sub(\"\", result)\n",
    "    result = re.compile(\"제보는\\s카.+\").sub(\"\", result)\n",
    "    result = re.compile(\"연합뉴스+,+\\s무단.+\").sub(\"\", result)\n",
    "    result = re.compile(\"연합뉴스가+\\s+제공하는+\\s+기사.+\").sub(\"\", result)\n",
    "    result = re.compile(\"[가-힣]+\\s+기자\").sub(\"\", result)\n",
    "    result_list.append(result)"
   ]
  },
  {
   "cell_type": "code",
   "execution_count": 14,
   "metadata": {},
   "outputs": [
    {
     "data": {
      "text/plain": [
       "list"
      ]
     },
     "execution_count": 14,
     "metadata": {},
     "output_type": "execute_result"
    }
   ],
   "source": [
    "type(result_list)"
   ]
  },
  {
   "cell_type": "code",
   "execution_count": null,
   "metadata": {},
   "outputs": [],
   "source": []
  }
 ],
 "metadata": {
  "kernelspec": {
   "display_name": "Python 3.9.12 ('base')",
   "language": "python",
   "name": "python3"
  },
  "language_info": {
   "codemirror_mode": {
    "name": "ipython",
    "version": 3
   },
   "file_extension": ".py",
   "mimetype": "text/x-python",
   "name": "python",
   "nbconvert_exporter": "python",
   "pygments_lexer": "ipython3",
   "version": "3.9.12"
  },
  "orig_nbformat": 4,
  "vscode": {
   "interpreter": {
    "hash": "a077222d77dfe082b8f1dd562ad70e458ac2ab76993a0b248ab0476e32e9e8dd"
   }
  }
 },
 "nbformat": 4,
 "nbformat_minor": 2
}
