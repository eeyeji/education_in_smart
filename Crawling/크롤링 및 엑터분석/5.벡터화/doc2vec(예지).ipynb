{
 "cells": [
  {
   "cell_type": "markdown",
   "metadata": {},
   "source": [
    "##### doc2vec"
   ]
  },
  {
   "cell_type": "code",
   "execution_count": 1,
   "metadata": {},
   "outputs": [],
   "source": [
    "import matplotlib.pyplot as plt\n",
    "plt.rcParams[\"font.family\"] = \"Malgun Gothic\"\n",
    "plt.rcParams[\"axes.unicode_minus\"] = False\n",
    "\n",
    "import numpy as np\n",
    "import pandas as pd\n",
    "import re\n",
    "from konlpy.tag import Okt\n",
    "from tqdm import tqdm"
   ]
  },
  {
   "cell_type": "code",
   "execution_count": 2,
   "metadata": {},
   "outputs": [
    {
     "data": {
      "text/html": [
       "<div>\n",
       "<style scoped>\n",
       "    .dataframe tbody tr th:only-of-type {\n",
       "        vertical-align: middle;\n",
       "    }\n",
       "\n",
       "    .dataframe tbody tr th {\n",
       "        vertical-align: top;\n",
       "    }\n",
       "\n",
       "    .dataframe thead th {\n",
       "        text-align: right;\n",
       "    }\n",
       "</style>\n",
       "<table border=\"1\" class=\"dataframe\">\n",
       "  <thead>\n",
       "    <tr style=\"text-align: right;\">\n",
       "      <th></th>\n",
       "      <th>Unnamed: 0</th>\n",
       "      <th>index</th>\n",
       "      <th>time</th>\n",
       "      <th>doc</th>\n",
       "      <th>url</th>\n",
       "      <th>token</th>\n",
       "      <th>text_noun</th>\n",
       "    </tr>\n",
       "  </thead>\n",
       "  <tbody>\n",
       "    <tr>\n",
       "      <th>0</th>\n",
       "      <td>0</td>\n",
       "      <td>0</td>\n",
       "      <td>2022. 5. 9. 13:10</td>\n",
       "      <td>지수 드라마 설강화 배우 김혜윤 인스타그램에    지수     배우 김혜윤님 인스...</td>\n",
       "      <td>https://blog.naver.com/syr03051/222723113775</td>\n",
       "      <td>['드라마', '설강화', '배우', '김혜윤', '배우', '김혜윤']</td>\n",
       "      <td>['드라마', '설강화', '배우', '김혜윤', '배우', '김혜윤']</td>\n",
       "    </tr>\n",
       "    <tr>\n",
       "      <th>1</th>\n",
       "      <td>1</td>\n",
       "      <td>1</td>\n",
       "      <td>2022. 9. 29. 8:10</td>\n",
       "      <td>블핑 인스타 트위터    리사 인스타그램     리사 인스타그램 지수 댓글    ...</td>\n",
       "      <td>https://blog.naver.com/syr03051/222885506031</td>\n",
       "      <td>['인스타', '트위터', '댓글', '프루덴셜', '센터']</td>\n",
       "      <td>['인스타', '트위터', '댓글', '프루덴셜', '센터']</td>\n",
       "    </tr>\n",
       "    <tr>\n",
       "      <th>2</th>\n",
       "      <td>2</td>\n",
       "      <td>2</td>\n",
       "      <td>2022. 9. 2. 14:52</td>\n",
       "      <td>지수 인스타그램 사진들 모음        지수 인스타그램 사진들 모음    ...</td>\n",
       "      <td>https://blog.naver.com/fenergy12/222864930875</td>\n",
       "      <td>['사진', '모음', '사진', '모음', '사진', '모음', '사진', '모음']</td>\n",
       "      <td>['사진', '모음', '사진', '모음', '사진', '모음', '사진', '모음']</td>\n",
       "    </tr>\n",
       "    <tr>\n",
       "      <th>3</th>\n",
       "      <td>3</td>\n",
       "      <td>3</td>\n",
       "      <td>2022. 5. 7. 1:03</td>\n",
       "      <td>게시판    로제 인스타그램을 박채영        로제</td>\n",
       "      <td>https://blog.naver.com/199651/222723356800</td>\n",
       "      <td>['게시판']</td>\n",
       "      <td>['게시판']</td>\n",
       "    </tr>\n",
       "    <tr>\n",
       "      <th>4</th>\n",
       "      <td>4</td>\n",
       "      <td>4</td>\n",
       "      <td>2022. 1. 15. 16:42</td>\n",
       "      <td>로제 인스타그램    로제 인스타그램 스토리 포에버       팔로워 만명 팔로잉...</td>\n",
       "      <td>https://blog.naver.com/alwayshappiness211/2226...</td>\n",
       "      <td>['스토리', '포에버', '팔로워', '팔로잉', '게시', '물']</td>\n",
       "      <td>['스토리', '포에버', '팔로워', '팔로잉', '게시', '물']</td>\n",
       "    </tr>\n",
       "  </tbody>\n",
       "</table>\n",
       "</div>"
      ],
      "text/plain": [
       "   Unnamed: 0  index                time  \\\n",
       "0           0      0   2022. 5. 9. 13:10   \n",
       "1           1      1   2022. 9. 29. 8:10   \n",
       "2           2      2   2022. 9. 2. 14:52   \n",
       "3           3      3    2022. 5. 7. 1:03   \n",
       "4           4      4  2022. 1. 15. 16:42   \n",
       "\n",
       "                                                 doc  \\\n",
       "0   지수 드라마 설강화 배우 김혜윤 인스타그램에    지수     배우 김혜윤님 인스...   \n",
       "1   블핑 인스타 트위터    리사 인스타그램     리사 인스타그램 지수 댓글    ...   \n",
       "2      지수 인스타그램 사진들 모음        지수 인스타그램 사진들 모음    ...   \n",
       "3                    게시판    로제 인스타그램을 박채영        로제    \n",
       "4   로제 인스타그램    로제 인스타그램 스토리 포에버       팔로워 만명 팔로잉...   \n",
       "\n",
       "                                                 url  \\\n",
       "0       https://blog.naver.com/syr03051/222723113775   \n",
       "1       https://blog.naver.com/syr03051/222885506031   \n",
       "2      https://blog.naver.com/fenergy12/222864930875   \n",
       "3         https://blog.naver.com/199651/222723356800   \n",
       "4  https://blog.naver.com/alwayshappiness211/2226...   \n",
       "\n",
       "                                              token  \\\n",
       "0          ['드라마', '설강화', '배우', '김혜윤', '배우', '김혜윤']   \n",
       "1                ['인스타', '트위터', '댓글', '프루덴셜', '센터']   \n",
       "2  ['사진', '모음', '사진', '모음', '사진', '모음', '사진', '모음']   \n",
       "3                                           ['게시판']   \n",
       "4           ['스토리', '포에버', '팔로워', '팔로잉', '게시', '물']   \n",
       "\n",
       "                                          text_noun  \n",
       "0          ['드라마', '설강화', '배우', '김혜윤', '배우', '김혜윤']  \n",
       "1                ['인스타', '트위터', '댓글', '프루덴셜', '센터']  \n",
       "2  ['사진', '모음', '사진', '모음', '사진', '모음', '사진', '모음']  \n",
       "3                                           ['게시판']  \n",
       "4           ['스토리', '포에버', '팔로워', '팔로잉', '게시', '물']  "
      ]
     },
     "execution_count": 2,
     "metadata": {},
     "output_type": "execute_result"
    }
   ],
   "source": [
    "data = pd.read_csv(\"data_토큰화.csv\", encoding='utf-8-sig')\n",
    "data.head()"
   ]
  },
  {
   "cell_type": "code",
   "execution_count": 3,
   "metadata": {},
   "outputs": [
    {
     "name": "stdout",
     "output_type": "stream",
     "text": [
      "<class 'pandas.core.frame.DataFrame'>\n",
      "RangeIndex: 7089 entries, 0 to 7088\n",
      "Data columns (total 6 columns):\n",
      " #   Column     Non-Null Count  Dtype \n",
      "---  ------     --------------  ----- \n",
      " 0   index      7089 non-null   int64 \n",
      " 1   time       7089 non-null   object\n",
      " 2   doc        7089 non-null   object\n",
      " 3   url        7089 non-null   object\n",
      " 4   token      7089 non-null   object\n",
      " 5   text_noun  7089 non-null   object\n",
      "dtypes: int64(1), object(5)\n",
      "memory usage: 332.4+ KB\n"
     ]
    }
   ],
   "source": [
    "#필요없는 컬럼 삭제\n",
    "del data['Unnamed: 0']\n",
    "data.info()"
   ]
  },
  {
   "cell_type": "code",
   "execution_count": 4,
   "metadata": {},
   "outputs": [],
   "source": [
    "from gensim.models.doc2vec import Doc2Vec, TaggedDocument\n",
    "from sklearn.cluster import KMeans\n",
    "from gensim.test.utils import common_texts"
   ]
  },
  {
   "cell_type": "code",
   "execution_count": 5,
   "metadata": {},
   "outputs": [],
   "source": [
    "import ast\n",
    "token = []\n",
    "token_noun = []\n",
    "for i in range(len(data['token'])):\n",
    "    token.append(ast.literal_eval(data['token'][i]))\n",
    "    token_noun.append(ast.literal_eval(data['text_noun'][i]))"
   ]
  },
  {
   "cell_type": "code",
   "execution_count": 6,
   "metadata": {},
   "outputs": [],
   "source": [
    "data['token'] = token\n",
    "data['text_noun'] = token_noun"
   ]
  },
  {
   "cell_type": "code",
   "execution_count": 7,
   "metadata": {},
   "outputs": [],
   "source": [
    "documents = [TaggedDocument(word, [i]) for i, word in enumerate(data['token'])]"
   ]
  },
  {
   "cell_type": "code",
   "execution_count": 8,
   "metadata": {},
   "outputs": [
    {
     "name": "stdout",
     "output_type": "stream",
     "text": [
      "iteration 0\n",
      "iteration 1\n",
      "iteration 2\n",
      "iteration 3\n",
      "iteration 4\n",
      "iteration 5\n",
      "iteration 6\n",
      "iteration 7\n",
      "iteration 8\n",
      "iteration 9\n"
     ]
    }
   ],
   "source": [
    "max_epochs = 10\n",
    "vec_size = 20\n",
    "alpha = 0.025\n",
    "\n",
    "model = Doc2Vec(vector_size=20,\n",
    "                alpha=alpha, \n",
    "                min_alpha=0.00025,\n",
    "                min_count=3,\n",
    "                dm =1)\n",
    "  \n",
    "model.build_vocab(documents)\n",
    "\n",
    "for epoch in range(max_epochs):\n",
    "    print('iteration {0}'.format(epoch))\n",
    "    model.train(documents,\n",
    "                total_examples=model.corpus_count,\n",
    "                epochs=10)\n",
    "    # decrease the learning rate\n",
    "    model.alpha -= 0.002\n",
    "    # fix the learning rate, no decay\n",
    "    model.min_alpha = model.alpha"
   ]
  },
  {
   "cell_type": "code",
   "execution_count": 9,
   "metadata": {},
   "outputs": [
    {
     "data": {
      "text/plain": [
       "['드라마', '설강화', '배우', '김혜윤', '배우', '김혜윤']"
      ]
     },
     "execution_count": 9,
     "metadata": {},
     "output_type": "execute_result"
    }
   ],
   "source": [
    "data['token'][0]"
   ]
  },
  {
   "cell_type": "code",
   "execution_count": 10,
   "metadata": {},
   "outputs": [],
   "source": [
    "vector = model.infer_vector(data['token'][0])"
   ]
  },
  {
   "cell_type": "code",
   "execution_count": 11,
   "metadata": {},
   "outputs": [
    {
     "data": {
      "text/plain": [
       "7089"
      ]
     },
     "execution_count": 11,
     "metadata": {},
     "output_type": "execute_result"
    }
   ],
   "source": [
    "len(data['token'])"
   ]
  },
  {
   "cell_type": "code",
   "execution_count": 19,
   "metadata": {},
   "outputs": [
    {
     "name": "stderr",
     "output_type": "stream",
     "text": [
      "100%|██████████| 7089/7089 [00:04<00:00, 1506.53it/s]\n"
     ]
    }
   ],
   "source": [
    "model.random.seed(9999)\n",
    "rv = []\n",
    "for i in tqdm(data['token']):\n",
    "    vector = model.infer_vector(i)\n",
    "    rv.append(vector)"
   ]
  },
  {
   "cell_type": "code",
   "execution_count": 20,
   "metadata": {},
   "outputs": [
    {
     "data": {
      "text/plain": [
       "7089"
      ]
     },
     "execution_count": 20,
     "metadata": {},
     "output_type": "execute_result"
    }
   ],
   "source": [
    "len(rv)"
   ]
  },
  {
   "cell_type": "code",
   "execution_count": 21,
   "metadata": {},
   "outputs": [],
   "source": [
    "data['review_vec'] = rv"
   ]
  },
  {
   "cell_type": "code",
   "execution_count": 22,
   "metadata": {},
   "outputs": [],
   "source": [
    "data.rename(columns = {'Unnamed: 0': 'doc_num'}, inplace=True)"
   ]
  },
  {
   "cell_type": "code",
   "execution_count": 16,
   "metadata": {},
   "outputs": [],
   "source": [
    "#data.drop(['Unnamed: 0.3','Unnamed: 0.2','Unnamed: 0.1'], axis=1, inplace=True)"
   ]
  },
  {
   "cell_type": "code",
   "execution_count": 23,
   "metadata": {},
   "outputs": [
    {
     "data": {
      "text/html": [
       "<div>\n",
       "<style scoped>\n",
       "    .dataframe tbody tr th:only-of-type {\n",
       "        vertical-align: middle;\n",
       "    }\n",
       "\n",
       "    .dataframe tbody tr th {\n",
       "        vertical-align: top;\n",
       "    }\n",
       "\n",
       "    .dataframe thead th {\n",
       "        text-align: right;\n",
       "    }\n",
       "</style>\n",
       "<table border=\"1\" class=\"dataframe\">\n",
       "  <thead>\n",
       "    <tr style=\"text-align: right;\">\n",
       "      <th></th>\n",
       "      <th>index</th>\n",
       "      <th>time</th>\n",
       "      <th>doc</th>\n",
       "      <th>url</th>\n",
       "      <th>token</th>\n",
       "      <th>text_noun</th>\n",
       "      <th>review_vec</th>\n",
       "    </tr>\n",
       "  </thead>\n",
       "  <tbody>\n",
       "    <tr>\n",
       "      <th>0</th>\n",
       "      <td>0</td>\n",
       "      <td>2022. 5. 9. 13:10</td>\n",
       "      <td>지수 드라마 설강화 배우 김혜윤 인스타그램에    지수     배우 김혜윤님 인스...</td>\n",
       "      <td>https://blog.naver.com/syr03051/222723113775</td>\n",
       "      <td>[드라마, 설강화, 배우, 김혜윤, 배우, 김혜윤]</td>\n",
       "      <td>[드라마, 설강화, 배우, 김혜윤, 배우, 김혜윤]</td>\n",
       "      <td>[-0.03705043, 0.0030446704, 0.10498903, 0.0117...</td>\n",
       "    </tr>\n",
       "    <tr>\n",
       "      <th>1</th>\n",
       "      <td>1</td>\n",
       "      <td>2022. 9. 29. 8:10</td>\n",
       "      <td>블핑 인스타 트위터    리사 인스타그램     리사 인스타그램 지수 댓글    ...</td>\n",
       "      <td>https://blog.naver.com/syr03051/222885506031</td>\n",
       "      <td>[인스타, 트위터, 댓글, 프루덴셜, 센터]</td>\n",
       "      <td>[인스타, 트위터, 댓글, 프루덴셜, 센터]</td>\n",
       "      <td>[-0.01738648, 0.0005801313, 0.021741647, 0.009...</td>\n",
       "    </tr>\n",
       "    <tr>\n",
       "      <th>2</th>\n",
       "      <td>2</td>\n",
       "      <td>2022. 9. 2. 14:52</td>\n",
       "      <td>지수 인스타그램 사진들 모음        지수 인스타그램 사진들 모음    ...</td>\n",
       "      <td>https://blog.naver.com/fenergy12/222864930875</td>\n",
       "      <td>[사진, 모음, 사진, 모음, 사진, 모음, 사진, 모음]</td>\n",
       "      <td>[사진, 모음, 사진, 모음, 사진, 모음, 사진, 모음]</td>\n",
       "      <td>[0.0061358213, 0.053706825, 0.059647392, 0.033...</td>\n",
       "    </tr>\n",
       "    <tr>\n",
       "      <th>3</th>\n",
       "      <td>3</td>\n",
       "      <td>2022. 5. 7. 1:03</td>\n",
       "      <td>게시판    로제 인스타그램을 박채영        로제</td>\n",
       "      <td>https://blog.naver.com/199651/222723356800</td>\n",
       "      <td>[게시판]</td>\n",
       "      <td>[게시판]</td>\n",
       "      <td>[-0.04382301, 0.020393278, 0.06901242, 0.05213...</td>\n",
       "    </tr>\n",
       "    <tr>\n",
       "      <th>4</th>\n",
       "      <td>4</td>\n",
       "      <td>2022. 1. 15. 16:42</td>\n",
       "      <td>로제 인스타그램    로제 인스타그램 스토리 포에버       팔로워 만명 팔로잉...</td>\n",
       "      <td>https://blog.naver.com/alwayshappiness211/2226...</td>\n",
       "      <td>[스토리, 포에버, 팔로워, 팔로잉, 게시, 물]</td>\n",
       "      <td>[스토리, 포에버, 팔로워, 팔로잉, 게시, 물]</td>\n",
       "      <td>[-0.042341266, 0.04884327, 0.059883893, 0.0100...</td>\n",
       "    </tr>\n",
       "    <tr>\n",
       "      <th>...</th>\n",
       "      <td>...</td>\n",
       "      <td>...</td>\n",
       "      <td>...</td>\n",
       "      <td>...</td>\n",
       "      <td>...</td>\n",
       "      <td>...</td>\n",
       "      <td>...</td>\n",
       "    </tr>\n",
       "    <tr>\n",
       "      <th>7084</th>\n",
       "      <td>7700</td>\n",
       "      <td>2022. 10. 12. 15:31</td>\n",
       "      <td>크리스탈 폴로   셔츠   포니 가방 캐주얼룩 완성 걸스픽     크리스탈 폴로 ...</td>\n",
       "      <td>https://blog.naver.com/gguu1029/222898345842</td>\n",
       "      <td>[폴로, 셔츠, 포니, 가방, 얼룩, 완성, 걸스, 픽, 폴로, 셔츠, 포니, 가방...</td>\n",
       "      <td>[폴로, 셔츠, 포니, 가방, 얼룩, 완성, 걸스, 픽, 폴로, 셔츠, 포니, 가방...</td>\n",
       "      <td>[-0.71085846, 0.079961635, 0.8093155, -0.54867...</td>\n",
       "    </tr>\n",
       "    <tr>\n",
       "      <th>7085</th>\n",
       "      <td>7701</td>\n",
       "      <td>2022. 7. 16. 9:37</td>\n",
       "      <td>스타일링 따라하고 싶은 셀럽들의 폴로 랄프로렌 셔츠 스타일링 크리스탈 기은세 꾸리...</td>\n",
       "      <td>https://blog.naver.com/kims718/222813529091</td>\n",
       "      <td>[스타, 일링, 셀럽, 폴로, 랄프, 로렌, 셔츠, 스타, 일링, 기은세, 꾸리, ...</td>\n",
       "      <td>[스타, 일링, 셀럽, 폴로, 랄프, 로렌, 셔츠, 스타, 일링, 기은세, 꾸리, ...</td>\n",
       "      <td>[-0.3739973, 0.17031088, -0.02671735, -0.53713...</td>\n",
       "    </tr>\n",
       "    <tr>\n",
       "      <th>7086</th>\n",
       "      <td>7702</td>\n",
       "      <td>2022. 9. 18. 6:40</td>\n",
       "      <td>게시판 크리스탈 정수정 근황 좋아보여요 광고실행사     배우 정수정 및 크리스탈...</td>\n",
       "      <td>https://blog.naver.com/xkyzscczg/222875005243</td>\n",
       "      <td>[게시판, 정수정, 근황, 좋다, 광고, 실, 행사, 배우, 정수정, 님근황, 해바...</td>\n",
       "      <td>[게시판, 정수정, 근황, 광고, 실, 행사, 배우, 정수정, 님근황, 해바라기, ...</td>\n",
       "      <td>[-0.4879199, 0.2553368, 0.3971704, -0.03815675...</td>\n",
       "    </tr>\n",
       "    <tr>\n",
       "      <th>7087</th>\n",
       "      <td>7704</td>\n",
       "      <td>2022. 10. 8. 11:20</td>\n",
       "      <td>스타패션 크리스탈 정수정 인스타그램 스트라이프 럭비 티셔츠 폴로 랄프로렌     ...</td>\n",
       "      <td>https://blog.naver.com/in_korean_style/2228947...</td>\n",
       "      <td>[스타, 패션, 정수정, 스트라이프, 럭비, 티셔츠, 폴로, 랄프, 로렌, 안녕하다...</td>\n",
       "      <td>[스타, 패션, 정수정, 스트라이프, 럭비, 티셔츠, 폴로, 랄프, 로렌, 스트라이...</td>\n",
       "      <td>[-0.21006502, 0.2101962, 0.21272005, 0.1941829...</td>\n",
       "    </tr>\n",
       "    <tr>\n",
       "      <th>7088</th>\n",
       "      <td>7705</td>\n",
       "      <td>2022. 10. 25. 16:19</td>\n",
       "      <td>패션정보 셀럽들이 사랑한 크리스탈헤이즈 하리보 목걸이 모음 히요정       안녕...</td>\n",
       "      <td>https://blog.naver.com/oj6676/222910145384</td>\n",
       "      <td>[패션, 정보, 셀럽, 사랑, 헤이즈, 하리보, 목걸이, 모음, 요정, 안녕하다, ...</td>\n",
       "      <td>[패션, 정보, 셀럽, 사랑, 헤이즈, 하리보, 목걸이, 모음, 요정, 요정, 기온...</td>\n",
       "      <td>[-0.7911025, 0.05248901, 0.5756356, 0.87237746...</td>\n",
       "    </tr>\n",
       "  </tbody>\n",
       "</table>\n",
       "<p>7089 rows × 7 columns</p>\n",
       "</div>"
      ],
      "text/plain": [
       "      index                 time  \\\n",
       "0         0    2022. 5. 9. 13:10   \n",
       "1         1    2022. 9. 29. 8:10   \n",
       "2         2    2022. 9. 2. 14:52   \n",
       "3         3     2022. 5. 7. 1:03   \n",
       "4         4   2022. 1. 15. 16:42   \n",
       "...     ...                  ...   \n",
       "7084   7700  2022. 10. 12. 15:31   \n",
       "7085   7701    2022. 7. 16. 9:37   \n",
       "7086   7702    2022. 9. 18. 6:40   \n",
       "7087   7704   2022. 10. 8. 11:20   \n",
       "7088   7705  2022. 10. 25. 16:19   \n",
       "\n",
       "                                                    doc  \\\n",
       "0      지수 드라마 설강화 배우 김혜윤 인스타그램에    지수     배우 김혜윤님 인스...   \n",
       "1      블핑 인스타 트위터    리사 인스타그램     리사 인스타그램 지수 댓글    ...   \n",
       "2         지수 인스타그램 사진들 모음        지수 인스타그램 사진들 모음    ...   \n",
       "3                       게시판    로제 인스타그램을 박채영        로제    \n",
       "4      로제 인스타그램    로제 인스타그램 스토리 포에버       팔로워 만명 팔로잉...   \n",
       "...                                                 ...   \n",
       "7084   크리스탈 폴로   셔츠   포니 가방 캐주얼룩 완성 걸스픽     크리스탈 폴로 ...   \n",
       "7085   스타일링 따라하고 싶은 셀럽들의 폴로 랄프로렌 셔츠 스타일링 크리스탈 기은세 꾸리...   \n",
       "7086   게시판 크리스탈 정수정 근황 좋아보여요 광고실행사     배우 정수정 및 크리스탈...   \n",
       "7087   스타패션 크리스탈 정수정 인스타그램 스트라이프 럭비 티셔츠 폴로 랄프로렌     ...   \n",
       "7088   패션정보 셀럽들이 사랑한 크리스탈헤이즈 하리보 목걸이 모음 히요정       안녕...   \n",
       "\n",
       "                                                    url  \\\n",
       "0          https://blog.naver.com/syr03051/222723113775   \n",
       "1          https://blog.naver.com/syr03051/222885506031   \n",
       "2         https://blog.naver.com/fenergy12/222864930875   \n",
       "3            https://blog.naver.com/199651/222723356800   \n",
       "4     https://blog.naver.com/alwayshappiness211/2226...   \n",
       "...                                                 ...   \n",
       "7084       https://blog.naver.com/gguu1029/222898345842   \n",
       "7085        https://blog.naver.com/kims718/222813529091   \n",
       "7086      https://blog.naver.com/xkyzscczg/222875005243   \n",
       "7087  https://blog.naver.com/in_korean_style/2228947...   \n",
       "7088         https://blog.naver.com/oj6676/222910145384   \n",
       "\n",
       "                                                  token  \\\n",
       "0                          [드라마, 설강화, 배우, 김혜윤, 배우, 김혜윤]   \n",
       "1                              [인스타, 트위터, 댓글, 프루덴셜, 센터]   \n",
       "2                      [사진, 모음, 사진, 모음, 사진, 모음, 사진, 모음]   \n",
       "3                                                 [게시판]   \n",
       "4                           [스토리, 포에버, 팔로워, 팔로잉, 게시, 물]   \n",
       "...                                                 ...   \n",
       "7084  [폴로, 셔츠, 포니, 가방, 얼룩, 완성, 걸스, 픽, 폴로, 셔츠, 포니, 가방...   \n",
       "7085  [스타, 일링, 셀럽, 폴로, 랄프, 로렌, 셔츠, 스타, 일링, 기은세, 꾸리, ...   \n",
       "7086  [게시판, 정수정, 근황, 좋다, 광고, 실, 행사, 배우, 정수정, 님근황, 해바...   \n",
       "7087  [스타, 패션, 정수정, 스트라이프, 럭비, 티셔츠, 폴로, 랄프, 로렌, 안녕하다...   \n",
       "7088  [패션, 정보, 셀럽, 사랑, 헤이즈, 하리보, 목걸이, 모음, 요정, 안녕하다, ...   \n",
       "\n",
       "                                              text_noun  \\\n",
       "0                          [드라마, 설강화, 배우, 김혜윤, 배우, 김혜윤]   \n",
       "1                              [인스타, 트위터, 댓글, 프루덴셜, 센터]   \n",
       "2                      [사진, 모음, 사진, 모음, 사진, 모음, 사진, 모음]   \n",
       "3                                                 [게시판]   \n",
       "4                           [스토리, 포에버, 팔로워, 팔로잉, 게시, 물]   \n",
       "...                                                 ...   \n",
       "7084  [폴로, 셔츠, 포니, 가방, 얼룩, 완성, 걸스, 픽, 폴로, 셔츠, 포니, 가방...   \n",
       "7085  [스타, 일링, 셀럽, 폴로, 랄프, 로렌, 셔츠, 스타, 일링, 기은세, 꾸리, ...   \n",
       "7086  [게시판, 정수정, 근황, 광고, 실, 행사, 배우, 정수정, 님근황, 해바라기, ...   \n",
       "7087  [스타, 패션, 정수정, 스트라이프, 럭비, 티셔츠, 폴로, 랄프, 로렌, 스트라이...   \n",
       "7088  [패션, 정보, 셀럽, 사랑, 헤이즈, 하리보, 목걸이, 모음, 요정, 요정, 기온...   \n",
       "\n",
       "                                             review_vec  \n",
       "0     [-0.03705043, 0.0030446704, 0.10498903, 0.0117...  \n",
       "1     [-0.01738648, 0.0005801313, 0.021741647, 0.009...  \n",
       "2     [0.0061358213, 0.053706825, 0.059647392, 0.033...  \n",
       "3     [-0.04382301, 0.020393278, 0.06901242, 0.05213...  \n",
       "4     [-0.042341266, 0.04884327, 0.059883893, 0.0100...  \n",
       "...                                                 ...  \n",
       "7084  [-0.71085846, 0.079961635, 0.8093155, -0.54867...  \n",
       "7085  [-0.3739973, 0.17031088, -0.02671735, -0.53713...  \n",
       "7086  [-0.4879199, 0.2553368, 0.3971704, -0.03815675...  \n",
       "7087  [-0.21006502, 0.2101962, 0.21272005, 0.1941829...  \n",
       "7088  [-0.7911025, 0.05248901, 0.5756356, 0.87237746...  \n",
       "\n",
       "[7089 rows x 7 columns]"
      ]
     },
     "execution_count": 23,
     "metadata": {},
     "output_type": "execute_result"
    }
   ],
   "source": [
    "data"
   ]
  },
  {
   "cell_type": "code",
   "execution_count": 24,
   "metadata": {},
   "outputs": [],
   "source": [
    "data.to_pickle('data_벡터화(토큰).pkl')\n",
    "data.to_csv(\"data_벡터화(토큰).csv\", encoding='utf-8-sig')"
   ]
  },
  {
   "cell_type": "code",
   "execution_count": null,
   "metadata": {},
   "outputs": [],
   "source": []
  }
 ],
 "metadata": {
  "kernelspec": {
   "display_name": "Python 3.9.12 ('base')",
   "language": "python",
   "name": "python3"
  },
  "language_info": {
   "codemirror_mode": {
    "name": "ipython",
    "version": 3
   },
   "file_extension": ".py",
   "mimetype": "text/x-python",
   "name": "python",
   "nbconvert_exporter": "python",
   "pygments_lexer": "ipython3",
   "version": "3.9.12"
  },
  "orig_nbformat": 4,
  "vscode": {
   "interpreter": {
    "hash": "a077222d77dfe082b8f1dd562ad70e458ac2ab76993a0b248ab0476e32e9e8dd"
   }
  }
 },
 "nbformat": 4,
 "nbformat_minor": 2
}
