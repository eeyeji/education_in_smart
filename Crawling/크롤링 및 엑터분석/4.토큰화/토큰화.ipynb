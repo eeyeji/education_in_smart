{
 "cells": [
  {
   "cell_type": "markdown",
   "metadata": {},
   "source": [
    "##### 토큰화"
   ]
  },
  {
   "cell_type": "markdown",
   "metadata": {},
   "source": [
    "##### 형태소 분석(pos-tagging)\n",
    "- 텍스트 분석을 하기 위해서 단어의 형태로 데이터를 처리해줍니다\n",
    "- 단어로 만드는 과정에서 1)분석에 불필요한 불용어 제거 2)단어를 사전형으로 처리(가고 있다->\n",
    "'가다', '있다')\n",
    "- 명사, 형용사, 동사, 부사의 품사만 분석 대상으로 선정"
   ]
  },
  {
   "cell_type": "code",
   "execution_count": 1,
   "metadata": {},
   "outputs": [],
   "source": [
    "from tqdm import tqdm\n",
    "tqdm.pandas()\n",
    "\n",
    "import pandas as pd\n",
    "import numpy as np"
   ]
  },
  {
   "cell_type": "code",
   "execution_count": 2,
   "metadata": {},
   "outputs": [],
   "source": [
    "from nltk.corpus import stopwords\n",
    "import nltk\n",
    "from nltk.stem import WordNetLemmatizer, SnowballStemmer\n",
    "from nltk.stem.porter import *\n",
    "from nltk import word_tokenize"
   ]
  },
  {
   "cell_type": "code",
   "execution_count": 3,
   "metadata": {},
   "outputs": [],
   "source": [
    "from konlpy.tag import Okt"
   ]
  },
  {
   "cell_type": "code",
   "execution_count": 5,
   "metadata": {},
   "outputs": [
    {
     "data": {
      "text/html": [
       "<div>\n",
       "<style scoped>\n",
       "    .dataframe tbody tr th:only-of-type {\n",
       "        vertical-align: middle;\n",
       "    }\n",
       "\n",
       "    .dataframe tbody tr th {\n",
       "        vertical-align: top;\n",
       "    }\n",
       "\n",
       "    .dataframe thead th {\n",
       "        text-align: right;\n",
       "    }\n",
       "</style>\n",
       "<table border=\"1\" class=\"dataframe\">\n",
       "  <thead>\n",
       "    <tr style=\"text-align: right;\">\n",
       "      <th></th>\n",
       "      <th>Unnamed: 0</th>\n",
       "      <th>index</th>\n",
       "      <th>time</th>\n",
       "      <th>doc</th>\n",
       "      <th>url</th>\n",
       "    </tr>\n",
       "  </thead>\n",
       "  <tbody>\n",
       "    <tr>\n",
       "      <th>0</th>\n",
       "      <td>0</td>\n",
       "      <td>0</td>\n",
       "      <td>2022. 5. 9. 13:10</td>\n",
       "      <td>지수 드라마 설강화 배우 김혜윤 인스타그램에    지수     배우 김혜윤님 인스...</td>\n",
       "      <td>https://blog.naver.com/syr03051/222723113775</td>\n",
       "    </tr>\n",
       "    <tr>\n",
       "      <th>1</th>\n",
       "      <td>1</td>\n",
       "      <td>1</td>\n",
       "      <td>2022. 9. 29. 8:10</td>\n",
       "      <td>블핑 인스타 트위터    리사 인스타그램     리사 인스타그램 지수 댓글    ...</td>\n",
       "      <td>https://blog.naver.com/syr03051/222885506031</td>\n",
       "    </tr>\n",
       "    <tr>\n",
       "      <th>2</th>\n",
       "      <td>2</td>\n",
       "      <td>2</td>\n",
       "      <td>2022. 9. 2. 14:52</td>\n",
       "      <td>지수 인스타그램 사진들 모음        지수 인스타그램 사진들 모음    ...</td>\n",
       "      <td>https://blog.naver.com/fenergy12/222864930875</td>\n",
       "    </tr>\n",
       "    <tr>\n",
       "      <th>3</th>\n",
       "      <td>3</td>\n",
       "      <td>3</td>\n",
       "      <td>2022. 5. 7. 1:03</td>\n",
       "      <td>게시판    로제 인스타그램을 박채영        로제</td>\n",
       "      <td>https://blog.naver.com/199651/222723356800</td>\n",
       "    </tr>\n",
       "    <tr>\n",
       "      <th>4</th>\n",
       "      <td>4</td>\n",
       "      <td>4</td>\n",
       "      <td>2022. 1. 15. 16:42</td>\n",
       "      <td>로제 인스타그램    로제 인스타그램 스토리 포에버       팔로워 만명 팔로잉...</td>\n",
       "      <td>https://blog.naver.com/alwayshappiness211/2226...</td>\n",
       "    </tr>\n",
       "  </tbody>\n",
       "</table>\n",
       "</div>"
      ],
      "text/plain": [
       "   Unnamed: 0  index                time  \\\n",
       "0           0      0   2022. 5. 9. 13:10   \n",
       "1           1      1   2022. 9. 29. 8:10   \n",
       "2           2      2   2022. 9. 2. 14:52   \n",
       "3           3      3    2022. 5. 7. 1:03   \n",
       "4           4      4  2022. 1. 15. 16:42   \n",
       "\n",
       "                                                 doc  \\\n",
       "0   지수 드라마 설강화 배우 김혜윤 인스타그램에    지수     배우 김혜윤님 인스...   \n",
       "1   블핑 인스타 트위터    리사 인스타그램     리사 인스타그램 지수 댓글    ...   \n",
       "2      지수 인스타그램 사진들 모음        지수 인스타그램 사진들 모음    ...   \n",
       "3                    게시판    로제 인스타그램을 박채영        로제    \n",
       "4   로제 인스타그램    로제 인스타그램 스토리 포에버       팔로워 만명 팔로잉...   \n",
       "\n",
       "                                                 url  \n",
       "0       https://blog.naver.com/syr03051/222723113775  \n",
       "1       https://blog.naver.com/syr03051/222885506031  \n",
       "2      https://blog.naver.com/fenergy12/222864930875  \n",
       "3         https://blog.naver.com/199651/222723356800  \n",
       "4  https://blog.naver.com/alwayshappiness211/2226...  "
      ]
     },
     "execution_count": 5,
     "metadata": {},
     "output_type": "execute_result"
    }
   ],
   "source": [
    "data = pd.read_csv(\"아이돌인스타그램_2022(전처리 및 광고제거).csv\", encoding='utf-8-sig')\n",
    "data.head()"
   ]
  },
  {
   "cell_type": "code",
   "execution_count": 6,
   "metadata": {},
   "outputs": [
    {
     "name": "stdout",
     "output_type": "stream",
     "text": [
      "<class 'pandas.core.frame.DataFrame'>\n",
      "RangeIndex: 7089 entries, 0 to 7088\n",
      "Data columns (total 4 columns):\n",
      " #   Column  Non-Null Count  Dtype \n",
      "---  ------  --------------  ----- \n",
      " 0   index   7089 non-null   int64 \n",
      " 1   time    7089 non-null   object\n",
      " 2   doc     7089 non-null   object\n",
      " 3   url     7089 non-null   object\n",
      "dtypes: int64(1), object(3)\n",
      "memory usage: 221.7+ KB\n"
     ]
    }
   ],
   "source": [
    "#필요없는 컬럼 삭제\n",
    "del data['Unnamed: 0']\n",
    "data.info()"
   ]
  },
  {
   "cell_type": "code",
   "execution_count": 7,
   "metadata": {},
   "outputs": [
    {
     "data": {
      "text/html": [
       "<div>\n",
       "<style scoped>\n",
       "    .dataframe tbody tr th:only-of-type {\n",
       "        vertical-align: middle;\n",
       "    }\n",
       "\n",
       "    .dataframe tbody tr th {\n",
       "        vertical-align: top;\n",
       "    }\n",
       "\n",
       "    .dataframe thead th {\n",
       "        text-align: right;\n",
       "    }\n",
       "</style>\n",
       "<table border=\"1\" class=\"dataframe\">\n",
       "  <thead>\n",
       "    <tr style=\"text-align: right;\">\n",
       "      <th></th>\n",
       "      <th>index</th>\n",
       "      <th>time</th>\n",
       "      <th>doc</th>\n",
       "      <th>url</th>\n",
       "    </tr>\n",
       "  </thead>\n",
       "  <tbody>\n",
       "    <tr>\n",
       "      <th>0</th>\n",
       "      <td>0</td>\n",
       "      <td>2022. 5. 9. 13:10</td>\n",
       "      <td>지수 드라마 설강화 배우 김혜윤 인스타그램에    지수     배우 김혜윤님 인스...</td>\n",
       "      <td>https://blog.naver.com/syr03051/222723113775</td>\n",
       "    </tr>\n",
       "    <tr>\n",
       "      <th>1</th>\n",
       "      <td>1</td>\n",
       "      <td>2022. 9. 29. 8:10</td>\n",
       "      <td>블핑 인스타 트위터    리사 인스타그램     리사 인스타그램 지수 댓글    ...</td>\n",
       "      <td>https://blog.naver.com/syr03051/222885506031</td>\n",
       "    </tr>\n",
       "    <tr>\n",
       "      <th>2</th>\n",
       "      <td>2</td>\n",
       "      <td>2022. 9. 2. 14:52</td>\n",
       "      <td>지수 인스타그램 사진들 모음        지수 인스타그램 사진들 모음    ...</td>\n",
       "      <td>https://blog.naver.com/fenergy12/222864930875</td>\n",
       "    </tr>\n",
       "    <tr>\n",
       "      <th>3</th>\n",
       "      <td>3</td>\n",
       "      <td>2022. 5. 7. 1:03</td>\n",
       "      <td>게시판    로제 인스타그램을 박채영        로제</td>\n",
       "      <td>https://blog.naver.com/199651/222723356800</td>\n",
       "    </tr>\n",
       "    <tr>\n",
       "      <th>4</th>\n",
       "      <td>4</td>\n",
       "      <td>2022. 1. 15. 16:42</td>\n",
       "      <td>로제 인스타그램    로제 인스타그램 스토리 포에버       팔로워 만명 팔로잉...</td>\n",
       "      <td>https://blog.naver.com/alwayshappiness211/2226...</td>\n",
       "    </tr>\n",
       "  </tbody>\n",
       "</table>\n",
       "</div>"
      ],
      "text/plain": [
       "   index                time  \\\n",
       "0      0   2022. 5. 9. 13:10   \n",
       "1      1   2022. 9. 29. 8:10   \n",
       "2      2   2022. 9. 2. 14:52   \n",
       "3      3    2022. 5. 7. 1:03   \n",
       "4      4  2022. 1. 15. 16:42   \n",
       "\n",
       "                                                 doc  \\\n",
       "0   지수 드라마 설강화 배우 김혜윤 인스타그램에    지수     배우 김혜윤님 인스...   \n",
       "1   블핑 인스타 트위터    리사 인스타그램     리사 인스타그램 지수 댓글    ...   \n",
       "2      지수 인스타그램 사진들 모음        지수 인스타그램 사진들 모음    ...   \n",
       "3                    게시판    로제 인스타그램을 박채영        로제    \n",
       "4   로제 인스타그램    로제 인스타그램 스토리 포에버       팔로워 만명 팔로잉...   \n",
       "\n",
       "                                                 url  \n",
       "0       https://blog.naver.com/syr03051/222723113775  \n",
       "1       https://blog.naver.com/syr03051/222885506031  \n",
       "2      https://blog.naver.com/fenergy12/222864930875  \n",
       "3         https://blog.naver.com/199651/222723356800  \n",
       "4  https://blog.naver.com/alwayshappiness211/2226...  "
      ]
     },
     "execution_count": 7,
     "metadata": {},
     "output_type": "execute_result"
    }
   ],
   "source": [
    "data.head()"
   ]
  },
  {
   "cell_type": "code",
   "execution_count": 8,
   "metadata": {},
   "outputs": [],
   "source": [
    "#원하는 태그 추출&불용어 제거\n",
    "okt = Okt()\n",
    "\n",
    "#불용어\n",
    "#한국어불용어사전 불러오기\n",
    "stopwords = pd.read_csv('ko-stopwords.csv')\n",
    "\n",
    "stopwords=list(stopwords['stopwords'])\n",
    "stopwords.extend(['되다', '보다', '되어다', '하다', '가다' , '받다', '드리다', '자다', '너무', '이다', '없다', '만', '이렇게', '이미지'\n",
    "                  , '말', '파', '눈', '분', '네', '위', '시', '감', '전', '후', '에스', '개', '데', '코드', '명', '여', '싶다'\n",
    "                  , '안', '전', '일리', '에이', '후', '백', '날', '만', '듯', '드', '님', '미국', '통해', '몰', '점'\n",
    "                  , '지난', '필라테스', '여러', '포스팅' \n",
    "                  ,'인스타그램', '리사', '지수', '블핑', '제니', '로제', '박채영', '선미', '나연', '카리나'\n",
    "                  , '조이', '윤아', '태연', '전소미', '산다라박', '크리스탈', '손나은', '수지', '안유진', '장원영'\n",
    "                  ]) #불용어 추가\n",
    "stopwords=set(stopwords)\n",
    "\n",
    "#형태소 분석 함수 만들기\n",
    "def okt_pos_tagging(string):\n",
    "    pos_words = okt.pos(str(string), stem=True, norm=True)#형태소 분석, 단어는 사전형으로 바꿔주기- 'Verb', 'Adverb'\n",
    "    words = [word for word, tag in pos_words if tag in ['Noun', 'Adjective'] if word not in stopwords]\n",
    "    return words"
   ]
  },
  {
   "cell_type": "code",
   "execution_count": 9,
   "metadata": {},
   "outputs": [
    {
     "name": "stdout",
     "output_type": "stream",
     "text": [
      "{'그렇지 않다면', '것', '결과에 이르다', '그렇지만', '지난', '솨', '위해서', '불구하고', '까지도', '없다', '팔', '아니었다면', '막론하고', '하는것만 못하다', '이외에도', '하고있었다', '봐라', '여부', '이라면', '손나은', '결국', '지든지', '즉', '양자', '얼마큼', '백', '잠깐', '이와 같은', '고로', '다른 방면으로', '제외하고', '마음대로', '시각', '한다면', '그에 따르는', '왜', '보다더', '어느때', '나머지는', '바꾸어말하자면', '총적으로 말하면', '아니라면', '그러므로', '앗', '무렵', '명', '하자마자', '지만', '에서', '토하다', '우리들', '답다', '아이', '시키다', '에 있다', '펄렁', '어느해', '바꿔 말하면', '전소미', '논하지 않다', '꽈당', '댕그', '어찌됏어', '여러', '로', '좋아', '하는 김에', '에스', '헐떡헐떡', '곧', '삐걱거리다', '가', '전후', '기준으로', '다음', '뒤이어', '하는바', '제니', '아무도', '까지', '를', '버금', '비슷하다', '그치지 않다', '어떤', '할 생각이다', '어기여차', '기타', '않기 위하여', '점', '아홉', '하지 않는다면', '하물며', '설마', '그런 까닭에', '바로', '대하면', '포스팅', '이유만으로', '정도에 이르다', '다음으로', '어느곳', '조차도', '뒤따라', '로 인하여', '월', '어찌하든지', '들', '한마디', '각종', '그만이다', '일반적으로', '아이구', '공동으로', '가다', '요만한 것', '관계가 있다', '하기는한데', '반대로 말하자면', '만약에', '마저', '아무거나', '저것만큼', '하는것도', '듯', '얼마든지', '요만한걸', '각자', '말할것도 없고', '할뿐', '하기 위하여', '전부', '왜냐하면', '하지 않도록', '할수있어', '그렇지', '안유진', '다음에', '해도된다', '개', '등등', '생각한대로', '인젠', '할지라도', '약간', '실로', '갖고말하자면', '되다', '야', '인스타그램', '해도좋다', '오르다', '소인', '남짓', '그렇지않으면', '쳇', '쾅쾅', '참나', '근거로', '반드시', '따위', '오히려', '응', '외에도', '미국', '다시말하면', '고려하면', '대하여', '동안', '메쓰겁다', '지말고', '제', '위에서 서술한바와같이', '보다', '다수', '말하자면', '대해 말하자면', '바꾸어서 말하면', '하는 편이 낫다', '따라', '안', '다른', '일곱', '필라테스', '점에서 보아', '함께', '이천팔', '뿐만아니라', '모두', '자', '아니나다를가', '중의하나', '하면 할수록', '차라리', '시작하여', '하기 때문에', '한다면 몰라도', '통하여', '그렇지 않으면', '이봐', '그러나', '우에 종합한것과같이', '이지만', '삼', '이러한', '이렇게 많은 것', '관한', '뿐이다', '바꾸어말하면', '위하여', '어', '얼마나', '이러이러하다', '잇따라', '저쪽', '가령', '매번', '어쨋든', '팍', '할줄알다', '너무', '이미지', '드', '에 달려 있다', '아이야', '할 따름이다', '그런즉', '쉿', '예를 들면', '하느니', '예를 들자면', '이렇게', '습니다', '게우다', '분', '헉', '두번째로', '알 수 있다', '근거하여', '받다', '년', '그렇게 함으로써', '사', '자기집', '앞의것', '어떠한', '저것', '로부터', '불문하고', '이리하여', '이럴정도로', '설사', '하지마', '이번', '이천구', '거바', '줄은모른다', '연관되다', '마치', '뿐만 아니라', '의해', '다시 말하자면', '요만큼', '어느 년도', '그때', '어디', '않기 위해서', '오로지', '한항목', '기대여', '거의', '심지어', '따라서', '즈음하여', '허걱', '어찌하여', '더욱더', '비길수 없다', '아야', '하기만 하면', '라 해도', '하겠는가', '나', '또', '더군다나', '흥', '어떻게', '둥둥', '아니', '밖에 안된다', '혼자', '결론을 낼 수 있다', '운운', '허', '할 줄 안다', '혹은', '그래서', '윙윙', '일것이다', '그러한즉', '어이', '이용하여', '몰', '하', '설령', '단지', '좀', '하는것이 낫다', '끙끙', '감', '그위에', '어쩔수 없다', '의', '해서는 안된다', '와', '에 가서', '하지만', '되어다', '참', '셋', '눈', '형식으로 쓰여', '때문에', '만일', '하도다', '로제', '까닭으로', '하게될것이다', '훨씬', '선미', '다만', '어떤것들', '하지마라', '할때', '각', '흐흐', '과연', '붕붕', '때', '한켠으로는', '끼익', '여러분', '예하면', '힘입어', '아이고', '향해서', '그러니', '데', '또한', '알았어', '어찌됏든', '우르르', '총적으로 보면', '휴', '그저', '도착하다', '비추어 보아', '어떻해', '이 외에', '쪽으로', '당신', '무엇', '어느쪽', '하도록시키다', '보드득', '물론', '과', '얼마', '이만큼', '자신', '놀라다', '블핑', '크리스탈', '요컨대', '자다', '이와 같다', '여보시오', '일', '카리나', '하마터면', '구', '첫번째로', '이래', '한데', '오', '안 그러면', '부류의 사람들', '매', '아울러', '든간에', '후', '전', '아래윗', '태연', '그래도', '몇', '것과 같이', '그런데', '대로 하다', '부터', '영', '만약', '툭', '그러면', '이것', '이천육', '관해서는', '에게', '그들', '즉시', '하려고하다', '입각하여', '이렇게되면', '연이서', '더구나', '나연', '하도록하다', '우리', '으로서', '할수있다', '조금', '여차', '다소', '마저도', '예컨대', '을', '그리고', '하다', '그', '더불어', '비교적', '한 이유는', '견지에서', '와 같은 사람들', '상대적으로 말하자면', '거니와', '말', '이 밖에', '총적으로', '중에서', '그럼', '일리', '할만하다', '산다라박', '으로', '가까스로', '남들', '개의치않고', '틈타', '각각', '더라도', '에 대해', '네', '수지', '까악', '무엇때문에', '따지지 않다', '여', '다섯', '위', '소생', '박채영', '이로 인하여', '이어서', '그중에서', '퉤', '의지하여', '일지라도', '하구나', '게다가', '언제', '타인', '얼마만큼', '어찌', '뚝뚝', '아니면', '여전히', '할 지경이다', '저희', '기점으로', '하하', '무슨', '만큼', '이쪽', '해봐요', '님', '할망정', '옆사람', '날', '오호', '어때', '이 되다', '싶다', '너희들', '만', '앞에서', '습니까', '이천칠', '입장에서', '한 까닭에', '만 못하다', '봐', '구토하다', '이곳', '한적이있다', '칠', '줄은 몰랏다', '그럼에도 불구하고', '누구', '헉헉', '오자마자', '휘익', '제각기', '으로써', '이와 반대로', '예', '여섯', '에', '파', '엉엉', '코드', '자기', '지수', '의거하여', '하나', '진짜로', '시초에', '해요', '같이', '더욱이는', '잠시', '로써', '하더라도', '때가 되어', '관련이 있다', '비걱거리다', '인 듯하다', '만이 아니다', '할지언정', '된바에야', '까지 미치다', '육', '전자', '도달하다', '에 한하다', '령', '와아', '탕탕', '이', '하면서', '아이쿠', '향하여', '저기', '타다', '할 힘이 있다', '했어요', '비로소', '혹시', '주룩주룩', '우선', '보는데서', '콸콸', '대해서', '어느것', '있다', '허허', '으로 인하여', '겸사겸사', '하곤하였다', '관하여', '통해', '삐걱', '둘', '임에 틀림없다', '당장', '응당', '향하다', '륙', '같다', '졸졸', '저', '너희', '와르르', '시', '의해되다', '관계없이', '오직', '이때', '영차', '주저하지 않고', '동시에', '좍좍', '여기', '하든지', '조이', '이다', '무릎쓰고', '바꾸어서 한다면', '겨우', '이렇구나', '이상', '한 후', '하기에', '자마자', '비하면', '해야한다', '이었다', '이 때문에', '드리다', '딩동', '딱', '하게하다', '조차', '누가 알겠는가', '이렇게말하자면', '언젠가', '아', '어째서', '쿵', '아하', '등', '반대로', '하기보다는', '및', '얼마 안 되는 것', '하고 있다', '어떤것', '시간', '바와같이', '이런', '일때', '얼마간', '이와같다면', '이르기까지', '하면된다', '하여야', '구체적으로', '이젠', '퍽', '그래', '일단', '본대로', '모', '윤아', '만은 아니다', '것들', '어느', '여덟', '그러니까', '비록', '이 정도의', '된이상', '에이', '리사', '그리하여', '너', '의해서', '하여금', '넷', '장원영'}\n"
     ]
    }
   ],
   "source": [
    "print(stopwords)"
   ]
  },
  {
   "cell_type": "code",
   "execution_count": 10,
   "metadata": {},
   "outputs": [
    {
     "name": "stderr",
     "output_type": "stream",
     "text": [
      "100%|██████████| 7089/7089 [02:58<00:00, 39.66it/s]\n"
     ]
    }
   ],
   "source": [
    "#형태소 분석 적용\n",
    "tokenizing_doc=[]\n",
    "for i in tqdm(data['doc']):\n",
    "    tokenizing_doc.append(okt_pos_tagging(i))\n",
    "\n",
    "#새로운 tokenizing이라는 컬럼에 키워드 형태로 만든 토큰?  \n",
    "data['token']=tokenizing_doc"
   ]
  },
  {
   "cell_type": "code",
   "execution_count": 11,
   "metadata": {},
   "outputs": [
    {
     "data": {
      "text/plain": [
       "0        지수 드라마 설강화 배우 김혜윤 인스타그램에    지수     배우 김혜윤님 인스...\n",
       "1        블핑 인스타 트위터    리사 인스타그램     리사 인스타그램 지수 댓글    ...\n",
       "2           지수 인스타그램 사진들 모음        지수 인스타그램 사진들 모음    ...\n",
       "3                         게시판    로제 인스타그램을 박채영        로제 \n",
       "4        로제 인스타그램    로제 인스타그램 스토리 포에버       팔로워 만명 팔로잉...\n",
       "                              ...                        \n",
       "7084     크리스탈 폴로   셔츠   포니 가방 캐주얼룩 완성 걸스픽     크리스탈 폴로 ...\n",
       "7085     스타일링 따라하고 싶은 셀럽들의 폴로 랄프로렌 셔츠 스타일링 크리스탈 기은세 꾸리...\n",
       "7086     게시판 크리스탈 정수정 근황 좋아보여요 광고실행사     배우 정수정 및 크리스탈...\n",
       "7087     스타패션 크리스탈 정수정 인스타그램 스트라이프 럭비 티셔츠 폴로 랄프로렌     ...\n",
       "7088     패션정보 셀럽들이 사랑한 크리스탈헤이즈 하리보 목걸이 모음 히요정       안녕...\n",
       "Name: doc, Length: 7089, dtype: object"
      ]
     },
     "execution_count": 11,
     "metadata": {},
     "output_type": "execute_result"
    }
   ],
   "source": [
    "data.doc"
   ]
  },
  {
   "cell_type": "code",
   "execution_count": 12,
   "metadata": {},
   "outputs": [
    {
     "data": {
      "text/plain": [
       "0                            [드라마, 설강화, 배우, 김혜윤, 배우, 김혜윤]\n",
       "1                                [인스타, 트위터, 댓글, 프루덴셜, 센터]\n",
       "2                        [사진, 모음, 사진, 모음, 사진, 모음, 사진, 모음]\n",
       "3                                                   [게시판]\n",
       "4                             [스토리, 포에버, 팔로워, 팔로잉, 게시, 물]\n",
       "                              ...                        \n",
       "7084    [폴로, 셔츠, 포니, 가방, 얼룩, 완성, 걸스, 픽, 폴로, 셔츠, 포니, 가방...\n",
       "7085    [스타, 일링, 셀럽, 폴로, 랄프, 로렌, 셔츠, 스타, 일링, 기은세, 꾸리, ...\n",
       "7086    [게시판, 정수정, 근황, 좋다, 광고, 실, 행사, 배우, 정수정, 님근황, 해바...\n",
       "7087    [스타, 패션, 정수정, 스트라이프, 럭비, 티셔츠, 폴로, 랄프, 로렌, 안녕하다...\n",
       "7088    [패션, 정보, 셀럽, 사랑, 헤이즈, 하리보, 목걸이, 모음, 요정, 안녕하다, ...\n",
       "Name: token, Length: 7089, dtype: object"
      ]
     },
     "execution_count": 12,
     "metadata": {},
     "output_type": "execute_result"
    }
   ],
   "source": [
    "data.token"
   ]
  },
  {
   "cell_type": "code",
   "execution_count": 13,
   "metadata": {},
   "outputs": [],
   "source": [
    "#명사 추출 \n",
    "text_noun=[okt.nouns(doc) for doc in data.doc]\n",
    "data['text_noun'] = text_noun\n",
    "data['text_noun'] = data.text_noun.apply(lambda x: [a for a in x if a not in stopwords])"
   ]
  },
  {
   "cell_type": "code",
   "execution_count": 14,
   "metadata": {},
   "outputs": [],
   "source": [
    "#필요없는 컬럼 삭제\n",
    "#del data['Unnamed: 0']\n",
    "#data.info()"
   ]
  },
  {
   "cell_type": "code",
   "execution_count": 15,
   "metadata": {},
   "outputs": [
    {
     "data": {
      "text/html": [
       "<div>\n",
       "<style scoped>\n",
       "    .dataframe tbody tr th:only-of-type {\n",
       "        vertical-align: middle;\n",
       "    }\n",
       "\n",
       "    .dataframe tbody tr th {\n",
       "        vertical-align: top;\n",
       "    }\n",
       "\n",
       "    .dataframe thead th {\n",
       "        text-align: right;\n",
       "    }\n",
       "</style>\n",
       "<table border=\"1\" class=\"dataframe\">\n",
       "  <thead>\n",
       "    <tr style=\"text-align: right;\">\n",
       "      <th></th>\n",
       "      <th>index</th>\n",
       "      <th>time</th>\n",
       "      <th>doc</th>\n",
       "      <th>url</th>\n",
       "      <th>token</th>\n",
       "      <th>text_noun</th>\n",
       "    </tr>\n",
       "  </thead>\n",
       "  <tbody>\n",
       "    <tr>\n",
       "      <th>0</th>\n",
       "      <td>0</td>\n",
       "      <td>2022. 5. 9. 13:10</td>\n",
       "      <td>지수 드라마 설강화 배우 김혜윤 인스타그램에    지수     배우 김혜윤님 인스...</td>\n",
       "      <td>https://blog.naver.com/syr03051/222723113775</td>\n",
       "      <td>[드라마, 설강화, 배우, 김혜윤, 배우, 김혜윤]</td>\n",
       "      <td>[드라마, 설강화, 배우, 김혜윤, 배우, 김혜윤]</td>\n",
       "    </tr>\n",
       "    <tr>\n",
       "      <th>1</th>\n",
       "      <td>1</td>\n",
       "      <td>2022. 9. 29. 8:10</td>\n",
       "      <td>블핑 인스타 트위터    리사 인스타그램     리사 인스타그램 지수 댓글    ...</td>\n",
       "      <td>https://blog.naver.com/syr03051/222885506031</td>\n",
       "      <td>[인스타, 트위터, 댓글, 프루덴셜, 센터]</td>\n",
       "      <td>[인스타, 트위터, 댓글, 프루덴셜, 센터]</td>\n",
       "    </tr>\n",
       "    <tr>\n",
       "      <th>2</th>\n",
       "      <td>2</td>\n",
       "      <td>2022. 9. 2. 14:52</td>\n",
       "      <td>지수 인스타그램 사진들 모음        지수 인스타그램 사진들 모음    ...</td>\n",
       "      <td>https://blog.naver.com/fenergy12/222864930875</td>\n",
       "      <td>[사진, 모음, 사진, 모음, 사진, 모음, 사진, 모음]</td>\n",
       "      <td>[사진, 모음, 사진, 모음, 사진, 모음, 사진, 모음]</td>\n",
       "    </tr>\n",
       "    <tr>\n",
       "      <th>3</th>\n",
       "      <td>3</td>\n",
       "      <td>2022. 5. 7. 1:03</td>\n",
       "      <td>게시판    로제 인스타그램을 박채영        로제</td>\n",
       "      <td>https://blog.naver.com/199651/222723356800</td>\n",
       "      <td>[게시판]</td>\n",
       "      <td>[게시판]</td>\n",
       "    </tr>\n",
       "    <tr>\n",
       "      <th>4</th>\n",
       "      <td>4</td>\n",
       "      <td>2022. 1. 15. 16:42</td>\n",
       "      <td>로제 인스타그램    로제 인스타그램 스토리 포에버       팔로워 만명 팔로잉...</td>\n",
       "      <td>https://blog.naver.com/alwayshappiness211/2226...</td>\n",
       "      <td>[스토리, 포에버, 팔로워, 팔로잉, 게시, 물]</td>\n",
       "      <td>[스토리, 포에버, 팔로워, 팔로잉, 게시, 물]</td>\n",
       "    </tr>\n",
       "  </tbody>\n",
       "</table>\n",
       "</div>"
      ],
      "text/plain": [
       "   index                time  \\\n",
       "0      0   2022. 5. 9. 13:10   \n",
       "1      1   2022. 9. 29. 8:10   \n",
       "2      2   2022. 9. 2. 14:52   \n",
       "3      3    2022. 5. 7. 1:03   \n",
       "4      4  2022. 1. 15. 16:42   \n",
       "\n",
       "                                                 doc  \\\n",
       "0   지수 드라마 설강화 배우 김혜윤 인스타그램에    지수     배우 김혜윤님 인스...   \n",
       "1   블핑 인스타 트위터    리사 인스타그램     리사 인스타그램 지수 댓글    ...   \n",
       "2      지수 인스타그램 사진들 모음        지수 인스타그램 사진들 모음    ...   \n",
       "3                    게시판    로제 인스타그램을 박채영        로제    \n",
       "4   로제 인스타그램    로제 인스타그램 스토리 포에버       팔로워 만명 팔로잉...   \n",
       "\n",
       "                                                 url  \\\n",
       "0       https://blog.naver.com/syr03051/222723113775   \n",
       "1       https://blog.naver.com/syr03051/222885506031   \n",
       "2      https://blog.naver.com/fenergy12/222864930875   \n",
       "3         https://blog.naver.com/199651/222723356800   \n",
       "4  https://blog.naver.com/alwayshappiness211/2226...   \n",
       "\n",
       "                              token                         text_noun  \n",
       "0      [드라마, 설강화, 배우, 김혜윤, 배우, 김혜윤]      [드라마, 설강화, 배우, 김혜윤, 배우, 김혜윤]  \n",
       "1          [인스타, 트위터, 댓글, 프루덴셜, 센터]          [인스타, 트위터, 댓글, 프루덴셜, 센터]  \n",
       "2  [사진, 모음, 사진, 모음, 사진, 모음, 사진, 모음]  [사진, 모음, 사진, 모음, 사진, 모음, 사진, 모음]  \n",
       "3                             [게시판]                             [게시판]  \n",
       "4       [스토리, 포에버, 팔로워, 팔로잉, 게시, 물]       [스토리, 포에버, 팔로워, 팔로잉, 게시, 물]  "
      ]
     },
     "execution_count": 15,
     "metadata": {},
     "output_type": "execute_result"
    }
   ],
   "source": [
    "data.head()"
   ]
  },
  {
   "cell_type": "markdown",
   "metadata": {},
   "source": [
    "##### 토큰화까지 끝난 파일 저장"
   ]
  },
  {
   "cell_type": "code",
   "execution_count": 16,
   "metadata": {},
   "outputs": [],
   "source": [
    "data.to_csv(\"data_토큰화.csv\", encoding='utf-8-sig')\n",
    "data.to_pickle('data_토큰화.pkl')"
   ]
  },
  {
   "cell_type": "code",
   "execution_count": null,
   "metadata": {},
   "outputs": [],
   "source": []
  }
 ],
 "metadata": {
  "kernelspec": {
   "display_name": "Python 3.9.12 ('base')",
   "language": "python",
   "name": "python3"
  },
  "language_info": {
   "codemirror_mode": {
    "name": "ipython",
    "version": 3
   },
   "file_extension": ".py",
   "mimetype": "text/x-python",
   "name": "python",
   "nbconvert_exporter": "python",
   "pygments_lexer": "ipython3",
   "version": "3.9.12"
  },
  "orig_nbformat": 4,
  "vscode": {
   "interpreter": {
    "hash": "a077222d77dfe082b8f1dd562ad70e458ac2ab76993a0b248ab0476e32e9e8dd"
   }
  }
 },
 "nbformat": 4,
 "nbformat_minor": 2
}
