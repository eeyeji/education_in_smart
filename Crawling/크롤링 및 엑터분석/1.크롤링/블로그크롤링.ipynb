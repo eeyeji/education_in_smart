{
 "cells": [
  {
   "cell_type": "code",
   "execution_count": 15,
   "id": "e3538e4a",
   "metadata": {},
   "outputs": [],
   "source": [
    "#네이버 view검색을 활용한 블로그 검색"
   ]
  },
  {
   "cell_type": "code",
   "execution_count": 30,
   "id": "4c3e4a3e",
   "metadata": {},
   "outputs": [],
   "source": [
    "# 라이브러리 import\n",
    "from selenium import webdriver\n",
    "import time\n",
    "from bs4 import BeautifulSoup as bs\n",
    "import csv\n",
    "import requests\n",
    "import pandas as pd\n",
    "import re\n",
    "from selenium.webdriver.common.desired_capabilities import DesiredCapabilities #다음화면으로 빨리 넘어갈때\n",
    "from selenium.common.exceptions import UnexpectedAlertPresentException #selenium 이용시 Alert을 제어\n",
    "import urllib.request\n",
    "import random\n",
    "from selenium.webdriver.chrome.options import Options"
   ]
  },
  {
   "cell_type": "code",
   "execution_count": 17,
   "id": "d9bc297f",
   "metadata": {},
   "outputs": [],
   "source": [
    "#크롤링 시작과 끝 날짜(월별로 크롤링)\n",
    "first_days = pd.date_range('2022/01/01','2022/12/07', freq='MS') # 각 달의 첫 날\n",
    "last_days = pd.date_range('2022/01/01','2022/12/07', freq='M') #각 달의 마지막날\n",
    "\n",
    "keyword_list = ['태연인스타그램'] #검색 키워드 추가(여러개 입력하면 순서대로 blog_url_list에 저장되어서 한번에 실행할 수 있음!!)"
   ]
  },
  {
   "cell_type": "code",
   "execution_count": 31,
   "id": "d368cfac",
   "metadata": {},
   "outputs": [],
   "source": [
    "#크롬드라이버 제어\n",
    "chrome_options = Options()\n",
    "chrome_options.add_argument('--no-sandbox') #bypass OS security model\n",
    "chrome_options.add_argument('disable-dex-shm-usage') # overcome limited resource porcess\n",
    "\n",
    "chrome_path='chromedriver.exe' # 현재 컴퓨터의 크롬드라이버 위치"
   ]
  },
  {
   "cell_type": "code",
   "execution_count": 19,
   "id": "d4edf6e4",
   "metadata": {},
   "outputs": [
    {
     "name": "stderr",
     "output_type": "stream",
     "text": [
      "C:\\Users\\user\\AppData\\Local\\Temp\\ipykernel_896\\304093927.py:9: DeprecationWarning: use options instead of chrome_options\n",
      "  driver = webdriver.Chrome(executable_path=chrome_path, chrome_options=chrome_options)\n"
     ]
    },
    {
     "name": "stdout",
     "output_type": "stream",
     "text": [
      "태연인스타그램 키워드 2022년1월 109 개 블로그 url 주소 수집\n",
      "태연인스타그램 키워드 2022년2월 89 개 블로그 url 주소 수집\n",
      "태연인스타그램 키워드 2022년3월 110 개 블로그 url 주소 수집\n",
      "태연인스타그램 키워드 2022년4월 86 개 블로그 url 주소 수집\n",
      "태연인스타그램 키워드 2022년5월 97 개 블로그 url 주소 수집\n",
      "태연인스타그램 키워드 2022년6월 66 개 블로그 url 주소 수집\n",
      "태연인스타그램 키워드 2022년7월 76 개 블로그 url 주소 수집\n",
      "태연인스타그램 키워드 2022년8월 123 개 블로그 url 주소 수집\n",
      "태연인스타그램 키워드 2022년9월 99 개 블로그 url 주소 수집\n",
      "태연인스타그램 키워드 2022년10월 58 개 블로그 url 주소 수집\n",
      "태연인스타그램 키워드 2022년11월 85 개 블로그 url 주소 수집\n"
     ]
    }
   ],
   "source": [
    "# 블로그 주소 수집\n",
    "\n",
    "blog_url_list = []\n",
    "\n",
    "#네이버에 키워드 검색\n",
    "for keyword in keyword_list:\n",
    "    url = 'https://search.naver.com/search.naver?sm=tab_hty.top&where=blog&query={}&oquery={}'.format(keyword, keyword)\n",
    "        \n",
    "    driver = webdriver.Chrome(executable_path=chrome_path, chrome_options=chrome_options)\n",
    "    driver.implicitly_wait(3)\n",
    "    \n",
    "    driver.get(url)\n",
    "    time.sleep(3)\n",
    "    \n",
    "    url_want = 1000 #\n",
    "    \n",
    "    driver.find_element('xpath','//*[@id=\"snb\"]/div[1]/div/div[2]/a').click() #검색 옵션 클릭\n",
    "\n",
    "    #날짜 지정\n",
    "    for k in range(len(first_days)):\n",
    "        try:\n",
    "            #시작과 끝의 년월일 설정\n",
    "            driver.find_element('xpath','//*[@id=\"snb\"]/div[2]/ul/li[3]/div/div[1]/a[9]/i').click() #직접 입력\n",
    "            driver.find_element('xpath','//*[@id=\"snb\"]/div[2]/ul/li[3]/div/div[2]/div[2]/div[1]/div/div/div/ul/li[{0}]'.format(first_days.year[k]-2002)).click()\n",
    "            driver.find_element('xpath','//*[@id=\"snb\"]/div[2]/ul/li[3]/div/div[2]/div[2]/div[2]/div/div/div/ul/li[{0}]/a'.format(first_days.month[k])).click()\n",
    "            driver.find_element('xpath','//*[@id=\"snb\"]/div[2]/ul/li[3]/div/div[2]/div[2]/div[3]/div/div/div/ul/li[{0}]/a'.format(first_days.day[k])).click()\n",
    "            driver.find_element('xpath','//*[@id=\"snb\"]/div[2]/ul/li[3]/div/div[2]/div[1]/span[3]/a').click()\n",
    "            driver.find_element('xpath','//*[@id=\"snb\"]/div[2]/ul/li[3]/div/div[2]/div[2]/div[1]/div/div/div/ul/li[{0}]'.format(last_days.year[k]-2002)).click()\n",
    "            driver.find_element('xpath','//*[@id=\"snb\"]/div[2]/ul/li[3]/div/div[2]/div[2]/div[2]/div/div/div/ul/li[{0}]/a'.format(last_days.month[k])).click()\n",
    "            driver.find_element('xpath','//*[@id=\"snb\"]/div[2]/ul/li[3]/div/div[2]/div[2]/div[3]/div/div/div/ul/li[{0}]/a'.format(last_days.day[k])).click()\n",
    "            driver.find_element('xpath','//*[@id=\"snb\"]/div[2]/ul/li[3]/div/div[2]/div[3]/button').click()            \n",
    "            \n",
    "            \n",
    "            # 스크롤 조작\n",
    "            last_height = driver.execute_script('return document.body.scrollHeight')\n",
    "            \n",
    "            scroll = (url_want/30)-1 #한 페이지에 기본으로 30개 글이 나옴\n",
    "            \n",
    "            # 스크롤 다운\n",
    "            for i in range(int(scroll)):\n",
    "                driver.execute_script('window.scrollTo(0,document.body.scrollHeight)')\n",
    "                time.sleep(random.uniform(1,1.7))\n",
    "                \n",
    "                new_height = driver.execute_script('return document.body.scrollHeight')\n",
    "                \n",
    "                if new_height == last_height:\n",
    "                    break\n",
    "                    \n",
    "                last_height = new_height\n",
    "                \n",
    "                \n",
    "            soup = bs(driver.page_source, 'lxml')\n",
    "            blog_url = soup.find_all('a',class_='api_txt_lines total_tit')\n",
    "            \n",
    "            # url 주소 수집\n",
    "            for i in blog_url:\n",
    "                blog_url_list.append(i['href']) #주소 수집\n",
    "                \n",
    "            print('{0} 키워드 {1}년{2}월'.format(keyword, \n",
    "                                            first_days.year[k], first_days.month[k]), \n",
    "                  len(blog_url),'개 블로그 url 주소 수집')\n",
    "            \n",
    "            \n",
    "            driver.execute_script('window.scrollTo(0,0)')\n",
    "            \n",
    "        except:\n",
    "            pass\n",
    "            "
   ]
  },
  {
   "cell_type": "code",
   "execution_count": 20,
   "id": "1a10d080",
   "metadata": {},
   "outputs": [
    {
     "data": {
      "text/plain": [
       "998"
      ]
     },
     "execution_count": 20,
     "metadata": {},
     "output_type": "execute_result"
    }
   ],
   "source": [
    "len(blog_url_list)"
   ]
  },
  {
   "cell_type": "code",
   "execution_count": 21,
   "id": "961ba80a",
   "metadata": {},
   "outputs": [
    {
     "data": {
      "text/plain": [
       "998"
      ]
     },
     "execution_count": 21,
     "metadata": {},
     "output_type": "execute_result"
    }
   ],
   "source": [
    "#수집 후 url list 중복 확인\n",
    "\n",
    "real_list = set(blog_url_list)\n",
    "blog_url_list = list(real_list)\n",
    "len(blog_url_list)\n"
   ]
  },
  {
   "cell_type": "code",
   "execution_count": 22,
   "id": "0b899bc9",
   "metadata": {},
   "outputs": [],
   "source": [
    "k = pd.DataFrame(blog_url_list)\n",
    "k.to_csv('태연인스타그램_url_list(2022).csv', encoding='utf-8-sig')"
   ]
  },
  {
   "cell_type": "code",
   "execution_count": 33,
   "id": "5156e53e",
   "metadata": {},
   "outputs": [],
   "source": [
    "# 블로그 크롤링 불러오기\n",
    "url = pd.read_csv('제니인스타그램_url_list(2022).csv')\n",
    "blog_url_list = list(url['0']) #리스트 형태로 저장"
   ]
  },
  {
   "cell_type": "code",
   "execution_count": 34,
   "id": "7e06d154",
   "metadata": {},
   "outputs": [
    {
     "name": "stderr",
     "output_type": "stream",
     "text": [
      "C:\\Users\\user\\AppData\\Local\\Temp\\ipykernel_896\\1251833440.py:11: DeprecationWarning: use options instead of chrome_options\n",
      "  driver = webdriver.Chrome(executable_path=chrome_path, chrome_options=chrome_options) #크롬 드라이버 위치만 바꿔주시면 됩니다.\n"
     ]
    },
    {
     "name": "stdout",
     "output_type": "stream",
     "text": [
      "50개 블로그 크롤링 완료\n",
      "네이버 블로그 아닌 url:  https://wfmania2002.tistory.com/1741\n",
      "네이버 블로그 아닌 url:  https://moamusic.tistory.com/entry/%EC%9C%8C-%EC%8A%A4%EB%AF%B8%EC%8A%A4-%EC%8B%9C%EC%83%81%EC%8B%9D-%EC%A4%91-%ED%8F%AD%ED%96%89-%EC%9D%B4%EC%9C%A0%EB%8A%94-%EB%88%84%EA%B5%AC-%EC%9E%98%EB%AA%BB%EC%9D%BC%EA%B9%8C\n",
      "네이버 블로그 아닌 url:  https://storyhealing.tistory.com/963\n",
      "네이버 블로그 아닌 url:  https://kant10.tistory.com/entry/%EB%B8%94%EB%9E%99%ED%95%91%ED%81%AC-%EB%A6%AC%EC%82%AC-%EC%95%84%EC%B0%94-%EC%9B%90%ED%94%BC%EC%8A%A4-%EC%9E%85%EA%B3%A0-%EC%84%B9%EC%8B%9C%E7%BE%8E-%EB%B0%9C%EC%82%B0-%ED%8C%8C%EB%A6%AC-%EB%92%A4%ED%9D%94%EB%93%A4%EB%A7%8C-%EC%82%AC%EC%A7%84\n",
      "네이버 블로그 아닌 url:  https://dayuk0919.tistory.com/440\n",
      "100개 블로그 크롤링 완료\n",
      "네이버 블로그 아닌 url:  https://truegirlsave2.tistory.com/2231\n",
      "네이버 블로그 아닌 url:  https://truegirlsave2.tistory.com/2312\n",
      "네이버 블로그 아닌 url:  https://truegirlsave2.tistory.com/3038\n",
      "네이버 블로그 아닌 url:  https://chueok7.tistory.com/entry/%EB%B8%94%EB%9E%99%ED%95%91%ED%81%AC-%EC%A0%9C%EB%8B%88-%EC%9D%B8%EC%8A%A4%ED%83%80%EA%B7%B8%EB%9E%A8-%EC%82%AC%EC%A7%84\n",
      "네이버 블로그 아닌 url:  https://mylovejj.tistory.com/1327\n",
      "150개 블로그 크롤링 완료\n",
      "네이버 블로그 아닌 url:  https://drench310.tistory.com/entry/%EB%B8%94%EB%9E%99%ED%95%91%ED%81%AC-%EB%A6%AC%EC%82%AC-%ED%94%84%EB%A1%9C%ED%95%84-%EB%82%98%EC%9D%B4-%ED%82%A4-%EC%86%8C%EC%86%8D%EC%82%AC-1%EC%9C%84-%EC%96%B5%EB%B7%B0-MV-%EC%BB%B4%EB%B0%B1\n",
      "150개 블로그 크롤링 완료\n",
      "네이버 블로그 아닌 url:  https://timangblue.tistory.com/325\n",
      "네이버 블로그 아닌 url:  https://stylesquare.tistory.com/396\n",
      "200개 블로그 크롤링 완료\n",
      "네이버 블로그 아닌 url:  https://moluv.tistory.com/352\n",
      "네이버 블로그 아닌 url:  https://truegirlsave2.tistory.com/2557\n",
      "250개 블로그 크롤링 완료\n",
      "네이버 블로그 아닌 url:  https://jamjamlog.tistory.com/1009\n",
      "네이버 블로그 아닌 url:  https://lko1018.tistory.com/65\n",
      "300개 블로그 크롤링 완료\n",
      "네이버 블로그 아닌 url:  https://truegirlsave2.tistory.com/2311\n",
      "네이버 블로그 아닌 url:  https://truegirlsave2.tistory.com/3069\n",
      "네이버 블로그 아닌 url:  https://wfmania2002.tistory.com/2104\n",
      "네이버 블로그 아닌 url:  https://truegirlsave2.tistory.com/1783\n",
      "350개 블로그 크롤링 완료\n",
      "네이버 블로그 아닌 url:  https://truegirlsave2.tistory.com/1842\n",
      "400개 블로그 크롤링 완료\n",
      "네이버 블로그 아닌 url:  https://truegirlsave2.tistory.com/2001\n",
      "네이버 블로그 아닌 url:  https://frankler.tistory.com/1158\n",
      "네이버 블로그 아닌 url:  https://moviediary.tistory.com/3684\n",
      "네이버 블로그 아닌 url:  https://truegirlsave2.tistory.com/2823\n",
      "450개 블로그 크롤링 완료\n",
      "네이버 블로그 아닌 url:  https://truegirlsave2.tistory.com/2016\n",
      "네이버 블로그 아닌 url:  https://storyhealing.tistory.com/945\n",
      "네이버 블로그 아닌 url:  https://truegirlsave2.tistory.com/1621\n",
      "500개 블로그 크롤링 완료\n",
      "네이버 블로그 아닌 url:  https://two-moon22.tistory.com/291\n",
      "네이버 블로그 아닌 url:  https://truegirlsave2.tistory.com/1782\n",
      "네이버 블로그 아닌 url:  https://truegirlsave2.tistory.com/2419\n",
      "550개 블로그 크롤링 완료\n"
     ]
    }
   ],
   "source": [
    "no_naver_blog1=[]\n",
    "\n",
    "start = time.time()\n",
    "\n",
    "\n",
    "time_list = [] #시간\n",
    "review_list = [] #리뷰\n",
    "url_list = [] #url주소\n",
    "count = 0\n",
    "\n",
    "driver = webdriver.Chrome(executable_path=chrome_path, chrome_options=chrome_options) #크롬 드라이버 위치만 바꿔주시면 됩니다.\n",
    "for url in blog_url_list[8555:]: #기본적으로 고치지 않으시지만, n번째 크롤링에서 멈췄다면, blog_url_list를 blog_url_list[n:]으로 고칩니다.\n",
    "    if 'naver' in url: #네이버 블로그만 수집(다른 사이트가 섞이면 크롤링 에러가 남)\n",
    "    \n",
    "        count += 1\n",
    "        try:\n",
    "            driver.get(url) #url 하나씩 글을 수집할꺼야\n",
    "            time.sleep(1)\n",
    "\n",
    "            try:\n",
    "                # 전체 본문 가지고 와서\n",
    "                driver.switch_to.frame('mainFrame') #네이버는 mainFrame을 바꿔줘야 수집이 됌\n",
    "                time.sleep(1)\n",
    "\n",
    "                soup = bs(driver.page_source, 'lxml') #뷰티풀숩을 이용해서 구문 분석(lxml 파싱 이용. 모든 테그에서 데이터를 추출위함)\n",
    "                postview = soup.find('div', attrs={'id': re.compile('post-view.+')}).get_text()\n",
    "\n",
    "                reg = re.compile(r'[\\s+]') #r은 raw string. \\s+는 공백문자\n",
    "                postview_reg = reg.sub(' ',postview) #공백을 띄어쓰기로 대치해서 본문 글 수집\n",
    "\n",
    "                try:\n",
    "                    timeline = driver.find_element(\"xpath\", \"//span[@class='se_publishDate pcol2']\") #수정 안 한 경우\n",
    "\n",
    "                except:\n",
    "                    timeline = driver.find_element(\"xpath\", \"//p[@class='date fil5 pcol2 _postAddDate']\") #수정 한 경우\n",
    "                timeline = timeline.text\n",
    "                time_list.append(timeline)\n",
    "                review_list.append(postview_reg)\n",
    "                url_list.append(url)\n",
    "                time.sleep(random.uniform(1,1.6))\n",
    "            except UnexpectedAlertPresentException:\n",
    "                pass\n",
    "        except:\n",
    "            pass\n",
    "    else:\n",
    "        no_naver_blog1.append(url)\n",
    "        print('네이버 블로그 아닌 url: ',url)\n",
    "        \n",
    "    if count%50 ==0:\n",
    "        print('{}개 블로그 크롤링 완료'.format(count))"
   ]
  },
  {
   "cell_type": "code",
   "execution_count": null,
   "id": "3abf082b",
   "metadata": {},
   "outputs": [],
   "source": [
    "#원래코드: 댓글+좋아요\n",
    "'''\n",
    "no_naver_blog1=[]\n",
    "\n",
    "start = time.time()\n",
    "\n",
    "\n",
    "time_list = [] #시간\n",
    "review_list = [] #리뷰\n",
    "comment_list = [] #댓글\n",
    "like_list = [] #좋아요수\n",
    "url_list = [] #url주소\n",
    "count = 0\n",
    "\n",
    "driver = webdriver.Chrome(executable_path=chrome_path, chrome_options=chrome_options) #크롬 드라이버 위치만 바꿔주시면 됩니다.\n",
    "for url in blog_url_list: #기본적으로 고치지 않으시지만, n번째 크롤링에서 멈췄다면, blog_url_list를 blog_url_list[n:]으로 고칩니다.\n",
    "    if 'naver' in url: #네이버 블로그만 수집(다른 사이트가 섞이면 크롤링 에러가 남)\n",
    "        \n",
    "        count += 1\n",
    "        try:\n",
    "        \n",
    "            driver.get(url) #url 하나씩 글을 수집할꺼야\n",
    "            time.sleep(1)\n",
    "\n",
    "            try:\n",
    "                # 전체 본문 가지고 와서\n",
    "                driver.switch_to.frame('mainFrame') #네이버는 mainFrame을 바꿔줘야 수집이 됌\n",
    "                time.sleep(1)\n",
    "            \n",
    "                soup = bs(driver.page_source, 'lxml') #뷰티풀숩을 이용해서 구문 분석(lxml 파싱 이용. 모든 테그에서 데이터를 추출위함)\n",
    "                postview = soup.find('div', attrs={'id': re.compile('post-view.+')}).get_text()\n",
    "\n",
    "                reg = re.compile(r'[\\s+]') #r은 raw string. \\s+는 공백문자\n",
    "                postview_reg = reg.sub(' ',postview) #공백을 띄어쓰기로 대치해서 본문 글 수집\n",
    "                try:\n",
    "                    # 좋아요수\n",
    "                    like = driver.find_element(\"xpath\", \"//span[@class='u_likeit_list_btn _button btn_sympathy pcol2 off']/em[@class='u_cnt _count']\")\n",
    "                    like = like.text\n",
    "                except:\n",
    "                    like = [] #좋아요 없으면 빈 리스트\n",
    "                \n",
    "                try:\n",
    "                    timeline = driver.find_element(\"xpath\", \"//span[@class='se_publishDate pcol2']\") #수정 안 한 경우\n",
    "            \n",
    "                except:\n",
    "                    timeline = driver.find_element(\"xpath\", \"//p[@class='date fil5 pcol2 _postAddDate']\") #수정 한 경우\n",
    "                timeline = timeline.text\n",
    "\n",
    "                try:\n",
    "                    driver.find_element(By.CSS_SELECTOR,'span.btn_arr').click() #댓글 내리는 버튼(태그명.클래스선택자)\n",
    "                    #driver.find_element_by_css_selector('span.btn_arr').click()\n",
    "                    time.sleep(1.7)\n",
    "\n",
    "                    comment_blog = []\n",
    "                    comment = driver.find_element(By.CSS_SELECTOR,'span.u_cbox_contents') #댓글\n",
    "                    #comment = driver.find_elements_by_css_selector('span.u_cbox_contents')\n",
    "                    for i in comment: #댓글 수집\n",
    "                        com = str(i.text) #\n",
    "                        com = reg.sub(' ',com) \n",
    "                        comment_blog.append(([com]))\n",
    "                except: \n",
    "                    comment_blog = []\n",
    "                \n",
    "                time_list.append(timeline)\n",
    "                review_list.append(postview_reg)\n",
    "                comment_list.append(comment_blog)\n",
    "                url_list.append(url)\n",
    "                like_list.append(like)\n",
    "                time.sleep(random.uniform(1,1.6))\n",
    "            except UnexpectedAlertPresentException:\n",
    "                pass\n",
    "                \n",
    "        except:\n",
    "            pass\n",
    "\n",
    "    else:\n",
    "        no_naver_blog1.append(url)\n",
    "        print('네이버 블로그 아닌 url: ',url)\n",
    "        \n",
    "    if count%10 ==0:\n",
    "        print('{}개 블로그 크롤링 완료'.format(count))\n",
    "'''"
   ]
  },
  {
   "cell_type": "code",
   "execution_count": 25,
   "id": "ca8cbd84",
   "metadata": {},
   "outputs": [
    {
     "data": {
      "text/plain": [
       "962"
      ]
     },
     "execution_count": 25,
     "metadata": {},
     "output_type": "execute_result"
    }
   ],
   "source": [
    "len(time_list)"
   ]
  },
  {
   "cell_type": "code",
   "execution_count": 26,
   "id": "61f877b8",
   "metadata": {},
   "outputs": [
    {
     "name": "stdout",
     "output_type": "stream",
     "text": [
      "크롤링 소요시간: 4544.696233510971초\n",
      "총 962개 블로그 크롤링 완료\n"
     ]
    }
   ],
   "source": [
    "data = {'time':time_list, \n",
    "       'review':review_list,\n",
    "       'url':url_list}\n",
    "\n",
    "df = pd.DataFrame(data)\n",
    "\n",
    "print('크롤링 소요시간: {}초'.format(time.time()-start))\n",
    "print('총 {}개 블로그 크롤링 완료'.format(count))"
   ]
  },
  {
   "cell_type": "code",
   "execution_count": 27,
   "id": "b7c89c0a",
   "metadata": {},
   "outputs": [
    {
     "data": {
      "text/html": [
       "<div>\n",
       "<style scoped>\n",
       "    .dataframe tbody tr th:only-of-type {\n",
       "        vertical-align: middle;\n",
       "    }\n",
       "\n",
       "    .dataframe tbody tr th {\n",
       "        vertical-align: top;\n",
       "    }\n",
       "\n",
       "    .dataframe thead th {\n",
       "        text-align: right;\n",
       "    }\n",
       "</style>\n",
       "<table border=\"1\" class=\"dataframe\">\n",
       "  <thead>\n",
       "    <tr style=\"text-align: right;\">\n",
       "      <th></th>\n",
       "      <th>time</th>\n",
       "      <th>review</th>\n",
       "      <th>url</th>\n",
       "    </tr>\n",
       "  </thead>\n",
       "  <tbody>\n",
       "    <tr>\n",
       "      <th>0</th>\n",
       "      <td>2022. 10. 7. 20:20</td>\n",
       "      <td>[연예계]     태연 인스타스토리 베네피트,NERD 태연화보    ...</td>\n",
       "      <td>https://blog.naver.com/gnssudpdy/222894509235</td>\n",
       "    </tr>\n",
       "    <tr>\n",
       "      <th>1</th>\n",
       "      <td>2022. 10. 3. 16:43</td>\n",
       "      <td>[블챌] 평범한 일상 기록하기     '숲속의 담'과 함께한 휴일  ...</td>\n",
       "      <td>https://blog.naver.com/goonu1205/222890658036</td>\n",
       "    </tr>\n",
       "    <tr>\n",
       "      <th>2</th>\n",
       "      <td>2022. 3. 5. 15:36</td>\n",
       "      <td>게시판     손질도 간편하고 누구나 쉽게 소화할 수 있는 여자...</td>\n",
       "      <td>https://blog.naver.com/rmrmdkdk1/222664567952</td>\n",
       "    </tr>\n",
       "    <tr>\n",
       "      <th>3</th>\n",
       "      <td>2022. 2. 4. 12:41</td>\n",
       "      <td>에디터 J     여름쿨톤 태연, 김태리 겨울쿨톤 현아, 선미처...</td>\n",
       "      <td>https://blog.naver.com/iwedding_story/22263862...</td>\n",
       "    </tr>\n",
       "    <tr>\n",
       "      <th>4</th>\n",
       "      <td>2022. 3. 9. 23:42</td>\n",
       "      <td>탱스타그램     220309 태연 인스타그램(태연 생일)      ...</td>\n",
       "      <td>https://blog.naver.com/ntjeyj/222668319273</td>\n",
       "    </tr>\n",
       "    <tr>\n",
       "      <th>...</th>\n",
       "      <td>...</td>\n",
       "      <td>...</td>\n",
       "      <td>...</td>\n",
       "    </tr>\n",
       "    <tr>\n",
       "      <th>957</th>\n",
       "      <td>2022. 1. 18. 15:10</td>\n",
       "      <td>Fashion     태연 트레이닝복 세트, 널디 크롭후드집업   여...</td>\n",
       "      <td>https://blog.naver.com/hug387/222624812698</td>\n",
       "    </tr>\n",
       "    <tr>\n",
       "      <th>958</th>\n",
       "      <td>2022. 1. 16. 16:32</td>\n",
       "      <td>패션     Y2K패션, 하이틴 패션에 대하여       Maquin...</td>\n",
       "      <td>https://blog.naver.com/maquina86/222623175570</td>\n",
       "    </tr>\n",
       "    <tr>\n",
       "      <th>959</th>\n",
       "      <td>2022. 5. 26. 15:32</td>\n",
       "      <td>2022     220526 태연 인스타그램 스토리 ☀️🌿      ...</td>\n",
       "      <td>https://blog.naver.com/wjdtjdrbs123/222747528438</td>\n",
       "    </tr>\n",
       "    <tr>\n",
       "      <th>960</th>\n",
       "      <td>2022. 4. 9. 13:57</td>\n",
       "      <td>명함제작  명찰제작  리플렛디자인  중국비자  중국상용비자  브로셔디자인  전단...</td>\n",
       "      <td>https://blog.naver.com/xanthenelson/222695996087</td>\n",
       "    </tr>\n",
       "    <tr>\n",
       "      <th>961</th>\n",
       "      <td>2022. 5. 16. 10:49</td>\n",
       "      <td>헤어 트렌드     다가오는 여름에 하고싶은 2022 여름 염색컬러 ...</td>\n",
       "      <td>https://blog.naver.com/leeyoungju117/222734159784</td>\n",
       "    </tr>\n",
       "  </tbody>\n",
       "</table>\n",
       "<p>962 rows × 3 columns</p>\n",
       "</div>"
      ],
      "text/plain": [
       "                   time                                             review  \\\n",
       "0    2022. 10. 7. 20:20          [연예계]     태연 인스타스토리 베네피트,NERD 태연화보    ...   \n",
       "1    2022. 10. 3. 16:43          [블챌] 평범한 일상 기록하기     '숲속의 담'과 함께한 휴일  ...   \n",
       "2     2022. 3. 5. 15:36             게시판     손질도 간편하고 누구나 쉽게 소화할 수 있는 여자...   \n",
       "3     2022. 2. 4. 12:41             에디터 J     여름쿨톤 태연, 김태리 겨울쿨톤 현아, 선미처...   \n",
       "4     2022. 3. 9. 23:42          탱스타그램     220309 태연 인스타그램(태연 생일)      ...   \n",
       "..                  ...                                                ...   \n",
       "957  2022. 1. 18. 15:10          Fashion     태연 트레이닝복 세트, 널디 크롭후드집업   여...   \n",
       "958  2022. 1. 16. 16:32          패션     Y2K패션, 하이틴 패션에 대하여       Maquin...   \n",
       "959  2022. 5. 26. 15:32          2022     220526 태연 인스타그램 스토리 ☀️🌿      ...   \n",
       "960   2022. 4. 9. 13:57    명함제작  명찰제작  리플렛디자인  중국비자  중국상용비자  브로셔디자인  전단...   \n",
       "961  2022. 5. 16. 10:49          헤어 트렌드     다가오는 여름에 하고싶은 2022 여름 염색컬러 ...   \n",
       "\n",
       "                                                   url  \n",
       "0        https://blog.naver.com/gnssudpdy/222894509235  \n",
       "1        https://blog.naver.com/goonu1205/222890658036  \n",
       "2        https://blog.naver.com/rmrmdkdk1/222664567952  \n",
       "3    https://blog.naver.com/iwedding_story/22263862...  \n",
       "4           https://blog.naver.com/ntjeyj/222668319273  \n",
       "..                                                 ...  \n",
       "957         https://blog.naver.com/hug387/222624812698  \n",
       "958      https://blog.naver.com/maquina86/222623175570  \n",
       "959   https://blog.naver.com/wjdtjdrbs123/222747528438  \n",
       "960   https://blog.naver.com/xanthenelson/222695996087  \n",
       "961  https://blog.naver.com/leeyoungju117/222734159784  \n",
       "\n",
       "[962 rows x 3 columns]"
      ]
     },
     "execution_count": 27,
     "metadata": {},
     "output_type": "execute_result"
    }
   ],
   "source": [
    "df"
   ]
  },
  {
   "cell_type": "code",
   "execution_count": 28,
   "id": "c8ccc633",
   "metadata": {},
   "outputs": [],
   "source": [
    "df.to_csv('제니인스타그램(2022).csv',encoding='utf-8-sig')"
   ]
  }
 ],
 "metadata": {
  "kernelspec": {
   "display_name": "Python 3.9.12 ('base')",
   "language": "python",
   "name": "python3"
  },
  "language_info": {
   "codemirror_mode": {
    "name": "ipython",
    "version": 3
   },
   "file_extension": ".py",
   "mimetype": "text/x-python",
   "name": "python",
   "nbconvert_exporter": "python",
   "pygments_lexer": "ipython3",
   "version": "3.9.12 (main, Apr  4 2022, 05:22:27) [MSC v.1916 64 bit (AMD64)]"
  },
  "vscode": {
   "interpreter": {
    "hash": "a077222d77dfe082b8f1dd562ad70e458ac2ab76993a0b248ab0476e32e9e8dd"
   }
  }
 },
 "nbformat": 4,
 "nbformat_minor": 5
}
