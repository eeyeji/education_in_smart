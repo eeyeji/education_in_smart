{
 "cells": [
  {
   "cell_type": "markdown",
   "metadata": {},
   "source": [
    "##### 광고 제거\n",
    "- 크롤링 파일 로드"
   ]
  },
  {
   "cell_type": "code",
   "execution_count": 27,
   "metadata": {},
   "outputs": [],
   "source": [
    "from tqdm import tqdm\n",
    "tqdm.pandas()\n",
    "#data['doc']=data['doc'].progress_apply(lambda x : clean_text(x))"
   ]
  },
  {
   "cell_type": "code",
   "execution_count": 33,
   "metadata": {},
   "outputs": [
    {
     "data": {
      "text/html": [
       "<div>\n",
       "<style scoped>\n",
       "    .dataframe tbody tr th:only-of-type {\n",
       "        vertical-align: middle;\n",
       "    }\n",
       "\n",
       "    .dataframe tbody tr th {\n",
       "        vertical-align: top;\n",
       "    }\n",
       "\n",
       "    .dataframe thead th {\n",
       "        text-align: right;\n",
       "    }\n",
       "</style>\n",
       "<table border=\"1\" class=\"dataframe\">\n",
       "  <thead>\n",
       "    <tr style=\"text-align: right;\">\n",
       "      <th></th>\n",
       "      <th>Unnamed: 0</th>\n",
       "      <th>time</th>\n",
       "      <th>review</th>\n",
       "      <th>url</th>\n",
       "    </tr>\n",
       "  </thead>\n",
       "  <tbody>\n",
       "    <tr>\n",
       "      <th>0</th>\n",
       "      <td>0</td>\n",
       "      <td>2022. 3. 30. 23:57</td>\n",
       "      <td>Style news     선미 인스타그램 속 가방, 셋업 코디 패션...</td>\n",
       "      <td>https://blog.naver.com/lovegono/222687454926</td>\n",
       "    </tr>\n",
       "    <tr>\n",
       "      <th>1</th>\n",
       "      <td>1</td>\n",
       "      <td>2022. 5. 9. 13:10</td>\n",
       "      <td>지수 드라마 [설강화]     220504 배우 김혜윤 인스타그램에 ...</td>\n",
       "      <td>https://blog.naver.com/syr03051/222723113775</td>\n",
       "    </tr>\n",
       "    <tr>\n",
       "      <th>2</th>\n",
       "      <td>2</td>\n",
       "      <td>2022. 2. 16. 14:00</td>\n",
       "      <td>fashion     제니 화보 패션, 인스타그램 속 캘빈클라인 언더...</td>\n",
       "      <td>https://blog.naver.com/hyperealism/222649161213</td>\n",
       "    </tr>\n",
       "    <tr>\n",
       "      <th>3</th>\n",
       "      <td>3</td>\n",
       "      <td>2022. 9. 29. 8:10</td>\n",
       "      <td>블핑/ 인스타,트위터,SNS     220901 블랙핑크 리사 인스타...</td>\n",
       "      <td>https://blog.naver.com/syr03051/222885506031</td>\n",
       "    </tr>\n",
       "    <tr>\n",
       "      <th>4</th>\n",
       "      <td>4</td>\n",
       "      <td>2022. 9. 2. 14:52</td>\n",
       "      <td>BLACKPINK     블랙핑크 지수 인스타그램 사진들 모음 202...</td>\n",
       "      <td>https://blog.naver.com/fenergy12/222864930875</td>\n",
       "    </tr>\n",
       "    <tr>\n",
       "      <th>...</th>\n",
       "      <td>...</td>\n",
       "      <td>...</td>\n",
       "      <td>...</td>\n",
       "      <td>...</td>\n",
       "    </tr>\n",
       "    <tr>\n",
       "      <th>38581</th>\n",
       "      <td>229</td>\n",
       "      <td>2022. 3. 13. 21:42</td>\n",
       "      <td>정보     웰리카 크리스탈 콜라겐 비오틴까지 챙긴 기능성 콜라겐  ...</td>\n",
       "      <td>https://blog.naver.com/meinjess/222671625483</td>\n",
       "    </tr>\n",
       "    <tr>\n",
       "      <th>38582</th>\n",
       "      <td>230</td>\n",
       "      <td>2022. 6. 13. 1:22</td>\n",
       "      <td>SHOPPING     키라키라! 핫한 인스타그램 셀럽백 KAR...</td>\n",
       "      <td>https://blog.naver.com/reeie80/222770518097</td>\n",
       "    </tr>\n",
       "    <tr>\n",
       "      <th>38583</th>\n",
       "      <td>231</td>\n",
       "      <td>2022. 3. 6. 12:58</td>\n",
       "      <td>리뷰     크리스탈 문진 2만원대 선물 추천 #마이시리즈      ...</td>\n",
       "      <td>https://blog.naver.com/poooo_rin/222665188415</td>\n",
       "    </tr>\n",
       "    <tr>\n",
       "      <th>38584</th>\n",
       "      <td>232</td>\n",
       "      <td>2022. 9. 26. 18:00</td>\n",
       "      <td>Celeb N Style     크리스탈, 김도연, 김민주, 이...</td>\n",
       "      <td>https://blog.naver.com/99551414/222884824810</td>\n",
       "    </tr>\n",
       "    <tr>\n",
       "      <th>38585</th>\n",
       "      <td>233</td>\n",
       "      <td>2022. 4. 27. 3:06</td>\n",
       "      <td>사랑해나     [송파/강동]디어크리스탈 혼주 메이크업 솔직 찐후기 ...</td>\n",
       "      <td>https://blog.naver.com/haenah0701/222712776681</td>\n",
       "    </tr>\n",
       "  </tbody>\n",
       "</table>\n",
       "<p>38586 rows × 4 columns</p>\n",
       "</div>"
      ],
      "text/plain": [
       "       Unnamed: 0                time  \\\n",
       "0               0  2022. 3. 30. 23:57   \n",
       "1               1   2022. 5. 9. 13:10   \n",
       "2               2  2022. 2. 16. 14:00   \n",
       "3               3   2022. 9. 29. 8:10   \n",
       "4               4   2022. 9. 2. 14:52   \n",
       "...           ...                 ...   \n",
       "38581         229  2022. 3. 13. 21:42   \n",
       "38582         230   2022. 6. 13. 1:22   \n",
       "38583         231   2022. 3. 6. 12:58   \n",
       "38584         232  2022. 9. 26. 18:00   \n",
       "38585         233   2022. 4. 27. 3:06   \n",
       "\n",
       "                                                  review  \\\n",
       "0              Style news     선미 인스타그램 속 가방, 셋업 코디 패션...   \n",
       "1              지수 드라마 [설강화]     220504 배우 김혜윤 인스타그램에 ...   \n",
       "2              fashion     제니 화보 패션, 인스타그램 속 캘빈클라인 언더...   \n",
       "3              블핑/ 인스타,트위터,SNS     220901 블랙핑크 리사 인스타...   \n",
       "4              BLACKPINK     블랙핑크 지수 인스타그램 사진들 모음 202...   \n",
       "...                                                  ...   \n",
       "38581          정보     웰리카 크리스탈 콜라겐 비오틴까지 챙긴 기능성 콜라겐  ...   \n",
       "38582             SHOPPING     키라키라! 핫한 인스타그램 셀럽백 KAR...   \n",
       "38583          리뷰     크리스탈 문진 2만원대 선물 추천 #마이시리즈      ...   \n",
       "38584             Celeb N Style     크리스탈, 김도연, 김민주, 이...   \n",
       "38585          사랑해나     [송파/강동]디어크리스탈 혼주 메이크업 솔직 찐후기 ...   \n",
       "\n",
       "                                                   url  \n",
       "0         https://blog.naver.com/lovegono/222687454926  \n",
       "1         https://blog.naver.com/syr03051/222723113775  \n",
       "2      https://blog.naver.com/hyperealism/222649161213  \n",
       "3         https://blog.naver.com/syr03051/222885506031  \n",
       "4        https://blog.naver.com/fenergy12/222864930875  \n",
       "...                                                ...  \n",
       "38581     https://blog.naver.com/meinjess/222671625483  \n",
       "38582      https://blog.naver.com/reeie80/222770518097  \n",
       "38583    https://blog.naver.com/poooo_rin/222665188415  \n",
       "38584     https://blog.naver.com/99551414/222884824810  \n",
       "38585   https://blog.naver.com/haenah0701/222712776681  \n",
       "\n",
       "[38586 rows x 4 columns]"
      ]
     },
     "execution_count": 33,
     "metadata": {},
     "output_type": "execute_result"
    }
   ],
   "source": [
    "import pandas as pd\n",
    "import numpy as np\n",
    "\n",
    "#크롤링 데이터 불러오기\n",
    "#본인이 크롤링한 파일 업로드\n",
    "data=pd.read_csv('아이돌인스타그램(데이터합치기).csv', encoding='utf-8-sig')\n",
    "data"
   ]
  },
  {
   "cell_type": "code",
   "execution_count": 34,
   "metadata": {},
   "outputs": [
    {
     "name": "stdout",
     "output_type": "stream",
     "text": [
      "<class 'pandas.core.frame.DataFrame'>\n",
      "RangeIndex: 38586 entries, 0 to 38585\n",
      "Data columns (total 3 columns):\n",
      " #   Column  Non-Null Count  Dtype \n",
      "---  ------  --------------  ----- \n",
      " 0   time    38586 non-null  object\n",
      " 1   review  38586 non-null  object\n",
      " 2   url     38586 non-null  object\n",
      "dtypes: object(3)\n",
      "memory usage: 904.5+ KB\n"
     ]
    }
   ],
   "source": [
    "#필요없는 컬럼 삭제\n",
    "del data['Unnamed: 0']\n",
    "data.info()"
   ]
  },
  {
   "cell_type": "code",
   "execution_count": 35,
   "metadata": {},
   "outputs": [
    {
     "data": {
      "text/plain": [
       "38586"
      ]
     },
     "execution_count": 35,
     "metadata": {},
     "output_type": "execute_result"
    }
   ],
   "source": [
    "len(data)"
   ]
  },
  {
   "cell_type": "code",
   "execution_count": 36,
   "metadata": {},
   "outputs": [
    {
     "data": {
      "text/plain": [
       "22922"
      ]
     },
     "execution_count": 36,
     "metadata": {},
     "output_type": "execute_result"
    }
   ],
   "source": [
    "#중복행 제거\n",
    "data.drop_duplicates(inplace=True)\n",
    "len(data)"
   ]
  },
  {
   "cell_type": "code",
   "execution_count": 37,
   "metadata": {},
   "outputs": [
    {
     "data": {
      "text/plain": [
       "time      0\n",
       "review    0\n",
       "url       0\n",
       "dtype: int64"
      ]
     },
     "execution_count": 37,
     "metadata": {},
     "output_type": "execute_result"
    }
   ],
   "source": [
    "#결측치 개수 확인\n",
    "data.isnull().sum()"
   ]
  },
  {
   "cell_type": "code",
   "execution_count": 38,
   "metadata": {},
   "outputs": [
    {
     "data": {
      "text/plain": [
       "22922"
      ]
     },
     "execution_count": 38,
     "metadata": {},
     "output_type": "execute_result"
    }
   ],
   "source": [
    "#결측치 삭제 후 적용(저장)\n",
    "data.dropna(inplace=True)\n",
    "#결측치 제거 후 데이터 수 확인\n",
    "len(data)"
   ]
  },
  {
   "cell_type": "code",
   "execution_count": 39,
   "metadata": {},
   "outputs": [
    {
     "data": {
      "text/html": [
       "<div>\n",
       "<style scoped>\n",
       "    .dataframe tbody tr th:only-of-type {\n",
       "        vertical-align: middle;\n",
       "    }\n",
       "\n",
       "    .dataframe tbody tr th {\n",
       "        vertical-align: top;\n",
       "    }\n",
       "\n",
       "    .dataframe thead th {\n",
       "        text-align: right;\n",
       "    }\n",
       "</style>\n",
       "<table border=\"1\" class=\"dataframe\">\n",
       "  <thead>\n",
       "    <tr style=\"text-align: right;\">\n",
       "      <th></th>\n",
       "      <th>time</th>\n",
       "      <th>doc</th>\n",
       "      <th>url</th>\n",
       "    </tr>\n",
       "  </thead>\n",
       "  <tbody>\n",
       "    <tr>\n",
       "      <th>0</th>\n",
       "      <td>2022. 3. 30. 23:57</td>\n",
       "      <td>Style news     선미 인스타그램 속 가방, 셋업 코디 패션...</td>\n",
       "      <td>https://blog.naver.com/lovegono/222687454926</td>\n",
       "    </tr>\n",
       "    <tr>\n",
       "      <th>1</th>\n",
       "      <td>2022. 5. 9. 13:10</td>\n",
       "      <td>지수 드라마 [설강화]     220504 배우 김혜윤 인스타그램에 ...</td>\n",
       "      <td>https://blog.naver.com/syr03051/222723113775</td>\n",
       "    </tr>\n",
       "    <tr>\n",
       "      <th>2</th>\n",
       "      <td>2022. 2. 16. 14:00</td>\n",
       "      <td>fashion     제니 화보 패션, 인스타그램 속 캘빈클라인 언더...</td>\n",
       "      <td>https://blog.naver.com/hyperealism/222649161213</td>\n",
       "    </tr>\n",
       "    <tr>\n",
       "      <th>3</th>\n",
       "      <td>2022. 9. 29. 8:10</td>\n",
       "      <td>블핑/ 인스타,트위터,SNS     220901 블랙핑크 리사 인스타...</td>\n",
       "      <td>https://blog.naver.com/syr03051/222885506031</td>\n",
       "    </tr>\n",
       "    <tr>\n",
       "      <th>4</th>\n",
       "      <td>2022. 9. 2. 14:52</td>\n",
       "      <td>BLACKPINK     블랙핑크 지수 인스타그램 사진들 모음 202...</td>\n",
       "      <td>https://blog.naver.com/fenergy12/222864930875</td>\n",
       "    </tr>\n",
       "  </tbody>\n",
       "</table>\n",
       "</div>"
      ],
      "text/plain": [
       "                 time                                                doc  \\\n",
       "0  2022. 3. 30. 23:57          Style news     선미 인스타그램 속 가방, 셋업 코디 패션...   \n",
       "1   2022. 5. 9. 13:10          지수 드라마 [설강화]     220504 배우 김혜윤 인스타그램에 ...   \n",
       "2  2022. 2. 16. 14:00          fashion     제니 화보 패션, 인스타그램 속 캘빈클라인 언더...   \n",
       "3   2022. 9. 29. 8:10          블핑/ 인스타,트위터,SNS     220901 블랙핑크 리사 인스타...   \n",
       "4   2022. 9. 2. 14:52          BLACKPINK     블랙핑크 지수 인스타그램 사진들 모음 202...   \n",
       "\n",
       "                                               url  \n",
       "0     https://blog.naver.com/lovegono/222687454926  \n",
       "1     https://blog.naver.com/syr03051/222723113775  \n",
       "2  https://blog.naver.com/hyperealism/222649161213  \n",
       "3     https://blog.naver.com/syr03051/222885506031  \n",
       "4    https://blog.naver.com/fenergy12/222864930875  "
      ]
     },
     "execution_count": 39,
     "metadata": {},
     "output_type": "execute_result"
    }
   ],
   "source": [
    "data.rename(columns={'review':'doc'}, inplace=True)\n",
    "data.head()"
   ]
  },
  {
   "cell_type": "code",
   "execution_count": 40,
   "metadata": {},
   "outputs": [
    {
     "data": {
      "text/html": [
       "<div>\n",
       "<style scoped>\n",
       "    .dataframe tbody tr th:only-of-type {\n",
       "        vertical-align: middle;\n",
       "    }\n",
       "\n",
       "    .dataframe tbody tr th {\n",
       "        vertical-align: top;\n",
       "    }\n",
       "\n",
       "    .dataframe thead th {\n",
       "        text-align: right;\n",
       "    }\n",
       "</style>\n",
       "<table border=\"1\" class=\"dataframe\">\n",
       "  <thead>\n",
       "    <tr style=\"text-align: right;\">\n",
       "      <th></th>\n",
       "      <th>time</th>\n",
       "      <th>doc</th>\n",
       "      <th>url</th>\n",
       "    </tr>\n",
       "  </thead>\n",
       "  <tbody>\n",
       "    <tr>\n",
       "      <th>0</th>\n",
       "      <td>2022. 3. 30. 23:57</td>\n",
       "      <td>Style news     선미 인스타그램 속 가방, 셋업 코디 패션...</td>\n",
       "      <td>https://blog.naver.com/lovegono/222687454926</td>\n",
       "    </tr>\n",
       "    <tr>\n",
       "      <th>1</th>\n",
       "      <td>2022. 5. 9. 13:10</td>\n",
       "      <td>지수 드라마 [설강화]     220504 배우 김혜윤 인스타그램에 ...</td>\n",
       "      <td>https://blog.naver.com/syr03051/222723113775</td>\n",
       "    </tr>\n",
       "    <tr>\n",
       "      <th>2</th>\n",
       "      <td>2022. 2. 16. 14:00</td>\n",
       "      <td>fashion     제니 화보 패션, 인스타그램 속 캘빈클라인 언더...</td>\n",
       "      <td>https://blog.naver.com/hyperealism/222649161213</td>\n",
       "    </tr>\n",
       "    <tr>\n",
       "      <th>3</th>\n",
       "      <td>2022. 9. 29. 8:10</td>\n",
       "      <td>블핑/ 인스타,트위터,SNS     220901 블랙핑크 리사 인스타...</td>\n",
       "      <td>https://blog.naver.com/syr03051/222885506031</td>\n",
       "    </tr>\n",
       "    <tr>\n",
       "      <th>4</th>\n",
       "      <td>2022. 9. 2. 14:52</td>\n",
       "      <td>BLACKPINK     블랙핑크 지수 인스타그램 사진들 모음 202...</td>\n",
       "      <td>https://blog.naver.com/fenergy12/222864930875</td>\n",
       "    </tr>\n",
       "    <tr>\n",
       "      <th>5</th>\n",
       "      <td>2022. 5. 10. 18:15</td>\n",
       "      <td>조던     나이키 에어 조던 1 로우 핑크시클 블랙핑크 블핑 GS ...</td>\n",
       "      <td>https://blog.naver.com/company_business/222727...</td>\n",
       "    </tr>\n",
       "    <tr>\n",
       "      <th>6</th>\n",
       "      <td>2022. 5. 7. 1:03</td>\n",
       "      <td>게시판     블랙핑크 로제 - 220507, roses_are_ro...</td>\n",
       "      <td>https://blog.naver.com/199651/222723356800</td>\n",
       "    </tr>\n",
       "    <tr>\n",
       "      <th>7</th>\n",
       "      <td>2022. 5. 10. 23:33</td>\n",
       "      <td>About Hair Style     시크릿투톤 염색 후기가 궁금하다...</td>\n",
       "      <td>https://blog.naver.com/artistheojun/222727909995</td>\n",
       "    </tr>\n",
       "    <tr>\n",
       "      <th>8</th>\n",
       "      <td>2022. 2. 14. 11:52</td>\n",
       "      <td>KPOP NEWS     블랙핑크 제니,개미허리 과시하며 모델포스 물...</td>\n",
       "      <td>https://blog.naver.com/gkstkdwl/222647097452</td>\n",
       "    </tr>\n",
       "    <tr>\n",
       "      <th>9</th>\n",
       "      <td>2022. 1. 11. 6:45</td>\n",
       "      <td>뉴스     [음악뉴스]블랙핑크지수,카니예웨스트,워너원,릴웨인,aoa...</td>\n",
       "      <td>https://blog.naver.com/chris6549/222618446239</td>\n",
       "    </tr>\n",
       "  </tbody>\n",
       "</table>\n",
       "</div>"
      ],
      "text/plain": [
       "                 time                                                doc  \\\n",
       "0  2022. 3. 30. 23:57          Style news     선미 인스타그램 속 가방, 셋업 코디 패션...   \n",
       "1   2022. 5. 9. 13:10          지수 드라마 [설강화]     220504 배우 김혜윤 인스타그램에 ...   \n",
       "2  2022. 2. 16. 14:00          fashion     제니 화보 패션, 인스타그램 속 캘빈클라인 언더...   \n",
       "3   2022. 9. 29. 8:10          블핑/ 인스타,트위터,SNS     220901 블랙핑크 리사 인스타...   \n",
       "4   2022. 9. 2. 14:52          BLACKPINK     블랙핑크 지수 인스타그램 사진들 모음 202...   \n",
       "5  2022. 5. 10. 18:15          조던     나이키 에어 조던 1 로우 핑크시클 블랙핑크 블핑 GS ...   \n",
       "6    2022. 5. 7. 1:03          게시판     블랙핑크 로제 - 220507, roses_are_ro...   \n",
       "7  2022. 5. 10. 23:33          About Hair Style     시크릿투톤 염색 후기가 궁금하다...   \n",
       "8  2022. 2. 14. 11:52          KPOP NEWS     블랙핑크 제니,개미허리 과시하며 모델포스 물...   \n",
       "9   2022. 1. 11. 6:45          뉴스     [음악뉴스]블랙핑크지수,카니예웨스트,워너원,릴웨인,aoa...   \n",
       "\n",
       "                                                 url  \n",
       "0       https://blog.naver.com/lovegono/222687454926  \n",
       "1       https://blog.naver.com/syr03051/222723113775  \n",
       "2    https://blog.naver.com/hyperealism/222649161213  \n",
       "3       https://blog.naver.com/syr03051/222885506031  \n",
       "4      https://blog.naver.com/fenergy12/222864930875  \n",
       "5  https://blog.naver.com/company_business/222727...  \n",
       "6         https://blog.naver.com/199651/222723356800  \n",
       "7   https://blog.naver.com/artistheojun/222727909995  \n",
       "8       https://blog.naver.com/gkstkdwl/222647097452  \n",
       "9      https://blog.naver.com/chris6549/222618446239  "
      ]
     },
     "execution_count": 40,
     "metadata": {},
     "output_type": "execute_result"
    }
   ],
   "source": [
    "data6=data[:10]\n",
    "data6"
   ]
  },
  {
   "cell_type": "code",
   "execution_count": 58,
   "metadata": {},
   "outputs": [
    {
     "name": "stderr",
     "output_type": "stream",
     "text": [
      "C:\\Users\\user\\AppData\\Local\\Temp\\ipykernel_7600\\3881049240.py:1: SettingWithCopyWarning: \n",
      "A value is trying to be set on a copy of a slice from a DataFrame.\n",
      "Try using .loc[row_indexer,col_indexer] = value instead\n",
      "\n",
      "See the caveats in the documentation: https://pandas.pydata.org/pandas-docs/stable/user_guide/indexing.html#returning-a-view-versus-a-copy\n",
      "  data6['newdoc']=data6['doc']\n"
     ]
    },
    {
     "data": {
      "text/html": [
       "<div>\n",
       "<style scoped>\n",
       "    .dataframe tbody tr th:only-of-type {\n",
       "        vertical-align: middle;\n",
       "    }\n",
       "\n",
       "    .dataframe tbody tr th {\n",
       "        vertical-align: top;\n",
       "    }\n",
       "\n",
       "    .dataframe thead th {\n",
       "        text-align: right;\n",
       "    }\n",
       "</style>\n",
       "<table border=\"1\" class=\"dataframe\">\n",
       "  <thead>\n",
       "    <tr style=\"text-align: right;\">\n",
       "      <th></th>\n",
       "      <th>time</th>\n",
       "      <th>doc</th>\n",
       "      <th>url</th>\n",
       "      <th>newdoc</th>\n",
       "    </tr>\n",
       "  </thead>\n",
       "  <tbody>\n",
       "    <tr>\n",
       "      <th>0</th>\n",
       "      <td>2022. 3. 30. 23:57</td>\n",
       "      <td>Style news     선미 인스타그램 속 가방, 셋업 코디 패션...</td>\n",
       "      <td>https://blog.naver.com/lovegono/222687454926</td>\n",
       "      <td>Style news     선미 인스타그램 속 가방, 셋업 코디 패션...</td>\n",
       "    </tr>\n",
       "    <tr>\n",
       "      <th>1</th>\n",
       "      <td>2022. 5. 9. 13:10</td>\n",
       "      <td>지수 드라마 [설강화]     220504 배우 김혜윤 인스타그램에 ...</td>\n",
       "      <td>https://blog.naver.com/syr03051/222723113775</td>\n",
       "      <td>지수 드라마 [설강화]     220504 배우 김혜윤 인스타그램에 ...</td>\n",
       "    </tr>\n",
       "    <tr>\n",
       "      <th>2</th>\n",
       "      <td>2022. 2. 16. 14:00</td>\n",
       "      <td>fashion     제니 화보 패션, 인스타그램 속 캘빈클라인 언더...</td>\n",
       "      <td>https://blog.naver.com/hyperealism/222649161213</td>\n",
       "      <td>fashion     제니 화보 패션, 인스타그램 속 캘빈클라인 언더...</td>\n",
       "    </tr>\n",
       "    <tr>\n",
       "      <th>3</th>\n",
       "      <td>2022. 9. 29. 8:10</td>\n",
       "      <td>블핑/ 인스타,트위터,SNS     220901 블랙핑크 리사 인스타...</td>\n",
       "      <td>https://blog.naver.com/syr03051/222885506031</td>\n",
       "      <td>블핑/ 인스타,트위터,SNS     220901 블랙핑크 리사 인스타...</td>\n",
       "    </tr>\n",
       "    <tr>\n",
       "      <th>4</th>\n",
       "      <td>2022. 9. 2. 14:52</td>\n",
       "      <td>BLACKPINK     블랙핑크 지수 인스타그램 사진들 모음 202...</td>\n",
       "      <td>https://blog.naver.com/fenergy12/222864930875</td>\n",
       "      <td>BLACKPINK     블랙핑크 지수 인스타그램 사진들 모음 202...</td>\n",
       "    </tr>\n",
       "    <tr>\n",
       "      <th>5</th>\n",
       "      <td>2022. 5. 10. 18:15</td>\n",
       "      <td>조던     나이키 에어 조던 1 로우 핑크시클 블랙핑크 블핑 GS ...</td>\n",
       "      <td>https://blog.naver.com/company_business/222727...</td>\n",
       "      <td>조던     나이키 에어 조던 1 로우 핑크시클 블랙핑크 블핑 GS ...</td>\n",
       "    </tr>\n",
       "    <tr>\n",
       "      <th>6</th>\n",
       "      <td>2022. 5. 7. 1:03</td>\n",
       "      <td>게시판     블랙핑크 로제 - 220507, roses_are_ro...</td>\n",
       "      <td>https://blog.naver.com/199651/222723356800</td>\n",
       "      <td>게시판     블랙핑크 로제 - 220507, roses_are_ro...</td>\n",
       "    </tr>\n",
       "    <tr>\n",
       "      <th>7</th>\n",
       "      <td>2022. 5. 10. 23:33</td>\n",
       "      <td>About Hair Style     시크릿투톤 염색 후기가 궁금하다...</td>\n",
       "      <td>https://blog.naver.com/artistheojun/222727909995</td>\n",
       "      <td>About Hair Style     시크릿투톤 염색 후기가 궁금하다...</td>\n",
       "    </tr>\n",
       "    <tr>\n",
       "      <th>8</th>\n",
       "      <td>2022. 2. 14. 11:52</td>\n",
       "      <td>KPOP NEWS     블랙핑크 제니,개미허리 과시하며 모델포스 물...</td>\n",
       "      <td>https://blog.naver.com/gkstkdwl/222647097452</td>\n",
       "      <td>KPOP NEWS     블랙핑크 제니,개미허리 과시하며 모델포스 물...</td>\n",
       "    </tr>\n",
       "    <tr>\n",
       "      <th>9</th>\n",
       "      <td>2022. 1. 11. 6:45</td>\n",
       "      <td>뉴스     [음악뉴스]블랙핑크지수,카니예웨스트,워너원,릴웨인,aoa...</td>\n",
       "      <td>https://blog.naver.com/chris6549/222618446239</td>\n",
       "      <td>뉴스     [음악뉴스]블랙핑크지수,카니예웨스트,워너원,릴웨인,aoa...</td>\n",
       "    </tr>\n",
       "  </tbody>\n",
       "</table>\n",
       "</div>"
      ],
      "text/plain": [
       "                 time                                                doc  \\\n",
       "0  2022. 3. 30. 23:57          Style news     선미 인스타그램 속 가방, 셋업 코디 패션...   \n",
       "1   2022. 5. 9. 13:10          지수 드라마 [설강화]     220504 배우 김혜윤 인스타그램에 ...   \n",
       "2  2022. 2. 16. 14:00          fashion     제니 화보 패션, 인스타그램 속 캘빈클라인 언더...   \n",
       "3   2022. 9. 29. 8:10          블핑/ 인스타,트위터,SNS     220901 블랙핑크 리사 인스타...   \n",
       "4   2022. 9. 2. 14:52          BLACKPINK     블랙핑크 지수 인스타그램 사진들 모음 202...   \n",
       "5  2022. 5. 10. 18:15          조던     나이키 에어 조던 1 로우 핑크시클 블랙핑크 블핑 GS ...   \n",
       "6    2022. 5. 7. 1:03          게시판     블랙핑크 로제 - 220507, roses_are_ro...   \n",
       "7  2022. 5. 10. 23:33          About Hair Style     시크릿투톤 염색 후기가 궁금하다...   \n",
       "8  2022. 2. 14. 11:52          KPOP NEWS     블랙핑크 제니,개미허리 과시하며 모델포스 물...   \n",
       "9   2022. 1. 11. 6:45          뉴스     [음악뉴스]블랙핑크지수,카니예웨스트,워너원,릴웨인,aoa...   \n",
       "\n",
       "                                                 url  \\\n",
       "0       https://blog.naver.com/lovegono/222687454926   \n",
       "1       https://blog.naver.com/syr03051/222723113775   \n",
       "2    https://blog.naver.com/hyperealism/222649161213   \n",
       "3       https://blog.naver.com/syr03051/222885506031   \n",
       "4      https://blog.naver.com/fenergy12/222864930875   \n",
       "5  https://blog.naver.com/company_business/222727...   \n",
       "6         https://blog.naver.com/199651/222723356800   \n",
       "7   https://blog.naver.com/artistheojun/222727909995   \n",
       "8       https://blog.naver.com/gkstkdwl/222647097452   \n",
       "9      https://blog.naver.com/chris6549/222618446239   \n",
       "\n",
       "                                              newdoc  \n",
       "0          Style news     선미 인스타그램 속 가방, 셋업 코디 패션...  \n",
       "1          지수 드라마 [설강화]     220504 배우 김혜윤 인스타그램에 ...  \n",
       "2          fashion     제니 화보 패션, 인스타그램 속 캘빈클라인 언더...  \n",
       "3          블핑/ 인스타,트위터,SNS     220901 블랙핑크 리사 인스타...  \n",
       "4          BLACKPINK     블랙핑크 지수 인스타그램 사진들 모음 202...  \n",
       "5          조던     나이키 에어 조던 1 로우 핑크시클 블랙핑크 블핑 GS ...  \n",
       "6          게시판     블랙핑크 로제 - 220507, roses_are_ro...  \n",
       "7          About Hair Style     시크릿투톤 염색 후기가 궁금하다...  \n",
       "8          KPOP NEWS     블랙핑크 제니,개미허리 과시하며 모델포스 물...  \n",
       "9          뉴스     [음악뉴스]블랙핑크지수,카니예웨스트,워너원,릴웨인,aoa...  "
      ]
     },
     "execution_count": 58,
     "metadata": {},
     "output_type": "execute_result"
    }
   ],
   "source": [
    "data6['newdoc']=data6['doc']\n",
    "data6"
   ]
  },
  {
   "cell_type": "code",
   "execution_count": null,
   "metadata": {},
   "outputs": [],
   "source": [
    "new = []\n",
    "for i in tqdm(okay):\n",
    "    for j in range(len(df['doc_new'])):\n",
    "         new.append(df['doc_new'][j].replace(i,'가능'))"
   ]
  },
  {
   "cell_type": "code",
   "execution_count": 59,
   "metadata": {},
   "outputs": [
    {
     "name": "stderr",
     "output_type": "stream",
     "text": [
      "C:\\Users\\user\\AppData\\Local\\Temp\\ipykernel_7600\\86656659.py:6: SettingWithCopyWarning: \n",
      "A value is trying to be set on a copy of a slice from a DataFrame\n",
      "\n",
      "See the caveats in the documentation: https://pandas.pydata.org/pandas-docs/stable/user_guide/indexing.html#returning-a-view-versus-a-copy\n",
      "  data6['newdoc'][j]=data6['newdoc'][j].replace(i,'가능')\n"
     ]
    },
    {
     "data": {
      "text/html": [
       "<div>\n",
       "<style scoped>\n",
       "    .dataframe tbody tr th:only-of-type {\n",
       "        vertical-align: middle;\n",
       "    }\n",
       "\n",
       "    .dataframe tbody tr th {\n",
       "        vertical-align: top;\n",
       "    }\n",
       "\n",
       "    .dataframe thead th {\n",
       "        text-align: right;\n",
       "    }\n",
       "</style>\n",
       "<table border=\"1\" class=\"dataframe\">\n",
       "  <thead>\n",
       "    <tr style=\"text-align: right;\">\n",
       "      <th></th>\n",
       "      <th>0</th>\n",
       "    </tr>\n",
       "  </thead>\n",
       "  <tbody>\n",
       "    <tr>\n",
       "      <th>0</th>\n",
       "      <td>Style news     선미 인스타그램 속 가방, 셋업 코디 패션...</td>\n",
       "    </tr>\n",
       "    <tr>\n",
       "      <th>1</th>\n",
       "      <td>가능 드라마 [설강화]     220504 배우 김혜윤 인스타그램에 ...</td>\n",
       "    </tr>\n",
       "    <tr>\n",
       "      <th>2</th>\n",
       "      <td>fashion     가능 화보 패션, 인스타그램 속 캘빈클라인 언더...</td>\n",
       "    </tr>\n",
       "    <tr>\n",
       "      <th>3</th>\n",
       "      <td>가능/ 인스타,트위터,SNS     220901 가능 리사 인스타그램...</td>\n",
       "    </tr>\n",
       "    <tr>\n",
       "      <th>4</th>\n",
       "      <td>BLACKPINK     가능 가능 인스타그램 사진들 모음 20220...</td>\n",
       "    </tr>\n",
       "    <tr>\n",
       "      <th>5</th>\n",
       "      <td>조던     나이키 에어 조던 1 로우 핑크시클 가능 가능 GS 55...</td>\n",
       "    </tr>\n",
       "    <tr>\n",
       "      <th>6</th>\n",
       "      <td>게시판     가능 로제 - 220507, roses_are_rosi...</td>\n",
       "    </tr>\n",
       "    <tr>\n",
       "      <th>7</th>\n",
       "      <td>About Hair Style     시크릿투톤 염색 후기가 궁금하다...</td>\n",
       "    </tr>\n",
       "    <tr>\n",
       "      <th>8</th>\n",
       "      <td>KPOP NEWS     가능 가능,개미허리 과시하며 모델포스 물씬!...</td>\n",
       "    </tr>\n",
       "    <tr>\n",
       "      <th>9</th>\n",
       "      <td>뉴스     [음악뉴스]가능가능,카니예웨스트,워너원,릴웨인,aoa지민...</td>\n",
       "    </tr>\n",
       "  </tbody>\n",
       "</table>\n",
       "</div>"
      ],
      "text/plain": [
       "                                                   0\n",
       "0          Style news     선미 인스타그램 속 가방, 셋업 코디 패션...\n",
       "1          가능 드라마 [설강화]     220504 배우 김혜윤 인스타그램에 ...\n",
       "2          fashion     가능 화보 패션, 인스타그램 속 캘빈클라인 언더...\n",
       "3          가능/ 인스타,트위터,SNS     220901 가능 리사 인스타그램...\n",
       "4          BLACKPINK     가능 가능 인스타그램 사진들 모음 20220...\n",
       "5          조던     나이키 에어 조던 1 로우 핑크시클 가능 가능 GS 55...\n",
       "6          게시판     가능 로제 - 220507, roses_are_rosi...\n",
       "7          About Hair Style     시크릿투톤 염색 후기가 궁금하다...\n",
       "8          KPOP NEWS     가능 가능,개미허리 과시하며 모델포스 물씬!...\n",
       "9          뉴스     [음악뉴스]가능가능,카니예웨스트,워너원,릴웨인,aoa지민..."
      ]
     },
     "execution_count": 59,
     "metadata": {},
     "output_type": "execute_result"
    }
   ],
   "source": [
    "okay=['지수','제니', '블핑', '블랙핑크']\n",
    "new=[]\n",
    "\n",
    "for j in range(len(data6['newdoc'])):\n",
    "    for i in (okay):\n",
    "        data6['newdoc'][j]=data6['newdoc'][j].replace(i,'가능')\n",
    "    new.append(data6['newdoc'][j])\n",
    "    #new.append(a)\n",
    "data=pd.DataFrame(new)\n",
    "data"
   ]
  },
  {
   "cell_type": "code",
   "execution_count": 60,
   "metadata": {},
   "outputs": [
    {
     "data": {
      "text/plain": [
       "10"
      ]
     },
     "execution_count": 60,
     "metadata": {},
     "output_type": "execute_result"
    }
   ],
   "source": [
    "len(new)"
   ]
  },
  {
   "cell_type": "code",
   "execution_count": null,
   "metadata": {},
   "outputs": [],
   "source": []
  },
  {
   "cell_type": "markdown",
   "metadata": {},
   "source": [
    "##### 광고글의 특징\n",
    "- 1.특정 단어를 포함한 게시글: \"제공받아\", \"지원받아\", \"해당업체\" 등등\n",
    "- 2.(네이버 블로그 특징) 게시글 길이가 3000자 이상이면 광고글 상위 노출 조건에 해당하여 광고로 볼 수 있음"
   ]
  },
  {
   "cell_type": "markdown",
   "metadata": {},
   "source": [
    "1번 특징 제거\n",
    "- 광고글 특징을 stopwords로 지정하여 해당 글은 삭제할 수 있도록 한다.\n",
    "- 분석가 판단 하에 추가 광고 문구를 확인하여 stopwords 리스트에 추가해준다."
   ]
  },
  {
   "cell_type": "code",
   "execution_count": 10,
   "metadata": {},
   "outputs": [],
   "source": [
    "Stopwords = [\"제공받아\", \"제공받았\", \"지원받아\", \"지원받았\", \"해당업체\", \"해당업체\",\n",
    "            \"해시태그\", \"협찬받아\", \"업체로부터\", \"체험후기\", \"무상지급받은\", \"무상지급\"\n",
    "            ,\"카카오톡플러스친구\", \"톡톡하세요\", \"네이버톡톡\", \"무상지원\", \"카카오톡 플러스친구\"\n",
    "            , \"스토리링크\", \"스토리 링크\", \"카카오 채널\", '미용실', '열애', '연애', '노트'\n",
    "            ,'디퓨저', '챠밍오', '연락주세요', '문의주세요', '관심뉴스', '핑핑 코디 벌써부터 주문 많아요'\n",
    "            , '로제와인', '정글피쉬', '반영구', '김애교', '뉴스', '기자', '응모자', '미장셴'\n",
    "            , \"응모자\", \"미장센\", \"스포츠한국\", \"라이프매니저\", \"시현하다\", \"필독\", '나인티고 안혜연'\n",
    "            , \"스포티파이\", '방송댄스', '댄스학원', '쿠시마사','침대', '류이서'\n",
    "            , '김세정', '전자담배', '밥집', '인테리어', '선제골', '시공', '메가비타민', '미아방지팔찌', \"무당벌레\", \"롯데호텔\"\n",
    "            , \"신청양식\", \"블랙박스\", \"꿈틀이샘\", \"생명과학\", \"와인\", \"살림\", \"학대\", \"왁싱\", \"애플워치\"\n",
    "            , \"징크스\", \"어린이집\", \"꽃집\"\n",
    "            ]"
   ]
  },
  {
   "cell_type": "code",
   "execution_count": 11,
   "metadata": {},
   "outputs": [
    {
     "data": {
      "text/html": [
       "<div>\n",
       "<style scoped>\n",
       "    .dataframe tbody tr th:only-of-type {\n",
       "        vertical-align: middle;\n",
       "    }\n",
       "\n",
       "    .dataframe tbody tr th {\n",
       "        vertical-align: top;\n",
       "    }\n",
       "\n",
       "    .dataframe thead th {\n",
       "        text-align: right;\n",
       "    }\n",
       "</style>\n",
       "<table border=\"1\" class=\"dataframe\">\n",
       "  <thead>\n",
       "    <tr style=\"text-align: right;\">\n",
       "      <th></th>\n",
       "      <th>time</th>\n",
       "      <th>doc</th>\n",
       "      <th>url</th>\n",
       "    </tr>\n",
       "  </thead>\n",
       "  <tbody>\n",
       "    <tr>\n",
       "      <th>0</th>\n",
       "      <td>2022. 3. 30. 23:57</td>\n",
       "      <td>Style news     선미 인스타그램 속 가방, 셋업 코디 패션...</td>\n",
       "      <td>https://blog.naver.com/lovegono/222687454926</td>\n",
       "    </tr>\n",
       "    <tr>\n",
       "      <th>1</th>\n",
       "      <td>2022. 5. 9. 13:10</td>\n",
       "      <td>지수 드라마 [설강화]     220504 배우 김혜윤 인스타그램에 ...</td>\n",
       "      <td>https://blog.naver.com/syr03051/222723113775</td>\n",
       "    </tr>\n",
       "    <tr>\n",
       "      <th>2</th>\n",
       "      <td>2022. 2. 16. 14:00</td>\n",
       "      <td>fashion     제니 화보 패션, 인스타그램 속 캘빈클라인 언더...</td>\n",
       "      <td>https://blog.naver.com/hyperealism/222649161213</td>\n",
       "    </tr>\n",
       "    <tr>\n",
       "      <th>3</th>\n",
       "      <td>2022. 9. 29. 8:10</td>\n",
       "      <td>블핑/ 인스타,트위터,SNS     220901 블랙핑크 리사 인스타...</td>\n",
       "      <td>https://blog.naver.com/syr03051/222885506031</td>\n",
       "    </tr>\n",
       "    <tr>\n",
       "      <th>4</th>\n",
       "      <td>2022. 9. 2. 14:52</td>\n",
       "      <td>BLACKPINK     블랙핑크 지수 인스타그램 사진들 모음 202...</td>\n",
       "      <td>https://blog.naver.com/fenergy12/222864930875</td>\n",
       "    </tr>\n",
       "    <tr>\n",
       "      <th>...</th>\n",
       "      <td>...</td>\n",
       "      <td>...</td>\n",
       "      <td>...</td>\n",
       "    </tr>\n",
       "    <tr>\n",
       "      <th>13542</th>\n",
       "      <td>2022. 3. 3. 17:31</td>\n",
       "      <td>MUSEE_DIARY     MUSÉE_ [뮤제] 크리스탈의 코스모폴...</td>\n",
       "      <td>https://blog.naver.com/estelle2005/222662948387</td>\n",
       "    </tr>\n",
       "    <tr>\n",
       "      <th>13543</th>\n",
       "      <td>2022. 6. 24. 10:07</td>\n",
       "      <td>패션정보     크리스탈 정수정 인스타그램 패션 속 미니스커트 정보 ...</td>\n",
       "      <td>https://blog.naver.com/saaaa03/222786787372</td>\n",
       "    </tr>\n",
       "    <tr>\n",
       "      <th>13544</th>\n",
       "      <td>2022. 10. 25. 16:19</td>\n",
       "      <td>패션정보     셀럽들이 사랑한 크리스탈헤이즈 하리보 목걸이 모음  ...</td>\n",
       "      <td>https://blog.naver.com/oj6676/222910145384</td>\n",
       "    </tr>\n",
       "    <tr>\n",
       "      <th>13545</th>\n",
       "      <td>2022. 6. 13. 1:22</td>\n",
       "      <td>SHOPPING     키라키라! 핫한 인스타그램 셀럽백 KAR...</td>\n",
       "      <td>https://blog.naver.com/reeie80/222770518097</td>\n",
       "    </tr>\n",
       "    <tr>\n",
       "      <th>13546</th>\n",
       "      <td>2022. 4. 27. 3:06</td>\n",
       "      <td>사랑해나     [송파/강동]디어크리스탈 혼주 메이크업 솔직 찐후기 ...</td>\n",
       "      <td>https://blog.naver.com/haenah0701/222712776681</td>\n",
       "    </tr>\n",
       "  </tbody>\n",
       "</table>\n",
       "<p>13547 rows × 3 columns</p>\n",
       "</div>"
      ],
      "text/plain": [
       "                      time                                                doc  \\\n",
       "0       2022. 3. 30. 23:57          Style news     선미 인스타그램 속 가방, 셋업 코디 패션...   \n",
       "1        2022. 5. 9. 13:10          지수 드라마 [설강화]     220504 배우 김혜윤 인스타그램에 ...   \n",
       "2       2022. 2. 16. 14:00          fashion     제니 화보 패션, 인스타그램 속 캘빈클라인 언더...   \n",
       "3        2022. 9. 29. 8:10          블핑/ 인스타,트위터,SNS     220901 블랙핑크 리사 인스타...   \n",
       "4        2022. 9. 2. 14:52          BLACKPINK     블랙핑크 지수 인스타그램 사진들 모음 202...   \n",
       "...                    ...                                                ...   \n",
       "13542    2022. 3. 3. 17:31          MUSEE_DIARY     MUSÉE_ [뮤제] 크리스탈의 코스모폴...   \n",
       "13543   2022. 6. 24. 10:07          패션정보     크리스탈 정수정 인스타그램 패션 속 미니스커트 정보 ...   \n",
       "13544  2022. 10. 25. 16:19          패션정보     셀럽들이 사랑한 크리스탈헤이즈 하리보 목걸이 모음  ...   \n",
       "13545    2022. 6. 13. 1:22             SHOPPING     키라키라! 핫한 인스타그램 셀럽백 KAR...   \n",
       "13546    2022. 4. 27. 3:06          사랑해나     [송파/강동]디어크리스탈 혼주 메이크업 솔직 찐후기 ...   \n",
       "\n",
       "                                                   url  \n",
       "0         https://blog.naver.com/lovegono/222687454926  \n",
       "1         https://blog.naver.com/syr03051/222723113775  \n",
       "2      https://blog.naver.com/hyperealism/222649161213  \n",
       "3         https://blog.naver.com/syr03051/222885506031  \n",
       "4        https://blog.naver.com/fenergy12/222864930875  \n",
       "...                                                ...  \n",
       "13542  https://blog.naver.com/estelle2005/222662948387  \n",
       "13543      https://blog.naver.com/saaaa03/222786787372  \n",
       "13544       https://blog.naver.com/oj6676/222910145384  \n",
       "13545      https://blog.naver.com/reeie80/222770518097  \n",
       "13546   https://blog.naver.com/haenah0701/222712776681  \n",
       "\n",
       "[13547 rows x 3 columns]"
      ]
     },
     "execution_count": 11,
     "metadata": {},
     "output_type": "execute_result"
    }
   ],
   "source": [
    "#Stopwords가 들어간 글은 삭제\n",
    "#~:doc에서 Stopwords가 들어가있으면 제거하라는 의미\n",
    "data = data[~data['doc'].str.contains('|'.join(Stopwords))]\n",
    "data = data.reset_index(drop=True)\n",
    "data"
   ]
  },
  {
   "cell_type": "markdown",
   "metadata": {},
   "source": [
    "##### 게시글 길이가 3000자 이상이면 광고글 상위 노출 조건이기에 제거"
   ]
  },
  {
   "cell_type": "code",
   "execution_count": 12,
   "metadata": {},
   "outputs": [
    {
     "data": {
      "text/html": [
       "<div>\n",
       "<style scoped>\n",
       "    .dataframe tbody tr th:only-of-type {\n",
       "        vertical-align: middle;\n",
       "    }\n",
       "\n",
       "    .dataframe tbody tr th {\n",
       "        vertical-align: top;\n",
       "    }\n",
       "\n",
       "    .dataframe thead th {\n",
       "        text-align: right;\n",
       "    }\n",
       "</style>\n",
       "<table border=\"1\" class=\"dataframe\">\n",
       "  <thead>\n",
       "    <tr style=\"text-align: right;\">\n",
       "      <th></th>\n",
       "      <th>time</th>\n",
       "      <th>doc</th>\n",
       "      <th>url</th>\n",
       "    </tr>\n",
       "  </thead>\n",
       "  <tbody>\n",
       "    <tr>\n",
       "      <th>0</th>\n",
       "      <td>2022. 3. 30. 23:57</td>\n",
       "      <td>Style news     선미 인스타그램 속 가방, 셋업 코디 패션...</td>\n",
       "      <td>https://blog.naver.com/lovegono/222687454926</td>\n",
       "    </tr>\n",
       "    <tr>\n",
       "      <th>1</th>\n",
       "      <td>2022. 5. 9. 13:10</td>\n",
       "      <td>지수 드라마 [설강화]     220504 배우 김혜윤 인스타그램에 ...</td>\n",
       "      <td>https://blog.naver.com/syr03051/222723113775</td>\n",
       "    </tr>\n",
       "    <tr>\n",
       "      <th>2</th>\n",
       "      <td>2022. 9. 29. 8:10</td>\n",
       "      <td>블핑/ 인스타,트위터,SNS     220901 블랙핑크 리사 인스타...</td>\n",
       "      <td>https://blog.naver.com/syr03051/222885506031</td>\n",
       "    </tr>\n",
       "    <tr>\n",
       "      <th>3</th>\n",
       "      <td>2022. 9. 2. 14:52</td>\n",
       "      <td>BLACKPINK     블랙핑크 지수 인스타그램 사진들 모음 202...</td>\n",
       "      <td>https://blog.naver.com/fenergy12/222864930875</td>\n",
       "    </tr>\n",
       "    <tr>\n",
       "      <th>4</th>\n",
       "      <td>2022. 5. 7. 1:03</td>\n",
       "      <td>게시판     블랙핑크 로제 - 220507, roses_are_ro...</td>\n",
       "      <td>https://blog.naver.com/199651/222723356800</td>\n",
       "    </tr>\n",
       "    <tr>\n",
       "      <th>...</th>\n",
       "      <td>...</td>\n",
       "      <td>...</td>\n",
       "      <td>...</td>\n",
       "    </tr>\n",
       "    <tr>\n",
       "      <th>11286</th>\n",
       "      <td>2022. 10. 22. 21:23</td>\n",
       "      <td>Wallpaper     크리스탈 배경화면(26)/크리스탈 인스타그램...</td>\n",
       "      <td>https://blog.naver.com/snanyilovem/222907408682</td>\n",
       "    </tr>\n",
       "    <tr>\n",
       "      <th>11287</th>\n",
       "      <td>2022. 10. 8. 11:20</td>\n",
       "      <td>스타패션     크리스탈 정수정 인스타그램 스트라이프 럭비 티셔츠 /...</td>\n",
       "      <td>https://blog.naver.com/in_korean_style/2228947...</td>\n",
       "    </tr>\n",
       "    <tr>\n",
       "      <th>11288</th>\n",
       "      <td>2022. 6. 24. 10:07</td>\n",
       "      <td>패션정보     크리스탈 정수정 인스타그램 패션 속 미니스커트 정보 ...</td>\n",
       "      <td>https://blog.naver.com/saaaa03/222786787372</td>\n",
       "    </tr>\n",
       "    <tr>\n",
       "      <th>11289</th>\n",
       "      <td>2022. 10. 25. 16:19</td>\n",
       "      <td>패션정보     셀럽들이 사랑한 크리스탈헤이즈 하리보 목걸이 모음  ...</td>\n",
       "      <td>https://blog.naver.com/oj6676/222910145384</td>\n",
       "    </tr>\n",
       "    <tr>\n",
       "      <th>11290</th>\n",
       "      <td>2022. 4. 27. 3:06</td>\n",
       "      <td>사랑해나     [송파/강동]디어크리스탈 혼주 메이크업 솔직 찐후기 ...</td>\n",
       "      <td>https://blog.naver.com/haenah0701/222712776681</td>\n",
       "    </tr>\n",
       "  </tbody>\n",
       "</table>\n",
       "<p>11291 rows × 3 columns</p>\n",
       "</div>"
      ],
      "text/plain": [
       "                      time                                                doc  \\\n",
       "0       2022. 3. 30. 23:57          Style news     선미 인스타그램 속 가방, 셋업 코디 패션...   \n",
       "1        2022. 5. 9. 13:10          지수 드라마 [설강화]     220504 배우 김혜윤 인스타그램에 ...   \n",
       "2        2022. 9. 29. 8:10          블핑/ 인스타,트위터,SNS     220901 블랙핑크 리사 인스타...   \n",
       "3        2022. 9. 2. 14:52          BLACKPINK     블랙핑크 지수 인스타그램 사진들 모음 202...   \n",
       "4         2022. 5. 7. 1:03          게시판     블랙핑크 로제 - 220507, roses_are_ro...   \n",
       "...                    ...                                                ...   \n",
       "11286  2022. 10. 22. 21:23          Wallpaper     크리스탈 배경화면(26)/크리스탈 인스타그램...   \n",
       "11287   2022. 10. 8. 11:20          스타패션     크리스탈 정수정 인스타그램 스트라이프 럭비 티셔츠 /...   \n",
       "11288   2022. 6. 24. 10:07          패션정보     크리스탈 정수정 인스타그램 패션 속 미니스커트 정보 ...   \n",
       "11289  2022. 10. 25. 16:19          패션정보     셀럽들이 사랑한 크리스탈헤이즈 하리보 목걸이 모음  ...   \n",
       "11290    2022. 4. 27. 3:06          사랑해나     [송파/강동]디어크리스탈 혼주 메이크업 솔직 찐후기 ...   \n",
       "\n",
       "                                                     url  \n",
       "0           https://blog.naver.com/lovegono/222687454926  \n",
       "1           https://blog.naver.com/syr03051/222723113775  \n",
       "2           https://blog.naver.com/syr03051/222885506031  \n",
       "3          https://blog.naver.com/fenergy12/222864930875  \n",
       "4             https://blog.naver.com/199651/222723356800  \n",
       "...                                                  ...  \n",
       "11286    https://blog.naver.com/snanyilovem/222907408682  \n",
       "11287  https://blog.naver.com/in_korean_style/2228947...  \n",
       "11288        https://blog.naver.com/saaaa03/222786787372  \n",
       "11289         https://blog.naver.com/oj6676/222910145384  \n",
       "11290     https://blog.naver.com/haenah0701/222712776681  \n",
       "\n",
       "[11291 rows x 3 columns]"
      ]
     },
     "execution_count": 12,
     "metadata": {},
     "output_type": "execute_result"
    }
   ],
   "source": [
    "ix = data['doc'].str.len()>3000\n",
    "data=data.loc[~ix]\n",
    "data=data.reset_index(drop=True)\n",
    "data"
   ]
  },
  {
   "cell_type": "code",
   "execution_count": 13,
   "metadata": {},
   "outputs": [
    {
     "data": {
      "text/plain": [
       "11291"
      ]
     },
     "execution_count": 13,
     "metadata": {},
     "output_type": "execute_result"
    }
   ],
   "source": [
    "#중복행 제거\n",
    "data.drop_duplicates(['doc'], inplace=True)\n",
    "\n",
    "#새롭게 인덱스부여\n",
    "data.reset_index(inplace=True)\n",
    "\n",
    "len(data)"
   ]
  },
  {
   "cell_type": "code",
   "execution_count": 14,
   "metadata": {},
   "outputs": [
    {
     "name": "stderr",
     "output_type": "stream",
     "text": [
      "C:\\Users\\user\\AppData\\Local\\Temp\\ipykernel_7528\\4192237730.py:1: FutureWarning: The default value of regex will change from True to False in a future version.\n",
      "  data['sents'] = data.doc.str.replace(\"[^가-힣]\",\" \") # 한글만 남기고 특수문자, 숫자, 영어 삭제\n",
      "C:\\Users\\user\\AppData\\Local\\Temp\\ipykernel_7528\\4192237730.py:2: FutureWarning: The default value of regex will change from True to False in a future version.\n",
      "  data['sents'] = data.doc.str.replace(\"\\s+\", \" \") # white space 삭제\n",
      "C:\\Users\\user\\AppData\\Local\\Temp\\ipykernel_7528\\4192237730.py:7: FutureWarning: The default value of regex will change from True to False in a future version. In addition, single character regular expressions will *not* be treated as literal strings when regex=True.\n",
      "  data['sents']=data['doc'].str.replace('.', ' ')\n"
     ]
    },
    {
     "data": {
      "text/plain": [
       "11291"
      ]
     },
     "execution_count": 14,
     "metadata": {},
     "output_type": "execute_result"
    }
   ],
   "source": [
    "data['sents'] = data.doc.str.replace(\"[^가-힣]\",\" \") # 한글만 남기고 특수문자, 숫자, 영어 삭제\n",
    "data['sents'] = data.doc.str.replace(\"\\s+\", \" \") # white space 삭제\n",
    "data['sents']=data['doc'].str.replace('\"', ' ')\n",
    "data['sents']=data['doc'].str.replace(',', ' ')\n",
    "data['sents']=data['doc'].str.replace('\\n', ' ')\n",
    "data['sents']=data['doc'].str.replace('!', ' ')\n",
    "data['sents']=data['doc'].str.replace('.', ' ')\n",
    "len(data)"
   ]
  },
  {
   "cell_type": "code",
   "execution_count": 15,
   "metadata": {},
   "outputs": [],
   "source": [
    "data['sents']=data['doc'].str.replace('복사 이웃추가 본문 기타 기능 지도로 보기 전체지도지도닫기 공유하기', ' ')\n",
    "data['sents']=data['doc'].str.replace('복사 이웃추가 본문 기타 기능 공유하기', ' ')\n",
    "data['sents']=data['doc'].str.replace('복사 이웃추가 본문 기타 기능 공유하기 신고하기', ' ')\n",
    "data['sents']=data['doc'].str.replace('자세한 정보는 아래 공식홈페이지에서 확인하세요', ' ')\n",
    "data['sents']=data['doc'].str.replace('복사 이웃추가 본문 기타 기능 지도로 보기 전체지도지도닫기 공유하기 신고하기', ' ')\n",
    "data['sents']=data['doc'].str.replace('사진 및 동영상 보기', ' ')\n",
    "data['sents']=data['doc'].str.replace('신고하기', ' ')\n",
    "data['sents']=data['doc'].str.replace('즐겨찾기', ' ')\n",
    "data['sents']=data['doc'].str.replace('사진 및 동영상', ' ')\n",
    "data['sents']=data['doc'].str.replace('도움말라이센스', ' ')\n",
    "data['sents']=data['doc'].str.replace('동영상 인코딩 중입니다', ' ')\n",
    "data['sents']=data['doc'].str.replace('분 이상 소요될 수 있으며 영상의 길이에 따라 소요 시간은 달라집니다', ' ')\n",
    "data['sents']=data['doc'].str.replace('도움말 멀티트랙의 트랙별 영상은 우측 관련영상에서 볼 수 있습니다', ' ')\n",
    "data['sents']=data['doc'].str.replace('선거광고 안내 음소거 화질 선택 옵션자동 자동 화질 전체화면 광고정보 더보기초 후 초 후 재생 광고 후 계속됩니다', ' ')\n",
    "data['sents']=data['doc'].str.replace('공유소스 코드 주소복사 소스 복사 미지원으로 코드 퍼가기 기능은 더 이상 지원되지않습니다', ' ')\n",
    "data['sents']=data['doc'].str.replace('도움말 플레이어 복사 레이어 닫기', ' ')\n",
    "data['sents']=data['doc'].str.replace('마우스를 드래그 하세요', ' ')\n",
    "data['sents']=data['doc'].str.replace('재생 수', ' ')\n",
    "data['sents']=data['doc'].str.replace('새해 복 많이 받으시래요', ' ')\n",
    "data['sents']=data['doc'].str.replace('새해 복 많이 많이 받으세요', ' ')\n",
    "data['sents']=data['doc'].str.replace('행크', ' ')\n",
    "data['sents']=data['doc'].str.replace('여러분', ' ')\n",
    "data['sents']=data['doc'].str.replace('홍대 브랜드 센터 서울특별시 마포구 양화로 층 층', ' ')\n",
    "data['sents']=data['doc'].str.replace('서울특별시 강남구 논현로 길', ' ')"
   ]
  },
  {
   "cell_type": "code",
   "execution_count": 16,
   "metadata": {},
   "outputs": [
    {
     "data": {
      "text/plain": [
       "11291"
      ]
     },
     "execution_count": 16,
     "metadata": {},
     "output_type": "execute_result"
    }
   ],
   "source": [
    "len(data)"
   ]
  },
  {
   "cell_type": "code",
   "execution_count": 17,
   "metadata": {},
   "outputs": [
    {
     "data": {
      "text/plain": [
       "'        게시판     221119 ♡ 블랙핑크 로제, roses_are_rosie 인스타그램을       박채영   ・  2022. 11. 19. 22:27   URL 복사  이웃추가  본문 기타 기능                      공유하기                   신고하기                 Newark 💞 love u, miss u, will be back  soon. Mwah.                                            https://www.instagram.com/p/ClHMSEQyLbj/?igshid=MDM4ZDc5MmU=                 블랙핑크 로제 BLACKPINK ROSÉ       '"
      ]
     },
     "execution_count": 17,
     "metadata": {},
     "output_type": "execute_result"
    }
   ],
   "source": [
    "data.sents[253]"
   ]
  },
  {
   "cell_type": "code",
   "execution_count": 18,
   "metadata": {},
   "outputs": [],
   "source": [
    "#csv로 저장\n",
    "data.to_csv(\"아이돌인스타그램_2022(전처리 및 광고제거).csv\", encoding='utf-8-sig')"
   ]
  },
  {
   "cell_type": "markdown",
   "metadata": {},
   "source": [
    "# 형태소 분석(pos-tagging)\n",
    "- 텍스트 분석을 하기 위해서 단어의 형태로 데이터를 처리해줍니다\n",
    "- 단어로 만드는 과정에서 1)분석에 불필요한 불용어 제거 2)단어를 사전형으로 처리(가고 있다->\n",
    "'가다', '있다')\n",
    "- 명사, 형용사, 동사, 부사의 품사만 분석 대상으로 선정"
   ]
  },
  {
   "cell_type": "code",
   "execution_count": 19,
   "metadata": {},
   "outputs": [],
   "source": [
    "from nltk.corpus import stopwords\n",
    "import nltk\n",
    "from nltk.stem import WordNetLemmatizer, SnowballStemmer\n",
    "from nltk.stem.porter import *\n",
    "from nltk import word_tokenize"
   ]
  },
  {
   "cell_type": "code",
   "execution_count": 20,
   "metadata": {},
   "outputs": [],
   "source": [
    "from konlpy.tag import Okt"
   ]
  },
  {
   "cell_type": "code",
   "execution_count": 30,
   "metadata": {},
   "outputs": [],
   "source": [
    "#원하는 태그 추출&불용어 제거\n",
    "okt = Okt()\n",
    "\n",
    "#불용어\n",
    "#한국어불용어사전 불러오기\n",
    "stopwords = pd.read_csv('ko-stopwords.csv')\n",
    "\n",
    "stopwords=list(stopwords['stopwords'])\n",
    "stopwords.extend(['안녕하다', '되다', '보다', '되어다', '하다', '가다' , '받다', '드리다', '자다', '너무', '이다', '없다', '만'\n",
    "                  , '이렇게', '이미지', '말', '파', '눈', '분', '네', '위', '시', '감', '전', '후', '에스', '개', '데', '코드'\n",
    "                  , '명', '여', '싶다', '안', '전', '일리', '에이', '후', '백', '날', '만', '듯', '드', '님', '미국', '통해'\n",
    "                  , '몰', '점', '지난', '필라테스', '여러', '포스팅' \n",
    "                  ,'인스타그램', '인스타', '트위터', '댓글', '게시글', '게시물', '게시판'\n",
    "                  ,'리사', '지수', '블랙', '핑크', '블랙핑크', '블핑', '제니', '로제', '박채영'\n",
    "                  , '선미', '나연', '에스파', '카리나', '조이', '윤아', '태연', '전소미', '산다라박', '크리스탈', '손나은'\n",
    "                  , '수지', '안유진', '장원영', '레드벨벳', '전소미', '벨벳', '웬디', '그룹', '트와이스'\n",
    "                  , '팔로잉', '팔로워', '블로거', '아만다', '블로그', '슬기', '아이브', \n",
    "                 ]) #불용어 추가\n",
    "stopwords=set(stopwords)\n",
    "\n",
    "#형태소 분석 함수 만들기\n",
    "def okt_pos_tagging(string):\n",
    "    pos_words = okt.pos(string, stem=True, norm=True)#형태소 분석, 단어는 사전형으로 바꿔주기\n",
    "    words = [word for word, tag in pos_words if tag in ['Noun', 'Adjective', 'Verb', 'Adverb'] if word not in stopwords]\n",
    "    return words\n"
   ]
  },
  {
   "cell_type": "code",
   "execution_count": 32,
   "metadata": {},
   "outputs": [
    {
     "name": "stderr",
     "output_type": "stream",
     "text": [
      " 23%|█████████████████▍                                                           | 2554/11291 [00:53<03:03, 47.68it/s]\n"
     ]
    },
    {
     "ename": "UnicodeDecodeError",
     "evalue": "'utf-8' codec can't decode byte 0xed in position 16: invalid continuation byte",
     "output_type": "error",
     "traceback": [
      "\u001b[1;31m---------------------------------------------------------------------------\u001b[0m",
      "\u001b[1;31mUnicodeDecodeError\u001b[0m                        Traceback (most recent call last)",
      "Input \u001b[1;32mIn [32]\u001b[0m, in \u001b[0;36m<cell line: 3>\u001b[1;34m()\u001b[0m\n\u001b[0;32m      2\u001b[0m tokenizing_doc\u001b[38;5;241m=\u001b[39m[]\n\u001b[0;32m      3\u001b[0m \u001b[38;5;28;01mfor\u001b[39;00m i \u001b[38;5;129;01min\u001b[39;00m tqdm(data[\u001b[38;5;124m'\u001b[39m\u001b[38;5;124msents\u001b[39m\u001b[38;5;124m'\u001b[39m]):\n\u001b[1;32m----> 4\u001b[0m     tokenizing_doc\u001b[38;5;241m.\u001b[39mappend(\u001b[43mokt_pos_tagging\u001b[49m\u001b[43m(\u001b[49m\u001b[43mi\u001b[49m\u001b[43m)\u001b[49m)\n\u001b[0;32m      5\u001b[0m data[\u001b[38;5;124m'\u001b[39m\u001b[38;5;124mtoken\u001b[39m\u001b[38;5;124m'\u001b[39m]\u001b[38;5;241m=\u001b[39mtokenizing_doc\n",
      "Input \u001b[1;32mIn [30]\u001b[0m, in \u001b[0;36mokt_pos_tagging\u001b[1;34m(string)\u001b[0m\n\u001b[0;32m     22\u001b[0m \u001b[38;5;28;01mdef\u001b[39;00m \u001b[38;5;21mokt_pos_tagging\u001b[39m(string):\n\u001b[1;32m---> 23\u001b[0m     pos_words \u001b[38;5;241m=\u001b[39m \u001b[43mokt\u001b[49m\u001b[38;5;241;43m.\u001b[39;49m\u001b[43mpos\u001b[49m\u001b[43m(\u001b[49m\u001b[43mstring\u001b[49m\u001b[43m,\u001b[49m\u001b[43m \u001b[49m\u001b[43mstem\u001b[49m\u001b[38;5;241;43m=\u001b[39;49m\u001b[38;5;28;43;01mTrue\u001b[39;49;00m\u001b[43m,\u001b[49m\u001b[43m \u001b[49m\u001b[43mnorm\u001b[49m\u001b[38;5;241;43m=\u001b[39;49m\u001b[38;5;28;43;01mTrue\u001b[39;49;00m\u001b[43m)\u001b[49m\u001b[38;5;66;03m#형태소 분석, 단어는 사전형으로 바꿔주기\u001b[39;00m\n\u001b[0;32m     24\u001b[0m     words \u001b[38;5;241m=\u001b[39m [word \u001b[38;5;28;01mfor\u001b[39;00m word, tag \u001b[38;5;129;01min\u001b[39;00m pos_words \u001b[38;5;28;01mif\u001b[39;00m tag \u001b[38;5;129;01min\u001b[39;00m [\u001b[38;5;124m'\u001b[39m\u001b[38;5;124mNoun\u001b[39m\u001b[38;5;124m'\u001b[39m, \u001b[38;5;124m'\u001b[39m\u001b[38;5;124mAdjective\u001b[39m\u001b[38;5;124m'\u001b[39m, \u001b[38;5;124m'\u001b[39m\u001b[38;5;124mVerb\u001b[39m\u001b[38;5;124m'\u001b[39m, \u001b[38;5;124m'\u001b[39m\u001b[38;5;124mAdverb\u001b[39m\u001b[38;5;124m'\u001b[39m] \u001b[38;5;28;01mif\u001b[39;00m word \u001b[38;5;129;01mnot\u001b[39;00m \u001b[38;5;129;01min\u001b[39;00m stopwords]\n\u001b[0;32m     25\u001b[0m     \u001b[38;5;28;01mreturn\u001b[39;00m words\n",
      "File \u001b[1;32m~\\anaconda3\\lib\\site-packages\\konlpy\\tag\\_okt.py:78\u001b[0m, in \u001b[0;36mOkt.pos\u001b[1;34m(self, phrase, norm, stem, join)\u001b[0m\n\u001b[0;32m     76\u001b[0m     \u001b[38;5;28;01mreturn\u001b[39;00m [t \u001b[38;5;28;01mfor\u001b[39;00m t \u001b[38;5;129;01min\u001b[39;00m tokens]\n\u001b[0;32m     77\u001b[0m \u001b[38;5;28;01melse\u001b[39;00m:\n\u001b[1;32m---> 78\u001b[0m     \u001b[38;5;28;01mreturn\u001b[39;00m [\u001b[38;5;28mtuple\u001b[39m(t\u001b[38;5;241m.\u001b[39mrsplit(\u001b[38;5;124m'\u001b[39m\u001b[38;5;124m/\u001b[39m\u001b[38;5;124m'\u001b[39m, \u001b[38;5;241m1\u001b[39m)) \u001b[38;5;28;01mfor\u001b[39;00m t \u001b[38;5;129;01min\u001b[39;00m tokens]\n",
      "File \u001b[1;32m~\\anaconda3\\lib\\site-packages\\konlpy\\tag\\_okt.py:78\u001b[0m, in \u001b[0;36m<listcomp>\u001b[1;34m(.0)\u001b[0m\n\u001b[0;32m     76\u001b[0m     \u001b[38;5;28;01mreturn\u001b[39;00m [t \u001b[38;5;28;01mfor\u001b[39;00m t \u001b[38;5;129;01min\u001b[39;00m tokens]\n\u001b[0;32m     77\u001b[0m \u001b[38;5;28;01melse\u001b[39;00m:\n\u001b[1;32m---> 78\u001b[0m     \u001b[38;5;28;01mreturn\u001b[39;00m [\u001b[38;5;28mtuple\u001b[39m(t\u001b[38;5;241m.\u001b[39mrsplit(\u001b[38;5;124m'\u001b[39m\u001b[38;5;124m/\u001b[39m\u001b[38;5;124m'\u001b[39m, \u001b[38;5;241m1\u001b[39m)) \u001b[38;5;28;01mfor\u001b[39;00m t \u001b[38;5;129;01min\u001b[39;00m tokens]\n",
      "File \u001b[1;32m~\\anaconda3\\lib\\site-packages\\jpype\\_jarray.py:180\u001b[0m, in \u001b[0;36m_JavaArrayIter.__next__\u001b[1;34m(self)\u001b[0m\n\u001b[0;32m    178\u001b[0m \u001b[38;5;28;01mif\u001b[39;00m \u001b[38;5;28mself\u001b[39m\u001b[38;5;241m.\u001b[39m_ndx \u001b[38;5;241m>\u001b[39m\u001b[38;5;241m=\u001b[39m \u001b[38;5;28mlen\u001b[39m(\u001b[38;5;28mself\u001b[39m\u001b[38;5;241m.\u001b[39m_array):\n\u001b[0;32m    179\u001b[0m     \u001b[38;5;28;01mraise\u001b[39;00m \u001b[38;5;167;01mStopIteration\u001b[39;00m\n\u001b[1;32m--> 180\u001b[0m \u001b[38;5;28;01mreturn\u001b[39;00m \u001b[38;5;28;43mself\u001b[39;49m\u001b[38;5;241;43m.\u001b[39;49m\u001b[43m_array\u001b[49m\u001b[43m[\u001b[49m\u001b[38;5;28;43mself\u001b[39;49m\u001b[38;5;241;43m.\u001b[39;49m\u001b[43m_ndx\u001b[49m\u001b[43m]\u001b[49m\n",
      "\u001b[1;31mUnicodeDecodeError\u001b[0m: 'utf-8' codec can't decode byte 0xed in position 16: invalid continuation byte"
     ]
    }
   ],
   "source": [
    "#형태소 분석 적용\n",
    "tokenizing_doc=[]\n",
    "for i in tqdm(data['sents']):\n",
    "    tokenizing_doc.append(okt_pos_tagging(i))\n",
    "data['token']=tokenizing_doc#새로운 tokenizing이라는 컬럼에 키워드 형태로 만든 원"
   ]
  },
  {
   "cell_type": "code",
   "execution_count": null,
   "metadata": {},
   "outputs": [],
   "source": [
    "data.token"
   ]
  },
  {
   "cell_type": "code",
   "execution_count": null,
   "metadata": {},
   "outputs": [],
   "source": [
    "#명사 추출 \n",
    "text_noun=[okt.nouns(sents) for sents in data.sents]\n",
    "data['text_noun'] = text_noun\n",
    "data['text_noun'] = data.text_noun.apply(lambda x: [a for a in x if a not in stopwords])"
   ]
  },
  {
   "cell_type": "code",
   "execution_count": null,
   "metadata": {},
   "outputs": [],
   "source": [
    "data.head()"
   ]
  },
  {
   "cell_type": "markdown",
   "metadata": {},
   "source": [
    "##### 워드클라우드"
   ]
  },
  {
   "cell_type": "code",
   "execution_count": null,
   "metadata": {},
   "outputs": [],
   "source": [
    "#리스트 차원 낮춰주는 함수 생성\n",
    "def flatten(l):\n",
    "    flatlist = []\n",
    "    for elem in l:\n",
    "        if type(elem) == list:\n",
    "            for e in elem:\n",
    "                flatlist.append(e)\n",
    "        else:\n",
    "            flatlist.append(elem)\n",
    "    return flatlist"
   ]
  },
  {
   "cell_type": "code",
   "execution_count": null,
   "metadata": {},
   "outputs": [],
   "source": [
    "data1 = data.token.tolist() #series -> list\n",
    "data2  = flatten(data1)\n",
    "data2[:20]"
   ]
  },
  {
   "cell_type": "code",
   "execution_count": null,
   "metadata": {},
   "outputs": [],
   "source": [
    "text = nltk.Text(data2)\n",
    "text"
   ]
  },
  {
   "cell_type": "code",
   "execution_count": null,
   "metadata": {},
   "outputs": [],
   "source": [
    "from wordcloud import WordCloud"
   ]
  },
  {
   "cell_type": "markdown",
   "metadata": {},
   "source": []
  },
  {
   "cell_type": "code",
   "execution_count": null,
   "metadata": {},
   "outputs": [],
   "source": [
    "import matplotlib.pyplot as plt\n",
    "#명사, 동사, 형용사, 부사로 워드클라우드\n",
    "font_path = '본인 컴퓨터의 폰트 경로'\n",
    "wordclouds = WordCloud(width=800, height=800, background_color='Black', colormap='Oranges', font_path = 'C:\\Windows\\Fonts\\gulim.ttc')\n",
    "\n",
    "from collections import Counter\n",
    "count = Counter(text)\n",
    "wordclouds = wordclouds.generate_from_frequencies(count)\n",
    "\n",
    "fig = plt.figure(figsize = (10, 10))\n",
    "plt.imshow(wordclouds.to_array())\n",
    "plt.savefig('워드클라우드_다.png', bbox_inches='tight')\n",
    "plt.show()"
   ]
  },
  {
   "cell_type": "code",
   "execution_count": null,
   "metadata": {},
   "outputs": [],
   "source": [
    "#명사로만 워드클라우드\n",
    "df_noun = data.text_noun.tolist()\n",
    "df_noun2 = flatten(df_noun)\n",
    "text2 = nltk.Text(df_noun2)\n",
    "\n",
    "wordclouds = WordCloud(width=800, height=800, background_color='Black', colormap='Oranges', font_path = 'C:\\Windows\\Fonts\\gulim.ttc')\n",
    "\n",
    "from collections import Counter\n",
    "count = Counter(text2)\n",
    "wordclouds = wordclouds.generate_from_frequencies(count)\n",
    "\n",
    "fig = plt.figure(figsize = (10, 10))\n",
    "plt.imshow(wordclouds.to_array())\n",
    "plt.savefig('워드클라우드_명사.png', bbox_inches='tight')\n",
    "plt.show()"
   ]
  },
  {
   "cell_type": "markdown",
   "metadata": {},
   "source": [
    "##### 군집분석 - Clustering(Actor 도출)"
   ]
  },
  {
   "cell_type": "markdown",
   "metadata": {},
   "source": [
    "tf-idf"
   ]
  },
  {
   "cell_type": "code",
   "execution_count": null,
   "metadata": {},
   "outputs": [],
   "source": [
    "data3 = []\n",
    "for i in data1:\n",
    "    if len(i) == 0 :\n",
    "        data3.append('')\n",
    "        continue\n",
    "    string = i[0]\n",
    "    for w in i[1:]: #첫번째 이후 단어부터 토큰으로 이어 붙여줌\n",
    "        string += \" \" #단어 사이는 띄어쓰기로 연결\n",
    "        string += w #(띄어쓰기 후 다음 단어) 써주기를 반복\n",
    "    data3.append(string)\n",
    "data3#쉼표를 기준으로 document가 구분됨(,)"
   ]
  },
  {
   "cell_type": "code",
   "execution_count": null,
   "metadata": {},
   "outputs": [],
   "source": [
    "from sklearn.feature_extraction.text import CountVectorizer, TfidfTransformer, TfidfVectorizer \n",
    "\n",
    "vectorizer = TfidfVectorizer()\n",
    "sp_matrix = vectorizer.fit_transform(data3)"
   ]
  },
  {
   "cell_type": "code",
   "execution_count": null,
   "metadata": {},
   "outputs": [],
   "source": [
    "from collections import defaultdict\n",
    "word2id = defaultdict(lambda:0) #value가 없는 key인 경우 error 대신 0을 출력"
   ]
  },
  {
   "cell_type": "code",
   "execution_count": null,
   "metadata": {},
   "outputs": [],
   "source": [
    "for idx, feature in enumerate(vectorizer.get_feature_names()):\n",
    "    word2id[feature]=idx"
   ]
  },
  {
   "cell_type": "code",
   "execution_count": null,
   "metadata": {},
   "outputs": [],
   "source": [
    "tfidf=[]\n",
    "for i, sent in enumerate(data3):\n",
    "    tfidf.append([(token, sp_matrix[i, word2id[token]]) for token in sent.split()])"
   ]
  },
  {
   "cell_type": "code",
   "execution_count": null,
   "metadata": {},
   "outputs": [],
   "source": [
    "tfidf[4]"
   ]
  },
  {
   "cell_type": "markdown",
   "metadata": {},
   "source": [
    "##### 토픽 개수 정하기"
   ]
  },
  {
   "cell_type": "code",
   "execution_count": null,
   "metadata": {},
   "outputs": [],
   "source": [
    "from gensim import corpora\n",
    "from gensim import models\n",
    "from gensim.models import LdaModel\n",
    "from gensim.models import TfidfModel\n",
    "from gensim.models import CoherenceModel"
   ]
  },
  {
   "cell_type": "code",
   "execution_count": null,
   "metadata": {},
   "outputs": [],
   "source": [
    "#from gensim import corpora, models\n",
    "\n",
    "dictionary = corpora.Dictionary(data1)\n",
    "dictionary"
   ]
  },
  {
   "cell_type": "code",
   "execution_count": null,
   "metadata": {},
   "outputs": [],
   "source": [
    "#tuple로 mapping해주는 함수, doc2bow\n",
    "#단어를 index로 mapping, 몇번 나왓는지 \n",
    "corpus = [dictionary.doc2bow(text)for text in data1]"
   ]
  },
  {
   "cell_type": "code",
   "execution_count": null,
   "metadata": {},
   "outputs": [],
   "source": [
    "corpus[:1]"
   ]
  },
  {
   "cell_type": "code",
   "execution_count": null,
   "metadata": {},
   "outputs": [],
   "source": [
    "import gensim\n",
    "from gensim.models import CoherenceModel"
   ]
  },
  {
   "cell_type": "code",
   "execution_count": null,
   "metadata": {},
   "outputs": [],
   "source": [
    "#coherence 확인(군집 평가)\n",
    "\n",
    "#coherenceModel_lda = CoherenceModel(model=lda, texts=data1, dictionary=dictionary, topn=10)\n",
    "#coherence_model_lda.get_coherence()"
   ]
  },
  {
   "cell_type": "code",
   "execution_count": null,
   "metadata": {},
   "outputs": [],
   "source": [
    "values=[]\n",
    "for i in range(2, 10):\n",
    "    ldamodel=gensim.models.ldamodel.LdaModel(corpus, num_topics=i, id2word=dictionary)\n",
    "    #                           혼잡도 낮을수록 좋음\n",
    "    values.append(ldamodel.log_perplexity(corpus))"
   ]
  },
  {
   "cell_type": "code",
   "execution_count": null,
   "metadata": {},
   "outputs": [],
   "source": [
    "x = range(2, 10)\n",
    "plt.plot(x, values)\n",
    "plt.xlabel('Number of Topics')\n",
    "plt.ylabel('Score')"
   ]
  },
  {
   "cell_type": "code",
   "execution_count": null,
   "metadata": {},
   "outputs": [],
   "source": [
    "from gensim.models import CoherenceModel\n",
    "coherence_values = []\n",
    "for i in range(2, 10):\n",
    "    ldamodel=gensim.models.ldamodel.LdaModel(corpus, num_topics=i,id2word=dictionary)\n",
    "\n",
    "    coherence_model_lda = CoherenceModel(model=ldamodel, texts=data1, dictionary=dictionary, topn=10)\n",
    "    coherence_lda=coherence_model_lda.get_coherence()\n",
    "    coherence_values.append(coherence_lda)"
   ]
  },
  {
   "cell_type": "code",
   "execution_count": null,
   "metadata": {},
   "outputs": [],
   "source": [
    "x=range(2,10)\n",
    "plt.plot(x, coherence_values)\n",
    "plt.xlabel('Number of Topics')\n",
    "plt.ylabel('Score')"
   ]
  },
  {
   "cell_type": "markdown",
   "metadata": {},
   "source": [
    "from gensim.models import CoherenceModel\n",
    "\n",
    "coherence_values = []\n",
    "for i in range(2, 10):\n",
    "    ldamodel = gensim.models.ldamodel.LdaModel(corpus,\n",
    "                                              num_topics=i,\n",
    "                                              id2word=dictionary)\n",
    "    \n",
    "    coherence_model_lda = CoherenceModel(model=ldamodel,\n",
    "                                        texts = data1,\n",
    "                                        dictionary=dictionary,\n",
    "                                        topn=10)\n",
    "    coherence_lda = coherence_model_lda.get_coherence()\n",
    "    coherence_values.append(coherence_lda)\n"
   ]
  },
  {
   "cell_type": "markdown",
   "metadata": {},
   "source": [
    "##### 클러스터링"
   ]
  },
  {
   "cell_type": "code",
   "execution_count": null,
   "metadata": {},
   "outputs": [],
   "source": [
    "from sklearn.cluster import AgglomerativeClustering\n",
    "import scipy.cluster.hierarchy as shc"
   ]
  },
  {
   "cell_type": "code",
   "execution_count": null,
   "metadata": {},
   "outputs": [],
   "source": [
    "sp_matrix1 = vectorizer.fit_transform(data3)"
   ]
  },
  {
   "cell_type": "code",
   "execution_count": null,
   "metadata": {},
   "outputs": [],
   "source": [
    "df1 = pd.DataFrame(sp_matrix1.toarray(), columns=vectorizer.get_feature_names())"
   ]
  },
  {
   "cell_type": "code",
   "execution_count": null,
   "metadata": {},
   "outputs": [],
   "source": [
    "cluster = AgglomerativeClustering(n_clusters=6, linkage='ward')"
   ]
  },
  {
   "cell_type": "code",
   "execution_count": null,
   "metadata": {},
   "outputs": [],
   "source": [
    "result = cluster.fit_predict(df1)"
   ]
  },
  {
   "cell_type": "code",
   "execution_count": null,
   "metadata": {},
   "outputs": [],
   "source": [
    "df_ward = data.copy()"
   ]
  },
  {
   "cell_type": "code",
   "execution_count": null,
   "metadata": {},
   "outputs": [],
   "source": [
    "df_ward['cluster'] = list(result)"
   ]
  },
  {
   "cell_type": "code",
   "execution_count": null,
   "metadata": {},
   "outputs": [],
   "source": [
    "df_ward"
   ]
  },
  {
   "cell_type": "markdown",
   "metadata": {},
   "source": [
    "##### 덴드로그램"
   ]
  },
  {
   "cell_type": "code",
   "execution_count": null,
   "metadata": {},
   "outputs": [],
   "source": [
    "plt.figure(figsize=(10,7))\n",
    "dend = shc.dendrogram(shc.linkage(df1, method='ward'))\n",
    "plt.savefig('덴드로그램.png', bbox_inches='tight')\n",
    "plt.show()"
   ]
  },
  {
   "cell_type": "code",
   "execution_count": 29,
   "metadata": {},
   "outputs": [],
   "source": [
    "#파일 저장\n",
    "import pickle\n",
    "df_ward.to_pickle('아이돌인스타그램_clustering.pkl')\n",
    "df_ward.to_csv('아이돌인스타그램_clustering.csv', encoding='utf-8-sig')"
   ]
  },
  {
   "cell_type": "code",
   "execution_count": null,
   "metadata": {},
   "outputs": [],
   "source": []
  }
 ],
 "metadata": {
  "kernelspec": {
   "display_name": "base",
   "language": "python",
   "name": "python3"
  },
  "language_info": {
   "codemirror_mode": {
    "name": "ipython",
    "version": 3
   },
   "file_extension": ".py",
   "mimetype": "text/x-python",
   "name": "python",
   "nbconvert_exporter": "python",
   "pygments_lexer": "ipython3",
   "version": "3.9.12"
  },
  "vscode": {
   "interpreter": {
    "hash": "a077222d77dfe082b8f1dd562ad70e458ac2ab76993a0b248ab0476e32e9e8dd"
   }
  }
 },
 "nbformat": 4,
 "nbformat_minor": 2
}
